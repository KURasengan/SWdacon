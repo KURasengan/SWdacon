{
 "cells": [
  {
   "cell_type": "markdown",
   "id": "d73d24e3-5c9e-4ade-9e6e-ca6f46a2d914",
   "metadata": {},
   "source": [
    "# Import"
   ]
  },
  {
   "cell_type": "code",
   "execution_count": 4,
   "id": "ad9b681e-370a-4cfa-a452-dd2d7f0cd77f",
   "metadata": {},
   "outputs": [],
   "source": [
    "import os\n",
    "import cv2\n",
    "import pandas as pd\n",
    "import numpy as np\n",
    "import random\n",
    "\n",
    "import torch\n",
    "import torch.nn as nn\n",
    "from torch.utils.data import Dataset, DataLoader\n",
    "from sklearn.model_selection import train_test_split\n",
    "\n",
    "from tqdm import tqdm\n",
    "import albumentations as A\n",
    "from albumentations.pytorch import ToTensorV2\n",
    "\n",
    "import datetime\n",
    "import matplotlib.pyplot as plt"
   ]
  },
  {
   "cell_type": "markdown",
   "id": "0363b622",
   "metadata": {},
   "source": [
    "# Config"
   ]
  },
  {
   "cell_type": "code",
   "execution_count": 2,
   "id": "ecf23de3",
   "metadata": {},
   "outputs": [],
   "source": [
    "config = {\n",
    "    'device': torch.device('cuda' if torch.cuda.is_available() else 'cpu'),\n",
    "    'base_path': '../open (1)', # change relative path of data\n",
    "    'train_data': 'zeroto20.csv', # change train data csv name\n",
    "    'test_data': 'test20.csv', # change test data csv name\n",
    "    'seed': 42,\n",
    "    'valid_size': 0.3,\n",
    "    'early_stopping': 3,\n",
    "    'train' : {\n",
    "       'batch_size' : 4,\n",
    "       'num_workers': 1,\n",
    "       'epochs': 5,\n",
    "       'lr': 0.001,\n",
    "    },\n",
    "    'inference' : {\n",
    "       'batch_size' : 4,\n",
    "       'num_workers': 1,\n",
    "       'threshold': 0.35,\n",
    "    },\n",
    "}\n",
    "\n",
    "custom_transform = A.Compose(\n",
    "    [   \n",
    "        A.Resize(224, 224),\n",
    "        A.Normalize(),\n",
    "        ToTensorV2()\n",
    "    ]\n",
    ")"
   ]
  },
  {
   "cell_type": "markdown",
   "id": "20ff3de5-0d0e-497b-ac75-d5179a3f65d3",
   "metadata": {},
   "source": [
    "# Utils"
   ]
  },
  {
   "cell_type": "code",
   "execution_count": 3,
   "id": "838e1d83-8670-407b-82f6-bf9652f58639",
   "metadata": {},
   "outputs": [],
   "source": [
    "# 시드 고정 함수\n",
    "def fix_seed(seed):\n",
    "    random.seed(seed)\n",
    "    np.random.seed(seed)\n",
    "    os.environ[\"PYTHONHASHSEED\"] = str(seed)\n",
    "    torch.manual_seed(seed)\n",
    "    torch.cuda.manual_seed(seed)  # type: ignore\n",
    "    torch.backends.cudnn.deterministic = True  # type: ignore\n",
    "    torch.backends.cudnn.benchmark = True  # type: ignore\n",
    "\n",
    "# RLE 디코딩 함수\n",
    "def rle_decode(mask_rle, shape):\n",
    "    s = mask_rle.split()\n",
    "    starts, lengths = [np.asarray(x, dtype=int) for x in (s[0:][::2], s[1:][::2])]\n",
    "    starts -= 1\n",
    "    ends = starts + lengths\n",
    "    img = np.zeros(shape[0]*shape[1], dtype=np.uint8)\n",
    "    for lo, hi in zip(starts, ends):\n",
    "        img[lo:hi] = 1\n",
    "    return img.reshape(shape)\n",
    "\n",
    "# RLE 인코딩 함수\n",
    "def rle_encode(mask):\n",
    "    pixels = mask.flatten()\n",
    "    pixels = np.concatenate([[0], pixels, [0]])\n",
    "    runs = np.where(pixels[1:] != pixels[:-1])[0] + 1\n",
    "    runs[1::2] -= runs[::2]\n",
    "    return ' '.join(str(x) for x in runs)"
   ]
  },
  {
   "cell_type": "markdown",
   "id": "90da7170",
   "metadata": {},
   "source": [
    "# Train\n",
    "- 1024 * 1024 * 3 이미지 학습"
   ]
  },
  {
   "cell_type": "markdown",
   "id": "9a4283d0",
   "metadata": {},
   "source": [
    "### load train data"
   ]
  },
  {
   "cell_type": "code",
   "execution_count": null,
   "id": "092f04e1",
   "metadata": {},
   "outputs": [],
   "source": [
    "# Colab 사용시 활성화\n",
    "\n",
    "# from google.colab import drive\n",
    "# drive.mount('/content/drive')"
   ]
  },
  {
   "cell_type": "code",
   "execution_count": null,
   "id": "7d1a6cf6",
   "metadata": {},
   "outputs": [],
   "source": [
    "# Colab 사용시 활성화\n",
    "\n",
    "# colab_base = '/content/drive/MyDrive/open'# 구글드라이브에서 데이터를 저장한 경로로 바꾸세요.\n",
    "# train_df = pd.read_csv(f\"{colab_base}/{config['train_data']}\")\n",
    "# train_df['img_path'] = colab_base + train_df['img_path'].str[1:]\n",
    "# train, val = train_test_split(train_df, test_size=config['valid_size'], random_state=config['seed'])\n",
    "# print(\"train: \", len(train), \"   valid: \", len(val))"
   ]
  },
  {
   "cell_type": "code",
   "execution_count": 4,
   "id": "2378234e",
   "metadata": {},
   "outputs": [
    {
     "name": "stdout",
     "output_type": "stream",
     "text": [
      "train:  14    valid:  6\n"
     ]
    }
   ],
   "source": [
    "train_df = pd.read_csv(f\"{config['base_path']}/{config['train_data']}\")\n",
    "train, val = train_test_split(train_df, test_size=config['valid_size'], random_state=config['seed'])\n",
    "print(\"train: \", len(train), \"   valid: \", len(val))"
   ]
  },
  {
   "cell_type": "markdown",
   "id": "be76a29e-e9c2-411a-a569-04166f074184",
   "metadata": {},
   "source": [
    "### Custom Dataset"
   ]
  },
  {
   "cell_type": "code",
   "execution_count": 5,
   "id": "a8496767-2f64-4285-bec4-c6f53a1fd9d2",
   "metadata": {},
   "outputs": [],
   "source": [
    "class CustomDataset(Dataset):\n",
    "    def __init__(self, img_paths, mask_rles = None, transform=None, infer=False):\n",
    "        self.img_paths = img_paths\n",
    "        self.mask_rles = mask_rles\n",
    "        self.transform = transform\n",
    "        self.infer = infer\n",
    "\n",
    "    def __len__(self):\n",
    "        return len(self.img_paths)\n",
    "\n",
    "    def __getitem__(self, idx):\n",
    "        img_path = self.img_paths.iloc[idx]\n",
    "        image = cv2.imread(img_path)\n",
    "        image = cv2.cvtColor(image, cv2.COLOR_BGR2RGB)\n",
    "        \n",
    "        if self.infer:\n",
    "            if self.transform:\n",
    "                image = self.transform(image=image)['image']\n",
    "            return image\n",
    "\n",
    "        mask_rle = self.mask_rles.iloc[idx]\n",
    "        mask = rle_decode(mask_rle, (image.shape[0], image.shape[1]))\n",
    "\n",
    "        if self.transform:\n",
    "            augmented = self.transform(image=image, mask=mask)\n",
    "            image = augmented['image']\n",
    "            mask = augmented['mask']\n",
    "\n",
    "        return image, mask"
   ]
  },
  {
   "cell_type": "markdown",
   "id": "dc955893-22fd-4320-88be-7aa0d790cbd9",
   "metadata": {},
   "source": [
    "### Data Loader"
   ]
  },
  {
   "cell_type": "code",
   "execution_count": 6,
   "id": "1b708503-2ff9-4584-9d73-40990b3572f8",
   "metadata": {},
   "outputs": [],
   "source": [
    "fix_seed(config['seed'])\n",
    "\n",
    "train_dataset = CustomDataset(img_paths=train['img_path'], mask_rles=train['mask_rle'], transform=custom_transform)\n",
    "train_dataloader = DataLoader(train_dataset, batch_size=config['train']['batch_size'], shuffle=True, num_workers=config['train']['num_workers'])\n",
    "\n",
    "valid_dataset = CustomDataset(img_paths=val['img_path'], mask_rles=val['mask_rle'], transform=custom_transform)\n",
    "valid_dataloader = DataLoader(valid_dataset , batch_size=config['train']['batch_size'], shuffle=True, num_workers=config['train']['num_workers'])"
   ]
  },
  {
   "cell_type": "markdown",
   "id": "f42501fc-b573-4893-a7c4-5e280dfdaf09",
   "metadata": {},
   "source": [
    "### Model"
   ]
  },
  {
   "cell_type": "code",
   "execution_count": 7,
   "id": "65960bfb-803a-4c40-b713-6f647779e4ea",
   "metadata": {},
   "outputs": [],
   "source": [
    "# U-Net의 기본 구성 요소인 Double Convolution Block을 정의합니다.\n",
    "def double_conv(in_channels, out_channels):\n",
    "    return nn.Sequential(\n",
    "        nn.Conv2d(in_channels, out_channels, 3, padding=1),\n",
    "        nn.ReLU(inplace=True),\n",
    "        nn.Conv2d(out_channels, out_channels, 3, padding=1),\n",
    "        nn.ReLU(inplace=True)\n",
    "    )\n",
    "\n",
    "# 간단한 U-Net 모델 정의\n",
    "class UNet(nn.Module):\n",
    "    def __init__(self):\n",
    "        super(UNet, self).__init__()\n",
    "        self.dconv_down1 = double_conv(3, 64)\n",
    "        self.dconv_down2 = double_conv(64, 128)\n",
    "        self.dconv_down3 = double_conv(128, 256)\n",
    "        self.dconv_down4 = double_conv(256, 512)\n",
    "\n",
    "        self.maxpool = nn.MaxPool2d(2)\n",
    "        self.upsample = nn.Upsample(scale_factor=2, mode='bilinear', align_corners=True)        \n",
    "\n",
    "        self.dconv_up3 = double_conv(256 + 512, 256)\n",
    "        self.dconv_up2 = double_conv(128 + 256, 128)\n",
    "        self.dconv_up1 = double_conv(128 + 64, 64)\n",
    "\n",
    "        self.conv_last = nn.Conv2d(64, 1, 1)\n",
    "\n",
    "    def forward(self, x):\n",
    "        conv1 = self.dconv_down1(x)\n",
    "        x = self.maxpool(conv1)\n",
    "\n",
    "        conv2 = self.dconv_down2(x)\n",
    "        x = self.maxpool(conv2)\n",
    "        \n",
    "        conv3 = self.dconv_down3(x)\n",
    "        x = self.maxpool(conv3)   \n",
    "\n",
    "        x = self.dconv_down4(x)\n",
    "\n",
    "        x = self.upsample(x)        \n",
    "        x = torch.cat([x, conv3], dim=1)\n",
    "\n",
    "        x = self.dconv_up3(x)\n",
    "        x = self.upsample(x)        \n",
    "        x = torch.cat([x, conv2], dim=1)       \n",
    "\n",
    "        x = self.dconv_up2(x)\n",
    "        x = self.upsample(x)        \n",
    "        x = torch.cat([x, conv1], dim=1)   \n",
    "\n",
    "        x = self.dconv_up1(x)\n",
    "\n",
    "        out = self.conv_last(x)\n",
    "\n",
    "        return out"
   ]
  },
  {
   "cell_type": "markdown",
   "id": "2eacf90c",
   "metadata": {},
   "source": [
    "### Validation"
   ]
  },
  {
   "cell_type": "code",
   "execution_count": 8,
   "id": "e8387320",
   "metadata": {},
   "outputs": [],
   "source": [
    "def validation(config, model, criterion, valid_loader):\n",
    "    model.eval()\n",
    "    valid_loss = 0\n",
    "\n",
    "    with torch.no_grad():\n",
    "        for images, masks in tqdm(valid_loader):\n",
    "            images = images.float().to(config['device'])\n",
    "            masks = masks.float().to(config['device'])\n",
    "\n",
    "            outputs = model(images)\n",
    "            loss = criterion(outputs, masks.unsqueeze(1))\n",
    "            valid_loss += loss.item()\n",
    "\n",
    "    return valid_loss/len(valid_loader)"
   ]
  },
  {
   "cell_type": "markdown",
   "id": "a0895765-fba0-4fd9-b955-a6c0e43012e9",
   "metadata": {},
   "source": [
    "### Train"
   ]
  },
  {
   "cell_type": "code",
   "execution_count": 9,
   "id": "63efb381-98c6-4d9b-a3b6-bd11c7fa8c41",
   "metadata": {},
   "outputs": [],
   "source": [
    "def training(config, model, train_loader, valid_loader):\n",
    "    model = model.to(config['device'])\n",
    "    es_count = 0\n",
    "    min_val_loss = float('inf')\n",
    "    best_model = None\n",
    "    \n",
    "    criterion = torch.nn.BCEWithLogitsLoss()\n",
    "    optimizer = torch.optim.Adam(model.parameters(), lr=config['train']['lr'])\n",
    "\n",
    "    # training loop\n",
    "    for epoch in range(config['train']['epochs']):\n",
    "        model.train()\n",
    "        epoch_loss = 0\n",
    "        for images, masks in tqdm(train_loader):\n",
    "            images = images.float().to(config['device'])\n",
    "            masks = masks.float().to(config['device'])\n",
    "\n",
    "            optimizer.zero_grad()\n",
    "            outputs = model(images)\n",
    "            loss = criterion(outputs, masks.unsqueeze(1))\n",
    "            loss.backward()\n",
    "            optimizer.step()\n",
    "\n",
    "            epoch_loss += loss.item()\n",
    "\n",
    "        val_loss = validation(config, model, criterion, valid_loader)\n",
    "        es_count += 1\n",
    "        if min_val_loss > val_loss:\n",
    "            es_count = 0\n",
    "            min_val_loss = val_loss\n",
    "            best_model = model\n",
    "            best_epoch = epoch + 1\n",
    "            print(f\"Epoch [{epoch + 1}] New Minimum Valid Loss!\")\n",
    "        \n",
    "        if es_count == config['early_stopping']:\n",
    "            print(f'\\nEpoch {epoch+1}, Train Loss: {epoch_loss/len(train_loader)}', 'Valid Loss:', val_loss, 'ES Count:', es_count)\n",
    "            print(f\"EARLY STOPPING COUNT에 도달했습니다! \\nEARLY STOPPING COUNT: {config['early_stopping']} BEST EPOCH: {best_epoch}\")\n",
    "            print(\"***TRAINING DONE***\")\n",
    "            return best_model\n",
    "        \n",
    "        print(f'Epoch {epoch+1}, Train Loss: {epoch_loss/len(train_loader)}', 'Valid Loss:', val_loss, 'ES Count:', es_count)\n",
    "        print(\"------------------------------------------------------------------------------------\")\n",
    "    \n",
    "    print(f\"EARLY STOPPING COUNT에 도달하지 않았습니다! \\nEARLY STOPPING COUNT: {config['early_stopping']} BEST EPOCH: {best_epoch}\")\n",
    "    print(\"***TRAINING DONE***\")\n",
    "    return best_model"
   ]
  },
  {
   "cell_type": "code",
   "execution_count": 10,
   "id": "c38080c9",
   "metadata": {},
   "outputs": [
    {
     "name": "stderr",
     "output_type": "stream",
     "text": [
      "  0%|          | 0/4 [00:00<?, ?it/s]"
     ]
    }
   ],
   "source": [
    "best_model = training(config, UNet(), train_dataloader, valid_dataloader)"
   ]
  },
  {
   "cell_type": "markdown",
   "id": "c32eb51c-a3fe-4e11-a616-3a717ba16f7e",
   "metadata": {},
   "source": [
    "## Inference\n",
    "- 224 * 224 * 3 이미지 추론"
   ]
  },
  {
   "cell_type": "markdown",
   "id": "c4c221c1",
   "metadata": {},
   "source": [
    "### load test data"
   ]
  },
  {
   "cell_type": "code",
   "execution_count": null,
   "id": "4826a17d",
   "metadata": {},
   "outputs": [],
   "source": [
    "# Colab 사용시 활성화\n",
    "\n",
    "# test_df = pd.read_csv(f\"{colab_base}/{config['test_data']}\")\n",
    "# test_df['img_path'] = colab_base + test_df['img_path'].str[1:]"
   ]
  },
  {
   "cell_type": "code",
   "execution_count": 12,
   "id": "7e96997c",
   "metadata": {},
   "outputs": [],
   "source": [
    "test_df = pd.read_csv(f\"{config['base_path']}/{config['test_data']}\")"
   ]
  },
  {
   "cell_type": "markdown",
   "id": "969476b3",
   "metadata": {},
   "source": [
    "### Data Loader"
   ]
  },
  {
   "cell_type": "code",
   "execution_count": 18,
   "id": "12371c8b-0c78-47df-89ec-2d8b55c8ea94",
   "metadata": {},
   "outputs": [],
   "source": [
    "fix_seed(config['seed'])\n",
    "\n",
    "test_dataset = CustomDataset(img_paths=test_df['img_path'], transform=custom_transform, infer=True)\n",
    "test_dataloader = DataLoader(test_dataset, batch_size=config['inference']['batch_size'], shuffle=False, num_workers=config['inference']['num_workers'])"
   ]
  },
  {
   "cell_type": "code",
   "execution_count": 8,
   "id": "355b431c-ac8e-4c40-9046-4d53e4bab14a",
   "metadata": {},
   "outputs": [
    {
     "name": "stderr",
     "output_type": "stream",
     "text": [
      "100% 3790/3790 [04:18<00:00, 14.65it/s]\n"
     ]
    }
   ],
   "source": [
    "def inference(config, model, test_loader):\n",
    "    with torch.no_grad():\n",
    "        model.eval()\n",
    "        result = []\n",
    "        for images in tqdm(test_loader):\n",
    "            images = images.float().to(config['device'])\n",
    "            \n",
    "            outputs = model(images)\n",
    "            masks = torch.sigmoid(outputs).cpu().numpy()\n",
    "            masks = np.squeeze(masks, axis=1)\n",
    "            masks = (masks > config['inference']['threshold']).astype(np.uint8)\n",
    "            \n",
    "            for i in range(len(images)):\n",
    "                mask_rle = rle_encode(masks[i])\n",
    "                if mask_rle == '': # 예측된 건물 픽셀이 아예 없는 경우 -1\n",
    "                    result.append(-1)\n",
    "                else:\n",
    "                    result.append(mask_rle)\n",
    "    return result"
   ]
  },
  {
   "cell_type": "code",
   "execution_count": null,
   "id": "9b1293e4",
   "metadata": {},
   "outputs": [],
   "source": [
    "inference_result = inference(config, best_model, test_dataloader)"
   ]
  },
  {
   "cell_type": "markdown",
   "id": "36c2cbbb-04f1-4f9c-b4df-4b744dfce046",
   "metadata": {},
   "source": [
    "## Submission"
   ]
  },
  {
   "cell_type": "code",
   "execution_count": null,
   "id": "3fb99b3e",
   "metadata": {},
   "outputs": [],
   "source": [
    "# Colab 사용시 활성화\n",
    "\n",
    "# submit = pd.read_csv(f\"{colab_base}/submit20.csv\")\n",
    "# submit['mask_rle'] = inference_result\n",
    "\n",
    "# now = datetime.datetime.now()\n",
    "# current_time = now.strftime(\"%m%d-%H:%M:%S\")\n",
    "# file_name = f\"{current_time}.csv\"\n",
    "\n",
    "# submit.to_csv(f\"{colab_base}/{file_name}\", index=False)"
   ]
  },
  {
   "cell_type": "code",
   "execution_count": null,
   "id": "f6543d00-32b3-4f2d-a572-d0879fd0a497",
   "metadata": {},
   "outputs": [],
   "source": [
    "submit = pd.read_csv(f\"{config['base_path']}/sample_submission.csv\")\n",
    "submit['mask_rle'] = inference_result"
   ]
  },
  {
   "cell_type": "code",
   "execution_count": 10,
   "id": "da10cb6f-0826-4755-a376-97b695ae8f86",
   "metadata": {},
   "outputs": [],
   "source": [
    "now = datetime.datetime.now()\n",
    "current_time = now.strftime(\"%m%d-%H:%M:%S\")\n",
    "file_name = f\"{current_time}.csv\"\n",
    "\n",
    "submit.to_csv(f\"{config['base_path']}/{file_name}\", index=False)"
   ]
  },
  {
   "cell_type": "markdown",
   "id": "b413e365",
   "metadata": {},
   "source": [
    "# Submission Viewer\n",
    "- 방금 생성한 csv 파일의 결과를 눈으로 보기"
   ]
  },
  {
   "cell_type": "code",
   "execution_count": null,
   "id": "17f294ff",
   "metadata": {},
   "outputs": [],
   "source": [
    "def submission_viewer(test_csv, submit_csv, img_num, base_path = config['base_path'], is_colab = False):\n",
    "    \"\"\"\n",
    "    white -> 건물 black -> 배경\n",
    "    1. Local에서 사용 시 test_csv, submit_csv, img_num만 입력\n",
    "    2. colab에서 사용 시 아래 사항을 입력\n",
    "    base_path = colab_base\n",
    "    is_colab = True\n",
    "    \"\"\"\n",
    "    mask_rle = submit_csv.iloc[img_num, 1]\n",
    "    image_path = test_csv.iloc[img_num, 1]\n",
    "    if is_colab:\n",
    "        image = cv2.imread(image_path)\n",
    "    else:\n",
    "        image = cv2.imread(base_path + image_path[1:])\n",
    "    mask = rle_decode(mask_rle, (image.shape[0], image.shape[1]))\n",
    "    fig = plt.figure()\n",
    "    ax1 = fig.add_subplot(1,2,1)\n",
    "    ax1.imshow(image)\n",
    "    ax1.set_title('image')\n",
    "    ax2 = fig.add_subplot(1,2,2)\n",
    "    ax2.imshow(mask,cmap='gray')\n",
    "    ax2.set_title('mask')\n",
    "    plt.show()"
   ]
  },
  {
   "cell_type": "code",
   "execution_count": null,
   "id": "5c34baea",
   "metadata": {},
   "outputs": [],
   "source": [
    "# Colab 사용시 활성화\n",
    "# last_submit = pd.read_csv(f\"{colab_base}/{file_name}\")\n",
    "# submission_viewer(test_df, last_submit, 0, colab_base, is_colab = True)"
   ]
  },
  {
   "cell_type": "code",
   "execution_count": null,
   "id": "beb75fc9",
   "metadata": {},
   "outputs": [],
   "source": [
    "last_submit = pd.read_csv(f\"{config['base_path']}/{file_name}\")\n",
    "submission_viewer(test_df, last_submit, 0)"
   ]
  }
 ],
 "metadata": {
  "kernelspec": {
   "display_name": "PyTorch 1.14 (NGC 22.12/Python 3.8) on Backend.AI",
   "language": "python",
   "name": "python3"
  },
  "language_info": {
   "codemirror_mode": {
    "name": "ipython",
    "version": 3
   },
   "file_extension": ".py",
   "mimetype": "text/x-python",
   "name": "python",
   "nbconvert_exporter": "python",
   "pygments_lexer": "ipython3",
   "version": "3.8.13"
  }
 },
 "nbformat": 4,
 "nbformat_minor": 5
}
