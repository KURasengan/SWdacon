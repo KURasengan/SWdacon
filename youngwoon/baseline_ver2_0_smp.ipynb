{
  "cells": [
    {
      "cell_type": "markdown",
      "metadata": {
        "id": "RBUpF7pdPRJ7"
      },
      "source": [
        "# Import"
      ]
    },
    {
      "cell_type": "code",
      "execution_count": 1,
      "metadata": {
        "id": "_i8kp-CoPRJ-"
      },
      "outputs": [],
      "source": [
        "import os\n",
        "import cv2\n",
        "import pandas as pd\n",
        "import numpy as np\n",
        "import random\n",
        "from typing import List, Union\n",
        "from joblib import Parallel, delayed\n",
        "\n",
        "import torch\n",
        "import torch.nn as nn\n",
        "from torch.utils.data import Dataset, DataLoader\n",
        "from sklearn.model_selection import train_test_split\n",
        "import torch.nn.functional as F\n",
        "\n",
        "from tqdm import tqdm\n",
        "import albumentations as A\n",
        "from albumentations.pytorch import ToTensorV2\n",
        "\n",
        "import datetime\n",
        "import matplotlib.pyplot as plt"
      ]
    },
    {
      "cell_type": "code",
      "source": [
        "from google.colab import drive\n",
        "drive.mount('/content/drive')"
      ],
      "metadata": {
        "colab": {
          "base_uri": "https://localhost:8080/"
        },
        "id": "gyjUTMxzPewQ",
        "outputId": "78344c55-912a-4d9b-b05a-7828a4d12c5d"
      },
      "execution_count": 2,
      "outputs": [
        {
          "output_type": "stream",
          "name": "stdout",
          "text": [
            "Mounted at /content/drive\n"
          ]
        }
      ]
    },
    {
      "cell_type": "markdown",
      "metadata": {
        "id": "y8GER6g5PRJ_"
      },
      "source": [
        "# Config"
      ]
    },
    {
      "cell_type": "code",
      "source": [
        "!unzip '/content/drive/MyDrive/Colab Notebooks/SW_Rasengan/train1000.zip'"
      ],
      "metadata": {
        "colab": {
          "base_uri": "https://localhost:8080/"
        },
        "id": "F1eqX8SIkj8d",
        "outputId": "f786fb49-8f3e-4141-994a-523874d44d55"
      },
      "execution_count": 115,
      "outputs": [
        {
          "output_type": "stream",
          "name": "stdout",
          "text": [
            "Archive:  /content/drive/MyDrive/Colab Notebooks/SW_Rasengan/train1000.zip\n",
            "  inflating: submit_20.csv           \n",
            "  inflating: test_20.csv             \n",
            "  inflating: test_img/TEST_00000.png  \n",
            "  inflating: test_img/TEST_00001.png  \n",
            "  inflating: test_img/TEST_00002.png  \n",
            "  inflating: test_img/TEST_00003.png  \n",
            "  inflating: test_img/TEST_00004.png  \n",
            "  inflating: test_img/TEST_00005.png  \n",
            "  inflating: test_img/TEST_00006.png  \n",
            "  inflating: test_img/TEST_00007.png  \n",
            "  inflating: test_img/TEST_00008.png  \n",
            "  inflating: test_img/TEST_00009.png  \n",
            "  inflating: test_img/TEST_00010.png  \n",
            "  inflating: test_img/TEST_00011.png  \n",
            "  inflating: test_img/TEST_00012.png  \n",
            "  inflating: test_img/TEST_00013.png  \n",
            "  inflating: test_img/TEST_00014.png  \n",
            "  inflating: test_img/TEST_00015.png  \n",
            "  inflating: test_img/TEST_00016.png  \n",
            "  inflating: test_img/TEST_00017.png  \n",
            "  inflating: test_img/TEST_00018.png  \n",
            "  inflating: test_img/TEST_00019.png  \n",
            "  inflating: train_1000.csv          \n",
            "  inflating: train_img/TRAIN_0000.png  \n",
            "  inflating: train_img/TRAIN_0001.png  \n",
            "  inflating: train_img/TRAIN_0002.png  \n",
            "  inflating: train_img/TRAIN_0003.png  \n",
            "  inflating: train_img/TRAIN_0004.png  \n",
            "  inflating: train_img/TRAIN_0005.png  \n",
            "  inflating: train_img/TRAIN_0006.png  \n",
            "  inflating: train_img/TRAIN_0007.png  \n",
            "  inflating: train_img/TRAIN_0008.png  \n",
            "  inflating: train_img/TRAIN_0009.png  \n",
            "  inflating: train_img/TRAIN_0010.png  \n",
            "  inflating: train_img/TRAIN_0011.png  \n",
            "  inflating: train_img/TRAIN_0012.png  \n",
            "  inflating: train_img/TRAIN_0013.png  \n",
            "  inflating: train_img/TRAIN_0014.png  \n",
            "  inflating: train_img/TRAIN_0015.png  \n",
            "  inflating: train_img/TRAIN_0016.png  \n",
            "  inflating: train_img/TRAIN_0017.png  \n",
            "  inflating: train_img/TRAIN_0018.png  \n",
            "  inflating: train_img/TRAIN_0019.png  \n",
            "  inflating: train_img/TRAIN_0020.png  \n",
            "  inflating: train_img/TRAIN_0021.png  \n",
            "  inflating: train_img/TRAIN_0022.png  \n",
            "  inflating: train_img/TRAIN_0023.png  \n",
            "  inflating: train_img/TRAIN_0024.png  \n",
            "  inflating: train_img/TRAIN_0025.png  \n",
            "  inflating: train_img/TRAIN_0026.png  \n",
            "  inflating: train_img/TRAIN_0027.png  \n",
            "  inflating: train_img/TRAIN_0028.png  \n",
            "  inflating: train_img/TRAIN_0029.png  \n",
            "  inflating: train_img/TRAIN_0030.png  \n",
            "  inflating: train_img/TRAIN_0031.png  \n",
            "  inflating: train_img/TRAIN_0032.png  \n",
            "  inflating: train_img/TRAIN_0033.png  \n",
            "  inflating: train_img/TRAIN_0034.png  \n",
            "  inflating: train_img/TRAIN_0035.png  \n",
            "  inflating: train_img/TRAIN_0036.png  \n",
            "  inflating: train_img/TRAIN_0037.png  \n",
            "  inflating: train_img/TRAIN_0038.png  \n",
            "  inflating: train_img/TRAIN_0039.png  \n",
            "  inflating: train_img/TRAIN_0040.png  \n",
            "  inflating: train_img/TRAIN_0041.png  \n",
            "  inflating: train_img/TRAIN_0042.png  \n",
            "  inflating: train_img/TRAIN_0043.png  \n",
            "  inflating: train_img/TRAIN_0044.png  \n",
            "  inflating: train_img/TRAIN_0045.png  \n",
            "  inflating: train_img/TRAIN_0046.png  \n",
            "  inflating: train_img/TRAIN_0047.png  \n",
            "  inflating: train_img/TRAIN_0048.png  \n",
            "  inflating: train_img/TRAIN_0049.png  \n",
            "  inflating: train_img/TRAIN_0050.png  \n",
            "  inflating: train_img/TRAIN_0051.png  \n",
            "  inflating: train_img/TRAIN_0052.png  \n",
            "  inflating: train_img/TRAIN_0053.png  \n",
            "  inflating: train_img/TRAIN_0054.png  \n",
            "  inflating: train_img/TRAIN_0055.png  \n",
            "  inflating: train_img/TRAIN_0056.png  \n",
            "  inflating: train_img/TRAIN_0057.png  \n",
            "  inflating: train_img/TRAIN_0058.png  \n",
            "  inflating: train_img/TRAIN_0059.png  \n",
            "  inflating: train_img/TRAIN_0060.png  \n",
            "  inflating: train_img/TRAIN_0061.png  \n",
            "  inflating: train_img/TRAIN_0062.png  \n",
            "  inflating: train_img/TRAIN_0063.png  \n",
            "  inflating: train_img/TRAIN_0064.png  \n",
            "  inflating: train_img/TRAIN_0065.png  \n",
            "  inflating: train_img/TRAIN_0066.png  \n",
            "  inflating: train_img/TRAIN_0067.png  \n",
            "  inflating: train_img/TRAIN_0068.png  \n",
            "  inflating: train_img/TRAIN_0069.png  \n",
            "  inflating: train_img/TRAIN_0070.png  \n",
            "  inflating: train_img/TRAIN_0071.png  \n",
            "  inflating: train_img/TRAIN_0072.png  \n",
            "  inflating: train_img/TRAIN_0073.png  \n",
            "  inflating: train_img/TRAIN_0074.png  \n",
            "  inflating: train_img/TRAIN_0075.png  \n",
            "  inflating: train_img/TRAIN_0076.png  \n",
            "  inflating: train_img/TRAIN_0077.png  \n",
            "  inflating: train_img/TRAIN_0078.png  \n",
            "  inflating: train_img/TRAIN_0079.png  \n",
            "  inflating: train_img/TRAIN_0080.png  \n",
            "  inflating: train_img/TRAIN_0081.png  \n",
            "  inflating: train_img/TRAIN_0082.png  \n",
            "  inflating: train_img/TRAIN_0083.png  \n",
            "  inflating: train_img/TRAIN_0084.png  \n",
            "  inflating: train_img/TRAIN_0085.png  \n",
            "  inflating: train_img/TRAIN_0086.png  \n",
            "  inflating: train_img/TRAIN_0087.png  \n",
            "  inflating: train_img/TRAIN_0088.png  \n",
            "  inflating: train_img/TRAIN_0089.png  \n",
            "  inflating: train_img/TRAIN_0090.png  \n",
            "  inflating: train_img/TRAIN_0091.png  \n",
            "  inflating: train_img/TRAIN_0092.png  \n",
            "  inflating: train_img/TRAIN_0093.png  \n",
            "  inflating: train_img/TRAIN_0094.png  \n",
            "  inflating: train_img/TRAIN_0095.png  \n",
            "  inflating: train_img/TRAIN_0096.png  \n",
            "  inflating: train_img/TRAIN_0097.png  \n",
            "  inflating: train_img/TRAIN_0098.png  \n",
            "  inflating: train_img/TRAIN_0099.png  \n",
            "  inflating: train_img/TRAIN_0100.png  \n",
            "  inflating: train_img/TRAIN_0101.png  \n",
            "  inflating: train_img/TRAIN_0102.png  \n",
            "  inflating: train_img/TRAIN_0103.png  \n",
            "  inflating: train_img/TRAIN_0104.png  \n",
            "  inflating: train_img/TRAIN_0105.png  \n",
            "  inflating: train_img/TRAIN_0106.png  \n",
            "  inflating: train_img/TRAIN_0107.png  \n",
            "  inflating: train_img/TRAIN_0108.png  \n",
            "  inflating: train_img/TRAIN_0109.png  \n",
            "  inflating: train_img/TRAIN_0110.png  \n",
            "  inflating: train_img/TRAIN_0111.png  \n",
            "  inflating: train_img/TRAIN_0112.png  \n",
            "  inflating: train_img/TRAIN_0113.png  \n",
            "  inflating: train_img/TRAIN_0114.png  \n",
            "  inflating: train_img/TRAIN_0115.png  \n",
            "  inflating: train_img/TRAIN_0116.png  \n",
            "  inflating: train_img/TRAIN_0117.png  \n",
            "  inflating: train_img/TRAIN_0118.png  \n",
            "  inflating: train_img/TRAIN_0119.png  \n",
            "  inflating: train_img/TRAIN_0120.png  \n",
            "  inflating: train_img/TRAIN_0121.png  \n",
            "  inflating: train_img/TRAIN_0122.png  \n",
            "  inflating: train_img/TRAIN_0123.png  \n",
            "  inflating: train_img/TRAIN_0124.png  \n",
            "  inflating: train_img/TRAIN_0125.png  \n",
            "  inflating: train_img/TRAIN_0126.png  \n",
            "  inflating: train_img/TRAIN_0127.png  \n",
            "  inflating: train_img/TRAIN_0128.png  \n",
            "  inflating: train_img/TRAIN_0129.png  \n",
            "  inflating: train_img/TRAIN_0130.png  \n",
            "  inflating: train_img/TRAIN_0131.png  \n",
            "  inflating: train_img/TRAIN_0132.png  \n",
            "  inflating: train_img/TRAIN_0133.png  \n",
            "  inflating: train_img/TRAIN_0134.png  \n",
            "  inflating: train_img/TRAIN_0135.png  \n",
            "  inflating: train_img/TRAIN_0136.png  \n",
            "  inflating: train_img/TRAIN_0137.png  \n",
            "  inflating: train_img/TRAIN_0138.png  \n",
            "  inflating: train_img/TRAIN_0139.png  \n",
            "  inflating: train_img/TRAIN_0140.png  \n",
            "  inflating: train_img/TRAIN_0141.png  \n",
            "  inflating: train_img/TRAIN_0142.png  \n",
            "  inflating: train_img/TRAIN_0143.png  \n",
            "  inflating: train_img/TRAIN_0144.png  \n",
            "  inflating: train_img/TRAIN_0145.png  \n",
            "  inflating: train_img/TRAIN_0146.png  \n",
            "  inflating: train_img/TRAIN_0147.png  \n",
            "  inflating: train_img/TRAIN_0148.png  \n",
            "  inflating: train_img/TRAIN_0149.png  \n",
            "  inflating: train_img/TRAIN_0150.png  \n",
            "  inflating: train_img/TRAIN_0151.png  \n",
            "  inflating: train_img/TRAIN_0152.png  \n",
            "  inflating: train_img/TRAIN_0153.png  \n",
            "  inflating: train_img/TRAIN_0154.png  \n",
            "  inflating: train_img/TRAIN_0155.png  \n",
            "  inflating: train_img/TRAIN_0156.png  \n",
            "  inflating: train_img/TRAIN_0157.png  \n",
            "  inflating: train_img/TRAIN_0158.png  \n",
            "  inflating: train_img/TRAIN_0159.png  \n",
            "  inflating: train_img/TRAIN_0160.png  \n",
            "  inflating: train_img/TRAIN_0161.png  \n",
            "  inflating: train_img/TRAIN_0162.png  \n",
            "  inflating: train_img/TRAIN_0163.png  \n",
            "  inflating: train_img/TRAIN_0164.png  \n",
            "  inflating: train_img/TRAIN_0165.png  \n",
            "  inflating: train_img/TRAIN_0166.png  \n",
            "  inflating: train_img/TRAIN_0167.png  \n",
            "  inflating: train_img/TRAIN_0168.png  \n",
            "  inflating: train_img/TRAIN_0169.png  \n",
            "  inflating: train_img/TRAIN_0170.png  \n",
            "  inflating: train_img/TRAIN_0171.png  \n",
            "  inflating: train_img/TRAIN_0172.png  \n",
            "  inflating: train_img/TRAIN_0173.png  \n",
            "  inflating: train_img/TRAIN_0174.png  \n",
            "  inflating: train_img/TRAIN_0175.png  \n",
            "  inflating: train_img/TRAIN_0176.png  \n",
            "  inflating: train_img/TRAIN_0177.png  \n",
            "  inflating: train_img/TRAIN_0178.png  \n",
            "  inflating: train_img/TRAIN_0179.png  \n",
            "  inflating: train_img/TRAIN_0180.png  \n",
            "  inflating: train_img/TRAIN_0181.png  \n",
            "  inflating: train_img/TRAIN_0182.png  \n",
            "  inflating: train_img/TRAIN_0183.png  \n",
            "  inflating: train_img/TRAIN_0184.png  \n",
            "  inflating: train_img/TRAIN_0185.png  \n",
            "  inflating: train_img/TRAIN_0186.png  \n",
            "  inflating: train_img/TRAIN_0187.png  \n",
            "  inflating: train_img/TRAIN_0188.png  \n",
            "  inflating: train_img/TRAIN_0189.png  \n",
            "  inflating: train_img/TRAIN_0190.png  \n",
            "  inflating: train_img/TRAIN_0191.png  \n",
            "  inflating: train_img/TRAIN_0192.png  \n",
            "  inflating: train_img/TRAIN_0193.png  \n",
            "  inflating: train_img/TRAIN_0194.png  \n",
            "  inflating: train_img/TRAIN_0195.png  \n",
            "  inflating: train_img/TRAIN_0196.png  \n",
            "  inflating: train_img/TRAIN_0197.png  \n",
            "  inflating: train_img/TRAIN_0198.png  \n",
            "  inflating: train_img/TRAIN_0199.png  \n",
            "  inflating: train_img/TRAIN_0200.png  \n",
            "  inflating: train_img/TRAIN_0201.png  \n",
            "  inflating: train_img/TRAIN_0202.png  \n",
            "  inflating: train_img/TRAIN_0203.png  \n",
            "  inflating: train_img/TRAIN_0204.png  \n",
            "  inflating: train_img/TRAIN_0205.png  \n",
            "  inflating: train_img/TRAIN_0206.png  \n",
            "  inflating: train_img/TRAIN_0207.png  \n",
            "  inflating: train_img/TRAIN_0208.png  \n",
            "  inflating: train_img/TRAIN_0209.png  \n",
            "  inflating: train_img/TRAIN_0210.png  \n",
            "  inflating: train_img/TRAIN_0211.png  \n",
            "  inflating: train_img/TRAIN_0212.png  \n",
            "  inflating: train_img/TRAIN_0213.png  \n",
            "  inflating: train_img/TRAIN_0214.png  \n",
            "  inflating: train_img/TRAIN_0215.png  \n",
            "  inflating: train_img/TRAIN_0216.png  \n",
            "  inflating: train_img/TRAIN_0217.png  \n",
            "  inflating: train_img/TRAIN_0218.png  \n",
            "  inflating: train_img/TRAIN_0219.png  \n",
            "  inflating: train_img/TRAIN_0220.png  \n",
            "  inflating: train_img/TRAIN_0221.png  \n",
            "  inflating: train_img/TRAIN_0222.png  \n",
            "  inflating: train_img/TRAIN_0223.png  \n",
            "  inflating: train_img/TRAIN_0224.png  \n",
            "  inflating: train_img/TRAIN_0225.png  \n",
            "  inflating: train_img/TRAIN_0226.png  \n",
            "  inflating: train_img/TRAIN_0227.png  \n",
            "  inflating: train_img/TRAIN_0228.png  \n",
            "  inflating: train_img/TRAIN_0229.png  \n",
            "  inflating: train_img/TRAIN_0230.png  \n",
            "  inflating: train_img/TRAIN_0231.png  \n",
            "  inflating: train_img/TRAIN_0232.png  \n",
            "  inflating: train_img/TRAIN_0233.png  \n",
            "  inflating: train_img/TRAIN_0234.png  \n",
            "  inflating: train_img/TRAIN_0235.png  \n",
            "  inflating: train_img/TRAIN_0236.png  \n",
            "  inflating: train_img/TRAIN_0237.png  \n",
            "  inflating: train_img/TRAIN_0238.png  \n",
            "  inflating: train_img/TRAIN_0239.png  \n",
            "  inflating: train_img/TRAIN_0240.png  \n",
            "  inflating: train_img/TRAIN_0241.png  \n",
            "  inflating: train_img/TRAIN_0242.png  \n",
            "  inflating: train_img/TRAIN_0243.png  \n",
            "  inflating: train_img/TRAIN_0244.png  \n",
            "  inflating: train_img/TRAIN_0245.png  \n",
            "  inflating: train_img/TRAIN_0246.png  \n",
            "  inflating: train_img/TRAIN_0247.png  \n",
            "  inflating: train_img/TRAIN_0248.png  \n",
            "  inflating: train_img/TRAIN_0249.png  \n",
            "  inflating: train_img/TRAIN_0250.png  \n",
            "  inflating: train_img/TRAIN_0251.png  \n",
            "  inflating: train_img/TRAIN_0252.png  \n",
            "  inflating: train_img/TRAIN_0253.png  \n",
            "  inflating: train_img/TRAIN_0254.png  \n",
            "  inflating: train_img/TRAIN_0255.png  \n",
            "  inflating: train_img/TRAIN_0256.png  \n",
            "  inflating: train_img/TRAIN_0257.png  \n",
            "  inflating: train_img/TRAIN_0258.png  \n",
            "  inflating: train_img/TRAIN_0259.png  \n",
            "  inflating: train_img/TRAIN_0260.png  \n",
            "  inflating: train_img/TRAIN_0261.png  \n",
            "  inflating: train_img/TRAIN_0262.png  \n",
            "  inflating: train_img/TRAIN_0263.png  \n",
            "  inflating: train_img/TRAIN_0264.png  \n",
            "  inflating: train_img/TRAIN_0265.png  \n",
            "  inflating: train_img/TRAIN_0266.png  \n",
            "  inflating: train_img/TRAIN_0267.png  \n",
            "  inflating: train_img/TRAIN_0268.png  \n",
            "  inflating: train_img/TRAIN_0269.png  \n",
            "  inflating: train_img/TRAIN_0270.png  \n",
            "  inflating: train_img/TRAIN_0271.png  \n",
            "  inflating: train_img/TRAIN_0272.png  \n",
            "  inflating: train_img/TRAIN_0273.png  \n",
            "  inflating: train_img/TRAIN_0274.png  \n",
            "  inflating: train_img/TRAIN_0275.png  \n",
            "  inflating: train_img/TRAIN_0276.png  \n",
            "  inflating: train_img/TRAIN_0277.png  \n",
            "  inflating: train_img/TRAIN_0278.png  \n",
            "  inflating: train_img/TRAIN_0279.png  \n",
            "  inflating: train_img/TRAIN_0280.png  \n",
            "  inflating: train_img/TRAIN_0281.png  \n",
            "  inflating: train_img/TRAIN_0282.png  \n",
            "  inflating: train_img/TRAIN_0283.png  \n",
            "  inflating: train_img/TRAIN_0284.png  \n",
            "  inflating: train_img/TRAIN_0285.png  \n",
            "  inflating: train_img/TRAIN_0286.png  \n",
            "  inflating: train_img/TRAIN_0287.png  \n",
            "  inflating: train_img/TRAIN_0288.png  \n",
            "  inflating: train_img/TRAIN_0289.png  \n",
            "  inflating: train_img/TRAIN_0290.png  \n",
            "  inflating: train_img/TRAIN_0291.png  \n",
            "  inflating: train_img/TRAIN_0292.png  \n",
            "  inflating: train_img/TRAIN_0293.png  \n",
            "  inflating: train_img/TRAIN_0294.png  \n",
            "  inflating: train_img/TRAIN_0295.png  \n",
            "  inflating: train_img/TRAIN_0296.png  \n",
            "  inflating: train_img/TRAIN_0297.png  \n",
            "  inflating: train_img/TRAIN_0298.png  \n",
            "  inflating: train_img/TRAIN_0299.png  \n",
            "  inflating: train_img/TRAIN_0300.png  \n",
            "  inflating: train_img/TRAIN_0301.png  \n",
            "  inflating: train_img/TRAIN_0302.png  \n",
            "  inflating: train_img/TRAIN_0303.png  \n",
            "  inflating: train_img/TRAIN_0304.png  \n",
            "  inflating: train_img/TRAIN_0305.png  \n",
            "  inflating: train_img/TRAIN_0306.png  \n",
            "  inflating: train_img/TRAIN_0307.png  \n",
            "  inflating: train_img/TRAIN_0308.png  \n",
            "  inflating: train_img/TRAIN_0309.png  \n",
            "  inflating: train_img/TRAIN_0310.png  \n",
            "  inflating: train_img/TRAIN_0311.png  \n",
            "  inflating: train_img/TRAIN_0312.png  \n",
            "  inflating: train_img/TRAIN_0313.png  \n",
            "  inflating: train_img/TRAIN_0314.png  \n",
            "  inflating: train_img/TRAIN_0315.png  \n",
            "  inflating: train_img/TRAIN_0316.png  \n",
            "  inflating: train_img/TRAIN_0317.png  \n",
            "  inflating: train_img/TRAIN_0318.png  \n",
            "  inflating: train_img/TRAIN_0319.png  \n",
            "  inflating: train_img/TRAIN_0320.png  \n",
            "  inflating: train_img/TRAIN_0321.png  \n",
            "  inflating: train_img/TRAIN_0322.png  \n",
            "  inflating: train_img/TRAIN_0323.png  \n",
            "  inflating: train_img/TRAIN_0324.png  \n",
            "  inflating: train_img/TRAIN_0325.png  \n",
            "  inflating: train_img/TRAIN_0326.png  \n",
            "  inflating: train_img/TRAIN_0327.png  \n",
            "  inflating: train_img/TRAIN_0328.png  \n",
            "  inflating: train_img/TRAIN_0329.png  \n",
            "  inflating: train_img/TRAIN_0330.png  \n",
            "  inflating: train_img/TRAIN_0331.png  \n",
            "  inflating: train_img/TRAIN_0332.png  \n",
            "  inflating: train_img/TRAIN_0333.png  \n",
            "  inflating: train_img/TRAIN_0334.png  \n",
            "  inflating: train_img/TRAIN_0335.png  \n",
            "  inflating: train_img/TRAIN_0336.png  \n",
            "  inflating: train_img/TRAIN_0337.png  \n",
            "  inflating: train_img/TRAIN_0338.png  \n",
            "  inflating: train_img/TRAIN_0339.png  \n",
            "  inflating: train_img/TRAIN_0340.png  \n",
            "  inflating: train_img/TRAIN_0341.png  \n",
            "  inflating: train_img/TRAIN_0342.png  \n",
            "  inflating: train_img/TRAIN_0343.png  \n",
            "  inflating: train_img/TRAIN_0344.png  \n",
            "  inflating: train_img/TRAIN_0345.png  \n",
            "  inflating: train_img/TRAIN_0346.png  \n",
            "  inflating: train_img/TRAIN_0347.png  \n",
            "  inflating: train_img/TRAIN_0348.png  \n",
            "  inflating: train_img/TRAIN_0349.png  \n",
            "  inflating: train_img/TRAIN_0350.png  \n",
            "  inflating: train_img/TRAIN_0351.png  \n",
            "  inflating: train_img/TRAIN_0352.png  \n",
            "  inflating: train_img/TRAIN_0353.png  \n",
            "  inflating: train_img/TRAIN_0354.png  \n",
            "  inflating: train_img/TRAIN_0355.png  \n",
            "  inflating: train_img/TRAIN_0356.png  \n",
            "  inflating: train_img/TRAIN_0357.png  \n",
            "  inflating: train_img/TRAIN_0358.png  \n",
            "  inflating: train_img/TRAIN_0359.png  \n",
            "  inflating: train_img/TRAIN_0360.png  \n",
            "  inflating: train_img/TRAIN_0361.png  \n",
            "  inflating: train_img/TRAIN_0362.png  \n",
            "  inflating: train_img/TRAIN_0363.png  \n",
            "  inflating: train_img/TRAIN_0364.png  \n",
            "  inflating: train_img/TRAIN_0365.png  \n",
            "  inflating: train_img/TRAIN_0366.png  \n",
            "  inflating: train_img/TRAIN_0367.png  \n",
            "  inflating: train_img/TRAIN_0368.png  \n",
            "  inflating: train_img/TRAIN_0369.png  \n",
            "  inflating: train_img/TRAIN_0370.png  \n",
            "  inflating: train_img/TRAIN_0371.png  \n",
            "  inflating: train_img/TRAIN_0372.png  \n",
            "  inflating: train_img/TRAIN_0373.png  \n",
            "  inflating: train_img/TRAIN_0374.png  \n",
            "  inflating: train_img/TRAIN_0375.png  \n",
            "  inflating: train_img/TRAIN_0376.png  \n",
            "  inflating: train_img/TRAIN_0377.png  \n",
            "  inflating: train_img/TRAIN_0378.png  \n",
            "  inflating: train_img/TRAIN_0379.png  \n",
            "  inflating: train_img/TRAIN_0380.png  \n",
            "  inflating: train_img/TRAIN_0381.png  \n",
            "  inflating: train_img/TRAIN_0382.png  \n",
            "  inflating: train_img/TRAIN_0383.png  \n",
            "  inflating: train_img/TRAIN_0384.png  \n",
            "  inflating: train_img/TRAIN_0385.png  \n",
            "  inflating: train_img/TRAIN_0386.png  \n",
            "  inflating: train_img/TRAIN_0387.png  \n",
            "  inflating: train_img/TRAIN_0388.png  \n",
            "  inflating: train_img/TRAIN_0389.png  \n",
            "  inflating: train_img/TRAIN_0390.png  \n",
            "  inflating: train_img/TRAIN_0391.png  \n",
            "  inflating: train_img/TRAIN_0392.png  \n",
            "  inflating: train_img/TRAIN_0393.png  \n",
            "  inflating: train_img/TRAIN_0394.png  \n",
            "  inflating: train_img/TRAIN_0395.png  \n",
            "  inflating: train_img/TRAIN_0396.png  \n",
            "  inflating: train_img/TRAIN_0397.png  \n",
            "  inflating: train_img/TRAIN_0398.png  \n",
            "  inflating: train_img/TRAIN_0399.png  \n",
            "  inflating: train_img/TRAIN_0400.png  \n",
            "  inflating: train_img/TRAIN_0401.png  \n",
            "  inflating: train_img/TRAIN_0402.png  \n",
            "  inflating: train_img/TRAIN_0403.png  \n",
            "  inflating: train_img/TRAIN_0404.png  \n",
            "  inflating: train_img/TRAIN_0405.png  \n",
            "  inflating: train_img/TRAIN_0406.png  \n",
            "  inflating: train_img/TRAIN_0407.png  \n",
            "  inflating: train_img/TRAIN_0408.png  \n",
            "  inflating: train_img/TRAIN_0409.png  \n",
            "  inflating: train_img/TRAIN_0410.png  \n",
            "  inflating: train_img/TRAIN_0411.png  \n",
            "  inflating: train_img/TRAIN_0412.png  \n",
            "  inflating: train_img/TRAIN_0413.png  \n",
            "  inflating: train_img/TRAIN_0414.png  \n",
            "  inflating: train_img/TRAIN_0415.png  \n",
            "  inflating: train_img/TRAIN_0416.png  \n",
            "  inflating: train_img/TRAIN_0417.png  \n",
            "  inflating: train_img/TRAIN_0418.png  \n",
            "  inflating: train_img/TRAIN_0419.png  \n",
            "  inflating: train_img/TRAIN_0420.png  \n",
            "  inflating: train_img/TRAIN_0421.png  \n",
            "  inflating: train_img/TRAIN_0422.png  \n",
            "  inflating: train_img/TRAIN_0423.png  \n",
            "  inflating: train_img/TRAIN_0424.png  \n",
            "  inflating: train_img/TRAIN_0425.png  \n",
            "  inflating: train_img/TRAIN_0426.png  \n",
            "  inflating: train_img/TRAIN_0427.png  \n",
            "  inflating: train_img/TRAIN_0428.png  \n",
            "  inflating: train_img/TRAIN_0429.png  \n",
            "  inflating: train_img/TRAIN_0430.png  \n",
            "  inflating: train_img/TRAIN_0431.png  \n",
            "  inflating: train_img/TRAIN_0432.png  \n",
            "  inflating: train_img/TRAIN_0433.png  \n",
            "  inflating: train_img/TRAIN_0434.png  \n",
            "  inflating: train_img/TRAIN_0435.png  \n",
            "  inflating: train_img/TRAIN_0436.png  \n",
            "  inflating: train_img/TRAIN_0437.png  \n",
            "  inflating: train_img/TRAIN_0438.png  \n",
            "  inflating: train_img/TRAIN_0439.png  \n",
            "  inflating: train_img/TRAIN_0440.png  \n",
            "  inflating: train_img/TRAIN_0441.png  \n",
            "  inflating: train_img/TRAIN_0442.png  \n",
            "  inflating: train_img/TRAIN_0443.png  \n",
            "  inflating: train_img/TRAIN_0444.png  \n",
            "  inflating: train_img/TRAIN_0445.png  \n",
            "  inflating: train_img/TRAIN_0446.png  \n",
            "  inflating: train_img/TRAIN_0447.png  \n",
            "  inflating: train_img/TRAIN_0448.png  \n",
            "  inflating: train_img/TRAIN_0449.png  \n",
            "  inflating: train_img/TRAIN_0450.png  \n",
            "  inflating: train_img/TRAIN_0451.png  \n",
            "  inflating: train_img/TRAIN_0452.png  \n",
            "  inflating: train_img/TRAIN_0453.png  \n",
            "  inflating: train_img/TRAIN_0454.png  \n",
            "  inflating: train_img/TRAIN_0455.png  \n",
            "  inflating: train_img/TRAIN_0456.png  \n",
            "  inflating: train_img/TRAIN_0457.png  \n",
            "  inflating: train_img/TRAIN_0458.png  \n",
            "  inflating: train_img/TRAIN_0459.png  \n",
            "  inflating: train_img/TRAIN_0460.png  \n",
            "  inflating: train_img/TRAIN_0461.png  \n",
            "  inflating: train_img/TRAIN_0462.png  \n",
            "  inflating: train_img/TRAIN_0463.png  \n",
            "  inflating: train_img/TRAIN_0464.png  \n",
            "  inflating: train_img/TRAIN_0465.png  \n",
            "  inflating: train_img/TRAIN_0466.png  \n",
            "  inflating: train_img/TRAIN_0467.png  \n",
            "  inflating: train_img/TRAIN_0468.png  \n",
            "  inflating: train_img/TRAIN_0469.png  \n",
            "  inflating: train_img/TRAIN_0470.png  \n",
            "  inflating: train_img/TRAIN_0471.png  \n",
            "  inflating: train_img/TRAIN_0472.png  \n",
            "  inflating: train_img/TRAIN_0473.png  \n",
            "  inflating: train_img/TRAIN_0474.png  \n",
            "  inflating: train_img/TRAIN_0475.png  \n",
            "  inflating: train_img/TRAIN_0476.png  \n",
            "  inflating: train_img/TRAIN_0477.png  \n",
            "  inflating: train_img/TRAIN_0478.png  \n",
            "  inflating: train_img/TRAIN_0479.png  \n",
            "  inflating: train_img/TRAIN_0480.png  \n",
            "  inflating: train_img/TRAIN_0481.png  \n",
            "  inflating: train_img/TRAIN_0482.png  \n",
            "  inflating: train_img/TRAIN_0483.png  \n",
            "  inflating: train_img/TRAIN_0484.png  \n",
            "  inflating: train_img/TRAIN_0485.png  \n",
            "  inflating: train_img/TRAIN_0486.png  \n",
            "  inflating: train_img/TRAIN_0487.png  \n",
            "  inflating: train_img/TRAIN_0488.png  \n",
            "  inflating: train_img/TRAIN_0489.png  \n",
            "  inflating: train_img/TRAIN_0490.png  \n",
            "  inflating: train_img/TRAIN_0491.png  \n",
            "  inflating: train_img/TRAIN_0492.png  \n",
            "  inflating: train_img/TRAIN_0493.png  \n",
            "  inflating: train_img/TRAIN_0494.png  \n",
            "  inflating: train_img/TRAIN_0495.png  \n",
            "  inflating: train_img/TRAIN_0496.png  \n",
            "  inflating: train_img/TRAIN_0497.png  \n",
            "  inflating: train_img/TRAIN_0498.png  \n",
            "  inflating: train_img/TRAIN_0499.png  \n",
            "  inflating: train_img/TRAIN_0500.png  \n",
            "  inflating: train_img/TRAIN_0501.png  \n",
            "  inflating: train_img/TRAIN_0502.png  \n",
            "  inflating: train_img/TRAIN_0503.png  \n",
            "  inflating: train_img/TRAIN_0504.png  \n",
            "  inflating: train_img/TRAIN_0505.png  \n",
            "  inflating: train_img/TRAIN_0506.png  \n",
            "  inflating: train_img/TRAIN_0507.png  \n",
            "  inflating: train_img/TRAIN_0508.png  \n",
            "  inflating: train_img/TRAIN_0509.png  \n",
            "  inflating: train_img/TRAIN_0510.png  \n",
            "  inflating: train_img/TRAIN_0511.png  \n",
            "  inflating: train_img/TRAIN_0512.png  \n",
            "  inflating: train_img/TRAIN_0513.png  \n",
            "  inflating: train_img/TRAIN_0514.png  \n",
            "  inflating: train_img/TRAIN_0515.png  \n",
            "  inflating: train_img/TRAIN_0516.png  \n",
            "  inflating: train_img/TRAIN_0517.png  \n",
            "  inflating: train_img/TRAIN_0518.png  \n",
            "  inflating: train_img/TRAIN_0519.png  \n",
            "  inflating: train_img/TRAIN_0520.png  \n",
            "  inflating: train_img/TRAIN_0521.png  \n",
            "  inflating: train_img/TRAIN_0522.png  \n",
            "  inflating: train_img/TRAIN_0523.png  \n",
            "  inflating: train_img/TRAIN_0524.png  \n",
            "  inflating: train_img/TRAIN_0525.png  \n",
            "  inflating: train_img/TRAIN_0526.png  \n",
            "  inflating: train_img/TRAIN_0527.png  \n",
            "  inflating: train_img/TRAIN_0528.png  \n",
            "  inflating: train_img/TRAIN_0529.png  \n",
            "  inflating: train_img/TRAIN_0530.png  \n",
            "  inflating: train_img/TRAIN_0531.png  \n",
            "  inflating: train_img/TRAIN_0532.png  \n",
            "  inflating: train_img/TRAIN_0533.png  \n",
            "  inflating: train_img/TRAIN_0534.png  \n",
            "  inflating: train_img/TRAIN_0535.png  \n",
            "  inflating: train_img/TRAIN_0536.png  \n",
            "  inflating: train_img/TRAIN_0537.png  \n",
            "  inflating: train_img/TRAIN_0538.png  \n",
            "  inflating: train_img/TRAIN_0539.png  \n",
            "  inflating: train_img/TRAIN_0540.png  \n",
            "  inflating: train_img/TRAIN_0541.png  \n",
            "  inflating: train_img/TRAIN_0542.png  \n",
            "  inflating: train_img/TRAIN_0543.png  \n",
            "  inflating: train_img/TRAIN_0544.png  \n",
            "  inflating: train_img/TRAIN_0545.png  \n",
            "  inflating: train_img/TRAIN_0546.png  \n",
            "  inflating: train_img/TRAIN_0547.png  \n",
            "  inflating: train_img/TRAIN_0548.png  \n",
            "  inflating: train_img/TRAIN_0549.png  \n",
            "  inflating: train_img/TRAIN_0550.png  \n",
            "  inflating: train_img/TRAIN_0551.png  \n",
            "  inflating: train_img/TRAIN_0552.png  \n",
            "  inflating: train_img/TRAIN_0553.png  \n",
            "  inflating: train_img/TRAIN_0554.png  \n",
            "  inflating: train_img/TRAIN_0555.png  \n",
            "  inflating: train_img/TRAIN_0556.png  \n",
            "  inflating: train_img/TRAIN_0557.png  \n",
            "  inflating: train_img/TRAIN_0558.png  \n",
            "  inflating: train_img/TRAIN_0559.png  \n",
            "  inflating: train_img/TRAIN_0560.png  \n",
            "  inflating: train_img/TRAIN_0561.png  \n",
            "  inflating: train_img/TRAIN_0562.png  \n",
            "  inflating: train_img/TRAIN_0563.png  \n",
            "  inflating: train_img/TRAIN_0564.png  \n",
            "  inflating: train_img/TRAIN_0565.png  \n",
            "  inflating: train_img/TRAIN_0566.png  \n",
            "  inflating: train_img/TRAIN_0567.png  \n",
            "  inflating: train_img/TRAIN_0568.png  \n",
            "  inflating: train_img/TRAIN_0569.png  \n",
            "  inflating: train_img/TRAIN_0570.png  \n",
            "  inflating: train_img/TRAIN_0571.png  \n",
            "  inflating: train_img/TRAIN_0572.png  \n",
            "  inflating: train_img/TRAIN_0573.png  \n",
            "  inflating: train_img/TRAIN_0574.png  \n",
            "  inflating: train_img/TRAIN_0575.png  \n",
            "  inflating: train_img/TRAIN_0576.png  \n",
            "  inflating: train_img/TRAIN_0577.png  \n",
            "  inflating: train_img/TRAIN_0578.png  \n",
            "  inflating: train_img/TRAIN_0579.png  \n",
            "  inflating: train_img/TRAIN_0580.png  \n",
            "  inflating: train_img/TRAIN_0581.png  \n",
            "  inflating: train_img/TRAIN_0582.png  \n",
            "  inflating: train_img/TRAIN_0583.png  \n",
            "  inflating: train_img/TRAIN_0584.png  \n",
            "  inflating: train_img/TRAIN_0585.png  \n",
            "  inflating: train_img/TRAIN_0586.png  \n",
            "  inflating: train_img/TRAIN_0587.png  \n",
            "  inflating: train_img/TRAIN_0588.png  \n",
            "  inflating: train_img/TRAIN_0589.png  \n",
            "  inflating: train_img/TRAIN_0590.png  \n",
            "  inflating: train_img/TRAIN_0591.png  \n",
            "  inflating: train_img/TRAIN_0592.png  \n",
            "  inflating: train_img/TRAIN_0593.png  \n",
            "  inflating: train_img/TRAIN_0594.png  \n",
            "  inflating: train_img/TRAIN_0595.png  \n",
            "  inflating: train_img/TRAIN_0596.png  \n",
            "  inflating: train_img/TRAIN_0597.png  \n",
            "  inflating: train_img/TRAIN_0598.png  \n",
            "  inflating: train_img/TRAIN_0599.png  \n",
            "  inflating: train_img/TRAIN_0600.png  \n",
            "  inflating: train_img/TRAIN_0601.png  \n",
            "  inflating: train_img/TRAIN_0602.png  \n",
            "  inflating: train_img/TRAIN_0603.png  \n",
            "  inflating: train_img/TRAIN_0604.png  \n",
            "  inflating: train_img/TRAIN_0605.png  \n",
            "  inflating: train_img/TRAIN_0606.png  \n",
            "  inflating: train_img/TRAIN_0607.png  \n",
            "  inflating: train_img/TRAIN_0608.png  \n",
            "  inflating: train_img/TRAIN_0609.png  \n",
            "  inflating: train_img/TRAIN_0610.png  \n",
            "  inflating: train_img/TRAIN_0611.png  \n",
            "  inflating: train_img/TRAIN_0612.png  \n",
            "  inflating: train_img/TRAIN_0613.png  \n",
            "  inflating: train_img/TRAIN_0614.png  \n",
            "  inflating: train_img/TRAIN_0615.png  \n",
            "  inflating: train_img/TRAIN_0616.png  \n",
            "  inflating: train_img/TRAIN_0617.png  \n",
            "  inflating: train_img/TRAIN_0618.png  \n",
            "  inflating: train_img/TRAIN_0619.png  \n",
            "  inflating: train_img/TRAIN_0620.png  \n",
            "  inflating: train_img/TRAIN_0621.png  \n",
            "  inflating: train_img/TRAIN_0622.png  \n",
            "  inflating: train_img/TRAIN_0623.png  \n",
            "  inflating: train_img/TRAIN_0624.png  \n",
            "  inflating: train_img/TRAIN_0625.png  \n",
            "  inflating: train_img/TRAIN_0626.png  \n",
            "  inflating: train_img/TRAIN_0627.png  \n",
            "  inflating: train_img/TRAIN_0628.png  \n",
            "  inflating: train_img/TRAIN_0629.png  \n",
            "  inflating: train_img/TRAIN_0630.png  \n",
            "  inflating: train_img/TRAIN_0631.png  \n",
            "  inflating: train_img/TRAIN_0632.png  \n",
            "  inflating: train_img/TRAIN_0633.png  \n",
            "  inflating: train_img/TRAIN_0634.png  \n",
            "  inflating: train_img/TRAIN_0635.png  \n",
            "  inflating: train_img/TRAIN_0636.png  \n",
            "  inflating: train_img/TRAIN_0637.png  \n",
            "  inflating: train_img/TRAIN_0638.png  \n",
            "  inflating: train_img/TRAIN_0639.png  \n",
            "  inflating: train_img/TRAIN_0640.png  \n",
            "  inflating: train_img/TRAIN_0641.png  \n",
            "  inflating: train_img/TRAIN_0642.png  \n",
            "  inflating: train_img/TRAIN_0643.png  \n",
            "  inflating: train_img/TRAIN_0644.png  \n",
            "  inflating: train_img/TRAIN_0645.png  \n",
            "  inflating: train_img/TRAIN_0646.png  \n",
            "  inflating: train_img/TRAIN_0647.png  \n",
            "  inflating: train_img/TRAIN_0648.png  \n",
            "  inflating: train_img/TRAIN_0649.png  \n",
            "  inflating: train_img/TRAIN_0650.png  \n",
            "  inflating: train_img/TRAIN_0651.png  \n",
            "  inflating: train_img/TRAIN_0652.png  \n",
            "  inflating: train_img/TRAIN_0653.png  \n",
            "  inflating: train_img/TRAIN_0654.png  \n",
            "  inflating: train_img/TRAIN_0655.png  \n",
            "  inflating: train_img/TRAIN_0656.png  \n",
            "  inflating: train_img/TRAIN_0657.png  \n",
            "  inflating: train_img/TRAIN_0658.png  \n",
            "  inflating: train_img/TRAIN_0659.png  \n",
            "  inflating: train_img/TRAIN_0660.png  \n",
            "  inflating: train_img/TRAIN_0661.png  \n",
            "  inflating: train_img/TRAIN_0662.png  \n",
            "  inflating: train_img/TRAIN_0663.png  \n",
            "  inflating: train_img/TRAIN_0664.png  \n",
            "  inflating: train_img/TRAIN_0665.png  \n",
            "  inflating: train_img/TRAIN_0666.png  \n",
            "  inflating: train_img/TRAIN_0667.png  \n",
            "  inflating: train_img/TRAIN_0668.png  \n",
            "  inflating: train_img/TRAIN_0669.png  \n",
            "  inflating: train_img/TRAIN_0670.png  \n",
            "  inflating: train_img/TRAIN_0671.png  \n",
            "  inflating: train_img/TRAIN_0672.png  \n",
            "  inflating: train_img/TRAIN_0673.png  \n",
            "  inflating: train_img/TRAIN_0674.png  \n",
            "  inflating: train_img/TRAIN_0675.png  \n",
            "  inflating: train_img/TRAIN_0676.png  \n",
            "  inflating: train_img/TRAIN_0677.png  \n",
            "  inflating: train_img/TRAIN_0678.png  \n",
            "  inflating: train_img/TRAIN_0679.png  \n",
            "  inflating: train_img/TRAIN_0680.png  \n",
            "  inflating: train_img/TRAIN_0681.png  \n",
            "  inflating: train_img/TRAIN_0682.png  \n",
            "  inflating: train_img/TRAIN_0683.png  \n",
            "  inflating: train_img/TRAIN_0684.png  \n",
            "  inflating: train_img/TRAIN_0685.png  \n",
            "  inflating: train_img/TRAIN_0686.png  \n",
            "  inflating: train_img/TRAIN_0687.png  \n",
            "  inflating: train_img/TRAIN_0688.png  \n",
            "  inflating: train_img/TRAIN_0689.png  \n",
            "  inflating: train_img/TRAIN_0690.png  \n",
            "  inflating: train_img/TRAIN_0691.png  \n",
            "  inflating: train_img/TRAIN_0692.png  \n",
            "  inflating: train_img/TRAIN_0693.png  \n",
            "  inflating: train_img/TRAIN_0694.png  \n",
            "  inflating: train_img/TRAIN_0695.png  \n",
            "  inflating: train_img/TRAIN_0696.png  \n",
            "  inflating: train_img/TRAIN_0697.png  \n",
            "  inflating: train_img/TRAIN_0698.png  \n",
            "  inflating: train_img/TRAIN_0699.png  \n",
            "  inflating: train_img/TRAIN_0700.png  \n",
            "  inflating: train_img/TRAIN_0701.png  \n",
            "  inflating: train_img/TRAIN_0702.png  \n",
            "  inflating: train_img/TRAIN_0703.png  \n",
            "  inflating: train_img/TRAIN_0704.png  \n",
            "  inflating: train_img/TRAIN_0705.png  \n",
            "  inflating: train_img/TRAIN_0706.png  \n",
            "  inflating: train_img/TRAIN_0707.png  \n",
            "  inflating: train_img/TRAIN_0708.png  \n",
            "  inflating: train_img/TRAIN_0709.png  \n",
            "  inflating: train_img/TRAIN_0710.png  \n",
            "  inflating: train_img/TRAIN_0711.png  \n",
            "  inflating: train_img/TRAIN_0712.png  \n",
            "  inflating: train_img/TRAIN_0713.png  \n",
            "  inflating: train_img/TRAIN_0714.png  \n",
            "  inflating: train_img/TRAIN_0715.png  \n",
            "  inflating: train_img/TRAIN_0716.png  \n",
            "  inflating: train_img/TRAIN_0717.png  \n",
            "  inflating: train_img/TRAIN_0718.png  \n",
            "  inflating: train_img/TRAIN_0719.png  \n",
            "  inflating: train_img/TRAIN_0720.png  \n",
            "  inflating: train_img/TRAIN_0721.png  \n",
            "  inflating: train_img/TRAIN_0722.png  \n",
            "  inflating: train_img/TRAIN_0723.png  \n",
            "  inflating: train_img/TRAIN_0724.png  \n",
            "  inflating: train_img/TRAIN_0725.png  \n",
            "  inflating: train_img/TRAIN_0726.png  \n",
            "  inflating: train_img/TRAIN_0727.png  \n",
            "  inflating: train_img/TRAIN_0728.png  \n",
            "  inflating: train_img/TRAIN_0729.png  \n",
            "  inflating: train_img/TRAIN_0730.png  \n",
            "  inflating: train_img/TRAIN_0731.png  \n",
            "  inflating: train_img/TRAIN_0732.png  \n",
            "  inflating: train_img/TRAIN_0733.png  \n",
            "  inflating: train_img/TRAIN_0734.png  \n",
            "  inflating: train_img/TRAIN_0735.png  \n",
            "  inflating: train_img/TRAIN_0736.png  \n",
            "  inflating: train_img/TRAIN_0737.png  \n",
            "  inflating: train_img/TRAIN_0738.png  \n",
            "  inflating: train_img/TRAIN_0739.png  \n",
            "  inflating: train_img/TRAIN_0740.png  \n",
            "  inflating: train_img/TRAIN_0741.png  \n",
            "  inflating: train_img/TRAIN_0742.png  \n",
            "  inflating: train_img/TRAIN_0743.png  \n",
            "  inflating: train_img/TRAIN_0744.png  \n",
            "  inflating: train_img/TRAIN_0745.png  \n",
            "  inflating: train_img/TRAIN_0746.png  \n",
            "  inflating: train_img/TRAIN_0747.png  \n",
            "  inflating: train_img/TRAIN_0748.png  \n",
            "  inflating: train_img/TRAIN_0749.png  \n",
            "  inflating: train_img/TRAIN_0750.png  \n",
            "  inflating: train_img/TRAIN_0751.png  \n",
            "  inflating: train_img/TRAIN_0752.png  \n",
            "  inflating: train_img/TRAIN_0753.png  \n",
            "  inflating: train_img/TRAIN_0754.png  \n",
            "  inflating: train_img/TRAIN_0755.png  \n",
            "  inflating: train_img/TRAIN_0756.png  \n",
            "  inflating: train_img/TRAIN_0757.png  \n",
            "  inflating: train_img/TRAIN_0758.png  \n",
            "  inflating: train_img/TRAIN_0759.png  \n",
            "  inflating: train_img/TRAIN_0760.png  \n",
            "  inflating: train_img/TRAIN_0761.png  \n",
            "  inflating: train_img/TRAIN_0762.png  \n",
            "  inflating: train_img/TRAIN_0763.png  \n",
            "  inflating: train_img/TRAIN_0764.png  \n",
            "  inflating: train_img/TRAIN_0765.png  \n",
            "  inflating: train_img/TRAIN_0766.png  \n",
            "  inflating: train_img/TRAIN_0767.png  \n",
            "  inflating: train_img/TRAIN_0768.png  \n",
            "  inflating: train_img/TRAIN_0769.png  \n",
            "  inflating: train_img/TRAIN_0770.png  \n",
            "  inflating: train_img/TRAIN_0771.png  \n",
            "  inflating: train_img/TRAIN_0772.png  \n",
            "  inflating: train_img/TRAIN_0773.png  \n",
            "  inflating: train_img/TRAIN_0774.png  \n",
            "  inflating: train_img/TRAIN_0775.png  \n",
            "  inflating: train_img/TRAIN_0776.png  \n",
            "  inflating: train_img/TRAIN_0777.png  \n",
            "  inflating: train_img/TRAIN_0778.png  \n",
            "  inflating: train_img/TRAIN_0779.png  \n",
            "  inflating: train_img/TRAIN_0780.png  \n",
            "  inflating: train_img/TRAIN_0781.png  \n",
            "  inflating: train_img/TRAIN_0782.png  \n",
            "  inflating: train_img/TRAIN_0783.png  \n",
            "  inflating: train_img/TRAIN_0784.png  \n",
            "  inflating: train_img/TRAIN_0785.png  \n",
            "  inflating: train_img/TRAIN_0786.png  \n",
            "  inflating: train_img/TRAIN_0787.png  \n",
            "  inflating: train_img/TRAIN_0788.png  \n",
            "  inflating: train_img/TRAIN_0789.png  \n",
            "  inflating: train_img/TRAIN_0790.png  \n",
            "  inflating: train_img/TRAIN_0791.png  \n",
            "  inflating: train_img/TRAIN_0792.png  \n",
            "  inflating: train_img/TRAIN_0793.png  \n",
            "  inflating: train_img/TRAIN_0794.png  \n",
            "  inflating: train_img/TRAIN_0795.png  \n",
            "  inflating: train_img/TRAIN_0796.png  \n",
            "  inflating: train_img/TRAIN_0797.png  \n",
            "  inflating: train_img/TRAIN_0798.png  \n",
            "  inflating: train_img/TRAIN_0799.png  \n",
            "  inflating: train_img/TRAIN_0800.png  \n",
            "  inflating: train_img/TRAIN_0801.png  \n",
            "  inflating: train_img/TRAIN_0802.png  \n",
            "  inflating: train_img/TRAIN_0803.png  \n",
            "  inflating: train_img/TRAIN_0804.png  \n",
            "  inflating: train_img/TRAIN_0805.png  \n",
            "  inflating: train_img/TRAIN_0806.png  \n",
            "  inflating: train_img/TRAIN_0807.png  \n",
            "  inflating: train_img/TRAIN_0808.png  \n",
            "  inflating: train_img/TRAIN_0809.png  \n",
            "  inflating: train_img/TRAIN_0810.png  \n",
            "  inflating: train_img/TRAIN_0811.png  \n",
            "  inflating: train_img/TRAIN_0812.png  \n",
            "  inflating: train_img/TRAIN_0813.png  \n",
            "  inflating: train_img/TRAIN_0814.png  \n",
            "  inflating: train_img/TRAIN_0815.png  \n",
            "  inflating: train_img/TRAIN_0816.png  \n",
            "  inflating: train_img/TRAIN_0817.png  \n",
            "  inflating: train_img/TRAIN_0818.png  \n",
            "  inflating: train_img/TRAIN_0819.png  \n",
            "  inflating: train_img/TRAIN_0820.png  \n",
            "  inflating: train_img/TRAIN_0821.png  \n",
            "  inflating: train_img/TRAIN_0822.png  \n",
            "  inflating: train_img/TRAIN_0823.png  \n",
            "  inflating: train_img/TRAIN_0824.png  \n",
            "  inflating: train_img/TRAIN_0825.png  \n",
            "  inflating: train_img/TRAIN_0826.png  \n",
            "  inflating: train_img/TRAIN_0827.png  \n",
            "  inflating: train_img/TRAIN_0828.png  \n",
            "  inflating: train_img/TRAIN_0829.png  \n",
            "  inflating: train_img/TRAIN_0830.png  \n",
            "  inflating: train_img/TRAIN_0831.png  \n",
            "  inflating: train_img/TRAIN_0832.png  \n",
            "  inflating: train_img/TRAIN_0833.png  \n",
            "  inflating: train_img/TRAIN_0834.png  \n",
            "  inflating: train_img/TRAIN_0835.png  \n",
            "  inflating: train_img/TRAIN_0836.png  \n",
            "  inflating: train_img/TRAIN_0837.png  \n",
            "  inflating: train_img/TRAIN_0838.png  \n",
            "  inflating: train_img/TRAIN_0839.png  \n",
            "  inflating: train_img/TRAIN_0840.png  \n",
            "  inflating: train_img/TRAIN_0841.png  \n",
            "  inflating: train_img/TRAIN_0842.png  \n",
            "  inflating: train_img/TRAIN_0843.png  \n",
            "  inflating: train_img/TRAIN_0844.png  \n",
            "  inflating: train_img/TRAIN_0845.png  \n",
            "  inflating: train_img/TRAIN_0846.png  \n",
            "  inflating: train_img/TRAIN_0847.png  \n",
            "  inflating: train_img/TRAIN_0848.png  \n",
            "  inflating: train_img/TRAIN_0849.png  \n",
            "  inflating: train_img/TRAIN_0850.png  \n",
            "  inflating: train_img/TRAIN_0851.png  \n",
            "  inflating: train_img/TRAIN_0852.png  \n",
            "  inflating: train_img/TRAIN_0853.png  \n",
            "  inflating: train_img/TRAIN_0854.png  \n",
            "  inflating: train_img/TRAIN_0855.png  \n",
            "  inflating: train_img/TRAIN_0856.png  \n",
            "  inflating: train_img/TRAIN_0857.png  \n",
            "  inflating: train_img/TRAIN_0858.png  \n",
            "  inflating: train_img/TRAIN_0859.png  \n",
            "  inflating: train_img/TRAIN_0860.png  \n",
            "  inflating: train_img/TRAIN_0861.png  \n",
            "  inflating: train_img/TRAIN_0862.png  \n",
            "  inflating: train_img/TRAIN_0863.png  \n",
            "  inflating: train_img/TRAIN_0864.png  \n",
            "  inflating: train_img/TRAIN_0865.png  \n",
            "  inflating: train_img/TRAIN_0866.png  \n",
            "  inflating: train_img/TRAIN_0867.png  \n",
            "  inflating: train_img/TRAIN_0868.png  \n",
            "  inflating: train_img/TRAIN_0869.png  \n",
            "  inflating: train_img/TRAIN_0870.png  \n",
            "  inflating: train_img/TRAIN_0871.png  \n",
            "  inflating: train_img/TRAIN_0872.png  \n",
            "  inflating: train_img/TRAIN_0873.png  \n",
            "  inflating: train_img/TRAIN_0874.png  \n",
            "  inflating: train_img/TRAIN_0875.png  \n",
            "  inflating: train_img/TRAIN_0876.png  \n",
            "  inflating: train_img/TRAIN_0877.png  \n",
            "  inflating: train_img/TRAIN_0878.png  \n",
            "  inflating: train_img/TRAIN_0879.png  \n",
            "  inflating: train_img/TRAIN_0880.png  \n",
            "  inflating: train_img/TRAIN_0881.png  \n",
            "  inflating: train_img/TRAIN_0882.png  \n",
            "  inflating: train_img/TRAIN_0883.png  \n",
            "  inflating: train_img/TRAIN_0884.png  \n",
            "  inflating: train_img/TRAIN_0885.png  \n",
            "  inflating: train_img/TRAIN_0886.png  \n",
            "  inflating: train_img/TRAIN_0887.png  \n",
            "  inflating: train_img/TRAIN_0888.png  \n",
            "  inflating: train_img/TRAIN_0889.png  \n",
            "  inflating: train_img/TRAIN_0890.png  \n",
            "  inflating: train_img/TRAIN_0891.png  \n",
            "  inflating: train_img/TRAIN_0892.png  \n",
            "  inflating: train_img/TRAIN_0893.png  \n",
            "  inflating: train_img/TRAIN_0894.png  \n",
            "  inflating: train_img/TRAIN_0895.png  \n",
            "  inflating: train_img/TRAIN_0896.png  \n",
            "  inflating: train_img/TRAIN_0897.png  \n",
            "  inflating: train_img/TRAIN_0898.png  \n",
            "  inflating: train_img/TRAIN_0899.png  \n",
            "  inflating: train_img/TRAIN_0900.png  \n",
            "  inflating: train_img/TRAIN_0901.png  \n",
            "  inflating: train_img/TRAIN_0902.png  \n",
            "  inflating: train_img/TRAIN_0903.png  \n",
            "  inflating: train_img/TRAIN_0904.png  \n",
            "  inflating: train_img/TRAIN_0905.png  \n",
            "  inflating: train_img/TRAIN_0906.png  \n",
            "  inflating: train_img/TRAIN_0907.png  \n",
            "  inflating: train_img/TRAIN_0908.png  \n",
            "  inflating: train_img/TRAIN_0909.png  \n",
            "  inflating: train_img/TRAIN_0910.png  \n",
            "  inflating: train_img/TRAIN_0911.png  \n",
            "  inflating: train_img/TRAIN_0912.png  \n",
            "  inflating: train_img/TRAIN_0913.png  \n",
            "  inflating: train_img/TRAIN_0914.png  \n",
            "  inflating: train_img/TRAIN_0915.png  \n",
            "  inflating: train_img/TRAIN_0916.png  \n",
            "  inflating: train_img/TRAIN_0917.png  \n",
            "  inflating: train_img/TRAIN_0918.png  \n",
            "  inflating: train_img/TRAIN_0919.png  \n",
            "  inflating: train_img/TRAIN_0920.png  \n",
            "  inflating: train_img/TRAIN_0921.png  \n",
            "  inflating: train_img/TRAIN_0922.png  \n",
            "  inflating: train_img/TRAIN_0923.png  \n",
            "  inflating: train_img/TRAIN_0924.png  \n",
            "  inflating: train_img/TRAIN_0925.png  \n",
            "  inflating: train_img/TRAIN_0926.png  \n",
            "  inflating: train_img/TRAIN_0927.png  \n",
            "  inflating: train_img/TRAIN_0928.png  \n",
            "  inflating: train_img/TRAIN_0929.png  \n",
            "  inflating: train_img/TRAIN_0930.png  \n",
            "  inflating: train_img/TRAIN_0931.png  \n",
            "  inflating: train_img/TRAIN_0932.png  \n",
            "  inflating: train_img/TRAIN_0933.png  \n",
            "  inflating: train_img/TRAIN_0934.png  \n",
            "  inflating: train_img/TRAIN_0935.png  \n",
            "  inflating: train_img/TRAIN_0936.png  \n",
            "  inflating: train_img/TRAIN_0937.png  \n",
            "  inflating: train_img/TRAIN_0938.png  \n",
            "  inflating: train_img/TRAIN_0939.png  \n",
            "  inflating: train_img/TRAIN_0940.png  \n",
            "  inflating: train_img/TRAIN_0941.png  \n",
            "  inflating: train_img/TRAIN_0942.png  \n",
            "  inflating: train_img/TRAIN_0943.png  \n",
            "  inflating: train_img/TRAIN_0944.png  \n",
            "  inflating: train_img/TRAIN_0945.png  \n",
            "  inflating: train_img/TRAIN_0946.png  \n",
            "  inflating: train_img/TRAIN_0947.png  \n",
            "  inflating: train_img/TRAIN_0948.png  \n",
            "  inflating: train_img/TRAIN_0949.png  \n",
            "  inflating: train_img/TRAIN_0950.png  \n",
            "  inflating: train_img/TRAIN_0951.png  \n",
            "  inflating: train_img/TRAIN_0952.png  \n",
            "  inflating: train_img/TRAIN_0953.png  \n",
            "  inflating: train_img/TRAIN_0954.png  \n",
            "  inflating: train_img/TRAIN_0955.png  \n",
            "  inflating: train_img/TRAIN_0956.png  \n",
            "  inflating: train_img/TRAIN_0957.png  \n",
            "  inflating: train_img/TRAIN_0958.png  \n",
            "  inflating: train_img/TRAIN_0959.png  \n",
            "  inflating: train_img/TRAIN_0960.png  \n",
            "  inflating: train_img/TRAIN_0961.png  \n",
            "  inflating: train_img/TRAIN_0962.png  \n",
            "  inflating: train_img/TRAIN_0963.png  \n",
            "  inflating: train_img/TRAIN_0964.png  \n",
            "  inflating: train_img/TRAIN_0965.png  \n",
            "  inflating: train_img/TRAIN_0966.png  \n",
            "  inflating: train_img/TRAIN_0967.png  \n",
            "  inflating: train_img/TRAIN_0968.png  \n",
            "  inflating: train_img/TRAIN_0969.png  \n",
            "  inflating: train_img/TRAIN_0970.png  \n",
            "  inflating: train_img/TRAIN_0971.png  \n",
            "  inflating: train_img/TRAIN_0972.png  \n",
            "  inflating: train_img/TRAIN_0973.png  \n",
            "  inflating: train_img/TRAIN_0974.png  \n",
            "  inflating: train_img/TRAIN_0975.png  \n",
            "  inflating: train_img/TRAIN_0976.png  \n",
            "  inflating: train_img/TRAIN_0977.png  \n",
            "  inflating: train_img/TRAIN_0978.png  \n",
            "  inflating: train_img/TRAIN_0979.png  \n",
            "  inflating: train_img/TRAIN_0980.png  \n",
            "  inflating: train_img/TRAIN_0981.png  \n",
            "  inflating: train_img/TRAIN_0982.png  \n",
            "  inflating: train_img/TRAIN_0983.png  \n",
            "  inflating: train_img/TRAIN_0984.png  \n",
            "  inflating: train_img/TRAIN_0985.png  \n",
            "  inflating: train_img/TRAIN_0986.png  \n",
            "  inflating: train_img/TRAIN_0987.png  \n",
            "  inflating: train_img/TRAIN_0988.png  \n",
            "  inflating: train_img/TRAIN_0989.png  \n",
            "  inflating: train_img/TRAIN_0990.png  \n",
            "  inflating: train_img/TRAIN_0991.png  \n",
            "  inflating: train_img/TRAIN_0992.png  \n",
            "  inflating: train_img/TRAIN_0993.png  \n",
            "  inflating: train_img/TRAIN_0994.png  \n",
            "  inflating: train_img/TRAIN_0995.png  \n",
            "  inflating: train_img/TRAIN_0996.png  \n",
            "  inflating: train_img/TRAIN_0997.png  \n",
            "  inflating: train_img/TRAIN_0998.png  \n",
            "  inflating: train_img/TRAIN_0999.png  \n"
          ]
        }
      ]
    },
    {
      "cell_type": "code",
      "execution_count": 2,
      "metadata": {
        "id": "V6hPVc_CPRKA"
      },
      "outputs": [],
      "source": [
        "config = {\n",
        "    'device': torch.device('cuda' if torch.cuda.is_available() else 'cpu'),\n",
        "    'base_path': '/', # change relative path of data\n",
        "    #'train_data': 'zeroto20.csv', # change train data csv name\n",
        "    'train_data': 'train_1000.csv', # change train data csv name\n",
        "    'test_data': 'test_20.csv', # change test data csv name\n",
        "    'seed': 42,\n",
        "    'valid_size': 0.1,\n",
        "    'early_stopping': 15,\n",
        "    'scheduler': True,\n",
        "    'train' : {\n",
        "       'batch_size' : 16,\n",
        "       'num_workers': 1,\n",
        "       'epochs': 100,\n",
        "       'lr': 0.0005,\n",
        "    },\n",
        "    'inference' : {\n",
        "       'batch_size' : 8,\n",
        "       'num_workers': 1,\n",
        "       'threshold': 0.35,\n",
        "    },\n",
        "}\n",
        "\n",
        "custom_transform = {\n",
        "    'train':A.Compose([\n",
        "        A.augmentations.crops.transforms.RandomCrop(224,224,p=1.0),\n",
        "        A.Normalize(),\n",
        "        ToTensorV2()\n",
        "    ]),\n",
        "    'valid':A.Compose([\n",
        "        A.augmentations.crops.transforms.CenterCrop(224,224,p=1.0),\n",
        "        A.Normalize(),\n",
        "        ToTensorV2()\n",
        "    ]),\n",
        "    'test': A.Compose([\n",
        "        A.Normalize(),\n",
        "        ToTensorV2()\n",
        "    ]),\n",
        "}"
      ]
    },
    {
      "cell_type": "markdown",
      "metadata": {
        "id": "9NyIvGzRPRKB"
      },
      "source": [
        "# Utils"
      ]
    },
    {
      "cell_type": "code",
      "execution_count": 3,
      "metadata": {
        "id": "-3m9eKk-PRKB"
      },
      "outputs": [],
      "source": [
        "# 시드 고정 함수\n",
        "def fix_seed(seed):\n",
        "    random.seed(seed)\n",
        "    np.random.seed(seed)\n",
        "    os.environ[\"PYTHONHASHSEED\"] = str(seed)\n",
        "    torch.manual_seed(seed)\n",
        "    torch.cuda.manual_seed(seed)  # type: ignore\n",
        "    torch.backends.cudnn.deterministic = True  # type: ignore\n",
        "    torch.backends.cudnn.benchmark = True  # type: ignore\n",
        "\n",
        "# RLE 디코딩 함수\n",
        "def rle_decode(mask_rle: Union[str, int], shape=(224, 224)) -> np.array:\n",
        "    '''\n",
        "    mask_rle: run-length as string formatted (start length)\n",
        "    shape: (height,width) of array to return\n",
        "    Returns numpy array, 1 - mask, 0 - background\n",
        "    '''\n",
        "    if mask_rle == -1:\n",
        "        return np.zeros(shape)\n",
        "\n",
        "    s = mask_rle.split()\n",
        "    starts, lengths = [np.asarray(x, dtype=int) for x in (s[0:][::2], s[1:][::2])]\n",
        "    starts -= 1\n",
        "    ends = starts + lengths\n",
        "    img = np.zeros(shape[0]*shape[1], dtype=np.uint8)\n",
        "    for lo, hi in zip(starts, ends):\n",
        "        img[lo:hi] = 1\n",
        "    return img.reshape(shape)\n",
        "\n",
        "# RLE 인코딩 함수\n",
        "def rle_encode(mask):\n",
        "    pixels = mask.flatten()\n",
        "    pixels = np.concatenate([[0], pixels, [0]])\n",
        "    runs = np.where(pixels[1:] != pixels[:-1])[0] + 1\n",
        "    runs[1::2] -= runs[::2]\n",
        "    return ' '.join(str(x) for x in runs)\n",
        "\n",
        "# dice score 계산 함수\n",
        "def dice_score(prediction: np.array, ground_truth: np.array, smooth=1e-7) -> float:\n",
        "    '''\n",
        "    Calculate Dice Score between two binary masks.\n",
        "    '''\n",
        "    intersection = np.sum(prediction * ground_truth)\n",
        "    return (2.0 * intersection + smooth) / (np.sum(prediction) + np.sum(ground_truth) + smooth)\n",
        "\n",
        "def calculate_dice_scores(validation_df, img_shape=(224, 224)) -> List[float]:\n",
        "    '''\n",
        "    Calculate Dice scores for a dataset.\n",
        "    '''\n",
        "    # Extract the mask_rle columns\n",
        "    pred_mask_rle = validation_df.iloc[:, 3]\n",
        "    gt_mask_rle = validation_df.iloc[:, 4]\n",
        "\n",
        "    def calculate_dice(pred_rle, gt_rle):\n",
        "        pred_mask = rle_decode(pred_rle, img_shape)\n",
        "        gt_mask = rle_decode(gt_rle, img_shape)\n",
        "        if np.sum(gt_mask) > 0 or np.sum(pred_mask) > 0:\n",
        "            return dice_score(pred_mask, gt_mask)\n",
        "        else:\n",
        "            return None  # No valid masks found, return None\n",
        "    dice_scores = Parallel(n_jobs=-1)(\n",
        "        delayed(calculate_dice)(pred_rle, gt_rle) for pred_rle, gt_rle in zip(pred_mask_rle, gt_mask_rle)\n",
        "    )\n",
        "    dice_scores = [score for score in dice_scores if score is not None]  # Exclude None values\n",
        "    return np.mean(dice_scores)\n",
        "\n",
        "class DiceLoss(nn.Module):\n",
        "    def __init__(self, weight=None, size_average=True):\n",
        "        super(DiceLoss, self).__init__()\n",
        "\n",
        "    def forward(self, inputs, targets, smooth=1):\n",
        "\n",
        "        #comment out if your model contains a sigmoid or equivalent activation layer\n",
        "        inputs = F.sigmoid(inputs)\n",
        "\n",
        "        #flatten label and prediction tensors\n",
        "        inputs = inputs.view(-1)\n",
        "        targets = targets.view(-1)\n",
        "\n",
        "        intersection = (inputs * targets).sum()\n",
        "        dice = (2.*intersection + smooth)/(inputs.sum() + targets.sum() + smooth)\n",
        "\n",
        "        return 1 - dice"
      ]
    },
    {
      "cell_type": "markdown",
      "metadata": {
        "id": "krhWdZ1zPRKC"
      },
      "source": [
        "# Train\n",
        "- 1024 * 1024 * 3 이미지 학습"
      ]
    },
    {
      "cell_type": "markdown",
      "metadata": {
        "id": "q5AMbIkGPRKC"
      },
      "source": [
        "### load train data"
      ]
    },
    {
      "cell_type": "code",
      "execution_count": null,
      "metadata": {
        "id": "Es24psZcPRKD"
      },
      "outputs": [],
      "source": [
        "# Colab 사용시 활성화\n",
        "# 드라이브 마운트\n",
        "\n",
        "# from google.colab import drive\n",
        "# drive.mount('/content/drive')"
      ]
    },
    {
      "cell_type": "code",
      "source": [
        "!pwd"
      ],
      "metadata": {
        "colab": {
          "base_uri": "https://localhost:8080/"
        },
        "id": "UcFSl5dYnNlg",
        "outputId": "d46ded03-1220-4c76-e136-1e2e851562c7"
      },
      "execution_count": 119,
      "outputs": [
        {
          "output_type": "stream",
          "name": "stdout",
          "text": [
            "/content\n"
          ]
        }
      ]
    },
    {
      "cell_type": "code",
      "execution_count": 4,
      "metadata": {
        "colab": {
          "base_uri": "https://localhost:8080/"
        },
        "id": "0E4SzWYfPRKD",
        "outputId": "500c5e24-364f-4c9c-d03a-7fe7233fdc87"
      },
      "outputs": [
        {
          "output_type": "stream",
          "name": "stdout",
          "text": [
            "train:  900    valid:  100\n"
          ]
        }
      ],
      "source": [
        "# Colab 사용시 활성화\n",
        "\n",
        "#colab_base = '/content/drive/MyDrive/Colab Notebooks/SW_Rasengan/open20/open'# 구글드라이브에서 데이터를 저장한 경로로 바꾸세요.\n",
        "colab_base = '/content'# 구글드라이브에서 데이터를 저장한 경로로 바꾸세요.\n",
        "train_df = pd.read_csv(f\"{colab_base}/{config['train_data']}\")\n",
        "train_df['img_path'] = colab_base + train_df['img_path'].str[1:]\n",
        "train, val = train_test_split(train_df, test_size=config['valid_size'], random_state=config['seed'])\n",
        "print(\"train: \", len(train), \"   valid: \", len(val))"
      ]
    },
    {
      "cell_type": "code",
      "source": [
        "colab_base + train_df['img_path'].str[1:]"
      ],
      "metadata": {
        "colab": {
          "base_uri": "https://localhost:8080/"
        },
        "id": "PU89arQlQId3",
        "outputId": "2e98fc15-00fe-46ac-f3a1-0759f6e46ac7"
      },
      "execution_count": 18,
      "outputs": [
        {
          "output_type": "execute_result",
          "data": {
            "text/plain": [
              "0     /content/drive/MyDrive/Colab Notebooks/SW_Rase...\n",
              "1     /content/drive/MyDrive/Colab Notebooks/SW_Rase...\n",
              "2     /content/drive/MyDrive/Colab Notebooks/SW_Rase...\n",
              "3     /content/drive/MyDrive/Colab Notebooks/SW_Rase...\n",
              "4     /content/drive/MyDrive/Colab Notebooks/SW_Rase...\n",
              "5     /content/drive/MyDrive/Colab Notebooks/SW_Rase...\n",
              "6     /content/drive/MyDrive/Colab Notebooks/SW_Rase...\n",
              "7     /content/drive/MyDrive/Colab Notebooks/SW_Rase...\n",
              "8     /content/drive/MyDrive/Colab Notebooks/SW_Rase...\n",
              "9     /content/drive/MyDrive/Colab Notebooks/SW_Rase...\n",
              "10    /content/drive/MyDrive/Colab Notebooks/SW_Rase...\n",
              "11    /content/drive/MyDrive/Colab Notebooks/SW_Rase...\n",
              "12    /content/drive/MyDrive/Colab Notebooks/SW_Rase...\n",
              "13    /content/drive/MyDrive/Colab Notebooks/SW_Rase...\n",
              "14    /content/drive/MyDrive/Colab Notebooks/SW_Rase...\n",
              "15    /content/drive/MyDrive/Colab Notebooks/SW_Rase...\n",
              "16    /content/drive/MyDrive/Colab Notebooks/SW_Rase...\n",
              "17    /content/drive/MyDrive/Colab Notebooks/SW_Rase...\n",
              "18    /content/drive/MyDrive/Colab Notebooks/SW_Rase...\n",
              "19    /content/drive/MyDrive/Colab Notebooks/SW_Rase...\n",
              "Name: img_path, dtype: object"
            ]
          },
          "metadata": {},
          "execution_count": 18
        }
      ]
    },
    {
      "cell_type": "code",
      "execution_count": null,
      "metadata": {
        "id": "DMg1zjldPRKE"
      },
      "outputs": [],
      "source": [
        "# kaggle 사용시 활성화\n",
        "\n",
        "# train_df = pd.read_csv('/kaggle/input/swdacon/train.csv')\n",
        "# train_df['img_path'] = '/kaggle/input/swdacon/' + train_df['img_path'].str[1:]\n",
        "# train, val = train_test_split(train_df, test_size=config['valid_size'], random_state=config['seed'])\n",
        "# print(\"train: \", len(train), \"   valid: \", len(val))"
      ]
    },
    {
      "cell_type": "code",
      "execution_count": null,
      "metadata": {
        "id": "m1WVtbJUPRKE",
        "outputId": "da41f509-1f0e-4ec0-886a-096bd5791a60"
      },
      "outputs": [
        {
          "name": "stdout",
          "output_type": "stream",
          "text": [
            "train:  18    valid:  2\n"
          ]
        }
      ],
      "source": [
        "# 로컬 사용시 활성화\n",
        "\n",
        "# train_df = pd.read_csv(f\"{config['base_path']}/{config['train_data']}\")\n",
        "# train, val = train_test_split(train_df, test_size=config['valid_size'], random_state=config['seed'])\n",
        "# print(\"train: \", len(train), \"   valid: \", len(val))"
      ]
    },
    {
      "cell_type": "code",
      "execution_count": 27,
      "metadata": {
        "colab": {
          "base_uri": "https://localhost:8080/"
        },
        "id": "ISRcPVwdPRKF",
        "outputId": "05a9d59c-bffb-4fdb-ceb0-1e7607ac9ccb"
      },
      "outputs": [
        {
          "output_type": "execute_result",
          "data": {
            "text/plain": [
              "15    /content/drive/MyDrive/Colab Notebooks/SW_Rase...\n",
              "1     /content/drive/MyDrive/Colab Notebooks/SW_Rase...\n",
              "8     /content/drive/MyDrive/Colab Notebooks/SW_Rase...\n",
              "5     /content/drive/MyDrive/Colab Notebooks/SW_Rase...\n",
              "11    /content/drive/MyDrive/Colab Notebooks/SW_Rase...\n",
              "3     /content/drive/MyDrive/Colab Notebooks/SW_Rase...\n",
              "18    /content/drive/MyDrive/Colab Notebooks/SW_Rase...\n",
              "16    /content/drive/MyDrive/Colab Notebooks/SW_Rase...\n",
              "13    /content/drive/MyDrive/Colab Notebooks/SW_Rase...\n",
              "2     /content/drive/MyDrive/Colab Notebooks/SW_Rase...\n",
              "9     /content/drive/MyDrive/Colab Notebooks/SW_Rase...\n",
              "19    /content/drive/MyDrive/Colab Notebooks/SW_Rase...\n",
              "4     /content/drive/MyDrive/Colab Notebooks/SW_Rase...\n",
              "12    /content/drive/MyDrive/Colab Notebooks/SW_Rase...\n",
              "7     /content/drive/MyDrive/Colab Notebooks/SW_Rase...\n",
              "10    /content/drive/MyDrive/Colab Notebooks/SW_Rase...\n",
              "14    /content/drive/MyDrive/Colab Notebooks/SW_Rase...\n",
              "6     /content/drive/MyDrive/Colab Notebooks/SW_Rase...\n",
              "Name: img_path, dtype: object"
            ]
          },
          "metadata": {},
          "execution_count": 27
        }
      ],
      "source": [
        "train['img_path']"
      ]
    },
    {
      "cell_type": "code",
      "source": [
        "config['base_path']"
      ],
      "metadata": {
        "colab": {
          "base_uri": "https://localhost:8080/",
          "height": 35
        },
        "id": "qL5x66cUSHGx",
        "outputId": "d8e62ea3-3be7-420d-82f5-08f24f39f8d4"
      },
      "execution_count": 29,
      "outputs": [
        {
          "output_type": "execute_result",
          "data": {
            "text/plain": [
              "''"
            ],
            "application/vnd.google.colaboratory.intrinsic+json": {
              "type": "string"
            }
          },
          "metadata": {},
          "execution_count": 29
        }
      ]
    },
    {
      "cell_type": "markdown",
      "metadata": {
        "id": "pgSkHTkpPRKF"
      },
      "source": [
        "### Custom Dataset"
      ]
    },
    {
      "cell_type": "code",
      "execution_count": 5,
      "metadata": {
        "id": "7ZczZlgJPRKF"
      },
      "outputs": [],
      "source": [
        "class CustomDataset(Dataset):\n",
        "    def __init__(self, img_paths, mask_rles = None, transform=None, infer=False):\n",
        "        self.img_paths = img_paths\n",
        "        self.mask_rles = mask_rles\n",
        "        self.transform = transform\n",
        "        self.infer = infer\n",
        "\n",
        "    def __len__(self):\n",
        "        return len(self.img_paths)\n",
        "\n",
        "    def __getitem__(self, idx):\n",
        "        img_path = self.img_paths.iloc[idx]\n",
        "        # print(img_path)\n",
        "        image = cv2.imread(config['base_path']+img_path[1:])\n",
        "        # print(config['base_path']+img_path[1:])\n",
        "        # print(image.shape)\n",
        "        image = cv2.cvtColor(image, cv2.COLOR_BGR2RGB)\n",
        "        # print(image)\n",
        "        # print(image.shape)\n",
        "        # plt.imshow(image)\n",
        "\n",
        "        if self.infer:\n",
        "            if self.transform:\n",
        "                image = self.transform(image=image)['image']\n",
        "            return image\n",
        "\n",
        "        mask_rle = self.mask_rles.iloc[idx]\n",
        "        mask = rle_decode(mask_rle, (image.shape[0], image.shape[1]))\n",
        "\n",
        "        if self.transform:\n",
        "            augmented = self.transform(image=image, mask=mask)\n",
        "            image = augmented['image']\n",
        "            mask = augmented['mask']\n",
        "\n",
        "        return image, mask"
      ]
    },
    {
      "cell_type": "markdown",
      "metadata": {
        "id": "FfsRJrmVPRKF"
      },
      "source": [
        "### Data Loader"
      ]
    },
    {
      "cell_type": "code",
      "execution_count": 6,
      "metadata": {
        "id": "WSf2QWyiPRKF"
      },
      "outputs": [],
      "source": [
        "fix_seed(config['seed'])\n",
        "\n",
        "train_dataset = CustomDataset(img_paths=train['img_path'], mask_rles=train['mask_rle'], transform=custom_transform['train'])\n",
        "train_dataloader = DataLoader(train_dataset, batch_size=config['train']['batch_size'], shuffle=True, num_workers=config['train']['num_workers'])\n",
        "\n",
        "valid_dataset = CustomDataset(img_paths=val['img_path'], mask_rles=val['mask_rle'], transform=custom_transform['valid'])\n",
        "valid_dataloader = DataLoader(valid_dataset , batch_size=config['train']['batch_size'], shuffle=False, num_workers=config['train']['num_workers'])"
      ]
    },
    {
      "cell_type": "code",
      "execution_count": 22,
      "metadata": {
        "colab": {
          "base_uri": "https://localhost:8080/"
        },
        "id": "TIWnfGb0PRKG",
        "outputId": "8f4d0721-07fa-4011-d27a-b0e7ad7e08ef"
      },
      "outputs": [
        {
          "output_type": "execute_result",
          "data": {
            "text/plain": [
              "15    /content/drive/MyDrive/Colab Notebooks/SW_Rase...\n",
              "1     /content/drive/MyDrive/Colab Notebooks/SW_Rase...\n",
              "8     /content/drive/MyDrive/Colab Notebooks/SW_Rase...\n",
              "5     /content/drive/MyDrive/Colab Notebooks/SW_Rase...\n",
              "11    /content/drive/MyDrive/Colab Notebooks/SW_Rase...\n",
              "3     /content/drive/MyDrive/Colab Notebooks/SW_Rase...\n",
              "18    /content/drive/MyDrive/Colab Notebooks/SW_Rase...\n",
              "16    /content/drive/MyDrive/Colab Notebooks/SW_Rase...\n",
              "13    /content/drive/MyDrive/Colab Notebooks/SW_Rase...\n",
              "2     /content/drive/MyDrive/Colab Notebooks/SW_Rase...\n",
              "9     /content/drive/MyDrive/Colab Notebooks/SW_Rase...\n",
              "19    /content/drive/MyDrive/Colab Notebooks/SW_Rase...\n",
              "4     /content/drive/MyDrive/Colab Notebooks/SW_Rase...\n",
              "12    /content/drive/MyDrive/Colab Notebooks/SW_Rase...\n",
              "7     /content/drive/MyDrive/Colab Notebooks/SW_Rase...\n",
              "10    /content/drive/MyDrive/Colab Notebooks/SW_Rase...\n",
              "14    /content/drive/MyDrive/Colab Notebooks/SW_Rase...\n",
              "6     /content/drive/MyDrive/Colab Notebooks/SW_Rase...\n",
              "Name: img_path, dtype: object"
            ]
          },
          "metadata": {},
          "execution_count": 22
        }
      ],
      "source": [
        "train['img_path']"
      ]
    },
    {
      "cell_type": "code",
      "execution_count": 7,
      "metadata": {
        "colab": {
          "base_uri": "https://localhost:8080/"
        },
        "id": "ZcR6-hNzPRKG",
        "outputId": "20ca74a0-d33e-4fa1-fbdb-33bb321621c4"
      },
      "outputs": [
        {
          "output_type": "execute_result",
          "data": {
            "text/plain": [
              "(tensor([[[-0.9020, -0.8849, -0.7993,  ..., -1.3644, -1.1760, -1.1418],\n",
              "          [ 0.2796,  0.7419,  0.7933,  ..., -1.2103, -1.1589, -1.1932],\n",
              "          [-0.1999,  0.3823,  0.7077,  ..., -1.3987, -1.4158, -1.4329],\n",
              "          ...,\n",
              "          [ 0.7248,  0.1768, -0.3712,  ..., -1.6555, -1.7412, -1.8439],\n",
              "          [ 0.4337, -0.1828, -0.5424,  ..., -1.8439, -1.7925, -1.8097],\n",
              "          [ 0.4337, -0.1828, -0.5424,  ..., -1.8439, -1.7925, -1.8097]],\n",
              " \n",
              "         [[-0.9153, -0.8277, -0.7052,  ..., -1.3179, -1.1078, -1.0728],\n",
              "          [ 0.1527,  0.6954,  0.8179,  ..., -1.1253, -1.0903, -1.1253],\n",
              "          [-0.4076,  0.2752,  0.6779,  ..., -1.3179, -1.3529, -1.3704],\n",
              "          ...,\n",
              "          [ 0.5903,  0.0126, -0.5301,  ..., -1.5280, -1.5980, -1.7031],\n",
              "          [ 0.1877, -0.4076, -0.7577,  ..., -1.6856, -1.6331, -1.6506],\n",
              "          [ 0.1877, -0.4076, -0.7577,  ..., -1.6856, -1.6331, -1.6506]],\n",
              " \n",
              "         [[-0.6193, -0.6193, -0.5321,  ..., -0.9504, -0.8110, -0.7936],\n",
              "          [ 0.4439,  0.8971,  0.9668,  ..., -0.8110, -0.8110, -0.8458],\n",
              "          [-0.1312,  0.4788,  0.8099,  ..., -1.0027, -1.0724, -1.0898],\n",
              "          ...,\n",
              "          [ 0.3568, -0.1138, -0.6018,  ..., -1.3339, -1.1944, -1.2816],\n",
              "          [-0.0092, -0.5495, -0.8633,  ..., -1.4384, -1.2293, -1.2293],\n",
              "          [-0.0092, -0.5495, -0.8633,  ..., -1.4384, -1.2293, -1.2293]]]),\n",
              " tensor([[0, 0, 0,  ..., 0, 0, 0],\n",
              "         [0, 0, 0,  ..., 0, 0, 0],\n",
              "         [0, 0, 0,  ..., 0, 0, 0],\n",
              "         ...,\n",
              "         [0, 0, 0,  ..., 0, 0, 0],\n",
              "         [0, 0, 0,  ..., 0, 0, 0],\n",
              "         [0, 0, 0,  ..., 0, 0, 0]], dtype=torch.uint8))"
            ]
          },
          "metadata": {},
          "execution_count": 7
        }
      ],
      "source": [
        "train_dataset[0]"
      ]
    },
    {
      "cell_type": "markdown",
      "metadata": {
        "id": "wiTVONCZPRKG"
      },
      "source": [
        "### Model"
      ]
    },
    {
      "cell_type": "code",
      "execution_count": 7,
      "metadata": {
        "id": "x_thMui_PRKH"
      },
      "outputs": [],
      "source": [
        "# U-Net의 기본 구성 요소인 Double Convolution Block을 정의합니다.\n",
        "def double_conv(in_channels, out_channels):\n",
        "    return nn.Sequential(\n",
        "        nn.Conv2d(in_channels, out_channels, 3, padding=1),\n",
        "        nn.ReLU(inplace=True),\n",
        "        nn.Conv2d(out_channels, out_channels, 3, padding=1),\n",
        "        nn.ReLU(inplace=True)\n",
        "    )\n",
        "\n",
        "# 간단한 U-Net 모델 정의\n",
        "class UNet(nn.Module):\n",
        "    def __init__(self):\n",
        "        super(UNet, self).__init__()\n",
        "        self.dconv_down1 = double_conv(3, 64)\n",
        "        self.dconv_down2 = double_conv(64, 128)\n",
        "        self.dconv_down3 = double_conv(128, 256)\n",
        "        self.dconv_down4 = double_conv(256, 512)\n",
        "\n",
        "        self.maxpool = nn.MaxPool2d(2)\n",
        "        self.upsample = nn.Upsample(scale_factor=2, mode='bilinear', align_corners=True)\n",
        "\n",
        "        self.dconv_up3 = double_conv(256 + 512, 256)\n",
        "        self.dconv_up2 = double_conv(128 + 256, 128)\n",
        "        self.dconv_up1 = double_conv(128 + 64, 64)\n",
        "\n",
        "        self.conv_last = nn.Conv2d(64, 1, 1)\n",
        "\n",
        "    def forward(self, x):\n",
        "        conv1 = self.dconv_down1(x)\n",
        "        x = self.maxpool(conv1)\n",
        "\n",
        "        conv2 = self.dconv_down2(x)\n",
        "        x = self.maxpool(conv2)\n",
        "\n",
        "        conv3 = self.dconv_down3(x)\n",
        "        x = self.maxpool(conv3)\n",
        "\n",
        "        x = self.dconv_down4(x)\n",
        "\n",
        "        x = self.upsample(x)\n",
        "        x = torch.cat([x, conv3], dim=1)\n",
        "\n",
        "        x = self.dconv_up3(x)\n",
        "        x = self.upsample(x)\n",
        "        x = torch.cat([x, conv2], dim=1)\n",
        "\n",
        "        x = self.dconv_up2(x)\n",
        "        x = self.upsample(x)\n",
        "        x = torch.cat([x, conv1], dim=1)\n",
        "\n",
        "        x = self.dconv_up1(x)\n",
        "\n",
        "        out = self.conv_last(x)\n",
        "\n",
        "        return out"
      ]
    },
    {
      "cell_type": "markdown",
      "metadata": {
        "id": "pH-Fso99PRKH"
      },
      "source": [
        "### Validation"
      ]
    },
    {
      "cell_type": "code",
      "execution_count": 8,
      "metadata": {
        "id": "lmyAaE15PRKH"
      },
      "outputs": [],
      "source": [
        "def validation(config, model, criterion, valid_loader, val):\n",
        "    model.eval()\n",
        "    valid_loss = 0\n",
        "    result = []\n",
        "    transformed_mask = []\n",
        "    val_df = val.copy()\n",
        "\n",
        "    with torch.no_grad():\n",
        "        for images, masks in tqdm(valid_loader):\n",
        "            if type(transformed_mask) == torch.Tensor:\n",
        "                transformed_mask = torch.cat([transformed_mask, masks])\n",
        "            else:\n",
        "                transformed_mask = masks.clone().detach()\n",
        "            images = images.float().to(config['device'])\n",
        "            masks = masks.float().to(config['device'])\n",
        "\n",
        "            outputs = model(images)\n",
        "            loss = criterion(outputs, masks.unsqueeze(1))\n",
        "            valid_loss += loss.item()\n",
        "\n",
        "            output_masks = torch.sigmoid(outputs).cpu().numpy()\n",
        "            output_masks = np.squeeze(output_masks, axis=1)\n",
        "            output_masks = (output_masks > config['inference']['threshold']).astype(np.uint8)\n",
        "\n",
        "            for i in range(len(images)):\n",
        "                mask_rle = rle_encode(output_masks[i])\n",
        "                if mask_rle == '': # 예측된 건물 픽셀이 아예 없는 경우 -1\n",
        "                    result.append(-1)\n",
        "                else:\n",
        "                    result.append(mask_rle)\n",
        "        val_df['valid_mask_rle'] = result\n",
        "        val_df['transformed_mask_rle'] = list(map(rle_encode, transformed_mask.squeeze().numpy()))\n",
        "        dice_score = calculate_dice_scores(val_df)\n",
        "\n",
        "    return valid_loss/len(valid_loader), dice_score"
      ]
    },
    {
      "cell_type": "markdown",
      "metadata": {
        "id": "yHgefp_MPRKH"
      },
      "source": [
        "### Train"
      ]
    },
    {
      "cell_type": "code",
      "execution_count": 9,
      "metadata": {
        "id": "iWQNWyNdPRKH"
      },
      "outputs": [],
      "source": [
        "def training(config, model, train_loader, valid_loader, val):\n",
        "    model = model.to(config['device'])\n",
        "    es_count = 0\n",
        "    min_val_loss = float('inf')\n",
        "    best_model = None\n",
        "\n",
        "    criterion = torch.nn.BCEWithLogitsLoss()\n",
        "    optimizer = torch.optim.Adam(model.parameters(), lr=config['train']['lr'])\n",
        "    scheduler = torch.optim.lr_scheduler.ReduceLROnPlateau(optimizer, mode='min', factor=0.5, patience=4, min_lr=1e-8, verbose=True)\n",
        "\n",
        "    # training loop\n",
        "    for epoch in range(config['train']['epochs']):\n",
        "        model.train()\n",
        "        epoch_loss = 0\n",
        "        for images, masks in tqdm(train_loader):\n",
        "            images = images.float().to(config['device'])\n",
        "            masks = masks.float().to(config['device'])\n",
        "\n",
        "            optimizer.zero_grad()\n",
        "            outputs = model(images)\n",
        "            loss = criterion(outputs, masks.unsqueeze(1))\n",
        "            loss.backward()\n",
        "            optimizer.step()\n",
        "\n",
        "            epoch_loss += loss.item()\n",
        "\n",
        "        val_loss, dice_score = validation(config, model, criterion, valid_loader, val)\n",
        "        es_count += 1\n",
        "        if min_val_loss > val_loss:\n",
        "            es_count = 0\n",
        "            min_val_loss = val_loss\n",
        "            best_model = model\n",
        "            best_epoch = epoch + 1\n",
        "            print(f\"Epoch [{epoch + 1}] New Minimum Valid Loss!\")\n",
        "\n",
        "        if config['scheduler']:\n",
        "            scheduler.step(val_loss)\n",
        "\n",
        "        if es_count == config['early_stopping']:\n",
        "            print(f'Epoch {epoch+1}, Train Loss: {(epoch_loss/len(train_loader)):6f}, Valid Loss: {val_loss:6f}, Dice Coefficient: {dice_score:6f}, ES Count:, {es_count}')\n",
        "            print(f\"EARLY STOPPING COUNT에 도달했습니다! \\nEARLY STOPPING COUNT: {config['early_stopping']} BEST EPOCH: {best_epoch}\")\n",
        "            print(\"***TRAINING DONE***\")\n",
        "            return best_model\n",
        "\n",
        "        print(f'Epoch {epoch+1}, Train Loss: {(epoch_loss/len(train_loader)):6f}, Valid Loss: {val_loss:6f}, Dice Coefficient: {dice_score:6f} ES Count:, {es_count}')\n",
        "        print(\"------------------------------------------------------------------------------------\")\n",
        "\n",
        "    print(f\"EARLY STOPPING COUNT에 도달하지 않았습니다! \\nEARLY STOPPING COUNT: {config['early_stopping']} BEST EPOCH: {best_epoch}\")\n",
        "    print(\"***TRAINING DONE***\")\n",
        "    return best_model"
      ]
    },
    {
      "cell_type": "code",
      "execution_count": 10,
      "metadata": {
        "colab": {
          "base_uri": "https://localhost:8080/"
        },
        "id": "D94NkJQ7PRKI",
        "outputId": "97953400-2090-4f6b-accc-8692321c4a7e"
      },
      "outputs": [
        {
          "output_type": "execute_result",
          "data": {
            "text/plain": [
              "True"
            ]
          },
          "metadata": {},
          "execution_count": 10
        }
      ],
      "source": [
        "torch.cuda.is_available() # 학습 전에 GPU 쓰고 있나 확인"
      ]
    },
    {
      "cell_type": "code",
      "execution_count": 11,
      "metadata": {
        "colab": {
          "base_uri": "https://localhost:8080/"
        },
        "id": "iukTacYVPRKI",
        "outputId": "b3f152de-74fd-47ef-bb1a-9dbbc4434644"
      },
      "outputs": [
        {
          "output_type": "execute_result",
          "data": {
            "text/plain": [
              "57"
            ]
          },
          "metadata": {},
          "execution_count": 11
        }
      ],
      "source": [
        "len(train_dataloader)"
      ]
    },
    {
      "cell_type": "code",
      "execution_count": 13,
      "metadata": {
        "colab": {
          "base_uri": "https://localhost:8080/"
        },
        "id": "8SiRBEI_PRKI",
        "outputId": "cba741dc-e9b5-43ff-ba05-0fe714324c50"
      },
      "outputs": [
        {
          "output_type": "stream",
          "name": "stdout",
          "text": [
            "torch.Size([16, 3, 224, 224])\n"
          ]
        }
      ],
      "source": [
        "for images, masks in train_dataloader:\n",
        "    print(images.shape)\n",
        "    break"
      ]
    },
    {
      "cell_type": "code",
      "execution_count": 130,
      "metadata": {
        "id": "-NTpmwFfPRKI"
      },
      "outputs": [],
      "source": [
        "model = UNet()"
      ]
    },
    {
      "cell_type": "code",
      "source": [
        "pip install segmentation_models_pytorch"
      ],
      "metadata": {
        "id": "dlxDeJpSTJkS"
      },
      "execution_count": null,
      "outputs": []
    },
    {
      "cell_type": "code",
      "execution_count": 14,
      "metadata": {
        "id": "m6Rv_imgPRKI"
      },
      "outputs": [],
      "source": [
        "import segmentation_models_pytorch as smp\n",
        "\n",
        "model = smp.UnetPlusPlus(\n",
        "    encoder_name=\"efficientnet-b5\",        # choose encoder, e.g. mobilenet_v2 or efficientnet-b7\n",
        "    encoder_weights=\"imagenet\",     # use `imagenet` pre-trained weights for encoder initialization\n",
        "    in_channels=3,                  # model input channels (1 for gray-scale images, 3 for RGB, etc.)\n",
        "    classes=1,                      # model output channels (number of classes in your dataset)\n",
        ")"
      ]
    },
    {
      "cell_type": "code",
      "source": [
        "import segmentation_models_pytorch as smp\n",
        "\n",
        "model = smp.Unet(\n",
        "    encoder_name=\"efficientnet-b5\",        # choose encoder, e.g. mobilenet_v2 or efficientnet-b7\n",
        "    encoder_weights=\"imagenet\",     # use `imagenet` pre-trained weights for encoder initialization\n",
        "    in_channels=3,                  # model input channels (1 for gray-scale images, 3 for RGB, etc.)\n",
        "    classes=1,                      # model output channels (number of classes in your dataset)\n",
        ")"
      ],
      "metadata": {
        "id": "ut8Ups-HWUa4"
      },
      "execution_count": 12,
      "outputs": []
    },
    {
      "cell_type": "code",
      "source": [
        "import segmentation_models_pytorch as smp\n",
        "\n",
        "model = smp.DeepLabV3(\n",
        "    encoder_name=\"efficientnet-b5\",        # choose encoder, e.g. mobilenet_v2 or efficientnet-b7\n",
        "    encoder_weights=\"imagenet\",     # use `imagenet` pre-trained weights for encoder initialization\n",
        "    in_channels=3,                  # model input channels (1 for gray-scale images, 3 for RGB, etc.)\n",
        "    classes=1,                      # model output channels (number of classes in your dataset)\n",
        ")"
      ],
      "metadata": {
        "id": "WMIkwjVgExRy"
      },
      "execution_count": 16,
      "outputs": []
    },
    {
      "cell_type": "code",
      "source": [
        "import segmentation_models_pytorch as smp\n",
        "\n",
        "model = smp.PSPNet(\n",
        "    encoder_name=\"efficientnet-b5\",        # choose encoder, e.g. mobilenet_v2 or efficientnet-b7\n",
        "    encoder_weights=\"imagenet\",     # use `imagenet` pre-trained weights for encoder initialization\n",
        "    in_channels=3,                  # model input channels (1 for gray-scale images, 3 for RGB, etc.)\n",
        "    classes=1,                      # model output channels (number of classes in your dataset)\n",
        ")"
      ],
      "metadata": {
        "id": "0DcZrQZDQX0a"
      },
      "execution_count": 14,
      "outputs": []
    },
    {
      "cell_type": "code",
      "execution_count": 15,
      "metadata": {
        "colab": {
          "base_uri": "https://localhost:8080/"
        },
        "id": "WwlDwIB3PRKJ",
        "outputId": "3164e3a6-7429-4bd8-c812-ca3d4d78c533"
      },
      "outputs": [
        {
          "output_type": "execute_result",
          "data": {
            "text/plain": [
              "UnetPlusPlus(\n",
              "  (encoder): EfficientNetEncoder(\n",
              "    (_conv_stem): Conv2dStaticSamePadding(\n",
              "      3, 48, kernel_size=(3, 3), stride=(2, 2), bias=False\n",
              "      (static_padding): ZeroPad2d((0, 1, 0, 1))\n",
              "    )\n",
              "    (_bn0): BatchNorm2d(48, eps=0.001, momentum=0.010000000000000009, affine=True, track_running_stats=True)\n",
              "    (_blocks): ModuleList(\n",
              "      (0): MBConvBlock(\n",
              "        (_depthwise_conv): Conv2dStaticSamePadding(\n",
              "          48, 48, kernel_size=(3, 3), stride=[1, 1], groups=48, bias=False\n",
              "          (static_padding): ZeroPad2d((1, 1, 1, 1))\n",
              "        )\n",
              "        (_bn1): BatchNorm2d(48, eps=0.001, momentum=0.010000000000000009, affine=True, track_running_stats=True)\n",
              "        (_se_reduce): Conv2dStaticSamePadding(\n",
              "          48, 12, kernel_size=(1, 1), stride=(1, 1)\n",
              "          (static_padding): Identity()\n",
              "        )\n",
              "        (_se_expand): Conv2dStaticSamePadding(\n",
              "          12, 48, kernel_size=(1, 1), stride=(1, 1)\n",
              "          (static_padding): Identity()\n",
              "        )\n",
              "        (_project_conv): Conv2dStaticSamePadding(\n",
              "          48, 24, kernel_size=(1, 1), stride=(1, 1), bias=False\n",
              "          (static_padding): Identity()\n",
              "        )\n",
              "        (_bn2): BatchNorm2d(24, eps=0.001, momentum=0.010000000000000009, affine=True, track_running_stats=True)\n",
              "        (_swish): MemoryEfficientSwish()\n",
              "      )\n",
              "      (1-2): 2 x MBConvBlock(\n",
              "        (_depthwise_conv): Conv2dStaticSamePadding(\n",
              "          24, 24, kernel_size=(3, 3), stride=(1, 1), groups=24, bias=False\n",
              "          (static_padding): ZeroPad2d((1, 1, 1, 1))\n",
              "        )\n",
              "        (_bn1): BatchNorm2d(24, eps=0.001, momentum=0.010000000000000009, affine=True, track_running_stats=True)\n",
              "        (_se_reduce): Conv2dStaticSamePadding(\n",
              "          24, 6, kernel_size=(1, 1), stride=(1, 1)\n",
              "          (static_padding): Identity()\n",
              "        )\n",
              "        (_se_expand): Conv2dStaticSamePadding(\n",
              "          6, 24, kernel_size=(1, 1), stride=(1, 1)\n",
              "          (static_padding): Identity()\n",
              "        )\n",
              "        (_project_conv): Conv2dStaticSamePadding(\n",
              "          24, 24, kernel_size=(1, 1), stride=(1, 1), bias=False\n",
              "          (static_padding): Identity()\n",
              "        )\n",
              "        (_bn2): BatchNorm2d(24, eps=0.001, momentum=0.010000000000000009, affine=True, track_running_stats=True)\n",
              "        (_swish): MemoryEfficientSwish()\n",
              "      )\n",
              "      (3): MBConvBlock(\n",
              "        (_expand_conv): Conv2dStaticSamePadding(\n",
              "          24, 144, kernel_size=(1, 1), stride=(1, 1), bias=False\n",
              "          (static_padding): Identity()\n",
              "        )\n",
              "        (_bn0): BatchNorm2d(144, eps=0.001, momentum=0.010000000000000009, affine=True, track_running_stats=True)\n",
              "        (_depthwise_conv): Conv2dStaticSamePadding(\n",
              "          144, 144, kernel_size=(3, 3), stride=[2, 2], groups=144, bias=False\n",
              "          (static_padding): ZeroPad2d((0, 1, 0, 1))\n",
              "        )\n",
              "        (_bn1): BatchNorm2d(144, eps=0.001, momentum=0.010000000000000009, affine=True, track_running_stats=True)\n",
              "        (_se_reduce): Conv2dStaticSamePadding(\n",
              "          144, 6, kernel_size=(1, 1), stride=(1, 1)\n",
              "          (static_padding): Identity()\n",
              "        )\n",
              "        (_se_expand): Conv2dStaticSamePadding(\n",
              "          6, 144, kernel_size=(1, 1), stride=(1, 1)\n",
              "          (static_padding): Identity()\n",
              "        )\n",
              "        (_project_conv): Conv2dStaticSamePadding(\n",
              "          144, 40, kernel_size=(1, 1), stride=(1, 1), bias=False\n",
              "          (static_padding): Identity()\n",
              "        )\n",
              "        (_bn2): BatchNorm2d(40, eps=0.001, momentum=0.010000000000000009, affine=True, track_running_stats=True)\n",
              "        (_swish): MemoryEfficientSwish()\n",
              "      )\n",
              "      (4-7): 4 x MBConvBlock(\n",
              "        (_expand_conv): Conv2dStaticSamePadding(\n",
              "          40, 240, kernel_size=(1, 1), stride=(1, 1), bias=False\n",
              "          (static_padding): Identity()\n",
              "        )\n",
              "        (_bn0): BatchNorm2d(240, eps=0.001, momentum=0.010000000000000009, affine=True, track_running_stats=True)\n",
              "        (_depthwise_conv): Conv2dStaticSamePadding(\n",
              "          240, 240, kernel_size=(3, 3), stride=(1, 1), groups=240, bias=False\n",
              "          (static_padding): ZeroPad2d((1, 1, 1, 1))\n",
              "        )\n",
              "        (_bn1): BatchNorm2d(240, eps=0.001, momentum=0.010000000000000009, affine=True, track_running_stats=True)\n",
              "        (_se_reduce): Conv2dStaticSamePadding(\n",
              "          240, 10, kernel_size=(1, 1), stride=(1, 1)\n",
              "          (static_padding): Identity()\n",
              "        )\n",
              "        (_se_expand): Conv2dStaticSamePadding(\n",
              "          10, 240, kernel_size=(1, 1), stride=(1, 1)\n",
              "          (static_padding): Identity()\n",
              "        )\n",
              "        (_project_conv): Conv2dStaticSamePadding(\n",
              "          240, 40, kernel_size=(1, 1), stride=(1, 1), bias=False\n",
              "          (static_padding): Identity()\n",
              "        )\n",
              "        (_bn2): BatchNorm2d(40, eps=0.001, momentum=0.010000000000000009, affine=True, track_running_stats=True)\n",
              "        (_swish): MemoryEfficientSwish()\n",
              "      )\n",
              "      (8): MBConvBlock(\n",
              "        (_expand_conv): Conv2dStaticSamePadding(\n",
              "          40, 240, kernel_size=(1, 1), stride=(1, 1), bias=False\n",
              "          (static_padding): Identity()\n",
              "        )\n",
              "        (_bn0): BatchNorm2d(240, eps=0.001, momentum=0.010000000000000009, affine=True, track_running_stats=True)\n",
              "        (_depthwise_conv): Conv2dStaticSamePadding(\n",
              "          240, 240, kernel_size=(5, 5), stride=[2, 2], groups=240, bias=False\n",
              "          (static_padding): ZeroPad2d((1, 2, 1, 2))\n",
              "        )\n",
              "        (_bn1): BatchNorm2d(240, eps=0.001, momentum=0.010000000000000009, affine=True, track_running_stats=True)\n",
              "        (_se_reduce): Conv2dStaticSamePadding(\n",
              "          240, 10, kernel_size=(1, 1), stride=(1, 1)\n",
              "          (static_padding): Identity()\n",
              "        )\n",
              "        (_se_expand): Conv2dStaticSamePadding(\n",
              "          10, 240, kernel_size=(1, 1), stride=(1, 1)\n",
              "          (static_padding): Identity()\n",
              "        )\n",
              "        (_project_conv): Conv2dStaticSamePadding(\n",
              "          240, 64, kernel_size=(1, 1), stride=(1, 1), bias=False\n",
              "          (static_padding): Identity()\n",
              "        )\n",
              "        (_bn2): BatchNorm2d(64, eps=0.001, momentum=0.010000000000000009, affine=True, track_running_stats=True)\n",
              "        (_swish): MemoryEfficientSwish()\n",
              "      )\n",
              "      (9-12): 4 x MBConvBlock(\n",
              "        (_expand_conv): Conv2dStaticSamePadding(\n",
              "          64, 384, kernel_size=(1, 1), stride=(1, 1), bias=False\n",
              "          (static_padding): Identity()\n",
              "        )\n",
              "        (_bn0): BatchNorm2d(384, eps=0.001, momentum=0.010000000000000009, affine=True, track_running_stats=True)\n",
              "        (_depthwise_conv): Conv2dStaticSamePadding(\n",
              "          384, 384, kernel_size=(5, 5), stride=(1, 1), groups=384, bias=False\n",
              "          (static_padding): ZeroPad2d((2, 2, 2, 2))\n",
              "        )\n",
              "        (_bn1): BatchNorm2d(384, eps=0.001, momentum=0.010000000000000009, affine=True, track_running_stats=True)\n",
              "        (_se_reduce): Conv2dStaticSamePadding(\n",
              "          384, 16, kernel_size=(1, 1), stride=(1, 1)\n",
              "          (static_padding): Identity()\n",
              "        )\n",
              "        (_se_expand): Conv2dStaticSamePadding(\n",
              "          16, 384, kernel_size=(1, 1), stride=(1, 1)\n",
              "          (static_padding): Identity()\n",
              "        )\n",
              "        (_project_conv): Conv2dStaticSamePadding(\n",
              "          384, 64, kernel_size=(1, 1), stride=(1, 1), bias=False\n",
              "          (static_padding): Identity()\n",
              "        )\n",
              "        (_bn2): BatchNorm2d(64, eps=0.001, momentum=0.010000000000000009, affine=True, track_running_stats=True)\n",
              "        (_swish): MemoryEfficientSwish()\n",
              "      )\n",
              "      (13): MBConvBlock(\n",
              "        (_expand_conv): Conv2dStaticSamePadding(\n",
              "          64, 384, kernel_size=(1, 1), stride=(1, 1), bias=False\n",
              "          (static_padding): Identity()\n",
              "        )\n",
              "        (_bn0): BatchNorm2d(384, eps=0.001, momentum=0.010000000000000009, affine=True, track_running_stats=True)\n",
              "        (_depthwise_conv): Conv2dStaticSamePadding(\n",
              "          384, 384, kernel_size=(3, 3), stride=[2, 2], groups=384, bias=False\n",
              "          (static_padding): ZeroPad2d((1, 1, 1, 1))\n",
              "        )\n",
              "        (_bn1): BatchNorm2d(384, eps=0.001, momentum=0.010000000000000009, affine=True, track_running_stats=True)\n",
              "        (_se_reduce): Conv2dStaticSamePadding(\n",
              "          384, 16, kernel_size=(1, 1), stride=(1, 1)\n",
              "          (static_padding): Identity()\n",
              "        )\n",
              "        (_se_expand): Conv2dStaticSamePadding(\n",
              "          16, 384, kernel_size=(1, 1), stride=(1, 1)\n",
              "          (static_padding): Identity()\n",
              "        )\n",
              "        (_project_conv): Conv2dStaticSamePadding(\n",
              "          384, 128, kernel_size=(1, 1), stride=(1, 1), bias=False\n",
              "          (static_padding): Identity()\n",
              "        )\n",
              "        (_bn2): BatchNorm2d(128, eps=0.001, momentum=0.010000000000000009, affine=True, track_running_stats=True)\n",
              "        (_swish): MemoryEfficientSwish()\n",
              "      )\n",
              "      (14-19): 6 x MBConvBlock(\n",
              "        (_expand_conv): Conv2dStaticSamePadding(\n",
              "          128, 768, kernel_size=(1, 1), stride=(1, 1), bias=False\n",
              "          (static_padding): Identity()\n",
              "        )\n",
              "        (_bn0): BatchNorm2d(768, eps=0.001, momentum=0.010000000000000009, affine=True, track_running_stats=True)\n",
              "        (_depthwise_conv): Conv2dStaticSamePadding(\n",
              "          768, 768, kernel_size=(3, 3), stride=(1, 1), groups=768, bias=False\n",
              "          (static_padding): ZeroPad2d((1, 1, 1, 1))\n",
              "        )\n",
              "        (_bn1): BatchNorm2d(768, eps=0.001, momentum=0.010000000000000009, affine=True, track_running_stats=True)\n",
              "        (_se_reduce): Conv2dStaticSamePadding(\n",
              "          768, 32, kernel_size=(1, 1), stride=(1, 1)\n",
              "          (static_padding): Identity()\n",
              "        )\n",
              "        (_se_expand): Conv2dStaticSamePadding(\n",
              "          32, 768, kernel_size=(1, 1), stride=(1, 1)\n",
              "          (static_padding): Identity()\n",
              "        )\n",
              "        (_project_conv): Conv2dStaticSamePadding(\n",
              "          768, 128, kernel_size=(1, 1), stride=(1, 1), bias=False\n",
              "          (static_padding): Identity()\n",
              "        )\n",
              "        (_bn2): BatchNorm2d(128, eps=0.001, momentum=0.010000000000000009, affine=True, track_running_stats=True)\n",
              "        (_swish): MemoryEfficientSwish()\n",
              "      )\n",
              "      (20): MBConvBlock(\n",
              "        (_expand_conv): Conv2dStaticSamePadding(\n",
              "          128, 768, kernel_size=(1, 1), stride=(1, 1), bias=False\n",
              "          (static_padding): Identity()\n",
              "        )\n",
              "        (_bn0): BatchNorm2d(768, eps=0.001, momentum=0.010000000000000009, affine=True, track_running_stats=True)\n",
              "        (_depthwise_conv): Conv2dStaticSamePadding(\n",
              "          768, 768, kernel_size=(5, 5), stride=[1, 1], groups=768, bias=False\n",
              "          (static_padding): ZeroPad2d((2, 2, 2, 2))\n",
              "        )\n",
              "        (_bn1): BatchNorm2d(768, eps=0.001, momentum=0.010000000000000009, affine=True, track_running_stats=True)\n",
              "        (_se_reduce): Conv2dStaticSamePadding(\n",
              "          768, 32, kernel_size=(1, 1), stride=(1, 1)\n",
              "          (static_padding): Identity()\n",
              "        )\n",
              "        (_se_expand): Conv2dStaticSamePadding(\n",
              "          32, 768, kernel_size=(1, 1), stride=(1, 1)\n",
              "          (static_padding): Identity()\n",
              "        )\n",
              "        (_project_conv): Conv2dStaticSamePadding(\n",
              "          768, 176, kernel_size=(1, 1), stride=(1, 1), bias=False\n",
              "          (static_padding): Identity()\n",
              "        )\n",
              "        (_bn2): BatchNorm2d(176, eps=0.001, momentum=0.010000000000000009, affine=True, track_running_stats=True)\n",
              "        (_swish): MemoryEfficientSwish()\n",
              "      )\n",
              "      (21-26): 6 x MBConvBlock(\n",
              "        (_expand_conv): Conv2dStaticSamePadding(\n",
              "          176, 1056, kernel_size=(1, 1), stride=(1, 1), bias=False\n",
              "          (static_padding): Identity()\n",
              "        )\n",
              "        (_bn0): BatchNorm2d(1056, eps=0.001, momentum=0.010000000000000009, affine=True, track_running_stats=True)\n",
              "        (_depthwise_conv): Conv2dStaticSamePadding(\n",
              "          1056, 1056, kernel_size=(5, 5), stride=(1, 1), groups=1056, bias=False\n",
              "          (static_padding): ZeroPad2d((2, 2, 2, 2))\n",
              "        )\n",
              "        (_bn1): BatchNorm2d(1056, eps=0.001, momentum=0.010000000000000009, affine=True, track_running_stats=True)\n",
              "        (_se_reduce): Conv2dStaticSamePadding(\n",
              "          1056, 44, kernel_size=(1, 1), stride=(1, 1)\n",
              "          (static_padding): Identity()\n",
              "        )\n",
              "        (_se_expand): Conv2dStaticSamePadding(\n",
              "          44, 1056, kernel_size=(1, 1), stride=(1, 1)\n",
              "          (static_padding): Identity()\n",
              "        )\n",
              "        (_project_conv): Conv2dStaticSamePadding(\n",
              "          1056, 176, kernel_size=(1, 1), stride=(1, 1), bias=False\n",
              "          (static_padding): Identity()\n",
              "        )\n",
              "        (_bn2): BatchNorm2d(176, eps=0.001, momentum=0.010000000000000009, affine=True, track_running_stats=True)\n",
              "        (_swish): MemoryEfficientSwish()\n",
              "      )\n",
              "      (27): MBConvBlock(\n",
              "        (_expand_conv): Conv2dStaticSamePadding(\n",
              "          176, 1056, kernel_size=(1, 1), stride=(1, 1), bias=False\n",
              "          (static_padding): Identity()\n",
              "        )\n",
              "        (_bn0): BatchNorm2d(1056, eps=0.001, momentum=0.010000000000000009, affine=True, track_running_stats=True)\n",
              "        (_depthwise_conv): Conv2dStaticSamePadding(\n",
              "          1056, 1056, kernel_size=(5, 5), stride=[2, 2], groups=1056, bias=False\n",
              "          (static_padding): ZeroPad2d((2, 2, 2, 2))\n",
              "        )\n",
              "        (_bn1): BatchNorm2d(1056, eps=0.001, momentum=0.010000000000000009, affine=True, track_running_stats=True)\n",
              "        (_se_reduce): Conv2dStaticSamePadding(\n",
              "          1056, 44, kernel_size=(1, 1), stride=(1, 1)\n",
              "          (static_padding): Identity()\n",
              "        )\n",
              "        (_se_expand): Conv2dStaticSamePadding(\n",
              "          44, 1056, kernel_size=(1, 1), stride=(1, 1)\n",
              "          (static_padding): Identity()\n",
              "        )\n",
              "        (_project_conv): Conv2dStaticSamePadding(\n",
              "          1056, 304, kernel_size=(1, 1), stride=(1, 1), bias=False\n",
              "          (static_padding): Identity()\n",
              "        )\n",
              "        (_bn2): BatchNorm2d(304, eps=0.001, momentum=0.010000000000000009, affine=True, track_running_stats=True)\n",
              "        (_swish): MemoryEfficientSwish()\n",
              "      )\n",
              "      (28-35): 8 x MBConvBlock(\n",
              "        (_expand_conv): Conv2dStaticSamePadding(\n",
              "          304, 1824, kernel_size=(1, 1), stride=(1, 1), bias=False\n",
              "          (static_padding): Identity()\n",
              "        )\n",
              "        (_bn0): BatchNorm2d(1824, eps=0.001, momentum=0.010000000000000009, affine=True, track_running_stats=True)\n",
              "        (_depthwise_conv): Conv2dStaticSamePadding(\n",
              "          1824, 1824, kernel_size=(5, 5), stride=(1, 1), groups=1824, bias=False\n",
              "          (static_padding): ZeroPad2d((2, 2, 2, 2))\n",
              "        )\n",
              "        (_bn1): BatchNorm2d(1824, eps=0.001, momentum=0.010000000000000009, affine=True, track_running_stats=True)\n",
              "        (_se_reduce): Conv2dStaticSamePadding(\n",
              "          1824, 76, kernel_size=(1, 1), stride=(1, 1)\n",
              "          (static_padding): Identity()\n",
              "        )\n",
              "        (_se_expand): Conv2dStaticSamePadding(\n",
              "          76, 1824, kernel_size=(1, 1), stride=(1, 1)\n",
              "          (static_padding): Identity()\n",
              "        )\n",
              "        (_project_conv): Conv2dStaticSamePadding(\n",
              "          1824, 304, kernel_size=(1, 1), stride=(1, 1), bias=False\n",
              "          (static_padding): Identity()\n",
              "        )\n",
              "        (_bn2): BatchNorm2d(304, eps=0.001, momentum=0.010000000000000009, affine=True, track_running_stats=True)\n",
              "        (_swish): MemoryEfficientSwish()\n",
              "      )\n",
              "      (36): MBConvBlock(\n",
              "        (_expand_conv): Conv2dStaticSamePadding(\n",
              "          304, 1824, kernel_size=(1, 1), stride=(1, 1), bias=False\n",
              "          (static_padding): Identity()\n",
              "        )\n",
              "        (_bn0): BatchNorm2d(1824, eps=0.001, momentum=0.010000000000000009, affine=True, track_running_stats=True)\n",
              "        (_depthwise_conv): Conv2dStaticSamePadding(\n",
              "          1824, 1824, kernel_size=(3, 3), stride=[1, 1], groups=1824, bias=False\n",
              "          (static_padding): ZeroPad2d((1, 1, 1, 1))\n",
              "        )\n",
              "        (_bn1): BatchNorm2d(1824, eps=0.001, momentum=0.010000000000000009, affine=True, track_running_stats=True)\n",
              "        (_se_reduce): Conv2dStaticSamePadding(\n",
              "          1824, 76, kernel_size=(1, 1), stride=(1, 1)\n",
              "          (static_padding): Identity()\n",
              "        )\n",
              "        (_se_expand): Conv2dStaticSamePadding(\n",
              "          76, 1824, kernel_size=(1, 1), stride=(1, 1)\n",
              "          (static_padding): Identity()\n",
              "        )\n",
              "        (_project_conv): Conv2dStaticSamePadding(\n",
              "          1824, 512, kernel_size=(1, 1), stride=(1, 1), bias=False\n",
              "          (static_padding): Identity()\n",
              "        )\n",
              "        (_bn2): BatchNorm2d(512, eps=0.001, momentum=0.010000000000000009, affine=True, track_running_stats=True)\n",
              "        (_swish): MemoryEfficientSwish()\n",
              "      )\n",
              "      (37-38): 2 x MBConvBlock(\n",
              "        (_expand_conv): Conv2dStaticSamePadding(\n",
              "          512, 3072, kernel_size=(1, 1), stride=(1, 1), bias=False\n",
              "          (static_padding): Identity()\n",
              "        )\n",
              "        (_bn0): BatchNorm2d(3072, eps=0.001, momentum=0.010000000000000009, affine=True, track_running_stats=True)\n",
              "        (_depthwise_conv): Conv2dStaticSamePadding(\n",
              "          3072, 3072, kernel_size=(3, 3), stride=(1, 1), groups=3072, bias=False\n",
              "          (static_padding): ZeroPad2d((1, 1, 1, 1))\n",
              "        )\n",
              "        (_bn1): BatchNorm2d(3072, eps=0.001, momentum=0.010000000000000009, affine=True, track_running_stats=True)\n",
              "        (_se_reduce): Conv2dStaticSamePadding(\n",
              "          3072, 128, kernel_size=(1, 1), stride=(1, 1)\n",
              "          (static_padding): Identity()\n",
              "        )\n",
              "        (_se_expand): Conv2dStaticSamePadding(\n",
              "          128, 3072, kernel_size=(1, 1), stride=(1, 1)\n",
              "          (static_padding): Identity()\n",
              "        )\n",
              "        (_project_conv): Conv2dStaticSamePadding(\n",
              "          3072, 512, kernel_size=(1, 1), stride=(1, 1), bias=False\n",
              "          (static_padding): Identity()\n",
              "        )\n",
              "        (_bn2): BatchNorm2d(512, eps=0.001, momentum=0.010000000000000009, affine=True, track_running_stats=True)\n",
              "        (_swish): MemoryEfficientSwish()\n",
              "      )\n",
              "    )\n",
              "    (_conv_head): Conv2dStaticSamePadding(\n",
              "      512, 2048, kernel_size=(1, 1), stride=(1, 1), bias=False\n",
              "      (static_padding): Identity()\n",
              "    )\n",
              "    (_bn1): BatchNorm2d(2048, eps=0.001, momentum=0.010000000000000009, affine=True, track_running_stats=True)\n",
              "    (_avg_pooling): AdaptiveAvgPool2d(output_size=1)\n",
              "    (_dropout): Dropout(p=0.4, inplace=False)\n",
              "    (_swish): MemoryEfficientSwish()\n",
              "  )\n",
              "  (decoder): UnetPlusPlusDecoder(\n",
              "    (center): Identity()\n",
              "    (blocks): ModuleDict(\n",
              "      (x_0_0): DecoderBlock(\n",
              "        (conv1): Conv2dReLU(\n",
              "          (0): Conv2d(688, 256, kernel_size=(3, 3), stride=(1, 1), padding=(1, 1), bias=False)\n",
              "          (1): BatchNorm2d(256, eps=1e-05, momentum=0.1, affine=True, track_running_stats=True)\n",
              "          (2): ReLU(inplace=True)\n",
              "        )\n",
              "        (attention1): Attention(\n",
              "          (attention): Identity()\n",
              "        )\n",
              "        (conv2): Conv2dReLU(\n",
              "          (0): Conv2d(256, 256, kernel_size=(3, 3), stride=(1, 1), padding=(1, 1), bias=False)\n",
              "          (1): BatchNorm2d(256, eps=1e-05, momentum=0.1, affine=True, track_running_stats=True)\n",
              "          (2): ReLU(inplace=True)\n",
              "        )\n",
              "        (attention2): Attention(\n",
              "          (attention): Identity()\n",
              "        )\n",
              "      )\n",
              "      (x_0_1): DecoderBlock(\n",
              "        (conv1): Conv2dReLU(\n",
              "          (0): Conv2d(384, 128, kernel_size=(3, 3), stride=(1, 1), padding=(1, 1), bias=False)\n",
              "          (1): BatchNorm2d(128, eps=1e-05, momentum=0.1, affine=True, track_running_stats=True)\n",
              "          (2): ReLU(inplace=True)\n",
              "        )\n",
              "        (attention1): Attention(\n",
              "          (attention): Identity()\n",
              "        )\n",
              "        (conv2): Conv2dReLU(\n",
              "          (0): Conv2d(128, 128, kernel_size=(3, 3), stride=(1, 1), padding=(1, 1), bias=False)\n",
              "          (1): BatchNorm2d(128, eps=1e-05, momentum=0.1, affine=True, track_running_stats=True)\n",
              "          (2): ReLU(inplace=True)\n",
              "        )\n",
              "        (attention2): Attention(\n",
              "          (attention): Identity()\n",
              "        )\n",
              "      )\n",
              "      (x_1_1): DecoderBlock(\n",
              "        (conv1): Conv2dReLU(\n",
              "          (0): Conv2d(240, 64, kernel_size=(3, 3), stride=(1, 1), padding=(1, 1), bias=False)\n",
              "          (1): BatchNorm2d(64, eps=1e-05, momentum=0.1, affine=True, track_running_stats=True)\n",
              "          (2): ReLU(inplace=True)\n",
              "        )\n",
              "        (attention1): Attention(\n",
              "          (attention): Identity()\n",
              "        )\n",
              "        (conv2): Conv2dReLU(\n",
              "          (0): Conv2d(64, 64, kernel_size=(3, 3), stride=(1, 1), padding=(1, 1), bias=False)\n",
              "          (1): BatchNorm2d(64, eps=1e-05, momentum=0.1, affine=True, track_running_stats=True)\n",
              "          (2): ReLU(inplace=True)\n",
              "        )\n",
              "        (attention2): Attention(\n",
              "          (attention): Identity()\n",
              "        )\n",
              "      )\n",
              "      (x_0_2): DecoderBlock(\n",
              "        (conv1): Conv2dReLU(\n",
              "          (0): Conv2d(248, 64, kernel_size=(3, 3), stride=(1, 1), padding=(1, 1), bias=False)\n",
              "          (1): BatchNorm2d(64, eps=1e-05, momentum=0.1, affine=True, track_running_stats=True)\n",
              "          (2): ReLU(inplace=True)\n",
              "        )\n",
              "        (attention1): Attention(\n",
              "          (attention): Identity()\n",
              "        )\n",
              "        (conv2): Conv2dReLU(\n",
              "          (0): Conv2d(64, 64, kernel_size=(3, 3), stride=(1, 1), padding=(1, 1), bias=False)\n",
              "          (1): BatchNorm2d(64, eps=1e-05, momentum=0.1, affine=True, track_running_stats=True)\n",
              "          (2): ReLU(inplace=True)\n",
              "        )\n",
              "        (attention2): Attention(\n",
              "          (attention): Identity()\n",
              "        )\n",
              "      )\n",
              "      (x_1_2): DecoderBlock(\n",
              "        (conv1): Conv2dReLU(\n",
              "          (0): Conv2d(144, 40, kernel_size=(3, 3), stride=(1, 1), padding=(1, 1), bias=False)\n",
              "          (1): BatchNorm2d(40, eps=1e-05, momentum=0.1, affine=True, track_running_stats=True)\n",
              "          (2): ReLU(inplace=True)\n",
              "        )\n",
              "        (attention1): Attention(\n",
              "          (attention): Identity()\n",
              "        )\n",
              "        (conv2): Conv2dReLU(\n",
              "          (0): Conv2d(40, 40, kernel_size=(3, 3), stride=(1, 1), padding=(1, 1), bias=False)\n",
              "          (1): BatchNorm2d(40, eps=1e-05, momentum=0.1, affine=True, track_running_stats=True)\n",
              "          (2): ReLU(inplace=True)\n",
              "        )\n",
              "        (attention2): Attention(\n",
              "          (attention): Identity()\n",
              "        )\n",
              "      )\n",
              "      (x_2_2): DecoderBlock(\n",
              "        (conv1): Conv2dReLU(\n",
              "          (0): Conv2d(104, 40, kernel_size=(3, 3), stride=(1, 1), padding=(1, 1), bias=False)\n",
              "          (1): BatchNorm2d(40, eps=1e-05, momentum=0.1, affine=True, track_running_stats=True)\n",
              "          (2): ReLU(inplace=True)\n",
              "        )\n",
              "        (attention1): Attention(\n",
              "          (attention): Identity()\n",
              "        )\n",
              "        (conv2): Conv2dReLU(\n",
              "          (0): Conv2d(40, 40, kernel_size=(3, 3), stride=(1, 1), padding=(1, 1), bias=False)\n",
              "          (1): BatchNorm2d(40, eps=1e-05, momentum=0.1, affine=True, track_running_stats=True)\n",
              "          (2): ReLU(inplace=True)\n",
              "        )\n",
              "        (attention2): Attention(\n",
              "          (attention): Identity()\n",
              "        )\n",
              "      )\n",
              "      (x_0_3): DecoderBlock(\n",
              "        (conv1): Conv2dReLU(\n",
              "          (0): Conv2d(256, 32, kernel_size=(3, 3), stride=(1, 1), padding=(1, 1), bias=False)\n",
              "          (1): BatchNorm2d(32, eps=1e-05, momentum=0.1, affine=True, track_running_stats=True)\n",
              "          (2): ReLU(inplace=True)\n",
              "        )\n",
              "        (attention1): Attention(\n",
              "          (attention): Identity()\n",
              "        )\n",
              "        (conv2): Conv2dReLU(\n",
              "          (0): Conv2d(32, 32, kernel_size=(3, 3), stride=(1, 1), padding=(1, 1), bias=False)\n",
              "          (1): BatchNorm2d(32, eps=1e-05, momentum=0.1, affine=True, track_running_stats=True)\n",
              "          (2): ReLU(inplace=True)\n",
              "        )\n",
              "        (attention2): Attention(\n",
              "          (attention): Identity()\n",
              "        )\n",
              "      )\n",
              "      (x_1_3): DecoderBlock(\n",
              "        (conv1): Conv2dReLU(\n",
              "          (0): Conv2d(184, 48, kernel_size=(3, 3), stride=(1, 1), padding=(1, 1), bias=False)\n",
              "          (1): BatchNorm2d(48, eps=1e-05, momentum=0.1, affine=True, track_running_stats=True)\n",
              "          (2): ReLU(inplace=True)\n",
              "        )\n",
              "        (attention1): Attention(\n",
              "          (attention): Identity()\n",
              "        )\n",
              "        (conv2): Conv2dReLU(\n",
              "          (0): Conv2d(48, 48, kernel_size=(3, 3), stride=(1, 1), padding=(1, 1), bias=False)\n",
              "          (1): BatchNorm2d(48, eps=1e-05, momentum=0.1, affine=True, track_running_stats=True)\n",
              "          (2): ReLU(inplace=True)\n",
              "        )\n",
              "        (attention2): Attention(\n",
              "          (attention): Identity()\n",
              "        )\n",
              "      )\n",
              "      (x_2_3): DecoderBlock(\n",
              "        (conv1): Conv2dReLU(\n",
              "          (0): Conv2d(136, 48, kernel_size=(3, 3), stride=(1, 1), padding=(1, 1), bias=False)\n",
              "          (1): BatchNorm2d(48, eps=1e-05, momentum=0.1, affine=True, track_running_stats=True)\n",
              "          (2): ReLU(inplace=True)\n",
              "        )\n",
              "        (attention1): Attention(\n",
              "          (attention): Identity()\n",
              "        )\n",
              "        (conv2): Conv2dReLU(\n",
              "          (0): Conv2d(48, 48, kernel_size=(3, 3), stride=(1, 1), padding=(1, 1), bias=False)\n",
              "          (1): BatchNorm2d(48, eps=1e-05, momentum=0.1, affine=True, track_running_stats=True)\n",
              "          (2): ReLU(inplace=True)\n",
              "        )\n",
              "        (attention2): Attention(\n",
              "          (attention): Identity()\n",
              "        )\n",
              "      )\n",
              "      (x_3_3): DecoderBlock(\n",
              "        (conv1): Conv2dReLU(\n",
              "          (0): Conv2d(88, 48, kernel_size=(3, 3), stride=(1, 1), padding=(1, 1), bias=False)\n",
              "          (1): BatchNorm2d(48, eps=1e-05, momentum=0.1, affine=True, track_running_stats=True)\n",
              "          (2): ReLU(inplace=True)\n",
              "        )\n",
              "        (attention1): Attention(\n",
              "          (attention): Identity()\n",
              "        )\n",
              "        (conv2): Conv2dReLU(\n",
              "          (0): Conv2d(48, 48, kernel_size=(3, 3), stride=(1, 1), padding=(1, 1), bias=False)\n",
              "          (1): BatchNorm2d(48, eps=1e-05, momentum=0.1, affine=True, track_running_stats=True)\n",
              "          (2): ReLU(inplace=True)\n",
              "        )\n",
              "        (attention2): Attention(\n",
              "          (attention): Identity()\n",
              "        )\n",
              "      )\n",
              "      (x_0_4): DecoderBlock(\n",
              "        (conv1): Conv2dReLU(\n",
              "          (0): Conv2d(32, 16, kernel_size=(3, 3), stride=(1, 1), padding=(1, 1), bias=False)\n",
              "          (1): BatchNorm2d(16, eps=1e-05, momentum=0.1, affine=True, track_running_stats=True)\n",
              "          (2): ReLU(inplace=True)\n",
              "        )\n",
              "        (attention1): Attention(\n",
              "          (attention): Identity()\n",
              "        )\n",
              "        (conv2): Conv2dReLU(\n",
              "          (0): Conv2d(16, 16, kernel_size=(3, 3), stride=(1, 1), padding=(1, 1), bias=False)\n",
              "          (1): BatchNorm2d(16, eps=1e-05, momentum=0.1, affine=True, track_running_stats=True)\n",
              "          (2): ReLU(inplace=True)\n",
              "        )\n",
              "        (attention2): Attention(\n",
              "          (attention): Identity()\n",
              "        )\n",
              "      )\n",
              "    )\n",
              "  )\n",
              "  (segmentation_head): SegmentationHead(\n",
              "    (0): Conv2d(16, 1, kernel_size=(3, 3), stride=(1, 1), padding=(1, 1))\n",
              "    (1): Identity()\n",
              "    (2): Activation(\n",
              "      (activation): Identity()\n",
              "    )\n",
              "  )\n",
              ")"
            ]
          },
          "metadata": {},
          "execution_count": 15
        }
      ],
      "source": [
        "model"
      ]
    },
    {
      "cell_type": "code",
      "source": [
        "import gc\n",
        "import torch\n",
        "\n",
        "gc.collect()\n",
        "torch.cuda.empty_cache()"
      ],
      "metadata": {
        "id": "_Rjnt2tmFarQ"
      },
      "execution_count": 174,
      "outputs": []
    },
    {
      "cell_type": "code",
      "source": [
        "import gc\n",
        "gc.collect()\n",
        "torch.cuda.empty_cache()"
      ],
      "metadata": {
        "id": "of-AGKMYF592"
      },
      "execution_count": 172,
      "outputs": []
    },
    {
      "cell_type": "code",
      "source": [
        " with torch.no_grad():\n",
        " \tlogits = model(**)"
      ],
      "metadata": {
        "colab": {
          "base_uri": "https://localhost:8080/",
          "height": 136
        },
        "id": "jePTloPXMcsH",
        "outputId": "79bf8ae4-e83b-4d21-a7d0-772f8af9f337"
      },
      "execution_count": 178,
      "outputs": [
        {
          "output_type": "error",
          "ename": "SyntaxError",
          "evalue": "ignored",
          "traceback": [
            "\u001b[0;36m  File \u001b[0;32m\"<ipython-input-178-68cab979e0fb>\"\u001b[0;36m, line \u001b[0;32m2\u001b[0m\n\u001b[0;31m    logits = model(**)\u001b[0m\n\u001b[0m                     ^\u001b[0m\n\u001b[0;31mSyntaxError\u001b[0m\u001b[0;31m:\u001b[0m invalid syntax\n"
          ]
        }
      ]
    },
    {
      "cell_type": "code",
      "source": [
        "! ps -ef | grep python"
      ],
      "metadata": {
        "colab": {
          "base_uri": "https://localhost:8080/"
        },
        "id": "tQuFhC1EMWTD",
        "outputId": "28767056-3f75-42ac-de18-1e69c0a4a827"
      },
      "execution_count": 176,
      "outputs": [
        {
          "output_type": "stream",
          "name": "stdout",
          "text": [
            "root          58       7  0 00:58 ?        00:00:05 [python3] <defunct>\n",
            "root          59       7  0 00:58 ?        00:00:05 python3 /usr/local/bin/colab-fileshim.py\n",
            "root         104       7  0 00:58 ?        00:00:42 /usr/bin/python3 /usr/local/bin/jupyter-notebook --debug --transport=\"ipc\" --ip=172.28.0.12 --NotebookApp.token= --port=9000 --FileContentsManager.root_dir=/ --MappingKernelManager.root_dir=/content\n",
            "root        2391     104 24 01:08 ?        01:04:35 /usr/bin/python3 -m ipykernel_launcher -f /root/.local/share/jupyter/runtime/kernel-9523f4f7-7f74-4551-b3b0-09616faa5c56.json\n",
            "root        2434       1  0 01:08 ?        00:00:22 /usr/bin/python3 /usr/local/lib/python3.10/dist-packages/debugpy/adapter --for-server 54525 --host 127.0.0.1 --port 33645 --server-access-token 7d7454bfbbe8adbafc47951dfa6b5d641b52bfc0987bab629983101d905b540a\n",
            "root        2871       1  0 01:09 ?        00:00:00 bash -c tail -n +0 -F \"/root/.config/Google/DriveFS/Logs/drive_fs.txt\" | python3 /opt/google/drive/drive-filter.py > \"/root/.config/Google/DriveFS/Logs/timeouts.txt\" \n",
            "root        2874    2871  0 01:09 ?        00:00:00 python3 /opt/google/drive/drive-filter.py\n",
            "root        7416    2391  0 01:25 ?        00:00:00 /usr/bin/python3 -Wignore:::pip._internal.cli.base_command -c from joblib.externals.loky.backend.resource_tracker import main; main(92, False)\n",
            "root        7417    2391  0 01:25 ?        00:00:00 /usr/bin/python3 -Wignore:::pip._internal.cli.base_command -c from multiprocessing.resource_tracker import main;main(99)\n",
            "root       75866    2391  0 05:34 ?        00:00:00 /bin/bash -c  ps -ef | grep python\n",
            "root       75868   75866  0 05:34 ?        00:00:00 grep python\n"
          ]
        }
      ]
    },
    {
      "cell_type": "code",
      "source": [
        "!kill -15 [PID]"
      ],
      "metadata": {
        "colab": {
          "base_uri": "https://localhost:8080/"
        },
        "id": "HMX1kPKKFpBe",
        "outputId": "b7a0152b-a6e8-4720-e0c3-51726d5cabcb"
      },
      "execution_count": 175,
      "outputs": [
        {
          "output_type": "stream",
          "name": "stdout",
          "text": [
            "/bin/bash: line 0: kill: [PID]: arguments must be process or job IDs\n"
          ]
        }
      ]
    },
    {
      "cell_type": "code",
      "source": [
        "pip install numba"
      ],
      "metadata": {
        "colab": {
          "base_uri": "https://localhost:8080/"
        },
        "id": "nyXMkkZQQ2tf",
        "outputId": "107aa9a8-e67d-46d1-8409-3d5f3d18f3e5"
      },
      "execution_count": 181,
      "outputs": [
        {
          "output_type": "stream",
          "name": "stdout",
          "text": [
            "Requirement already satisfied: numba in /usr/local/lib/python3.10/dist-packages (0.56.4)\n",
            "Requirement already satisfied: llvmlite<0.40,>=0.39.0dev0 in /usr/local/lib/python3.10/dist-packages (from numba) (0.39.1)\n",
            "Requirement already satisfied: numpy<1.24,>=1.18 in /usr/local/lib/python3.10/dist-packages (from numba) (1.22.4)\n",
            "Requirement already satisfied: setuptools in /usr/local/lib/python3.10/dist-packages (from numba) (67.7.2)\n"
          ]
        }
      ]
    },
    {
      "cell_type": "code",
      "source": [
        "#필요한 모듈을 import 합니다.\n",
        "from numba import cuda\n",
        "\n",
        "#이후 초기화 작업을 진행해줍니다.\n",
        "device = cuda.get_current_device()\n",
        "device.reset()"
      ],
      "metadata": {
        "id": "3vjbLGH3Q5Nh"
      },
      "execution_count": 18,
      "outputs": []
    },
    {
      "cell_type": "code",
      "execution_count": 15,
      "metadata": {
        "colab": {
          "base_uri": "https://localhost:8080/"
        },
        "id": "bpyjCD9pPRKJ",
        "outputId": "7d407110-1d94-4ae9-9d89-314660c64b08"
      },
      "outputs": [
        {
          "output_type": "stream",
          "name": "stderr",
          "text": [
            "100%|██████████| 57/57 [00:35<00:00,  1.62it/s]\n",
            "100%|██████████| 7/7 [00:03<00:00,  2.07it/s]\n"
          ]
        },
        {
          "output_type": "stream",
          "name": "stdout",
          "text": [
            "Epoch [1] New Minimum Valid Loss!\n",
            "Epoch 1, Train Loss: 0.185659, Valid Loss: 0.155051, Dice Coefficient: 0.308031 ES Count:, 0\n",
            "------------------------------------------------------------------------------------\n"
          ]
        },
        {
          "output_type": "stream",
          "name": "stderr",
          "text": [
            "100%|██████████| 57/57 [00:35<00:00,  1.61it/s]\n",
            "100%|██████████| 7/7 [00:04<00:00,  1.50it/s]\n"
          ]
        },
        {
          "output_type": "stream",
          "name": "stdout",
          "text": [
            "Epoch [2] New Minimum Valid Loss!\n",
            "Epoch 2, Train Loss: 0.122360, Valid Loss: 0.137079, Dice Coefficient: 0.429355 ES Count:, 0\n",
            "------------------------------------------------------------------------------------\n"
          ]
        },
        {
          "output_type": "stream",
          "name": "stderr",
          "text": [
            "100%|██████████| 57/57 [00:34<00:00,  1.65it/s]\n",
            "100%|██████████| 7/7 [00:03<00:00,  2.08it/s]\n"
          ]
        },
        {
          "output_type": "stream",
          "name": "stdout",
          "text": [
            "Epoch [3] New Minimum Valid Loss!\n",
            "Epoch 3, Train Loss: 0.105548, Valid Loss: 0.120383, Dice Coefficient: 0.507919 ES Count:, 0\n",
            "------------------------------------------------------------------------------------\n"
          ]
        },
        {
          "output_type": "stream",
          "name": "stderr",
          "text": [
            "100%|██████████| 57/57 [00:34<00:00,  1.65it/s]\n",
            "100%|██████████| 7/7 [00:05<00:00,  1.39it/s]\n"
          ]
        },
        {
          "output_type": "stream",
          "name": "stdout",
          "text": [
            "Epoch [4] New Minimum Valid Loss!\n",
            "Epoch 4, Train Loss: 0.097888, Valid Loss: 0.109057, Dice Coefficient: 0.548232 ES Count:, 0\n",
            "------------------------------------------------------------------------------------\n"
          ]
        },
        {
          "output_type": "stream",
          "name": "stderr",
          "text": [
            "100%|██████████| 57/57 [00:34<00:00,  1.63it/s]\n",
            "100%|██████████| 7/7 [00:03<00:00,  2.05it/s]\n"
          ]
        },
        {
          "output_type": "stream",
          "name": "stdout",
          "text": [
            "Epoch [5] New Minimum Valid Loss!\n",
            "Epoch 5, Train Loss: 0.090032, Valid Loss: 0.099251, Dice Coefficient: 0.564014 ES Count:, 0\n",
            "------------------------------------------------------------------------------------\n"
          ]
        },
        {
          "output_type": "stream",
          "name": "stderr",
          "text": [
            "100%|██████████| 57/57 [00:35<00:00,  1.63it/s]\n",
            "100%|██████████| 7/7 [00:04<00:00,  1.41it/s]\n"
          ]
        },
        {
          "output_type": "stream",
          "name": "stdout",
          "text": [
            "Epoch [6] New Minimum Valid Loss!\n",
            "Epoch 6, Train Loss: 0.093776, Valid Loss: 0.091897, Dice Coefficient: 0.600655 ES Count:, 0\n",
            "------------------------------------------------------------------------------------\n"
          ]
        },
        {
          "output_type": "stream",
          "name": "stderr",
          "text": [
            "100%|██████████| 57/57 [00:35<00:00,  1.62it/s]\n",
            "100%|██████████| 7/7 [00:03<00:00,  2.09it/s]\n"
          ]
        },
        {
          "output_type": "stream",
          "name": "stdout",
          "text": [
            "Epoch 7, Train Loss: 0.092068, Valid Loss: 0.092652, Dice Coefficient: 0.577641 ES Count:, 1\n",
            "------------------------------------------------------------------------------------\n"
          ]
        },
        {
          "output_type": "stream",
          "name": "stderr",
          "text": [
            "100%|██████████| 57/57 [00:34<00:00,  1.63it/s]\n",
            "100%|██████████| 7/7 [00:05<00:00,  1.35it/s]\n"
          ]
        },
        {
          "output_type": "stream",
          "name": "stdout",
          "text": [
            "Epoch [8] New Minimum Valid Loss!\n",
            "Epoch 8, Train Loss: 0.087031, Valid Loss: 0.088619, Dice Coefficient: 0.578963 ES Count:, 0\n",
            "------------------------------------------------------------------------------------\n"
          ]
        },
        {
          "output_type": "stream",
          "name": "stderr",
          "text": [
            "100%|██████████| 57/57 [00:35<00:00,  1.62it/s]\n",
            "100%|██████████| 7/7 [00:03<00:00,  2.06it/s]\n"
          ]
        },
        {
          "output_type": "stream",
          "name": "stdout",
          "text": [
            "Epoch [9] New Minimum Valid Loss!\n",
            "Epoch 9, Train Loss: 0.086833, Valid Loss: 0.087805, Dice Coefficient: 0.595956 ES Count:, 0\n",
            "------------------------------------------------------------------------------------\n"
          ]
        },
        {
          "output_type": "stream",
          "name": "stderr",
          "text": [
            "100%|██████████| 57/57 [00:34<00:00,  1.64it/s]\n",
            "100%|██████████| 7/7 [00:04<00:00,  1.44it/s]\n"
          ]
        },
        {
          "output_type": "stream",
          "name": "stdout",
          "text": [
            "Epoch [10] New Minimum Valid Loss!\n",
            "Epoch 10, Train Loss: 0.085985, Valid Loss: 0.087452, Dice Coefficient: 0.612170 ES Count:, 0\n",
            "------------------------------------------------------------------------------------\n"
          ]
        },
        {
          "output_type": "stream",
          "name": "stderr",
          "text": [
            "100%|██████████| 57/57 [00:35<00:00,  1.61it/s]\n",
            "100%|██████████| 7/7 [00:03<00:00,  2.07it/s]\n"
          ]
        },
        {
          "output_type": "stream",
          "name": "stdout",
          "text": [
            "Epoch 11, Train Loss: 0.076574, Valid Loss: 0.088493, Dice Coefficient: 0.618823 ES Count:, 1\n",
            "------------------------------------------------------------------------------------\n"
          ]
        },
        {
          "output_type": "stream",
          "name": "stderr",
          "text": [
            "100%|██████████| 57/57 [00:34<00:00,  1.65it/s]\n",
            "100%|██████████| 7/7 [00:04<00:00,  1.55it/s]\n"
          ]
        },
        {
          "output_type": "stream",
          "name": "stdout",
          "text": [
            "Epoch [12] New Minimum Valid Loss!\n",
            "Epoch 12, Train Loss: 0.079651, Valid Loss: 0.080754, Dice Coefficient: 0.602305 ES Count:, 0\n",
            "------------------------------------------------------------------------------------\n"
          ]
        },
        {
          "output_type": "stream",
          "name": "stderr",
          "text": [
            "100%|██████████| 57/57 [00:35<00:00,  1.60it/s]\n",
            "100%|██████████| 7/7 [00:03<00:00,  2.10it/s]\n"
          ]
        },
        {
          "output_type": "stream",
          "name": "stdout",
          "text": [
            "Epoch 13, Train Loss: 0.078318, Valid Loss: 0.081960, Dice Coefficient: 0.617942 ES Count:, 1\n",
            "------------------------------------------------------------------------------------\n"
          ]
        },
        {
          "output_type": "stream",
          "name": "stderr",
          "text": [
            "100%|██████████| 57/57 [00:34<00:00,  1.63it/s]\n",
            "100%|██████████| 7/7 [00:04<00:00,  1.59it/s]\n"
          ]
        },
        {
          "output_type": "stream",
          "name": "stdout",
          "text": [
            "Epoch 14, Train Loss: 0.071465, Valid Loss: 0.085713, Dice Coefficient: 0.608871 ES Count:, 2\n",
            "------------------------------------------------------------------------------------\n"
          ]
        },
        {
          "output_type": "stream",
          "name": "stderr",
          "text": [
            "100%|██████████| 57/57 [00:35<00:00,  1.60it/s]\n",
            "100%|██████████| 7/7 [00:03<00:00,  2.05it/s]\n"
          ]
        },
        {
          "output_type": "stream",
          "name": "stdout",
          "text": [
            "Epoch [15] New Minimum Valid Loss!\n",
            "Epoch 15, Train Loss: 0.073377, Valid Loss: 0.075077, Dice Coefficient: 0.627671 ES Count:, 0\n",
            "------------------------------------------------------------------------------------\n"
          ]
        },
        {
          "output_type": "stream",
          "name": "stderr",
          "text": [
            "100%|██████████| 57/57 [00:35<00:00,  1.63it/s]\n",
            "100%|██████████| 7/7 [00:04<00:00,  1.67it/s]\n"
          ]
        },
        {
          "output_type": "stream",
          "name": "stdout",
          "text": [
            "Epoch [16] New Minimum Valid Loss!\n",
            "Epoch 16, Train Loss: 0.073194, Valid Loss: 0.073373, Dice Coefficient: 0.628246 ES Count:, 0\n",
            "------------------------------------------------------------------------------------\n"
          ]
        },
        {
          "output_type": "stream",
          "name": "stderr",
          "text": [
            "100%|██████████| 57/57 [00:36<00:00,  1.56it/s]\n",
            "100%|██████████| 7/7 [00:03<00:00,  2.00it/s]\n"
          ]
        },
        {
          "output_type": "stream",
          "name": "stdout",
          "text": [
            "Epoch 17, Train Loss: 0.073951, Valid Loss: 0.080543, Dice Coefficient: 0.630451 ES Count:, 1\n",
            "------------------------------------------------------------------------------------\n"
          ]
        },
        {
          "output_type": "stream",
          "name": "stderr",
          "text": [
            "100%|██████████| 57/57 [00:36<00:00,  1.55it/s]\n",
            "100%|██████████| 7/7 [00:04<00:00,  1.46it/s]\n"
          ]
        },
        {
          "output_type": "stream",
          "name": "stdout",
          "text": [
            "Epoch [18] New Minimum Valid Loss!\n",
            "Epoch 18, Train Loss: 0.074826, Valid Loss: 0.072312, Dice Coefficient: 0.618823 ES Count:, 0\n",
            "------------------------------------------------------------------------------------\n"
          ]
        },
        {
          "output_type": "stream",
          "name": "stderr",
          "text": [
            "100%|██████████| 57/57 [00:35<00:00,  1.60it/s]\n",
            "100%|██████████| 7/7 [00:03<00:00,  2.04it/s]\n"
          ]
        },
        {
          "output_type": "stream",
          "name": "stdout",
          "text": [
            "Epoch 19, Train Loss: 0.073340, Valid Loss: 0.094915, Dice Coefficient: 0.619715 ES Count:, 1\n",
            "------------------------------------------------------------------------------------\n"
          ]
        },
        {
          "output_type": "stream",
          "name": "stderr",
          "text": [
            "100%|██████████| 57/57 [00:35<00:00,  1.62it/s]\n",
            "100%|██████████| 7/7 [00:04<00:00,  1.44it/s]\n"
          ]
        },
        {
          "output_type": "stream",
          "name": "stdout",
          "text": [
            "Epoch 20, Train Loss: 0.076705, Valid Loss: 0.087195, Dice Coefficient: 0.612318 ES Count:, 2\n",
            "------------------------------------------------------------------------------------\n"
          ]
        },
        {
          "output_type": "stream",
          "name": "stderr",
          "text": [
            "100%|██████████| 57/57 [00:35<00:00,  1.61it/s]\n",
            "100%|██████████| 7/7 [00:03<00:00,  2.10it/s]\n"
          ]
        },
        {
          "output_type": "stream",
          "name": "stdout",
          "text": [
            "Epoch 21, Train Loss: 0.070191, Valid Loss: 0.075167, Dice Coefficient: 0.626281 ES Count:, 3\n",
            "------------------------------------------------------------------------------------\n"
          ]
        },
        {
          "output_type": "stream",
          "name": "stderr",
          "text": [
            "100%|██████████| 57/57 [00:34<00:00,  1.63it/s]\n",
            "100%|██████████| 7/7 [00:04<00:00,  1.54it/s]\n"
          ]
        },
        {
          "output_type": "stream",
          "name": "stdout",
          "text": [
            "Epoch 22, Train Loss: 0.067204, Valid Loss: 0.076239, Dice Coefficient: 0.632494 ES Count:, 4\n",
            "------------------------------------------------------------------------------------\n"
          ]
        },
        {
          "output_type": "stream",
          "name": "stderr",
          "text": [
            "100%|██████████| 57/57 [00:35<00:00,  1.60it/s]\n",
            "100%|██████████| 7/7 [00:03<00:00,  2.07it/s]\n"
          ]
        },
        {
          "output_type": "stream",
          "name": "stdout",
          "text": [
            "Epoch 00023: reducing learning rate of group 0 to 2.5000e-04.\n",
            "Epoch 23, Train Loss: 0.068890, Valid Loss: 0.073848, Dice Coefficient: 0.628765 ES Count:, 5\n",
            "------------------------------------------------------------------------------------\n"
          ]
        },
        {
          "output_type": "stream",
          "name": "stderr",
          "text": [
            "100%|██████████| 57/57 [00:34<00:00,  1.64it/s]\n",
            "100%|██████████| 7/7 [00:04<00:00,  1.61it/s]\n"
          ]
        },
        {
          "output_type": "stream",
          "name": "stdout",
          "text": [
            "Epoch 24, Train Loss: 0.065058, Valid Loss: 0.075154, Dice Coefficient: 0.624377 ES Count:, 6\n",
            "------------------------------------------------------------------------------------\n"
          ]
        },
        {
          "output_type": "stream",
          "name": "stderr",
          "text": [
            "100%|██████████| 57/57 [00:35<00:00,  1.60it/s]\n",
            "100%|██████████| 7/7 [00:03<00:00,  2.12it/s]\n"
          ]
        },
        {
          "output_type": "stream",
          "name": "stdout",
          "text": [
            "Epoch 25, Train Loss: 0.063847, Valid Loss: 0.073962, Dice Coefficient: 0.645977 ES Count:, 7\n",
            "------------------------------------------------------------------------------------\n"
          ]
        },
        {
          "output_type": "stream",
          "name": "stderr",
          "text": [
            "100%|██████████| 57/57 [00:34<00:00,  1.65it/s]\n",
            "100%|██████████| 7/7 [00:04<00:00,  1.70it/s]\n"
          ]
        },
        {
          "output_type": "stream",
          "name": "stdout",
          "text": [
            "Epoch 26, Train Loss: 0.063288, Valid Loss: 0.074579, Dice Coefficient: 0.632842 ES Count:, 8\n",
            "------------------------------------------------------------------------------------\n"
          ]
        },
        {
          "output_type": "stream",
          "name": "stderr",
          "text": [
            "100%|██████████| 57/57 [00:35<00:00,  1.61it/s]\n",
            "100%|██████████| 7/7 [00:03<00:00,  2.08it/s]\n"
          ]
        },
        {
          "output_type": "stream",
          "name": "stdout",
          "text": [
            "Epoch [27] New Minimum Valid Loss!\n",
            "Epoch 27, Train Loss: 0.065500, Valid Loss: 0.070836, Dice Coefficient: 0.652345 ES Count:, 0\n",
            "------------------------------------------------------------------------------------\n"
          ]
        },
        {
          "output_type": "stream",
          "name": "stderr",
          "text": [
            "100%|██████████| 57/57 [00:34<00:00,  1.64it/s]\n",
            "100%|██████████| 7/7 [00:03<00:00,  1.84it/s]\n"
          ]
        },
        {
          "output_type": "stream",
          "name": "stdout",
          "text": [
            "Epoch 28, Train Loss: 0.065706, Valid Loss: 0.071646, Dice Coefficient: 0.644145 ES Count:, 1\n",
            "------------------------------------------------------------------------------------\n"
          ]
        },
        {
          "output_type": "stream",
          "name": "stderr",
          "text": [
            "100%|██████████| 57/57 [00:36<00:00,  1.57it/s]\n",
            "100%|██████████| 7/7 [00:03<00:00,  2.08it/s]\n"
          ]
        },
        {
          "output_type": "stream",
          "name": "stdout",
          "text": [
            "Epoch [29] New Minimum Valid Loss!\n",
            "Epoch 29, Train Loss: 0.066249, Valid Loss: 0.065581, Dice Coefficient: 0.656064 ES Count:, 0\n",
            "------------------------------------------------------------------------------------\n"
          ]
        },
        {
          "output_type": "stream",
          "name": "stderr",
          "text": [
            "100%|██████████| 57/57 [00:34<00:00,  1.65it/s]\n",
            "100%|██████████| 7/7 [00:03<00:00,  2.07it/s]\n"
          ]
        },
        {
          "output_type": "stream",
          "name": "stdout",
          "text": [
            "Epoch 30, Train Loss: 0.061577, Valid Loss: 0.066458, Dice Coefficient: 0.654544 ES Count:, 1\n",
            "------------------------------------------------------------------------------------\n"
          ]
        },
        {
          "output_type": "stream",
          "name": "stderr",
          "text": [
            "100%|██████████| 57/57 [00:35<00:00,  1.60it/s]\n",
            "100%|██████████| 7/7 [00:03<00:00,  1.82it/s]\n"
          ]
        },
        {
          "output_type": "stream",
          "name": "stdout",
          "text": [
            "Epoch 31, Train Loss: 0.066055, Valid Loss: 0.067158, Dice Coefficient: 0.650126 ES Count:, 2\n",
            "------------------------------------------------------------------------------------\n"
          ]
        },
        {
          "output_type": "stream",
          "name": "stderr",
          "text": [
            "100%|██████████| 57/57 [00:34<00:00,  1.65it/s]\n",
            "100%|██████████| 7/7 [00:03<00:00,  2.08it/s]\n"
          ]
        },
        {
          "output_type": "stream",
          "name": "stdout",
          "text": [
            "Epoch 32, Train Loss: 0.062152, Valid Loss: 0.067695, Dice Coefficient: 0.652293 ES Count:, 3\n",
            "------------------------------------------------------------------------------------\n"
          ]
        },
        {
          "output_type": "stream",
          "name": "stderr",
          "text": [
            "100%|██████████| 57/57 [00:35<00:00,  1.59it/s]\n",
            "100%|██████████| 7/7 [00:04<00:00,  1.70it/s]\n"
          ]
        },
        {
          "output_type": "stream",
          "name": "stdout",
          "text": [
            "Epoch [33] New Minimum Valid Loss!\n",
            "Epoch 33, Train Loss: 0.068084, Valid Loss: 0.063661, Dice Coefficient: 0.651555 ES Count:, 0\n",
            "------------------------------------------------------------------------------------\n"
          ]
        },
        {
          "output_type": "stream",
          "name": "stderr",
          "text": [
            "100%|██████████| 57/57 [00:34<00:00,  1.66it/s]\n",
            "100%|██████████| 7/7 [00:03<00:00,  2.08it/s]\n"
          ]
        },
        {
          "output_type": "stream",
          "name": "stdout",
          "text": [
            "Epoch 34, Train Loss: 0.065087, Valid Loss: 0.066612, Dice Coefficient: 0.660180 ES Count:, 1\n",
            "------------------------------------------------------------------------------------\n"
          ]
        },
        {
          "output_type": "stream",
          "name": "stderr",
          "text": [
            "100%|██████████| 57/57 [00:34<00:00,  1.65it/s]\n",
            "100%|██████████| 7/7 [00:04<00:00,  1.42it/s]\n"
          ]
        },
        {
          "output_type": "stream",
          "name": "stdout",
          "text": [
            "Epoch 35, Train Loss: 0.059787, Valid Loss: 0.068417, Dice Coefficient: 0.657105 ES Count:, 2\n",
            "------------------------------------------------------------------------------------\n"
          ]
        },
        {
          "output_type": "stream",
          "name": "stderr",
          "text": [
            "100%|██████████| 57/57 [00:34<00:00,  1.66it/s]\n",
            "100%|██████████| 7/7 [00:03<00:00,  2.04it/s]\n"
          ]
        },
        {
          "output_type": "stream",
          "name": "stdout",
          "text": [
            "Epoch 36, Train Loss: 0.061338, Valid Loss: 0.065535, Dice Coefficient: 0.658800 ES Count:, 3\n",
            "------------------------------------------------------------------------------------\n"
          ]
        },
        {
          "output_type": "stream",
          "name": "stderr",
          "text": [
            "100%|██████████| 57/57 [00:34<00:00,  1.66it/s]\n",
            "100%|██████████| 7/7 [00:04<00:00,  1.41it/s]\n"
          ]
        },
        {
          "output_type": "stream",
          "name": "stdout",
          "text": [
            "Epoch 37, Train Loss: 0.064396, Valid Loss: 0.065055, Dice Coefficient: 0.655812 ES Count:, 4\n",
            "------------------------------------------------------------------------------------\n"
          ]
        },
        {
          "output_type": "stream",
          "name": "stderr",
          "text": [
            "100%|██████████| 57/57 [00:34<00:00,  1.64it/s]\n",
            "100%|██████████| 7/7 [00:03<00:00,  2.10it/s]\n"
          ]
        },
        {
          "output_type": "stream",
          "name": "stdout",
          "text": [
            "Epoch 00038: reducing learning rate of group 0 to 1.2500e-04.\n",
            "Epoch 38, Train Loss: 0.063067, Valid Loss: 0.066054, Dice Coefficient: 0.639156 ES Count:, 5\n",
            "------------------------------------------------------------------------------------\n"
          ]
        },
        {
          "output_type": "stream",
          "name": "stderr",
          "text": [
            "100%|██████████| 57/57 [00:34<00:00,  1.65it/s]\n",
            "100%|██████████| 7/7 [00:04<00:00,  1.56it/s]\n"
          ]
        },
        {
          "output_type": "stream",
          "name": "stdout",
          "text": [
            "Epoch 39, Train Loss: 0.059847, Valid Loss: 0.068405, Dice Coefficient: 0.665594 ES Count:, 6\n",
            "------------------------------------------------------------------------------------\n"
          ]
        },
        {
          "output_type": "stream",
          "name": "stderr",
          "text": [
            "100%|██████████| 57/57 [00:35<00:00,  1.62it/s]\n",
            "100%|██████████| 7/7 [00:03<00:00,  2.03it/s]\n"
          ]
        },
        {
          "output_type": "stream",
          "name": "stdout",
          "text": [
            "Epoch 40, Train Loss: 0.060766, Valid Loss: 0.068265, Dice Coefficient: 0.664843 ES Count:, 7\n",
            "------------------------------------------------------------------------------------\n"
          ]
        },
        {
          "output_type": "stream",
          "name": "stderr",
          "text": [
            "100%|██████████| 57/57 [00:34<00:00,  1.67it/s]\n",
            "100%|██████████| 7/7 [00:04<00:00,  1.72it/s]\n"
          ]
        },
        {
          "output_type": "stream",
          "name": "stdout",
          "text": [
            "Epoch 41, Train Loss: 0.061234, Valid Loss: 0.069770, Dice Coefficient: 0.657739 ES Count:, 8\n",
            "------------------------------------------------------------------------------------\n"
          ]
        },
        {
          "output_type": "stream",
          "name": "stderr",
          "text": [
            "100%|██████████| 57/57 [00:35<00:00,  1.62it/s]\n",
            "100%|██████████| 7/7 [00:03<00:00,  2.04it/s]\n"
          ]
        },
        {
          "output_type": "stream",
          "name": "stdout",
          "text": [
            "Epoch 42, Train Loss: 0.057911, Valid Loss: 0.069920, Dice Coefficient: 0.669745 ES Count:, 9\n",
            "------------------------------------------------------------------------------------\n"
          ]
        },
        {
          "output_type": "stream",
          "name": "stderr",
          "text": [
            "100%|██████████| 57/57 [00:34<00:00,  1.66it/s]\n",
            "100%|██████████| 7/7 [00:03<00:00,  2.02it/s]\n"
          ]
        },
        {
          "output_type": "stream",
          "name": "stdout",
          "text": [
            "Epoch 00043: reducing learning rate of group 0 to 6.2500e-05.\n",
            "Epoch 43, Train Loss: 0.063110, Valid Loss: 0.064998, Dice Coefficient: 0.669158 ES Count:, 10\n",
            "------------------------------------------------------------------------------------\n"
          ]
        },
        {
          "output_type": "stream",
          "name": "stderr",
          "text": [
            "100%|██████████| 57/57 [00:35<00:00,  1.59it/s]\n",
            "100%|██████████| 7/7 [00:03<00:00,  1.96it/s]\n"
          ]
        },
        {
          "output_type": "stream",
          "name": "stdout",
          "text": [
            "Epoch 44, Train Loss: 0.059442, Valid Loss: 0.065357, Dice Coefficient: 0.663793 ES Count:, 11\n",
            "------------------------------------------------------------------------------------\n"
          ]
        },
        {
          "output_type": "stream",
          "name": "stderr",
          "text": [
            "100%|██████████| 57/57 [00:34<00:00,  1.64it/s]\n",
            "100%|██████████| 7/7 [00:03<00:00,  2.08it/s]\n"
          ]
        },
        {
          "output_type": "stream",
          "name": "stdout",
          "text": [
            "Epoch 45, Train Loss: 0.061329, Valid Loss: 0.065162, Dice Coefficient: 0.661178 ES Count:, 12\n",
            "------------------------------------------------------------------------------------\n"
          ]
        },
        {
          "output_type": "stream",
          "name": "stderr",
          "text": [
            "100%|██████████| 57/57 [00:35<00:00,  1.59it/s]\n",
            "100%|██████████| 7/7 [00:03<00:00,  1.81it/s]\n"
          ]
        },
        {
          "output_type": "stream",
          "name": "stdout",
          "text": [
            "Epoch 46, Train Loss: 0.058102, Valid Loss: 0.066161, Dice Coefficient: 0.660593 ES Count:, 13\n",
            "------------------------------------------------------------------------------------\n"
          ]
        },
        {
          "output_type": "stream",
          "name": "stderr",
          "text": [
            "100%|██████████| 57/57 [00:34<00:00,  1.66it/s]\n",
            "100%|██████████| 7/7 [00:03<00:00,  2.08it/s]\n"
          ]
        },
        {
          "output_type": "stream",
          "name": "stdout",
          "text": [
            "Epoch 47, Train Loss: 0.062927, Valid Loss: 0.068228, Dice Coefficient: 0.668814 ES Count:, 14\n",
            "------------------------------------------------------------------------------------\n"
          ]
        },
        {
          "output_type": "stream",
          "name": "stderr",
          "text": [
            "100%|██████████| 57/57 [00:35<00:00,  1.61it/s]\n",
            "100%|██████████| 7/7 [00:04<00:00,  1.63it/s]\n"
          ]
        },
        {
          "output_type": "stream",
          "name": "stdout",
          "text": [
            "Epoch 00048: reducing learning rate of group 0 to 3.1250e-05.\n",
            "Epoch 48, Train Loss: 0.062528, Valid Loss: 0.067941, Dice Coefficient: 0.664473, ES Count:, 15\n",
            "EARLY STOPPING COUNT에 도달했습니다! \n",
            "EARLY STOPPING COUNT: 15 BEST EPOCH: 33\n",
            "***TRAINING DONE***\n"
          ]
        }
      ],
      "source": [
        "best_model = training(config, model, train_dataloader, valid_dataloader, val)"
      ]
    },
    {
      "cell_type": "markdown",
      "metadata": {
        "id": "erzfJFFvPRKJ"
      },
      "source": [
        "## Inference\n",
        "- 224 * 224 * 3 이미지 추론"
      ]
    },
    {
      "cell_type": "markdown",
      "metadata": {
        "id": "XdJPJHSyPRKJ"
      },
      "source": [
        "### load test data"
      ]
    },
    {
      "cell_type": "code",
      "execution_count": 150,
      "metadata": {
        "id": "GFaA5i26PRKJ"
      },
      "outputs": [],
      "source": [
        "# Colab 사용시 활성화\n",
        "\n",
        "test_df = pd.read_csv(f\"{colab_base}/{config['test_data']}\")\n",
        "test_df['img_path'] = colab_base + test_df['img_path'].str[1:]"
      ]
    },
    {
      "cell_type": "code",
      "execution_count": null,
      "metadata": {
        "id": "3LiM3D0TPRKJ"
      },
      "outputs": [],
      "source": [
        "# kaggle 사용시 활성화\n",
        "\n",
        "# test_df = pd.read_csv('/kaggle/input/swdacon/test.csv')\n",
        "# test_df['img_path'] = '/kaggle/input/swdacon/' + test_df['img_path'].str[1:]"
      ]
    },
    {
      "cell_type": "code",
      "execution_count": null,
      "metadata": {
        "id": "tyB3aP3BPRKJ"
      },
      "outputs": [],
      "source": [
        "# 로컬 사용시 활성화\n",
        "\n",
        "test_df = pd.read_csv(f\"{config['base_path']}/{config['test_data']}\")"
      ]
    },
    {
      "cell_type": "markdown",
      "metadata": {
        "id": "XcOR2cfuPRKJ"
      },
      "source": [
        "### Data Loader"
      ]
    },
    {
      "cell_type": "code",
      "execution_count": 151,
      "metadata": {
        "id": "_Drav2u0PRKK"
      },
      "outputs": [],
      "source": [
        "fix_seed(config['seed'])\n",
        "\n",
        "test_dataset = CustomDataset(img_paths=test_df['img_path'], transform=custom_transform['test'], infer=True)\n",
        "test_dataloader = DataLoader(test_dataset, batch_size=config['inference']['batch_size'], shuffle=False, num_workers=config['inference']['num_workers'])"
      ]
    },
    {
      "cell_type": "code",
      "execution_count": 152,
      "metadata": {
        "id": "M7yQB5JkPRKK"
      },
      "outputs": [],
      "source": [
        "def inference(config, model, test_loader):\n",
        "    with torch.no_grad():\n",
        "        model.eval()\n",
        "        result = []\n",
        "        for images in tqdm(test_loader):\n",
        "            images = images.float().to(config['device'])\n",
        "\n",
        "            outputs = model(images)\n",
        "            masks = torch.sigmoid(outputs).cpu().numpy()\n",
        "            masks = np.squeeze(masks, axis=1)\n",
        "            masks = (masks > config['inference']['threshold']).astype(np.uint8)\n",
        "\n",
        "            for i in range(len(images)):\n",
        "                mask_rle = rle_encode(masks[i])\n",
        "                if mask_rle == '': # 예측된 건물 픽셀이 아예 없는 경우 -1\n",
        "                    result.append(-1)\n",
        "                else:\n",
        "                    result.append(mask_rle)\n",
        "    return result"
      ]
    },
    {
      "cell_type": "code",
      "execution_count": 142,
      "metadata": {
        "colab": {
          "base_uri": "https://localhost:8080/"
        },
        "id": "9IkX4iEwPRKL",
        "outputId": "5cbe23d3-d0af-41f2-80a6-a177d60a98a5"
      },
      "outputs": [
        {
          "output_type": "stream",
          "name": "stderr",
          "text": [
            "100%|██████████| 3/3 [00:00<00:00,  7.35it/s]\n"
          ]
        }
      ],
      "source": [
        "inference_result = inference(config, best_model, test_dataloader)"
      ]
    },
    {
      "cell_type": "markdown",
      "metadata": {
        "id": "fqVQPqvGPRKL"
      },
      "source": [
        "## Submission"
      ]
    },
    {
      "cell_type": "code",
      "execution_count": 153,
      "metadata": {
        "id": "rer7rDyzPRKL"
      },
      "outputs": [],
      "source": [
        "# Colab 사용시 활성화\n",
        "\n",
        "submit = pd.read_csv(f\"{colab_base}/submit_20.csv\")\n",
        "submit['mask_rle'] = inference_result\n",
        "\n",
        "now = datetime.datetime.now()\n",
        "current_time = now.strftime(\"%m%d-%H:%M:%S\")\n",
        "file_name = f\"{current_time}.csv\"\n",
        "\n",
        "submit.to_csv(f\"{colab_base}/{file_name}\", index=False)"
      ]
    },
    {
      "cell_type": "code",
      "source": [
        "f\"{colab_base}/{file_name}\""
      ],
      "metadata": {
        "colab": {
          "base_uri": "https://localhost:8080/",
          "height": 35
        },
        "id": "Im1hrBlTWLMA",
        "outputId": "bcedc243-2b49-4475-ee3c-4c5f9075001f"
      },
      "execution_count": 80,
      "outputs": [
        {
          "output_type": "execute_result",
          "data": {
            "text/plain": [
              "'/content/drive/MyDrive/Colab Notebooks/SW_Rasengan/open20/open/0716-01:35:37.csv'"
            ],
            "application/vnd.google.colaboratory.intrinsic+json": {
              "type": "string"
            }
          },
          "metadata": {},
          "execution_count": 80
        }
      ]
    },
    {
      "cell_type": "code",
      "execution_count": null,
      "metadata": {
        "id": "nUoi_J59PRKL"
      },
      "outputs": [],
      "source": [
        "# kaggle 사용시 활성화\n",
        "\n",
        "# submit = pd.read_csv(f\"/kaggle/input/swdacon/sample_submission.csv\")\n",
        "# submit['mask_rle'] = inference_result\n",
        "\n",
        "# now = datetime.datetime.now()\n",
        "# current_time = now.strftime(\"%m%d-%H:%M:%S\")\n",
        "# file_name = f\"{current_time}.csv\"\n",
        "\n",
        "# submit.to_csv(f\"/kaggle/working/{file_name}\", index=False)"
      ]
    },
    {
      "cell_type": "code",
      "execution_count": null,
      "metadata": {
        "id": "ZZ2nCwKiPRKL"
      },
      "outputs": [],
      "source": [
        "# 로컬 사용시 활성화\n",
        "\n",
        "submit = pd.read_csv(f\"{config['base_path']}/sample_submission.csv\")\n",
        "submit['mask_rle'] = inference_result\n",
        "\n",
        "now = datetime.datetime.now()\n",
        "current_time = now.strftime(\"%m%d-%H:%M:%S\")\n",
        "file_name = f\"{current_time}.csv\"\n",
        "\n",
        "submit.to_csv(f\"{config['base_path']}/{file_name}\", index=False)"
      ]
    },
    {
      "cell_type": "code",
      "source": [
        "!pwd"
      ],
      "metadata": {
        "colab": {
          "base_uri": "https://localhost:8080/"
        },
        "id": "c9a19z8CWFjs",
        "outputId": "d578123a-b0c1-4113-8128-08f132f79ef5"
      },
      "execution_count": 79,
      "outputs": [
        {
          "output_type": "stream",
          "name": "stdout",
          "text": [
            "/content\n"
          ]
        }
      ]
    },
    {
      "cell_type": "code",
      "source": [
        "file_name"
      ],
      "metadata": {
        "colab": {
          "base_uri": "https://localhost:8080/",
          "height": 35
        },
        "id": "AcYVugYNWCIS",
        "outputId": "8acbeebd-9071-42e1-8fb1-e0b5a7628b73"
      },
      "execution_count": 78,
      "outputs": [
        {
          "output_type": "execute_result",
          "data": {
            "text/plain": [
              "'0716-01:35:37.csv'"
            ],
            "application/vnd.google.colaboratory.intrinsic+json": {
              "type": "string"
            }
          },
          "metadata": {},
          "execution_count": 78
        }
      ]
    },
    {
      "cell_type": "code",
      "execution_count": null,
      "metadata": {
        "id": "PsWvyLUOPRKL"
      },
      "outputs": [],
      "source": [
        "# 모델 저장할 거라면 활성화\n",
        "\n",
        "# model_name = f\"{current_time}.pt\"\n",
        "\n",
        "# -----------------------------kaggle-----------------------------\n",
        "# torch.save(best_model, f'/kaggle/working/{model_name}')\n",
        "# -----------------------------로컬-----------------------------\n",
        "# torch.save(best_model, f'{config['base_path]}/{model_name}')"
      ]
    },
    {
      "cell_type": "markdown",
      "metadata": {
        "id": "qW9wpMV-PRKM"
      },
      "source": [
        "# Submission Viewer"
      ]
    },
    {
      "cell_type": "code",
      "execution_count": 154,
      "metadata": {
        "id": "zbdqwItkPRKM"
      },
      "outputs": [],
      "source": [
        "def submission_viewer(test_csv, submit_csv, img_num, base_path = config['base_path'], is_colab = False):\n",
        "    \"\"\"\n",
        "    white -> 건물 black -> 배경\n",
        "    1. Local에서 사용 시 test_csv, submit_csv, img_num만 입력\n",
        "    2. colab에서 사용 시 아래 사항을 입력\n",
        "    base_path = colab_base\n",
        "    is_colab = True\n",
        "    \"\"\"\n",
        "    mask_rle = submit_csv.iloc[img_num, 1]\n",
        "    image_path = test_csv.iloc[img_num, 1]\n",
        "    if is_colab:\n",
        "        image = cv2.imread(image_path)\n",
        "    else:\n",
        "        image = cv2.imread(base_path + image_path[1:])\n",
        "    mask = rle_decode(mask_rle, (image.shape[0], image.shape[1]))\n",
        "    fig = plt.figure()\n",
        "    ax1 = fig.add_subplot(1,2,1)\n",
        "    ax1.imshow(image)\n",
        "    ax1.set_title('image')\n",
        "    ax2 = fig.add_subplot(1,2,2)\n",
        "    ax2.imshow(mask,cmap='gray')\n",
        "    ax2.set_title('mask')\n",
        "    plt.show()"
      ]
    },
    {
      "cell_type": "code",
      "execution_count": 155,
      "metadata": {
        "colab": {
          "base_uri": "https://localhost:8080/",
          "height": 890
        },
        "id": "xF5yfrSRPRKM",
        "outputId": "e3415cca-af1e-4b4d-f6c7-867a6c3245d8"
      },
      "outputs": [
        {
          "output_type": "display_data",
          "data": {
            "text/plain": [
              "<Figure size 640x480 with 2 Axes>"
            ],
            "image/png": "[encoded data removed]"
          },
          "metadata": {}
        },
        {
          "output_type": "display_data",
          "data": {
            "text/plain": [
              "<Figure size 640x480 with 2 Axes>"
            ],
            "image/png": "[encoded data removed]"
          },
          "metadata": {}
        },
        {
          "output_type": "display_data",
          "data": {
            "text/plain": [
              "<Figure size 640x480 with 2 Axes>"
            ],
            "image/png": "[encoded data removed]"
          },
          "metadata": {}
        }
      ],
      "source": [
        "# Colab 사용시 활성화\n",
        "\n",
        "last_submit = pd.read_csv(f\"{colab_base}/{file_name}\")\n",
        "submission_viewer(test_df, last_submit, 0, colab_base, is_colab = True)\n",
        "submission_viewer(test_df, last_submit, 1, colab_base, is_colab = True)\n",
        "submission_viewer(test_df, last_submit, 2, colab_base, is_colab = True)"
      ]
    },
    {
      "cell_type": "code",
      "execution_count": null,
      "metadata": {
        "id": "7X0GGsvlPRKM"
      },
      "outputs": [],
      "source": [
        "# kaggle 사용시 활성화\n",
        "\n",
        "# last_submit = pd.read_csv(f\"/kaggle/working/{file_name}\")\n",
        "# submission_viewer(test_df, last_submit, 0, f'/kaggle/working/{file_name}', is_colab = True)\n",
        "# submission_viewer(test_df, last_submit, 1, f'/kaggle/working/{file_name}', is_colab = True)\n",
        "# submission_viewer(test_df, last_submit, 2, f'/kaggle/working/{file_name}', is_colab = True)"
      ]
    },
    {
      "cell_type": "code",
      "execution_count": null,
      "metadata": {
        "id": "M_lYC6AwPRKM"
      },
      "outputs": [],
      "source": [
        "# 로컬 사용시 활성화\n",
        "\n",
        "last_submit = pd.read_csv(f\"{config['base_path']}/file_name.csv\")\n",
        "submission_viewer(test_df, last_submit, 0)\n",
        "submission_viewer(test_df, last_submit, 1)\n",
        "submission_viewer(test_df, last_submit, 2)"
      ]
    }
  ],
  "metadata": {
    "kernelspec": {
      "display_name": "Python 3",
      "name": "python3"
    },
    "language_info": {
      "codemirror_mode": {
        "name": "ipython",
        "version": 3
      },
      "file_extension": ".py",
      "mimetype": "text/x-python",
      "name": "python",
      "nbconvert_exporter": "python",
      "pygments_lexer": "ipython3",
      "version": "3.11.4"
    },
    "orig_nbformat": 4,
    "colab": {
      "provenance": [],
      "gpuType": "T4"
    },
    "accelerator": "GPU"
  },
  "nbformat": 4,
  "nbformat_minor": 0
}