{
 "cells": [
  {
   "cell_type": "code",
   "execution_count": 3,
   "metadata": {},
   "outputs": [],
   "source": [
    "import torch\n",
    "from segment_anything import SamPredictor, sam_model_registry"
   ]
  },
  {
   "cell_type": "code",
   "execution_count": 6,
   "metadata": {},
   "outputs": [
    {
     "ename": "FileNotFoundError",
     "evalue": "[Errno 2] No such file or directory: 'C:/SAM/segment-anything/checkpoints/sam_vit_b_01ec64.pth'",
     "output_type": "error",
     "traceback": [
      "\u001b[1;31m---------------------------------------------------------------------------\u001b[0m",
      "\u001b[1;31mFileNotFoundError\u001b[0m                         Traceback (most recent call last)",
      "Cell \u001b[1;32mIn[6], line 1\u001b[0m\n\u001b[1;32m----> 1\u001b[0m sam_model \u001b[39m=\u001b[39m sam_model_registry[\u001b[39m'\u001b[39;49m\u001b[39mvit_b\u001b[39;49m\u001b[39m'\u001b[39;49m](checkpoint\u001b[39m=\u001b[39;49m\u001b[39m'\u001b[39;49m\u001b[39mC:/SAM/segment-anything/checkpoints/sam_vit_b_01ec64.pth\u001b[39;49m\u001b[39m'\u001b[39;49m)\n\u001b[0;32m      2\u001b[0m optimizer \u001b[39m=\u001b[39m torch\u001b[39m.\u001b[39moptim\u001b[39m.\u001b[39mAdam(sam_model\u001b[39m.\u001b[39mmask_decoder\u001b[39m.\u001b[39mparameters()) \n\u001b[0;32m      3\u001b[0m loss_fn \u001b[39m=\u001b[39m torch\u001b[39m.\u001b[39mnn\u001b[39m.\u001b[39mMSELoss()\n",
      "File \u001b[1;32mC:\\SAM\\segment-anything\\segment_anything\\build_sam.py:38\u001b[0m, in \u001b[0;36mbuild_sam_vit_b\u001b[1;34m(checkpoint)\u001b[0m\n\u001b[0;32m     37\u001b[0m \u001b[39mdef\u001b[39;00m \u001b[39mbuild_sam_vit_b\u001b[39m(checkpoint\u001b[39m=\u001b[39m\u001b[39mNone\u001b[39;00m):\n\u001b[1;32m---> 38\u001b[0m     \u001b[39mreturn\u001b[39;00m _build_sam(\n\u001b[0;32m     39\u001b[0m         encoder_embed_dim\u001b[39m=\u001b[39;49m\u001b[39m768\u001b[39;49m,\n\u001b[0;32m     40\u001b[0m         encoder_depth\u001b[39m=\u001b[39;49m\u001b[39m12\u001b[39;49m,\n\u001b[0;32m     41\u001b[0m         encoder_num_heads\u001b[39m=\u001b[39;49m\u001b[39m12\u001b[39;49m,\n\u001b[0;32m     42\u001b[0m         encoder_global_attn_indexes\u001b[39m=\u001b[39;49m[\u001b[39m2\u001b[39;49m, \u001b[39m5\u001b[39;49m, \u001b[39m8\u001b[39;49m, \u001b[39m11\u001b[39;49m],\n\u001b[0;32m     43\u001b[0m         checkpoint\u001b[39m=\u001b[39;49mcheckpoint,\n\u001b[0;32m     44\u001b[0m     )\n",
      "File \u001b[1;32mC:\\SAM\\segment-anything\\segment_anything\\build_sam.py:104\u001b[0m, in \u001b[0;36m_build_sam\u001b[1;34m(encoder_embed_dim, encoder_depth, encoder_num_heads, encoder_global_attn_indexes, checkpoint)\u001b[0m\n\u001b[0;32m    102\u001b[0m sam\u001b[39m.\u001b[39meval()\n\u001b[0;32m    103\u001b[0m \u001b[39mif\u001b[39;00m checkpoint \u001b[39mis\u001b[39;00m \u001b[39mnot\u001b[39;00m \u001b[39mNone\u001b[39;00m:\n\u001b[1;32m--> 104\u001b[0m     \u001b[39mwith\u001b[39;00m \u001b[39mopen\u001b[39;49m(checkpoint, \u001b[39m\"\u001b[39;49m\u001b[39mrb\u001b[39;49m\u001b[39m\"\u001b[39;49m) \u001b[39mas\u001b[39;00m f:\n\u001b[0;32m    105\u001b[0m         state_dict \u001b[39m=\u001b[39m torch\u001b[39m.\u001b[39mload(f)\n\u001b[0;32m    106\u001b[0m     sam\u001b[39m.\u001b[39mload_state_dict(state_dict)\n",
      "\u001b[1;31mFileNotFoundError\u001b[0m: [Errno 2] No such file or directory: 'C:/SAM/segment-anything/checkpoints/sam_vit_b_01ec64.pth'"
     ]
    }
   ],
   "source": [
    "sam_model = sam_model_registry['vit_b'](checkpoint='C:/SAM/segment-anything/checkpoints/sam_vit_b_01ec64.pth')\n",
    "optimizer = torch.optim.Adam(sam_model.mask_decoder.parameters()) \n",
    "loss_fn = torch.nn.MSELoss()"
   ]
  },
  {
   "cell_type": "code",
   "execution_count": null,
   "metadata": {},
   "outputs": [],
   "source": [
    "def training(config, model, train_loader, valid_loader):\n",
    "    model = model.to(config['device'])\n",
    "    es_count = 0\n",
    "    min_val_loss = float('inf')\n",
    "    best_model = None\n",
    "    \n",
    "    criterion = torch.nn.BCEWithLogitsLoss()\n",
    "    optimizer = torch.optim.Adam(model.parameters(), lr=config['train']['lr'])\n",
    "\n",
    "    # training loop\n",
    "    for epoch in range(config['train']['epochs']):\n",
    "        model.train()\n",
    "        epoch_loss = 0\n",
    "        for images, masks in tqdm(train_loader):\n",
    "            images = images.float().to(config['device'])\n",
    "            masks = masks.float().to(config['device'])\n",
    "\n",
    "            optimizer.zero_grad()\n",
    "            outputs = model(images)\n",
    "            loss = criterion(outputs, masks.unsqueeze(1))\n",
    "            loss.backward()\n",
    "            optimizer.step()\n",
    "\n",
    "            epoch_loss += loss.item()\n",
    "\n",
    "        val_loss = validation(config, model, criterion, valid_loader)\n",
    "        es_count += 1\n",
    "        if min_val_loss > val_loss:\n",
    "            es_count = 0\n",
    "            min_val_loss = val_loss\n",
    "            best_model = model\n",
    "            best_epoch = epoch\n",
    "            print(f\"Epoch [{epoch + 1}] New Minimum Valid Loss!\")\n",
    "        \n",
    "        if es_count == config['early_stopping']:\n",
    "            print(f\"EARLY STOPPING COUNT: {config['early_stopping']} BEST EPOCH: {best_epoch}\")\n",
    "            return best_model\n",
    "        \n",
    "        print(f'Epoch {epoch+1}, Train Loss: {epoch_loss/len(train_loader)}', 'Valid Loss:', val_loss, 'ES Count:', es_count)\n",
    "        print(\"------------------------------------------------------------------------------------\")\n",
    "    \n",
    "    print(f\"EARLY STOPPING COUNT에 도달하지 않았습니다! \\nEARLY STOPPING COUNT: {config['early_stopping']} BEST EPOCH: {best_epoch}\")\n",
    "    return best_model"
   ]
  }
 ],
 "metadata": {
  "kernelspec": {
   "display_name": "Python 3",
   "language": "python",
   "name": "python3"
  },
  "language_info": {
   "codemirror_mode": {
    "name": "ipython",
    "version": 3
   },
   "file_extension": ".py",
   "mimetype": "text/x-python",
   "name": "python",
   "nbconvert_exporter": "python",
   "pygments_lexer": "ipython3",
   "version": "3.11.3"
  },
  "orig_nbformat": 4
 },
 "nbformat": 4,
 "nbformat_minor": 2
}
