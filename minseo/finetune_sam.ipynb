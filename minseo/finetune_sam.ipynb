{
 "cells": [
  {
   "cell_type": "code",
   "execution_count": 36,
   "metadata": {},
   "outputs": [],
   "source": [
    "import torch\n",
    "from segment_anything import SamPredictor, sam_model_registry\n",
    "from torch.nn.functional import threshold, normalize\n",
    "import torch.nn as nn\n",
    "from torch.utils.data import Dataset, DataLoader\n",
    "from sklearn.model_selection import train_test_split\n",
    "import cv2\n",
    "import os\n",
    "import numpy as np\n",
    "import random\n",
    "import pandas as pd\n",
    "from tqdm import tqdm"
   ]
  },
  {
   "cell_type": "markdown",
   "metadata": {},
   "source": [
    "### 기본설정"
   ]
  },
  {
   "cell_type": "code",
   "execution_count": 37,
   "metadata": {},
   "outputs": [],
   "source": [
    "config = {\n",
    "    'device': torch.device('cuda' if torch.cuda.is_available() else 'cpu'),\n",
    "    'base_path': 'C:/SWdacon/minseo/data/', # change relative path of data\n",
    "    'train_data': 'train.csv', # change train data csv name\n",
    "    'test_data': 'test20.csv', # change test data csv name\n",
    "    'seed': 42,\n",
    "    'valid_size': 0.3,\n",
    "    'early_stopping': 3,\n",
    "    'train' : {\n",
    "       'batch_size' : 4,\n",
    "       'num_workers': 1,\n",
    "       'epochs': 5,\n",
    "       'lr': 1e-4,\n",
    "       'wd':0  ## weight decay\n",
    "    },\n",
    "    'inference' : {\n",
    "       'batch_size' : 4,\n",
    "       'num_workers': 1,\n",
    "       'threshold': 0.35,\n",
    "    },\n",
    "}"
   ]
  },
  {
   "cell_type": "code",
   "execution_count": 38,
   "metadata": {},
   "outputs": [],
   "source": [
    "sam_model = sam_model_registry['vit_h'](checkpoint='C:/SAM/segment-anything/checkpoints/sam_vit_h_4b8939.pth')\n",
    "optimizer = torch.optim.Adam(sam_model.mask_decoder.parameters(),lr=config['train']['lr']) \n",
    "loss_fn = torch.nn.MSELoss()\n",
    "device = torch.device('cuda' if torch.cuda.is_available() else 'cpu')"
   ]
  },
  {
   "cell_type": "code",
   "execution_count": 39,
   "metadata": {},
   "outputs": [],
   "source": [
    "# 시드 고정 함수\n",
    "def fix_seed(seed):\n",
    "    random.seed(seed)\n",
    "    np.random.seed(seed)\n",
    "    os.environ[\"PYTHONHASHSEED\"] = str(seed)\n",
    "    torch.manual_seed(seed)\n",
    "    torch.cuda.manual_seed(seed)  # type: ignore\n",
    "    torch.backends.cudnn.deterministic = True  # type: ignore\n",
    "    torch.backends.cudnn.benchmark = True  # type: ignore\n",
    "\n",
    "# RLE 디코딩 함수\n",
    "def rle_decode(mask_rle, shape):\n",
    "    s = mask_rle.split()\n",
    "    starts, lengths = [np.asarray(x, dtype=int) for x in (s[0:][::2], s[1:][::2])]\n",
    "    starts -= 1\n",
    "    ends = starts + lengths\n",
    "    img = np.zeros(shape[0]*shape[1], dtype=np.uint8)\n",
    "    for lo, hi in zip(starts, ends):\n",
    "        img[lo:hi] = 1\n",
    "    return img.reshape(shape)\n",
    "\n",
    "# RLE 인코딩 함수\n",
    "def rle_encode(mask):\n",
    "    pixels = mask.flatten()\n",
    "    pixels = np.concatenate([[0], pixels, [0]])\n",
    "    runs = np.where(pixels[1:] != pixels[:-1])[0] + 1\n",
    "    runs[1::2] -= runs[::2]\n",
    "    return ' '.join(str(x) for x in runs)"
   ]
  },
  {
   "cell_type": "markdown",
   "metadata": {},
   "source": [
    "### dataset"
   ]
  },
  {
   "cell_type": "code",
   "execution_count": 40,
   "metadata": {},
   "outputs": [],
   "source": [
    "from segment_anything.utils.transforms import ResizeLongestSide\n",
    "from collections import defaultdict"
   ]
  },
  {
   "cell_type": "code",
   "execution_count": 41,
   "metadata": {},
   "outputs": [],
   "source": [
    "class CustomDataset(Dataset):\n",
    "    def __init__(self, img_paths, mask_rles = None,infer=False):\n",
    "        self.img_paths = img_paths\n",
    "        self.mask_rles = mask_rles\n",
    "        self.infer = infer\n",
    "        self.transform = ResizeLongestSide(sam_model.image_encoder.img_size)\n",
    "    def __len__(self):\n",
    "        return len(self.img_paths)\n",
    "\n",
    "    def __getitem__(self, idx):\n",
    "        transformed_data = defaultdict(dict)\n",
    "        img_path = self.img_paths.iloc[idx]\n",
    "        image = cv2.imread(img_path)\n",
    "        image = cv2.cvtColor(image, cv2.COLOR_BGR2RGB)\n",
    "        \n",
    "        if self.infer:\n",
    "            input_image = self.transform.apply_image(image)\n",
    "            input_image_torch = torch.as_tensor(input_image, device=device)\n",
    "            transformed_image = input_image_torch.permute(2, 0, 1).contiguous()[None, :, :, :]\n",
    "            \n",
    "            input_image = sam_model.preprocess(transformed_image)\n",
    "            original_image_size = image.shape[:2]\n",
    "            input_size = tuple(transformed_image.shape[-2:])\n",
    "\n",
    "            transformed_data['image'] = input_image\n",
    "            transformed_data['input_size'] = input_size\n",
    "            transformed_data['original_image_size'] = original_image_size\n",
    "            return transformed_data\n",
    "\n",
    "        mask_rle = self.mask_rles.iloc[idx]\n",
    "        mask = rle_decode(mask_rle, (image.shape[0], image.shape[1])) ## shape 바뀌어야 하는지 확인\n",
    "        gt_mask_resized = torch.from_numpy(np.resize(mask, (1, 1, mask.shape[0], mask.shape[1]))).to(device)\n",
    "        gt_binary_mask = torch.as_tensor(gt_mask_resized > 0, dtype=torch.float32)\n",
    "        input_image = self.transform.apply_image(image)\n",
    "        input_image_torch = torch.as_tensor(input_image, device=device)\n",
    "        transformed_image = input_image_torch.permute(2, 0, 1).contiguous()[None, :, :, :]\n",
    "        \n",
    "        input_image = sam_model.preprocess(transformed_image)\n",
    "        original_image_size = image.shape[:2]\n",
    "        input_size = tuple(transformed_image.shape[-2:])\n",
    "\n",
    "        transformed_data['image'] = input_image\n",
    "        transformed_data['input_size'] = input_size\n",
    "        transformed_data['original_image_size'] = original_image_size\n",
    "\n",
    "        return transformed_data, gt_binary_mask"
   ]
  },
  {
   "cell_type": "code",
   "execution_count": 42,
   "metadata": {},
   "outputs": [
    {
     "name": "stdout",
     "output_type": "stream",
     "text": [
      "train:  4998    valid:  2142\n"
     ]
    }
   ],
   "source": [
    "train_df = pd.read_csv(f\"{config['base_path']}/{config['train_data']}\")\n",
    "train, val = train_test_split(train_df, test_size=config['valid_size'], random_state=config['seed'])\n",
    "print(\"train: \", len(train), \"   valid: \", len(val))"
   ]
  },
  {
   "cell_type": "code",
   "execution_count": 43,
   "metadata": {},
   "outputs": [],
   "source": [
    "fix_seed(config['seed'])\n",
    "\n",
    "train_dataset = CustomDataset(img_paths=train['img_path'], mask_rles=train['mask_rle'])\n",
    "train_dataloader = DataLoader(train_dataset, batch_size=config['train']['batch_size'], shuffle=True, num_workers=config['train']['num_workers'])\n",
    "\n",
    "valid_dataset = CustomDataset(img_paths=val['img_path'], mask_rles=val['mask_rle'])\n",
    "valid_dataloader = DataLoader(valid_dataset , batch_size=config['train']['batch_size'], shuffle=True, num_workers=config['train']['num_workers'])"
   ]
  },
  {
   "cell_type": "markdown",
   "metadata": {},
   "source": [
    "### train/vali"
   ]
  },
  {
   "cell_type": "code",
   "execution_count": 44,
   "metadata": {},
   "outputs": [],
   "source": [
    "def validation(config, model, criterion, valid_loader):\n",
    "    model.eval()\n",
    "    valid_loss = 0\n",
    "\n",
    "    with torch.no_grad():\n",
    "        for transformed_datas, gt_masks in tqdm(valid_loader):\n",
    "            input_image = transformed_datas['image'].to(device)\n",
    "            input_size = transformed_datas['intput_size']\n",
    "            original_image_size = transformed_datas['original_image_size']\n",
    "            masks = masks.to(config['device'])\n",
    "\n",
    "            with torch.no_grad():\n",
    "                image_embedding = sam_model.image_encoder(input_image)\n",
    "                sparse_embeddings, dense_embeddings = sam_model.prompt_encoder(\n",
    "                    points=None,\n",
    "                    boxes=None,\n",
    "                    masks=None,\n",
    "                )\n",
    "            low_res_masks, iou_predictions = sam_model.mask_decoder(\n",
    "                image_embeddings=image_embedding,\n",
    "                image_pe=sam_model.prompt_encoder.get_dense_pe(),\n",
    "                sparse_prompt_embeddings=sparse_embeddings,\n",
    "                dense_prompt_embeddings=dense_embeddings,\n",
    "                multimask_output=False,\n",
    "            )\n",
    "            upscaled_masks = sam_model.postprocess_masks(low_res_masks, input_size, original_image_size).to(device)\n",
    "            binary_mask = normalize(threshold(upscaled_masks, 0.0, 0))\n",
    "            loss = criterion(binary_mask, gt_masks)\n",
    "            valid_loss += loss.item()\n",
    "\n",
    "    return valid_loss/len(valid_loader)"
   ]
  },
  {
   "cell_type": "code",
   "execution_count": 45,
   "metadata": {},
   "outputs": [],
   "source": [
    "def training(config, model, train_loader, valid_loader):\n",
    "    model = model.to(config['device'])\n",
    "    es_count = 0\n",
    "    min_val_loss = float('inf')\n",
    "    best_model = None\n",
    "    \n",
    "    criterion = torch.nn.BCEWithLogitsLoss()\n",
    "    optimizer = torch.optim.Adam(model.parameters(), lr=config['train']['lr'])\n",
    "\n",
    "    # training loop\n",
    "    for epoch in range(config['train']['epochs']):\n",
    "        model.train()\n",
    "        epoch_loss = 0\n",
    "        for transformed_datas, gt_masks in tqdm(train_loader):\n",
    "            input_image = transformed_datas['image'].to(device)\n",
    "            input_size = transformed_datas['intput_size']\n",
    "            original_image_size = transformed_datas['original_image_size']\n",
    "            masks = masks.to(config['device'])\n",
    "\n",
    "            with torch.no_grad():\n",
    "                image_embedding = sam_model.image_encoder(input_image)\n",
    "                sparse_embeddings, dense_embeddings = sam_model.prompt_encoder(\n",
    "                    points=None,\n",
    "                    boxes=None,\n",
    "                    masks=None,\n",
    "                )\n",
    "            low_res_masks, iou_predictions = sam_model.mask_decoder(\n",
    "                image_embeddings=image_embedding,\n",
    "                image_pe=sam_model.prompt_encoder.get_dense_pe(),\n",
    "                sparse_prompt_embeddings=sparse_embeddings,\n",
    "                dense_prompt_embeddings=dense_embeddings,\n",
    "                multimask_output=False,\n",
    "            )\n",
    "            upscaled_masks = sam_model.postprocess_masks(low_res_masks, input_size, original_image_size).to(device)\n",
    "            binary_mask = normalize(threshold(upscaled_masks, 0.0, 0))\n",
    "            optimizer.zero_grad()\n",
    "            loss = criterion(binary_mask, gt_masks)\n",
    "            loss.backward()\n",
    "            optimizer.step()\n",
    "            epoch_loss += loss.item()\n",
    "        val_loss = validation(config, model, criterion, valid_loader)\n",
    "        es_count += 1\n",
    "        if min_val_loss > val_loss:\n",
    "            es_count = 0\n",
    "            min_val_loss = val_loss\n",
    "            best_model = model\n",
    "            best_epoch = epoch\n",
    "            print(f\"Epoch [{epoch + 1}] New Minimum Valid Loss!\")\n",
    "        \n",
    "        if es_count == config['early_stopping']:\n",
    "            print(f\"EARLY STOPPING COUNT: {config['early_stopping']} BEST EPOCH: {best_epoch}\")\n",
    "            return best_model\n",
    "        \n",
    "        print(f'Epoch {epoch+1}, Train Loss: {epoch_loss/len(train_loader)}', 'Valid Loss:', val_loss, 'ES Count:', es_count)\n",
    "        print(\"------------------------------------------------------------------------------------\")\n",
    "    \n",
    "    print(f\"EARLY STOPPING COUNT에 도달하지 않았습니다! \\nEARLY STOPPING COUNT: {config['early_stopping']} BEST EPOCH: {best_epoch}\")\n",
    "    return best_model"
   ]
  },
  {
   "cell_type": "code",
   "execution_count": null,
   "metadata": {},
   "outputs": [],
   "source": []
  }
 ],
 "metadata": {
  "kernelspec": {
   "display_name": "Python 3",
   "language": "python",
   "name": "python3"
  },
  "language_info": {
   "codemirror_mode": {
    "name": "ipython",
    "version": 3
   },
   "file_extension": ".py",
   "mimetype": "text/x-python",
   "name": "python",
   "nbconvert_exporter": "python",
   "pygments_lexer": "ipython3",
   "version": "3.11.3"
  },
  "orig_nbformat": 4
 },
 "nbformat": 4,
 "nbformat_minor": 2
}
