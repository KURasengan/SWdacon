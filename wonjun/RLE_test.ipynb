{
 "cells": [
  {
   "cell_type": "code",
   "execution_count": 1,
   "metadata": {},
   "outputs": [],
   "source": [
    "import numpy as np"
   ]
  },
  {
   "cell_type": "code",
   "execution_count": 43,
   "metadata": {},
   "outputs": [],
   "source": [
    "# RLE 인코딩 함수\n",
    "def rle_encode(mask):\n",
    "    pixels = mask.flatten() # mask를 1차원으로 만든다.\n",
    "    print(pixels)\n",
    "    pixels = np.concatenate([[0], pixels, [0]]) # 양 끝에 0을 붙인다.\n",
    "    print(pixels)\n",
    "    print(\"1:\", pixels[1:] )\n",
    "    print(\":-1\", pixels[:-1] )\n",
    "    print(pixels[1:] != pixels[:-1])\n",
    "    runs = np.where(pixels[1:] != pixels[:-1])[0] + 1 # 1번부터(0번은 0이니까)\n",
    "    print(\"runs\", runs)\n",
    "    print(runs[1::2])\n",
    "    print(runs[::2])\n",
    "    print(runs)\n",
    "    runs[1::2] -= runs[::2]\n",
    "    print(runs)\n",
    "    return ' '.join(str(x) for x in runs)\n",
    "\n",
    "# RLE 디코딩 함수\n",
    "def rle_decode(mask_rle, shape):\n",
    "    print(mask_rle)\n",
    "    s = mask_rle.split()\n",
    "    print(s)\n",
    "    print(\" \")\n",
    "    print(s[0:])\n",
    "    print([x for x in (s[0:][::2], s[1:][::2])])\n",
    "    starts, lengths = [np.asarray(x, dtype=int) for x in (s[0:][::2], s[1:][::2])]\n",
    "    print(\"d\", starts, lengths)\n",
    "    starts -= 1\n",
    "    ends = starts + lengths\n",
    "    img = np.zeros(shape[0]*shape[1], dtype=np.uint8)\n",
    "    print(starts)\n",
    "    print(ends)\n",
    "    for lo, hi in zip(starts, ends):\n",
    "        img[lo:hi] = 1\n",
    "    return img.reshape(shape)"
   ]
  },
  {
   "cell_type": "code",
   "execution_count": 44,
   "metadata": {},
   "outputs": [
    {
     "name": "stdout",
     "output_type": "stream",
     "text": [
      "1 4 8 2 12 3\n",
      "['1', '4', '8', '2', '12', '3']\n",
      " \n",
      "['1', '4', '8', '2', '12', '3']\n",
      "[['1', '8', '12'], ['4', '2', '3']]\n",
      "d [ 1  8 12] [4 2 3]\n",
      "[ 0  7 11]\n",
      "[ 4  9 14]\n"
     ]
    },
    {
     "data": {
      "text/plain": [
       "array([[1, 1, 1, 1, 0, 0, 0],\n",
       "       [1, 1, 0, 0, 1, 1, 1]], dtype=uint8)"
      ]
     },
     "execution_count": 44,
     "metadata": {},
     "output_type": "execute_result"
    }
   ],
   "source": [
    "rle_decode(\"1 4 8 2 12 3\", (2,7))"
   ]
  },
  {
   "cell_type": "code",
   "execution_count": 23,
   "metadata": {},
   "outputs": [
    {
     "name": "stdout",
     "output_type": "stream",
     "text": [
      "[1 1 1 1 0 0 0 1 1 0 0 1 1 1]\n",
      "[0 1 1 1 1 0 0 0 1 1 0 0 1 1 1 0]\n",
      "1: [1 1 1 1 0 0 0 1 1 0 0 1 1 1 0]\n",
      ":-1 [0 1 1 1 1 0 0 0 1 1 0 0 1 1 1]\n",
      "[ True False False False  True False False  True False  True False  True\n",
      " False False  True]\n",
      "runs [ 1  5  8 10 12 15]\n",
      "[ 5 10 15]\n",
      "[ 1  8 12]\n",
      "[ 1  5  8 10 12 15]\n",
      "[ 1  4  8  2 12  3]\n",
      "1 4 8 2 12 3\n"
     ]
    }
   ],
   "source": [
    "mask = np.array([1,1,1,1,0,0,0,1,1,0,0,1,1,1])\n",
    "a = rle_encode(mask)\n",
    "print(a)"
   ]
  }
 ],
 "metadata": {
  "kernelspec": {
   "display_name": "Python 3",
   "language": "python",
   "name": "python3"
  },
  "language_info": {
   "codemirror_mode": {
    "name": "ipython",
    "version": 3
   },
   "file_extension": ".py",
   "mimetype": "text/x-python",
   "name": "python",
   "nbconvert_exporter": "python",
   "pygments_lexer": "ipython3",
   "version": "3.11.0"
  },
  "orig_nbformat": 4
 },
 "nbformat": 4,
 "nbformat_minor": 2
}
