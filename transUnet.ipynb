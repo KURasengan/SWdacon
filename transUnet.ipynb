{
 "cells": [
  {
   "cell_type": "code",
   "execution_count": 1,
   "metadata": {
    "ExecuteTime": {
     "end_time": "2023-07-15T14:09:35.076288534Z",
     "start_time": "2023-07-15T14:09:34.181489302Z"
    },
    "collapsed": true
   },
   "outputs": [
    {
     "name": "stderr",
     "output_type": "stream",
     "text": [
      "/home/jo/anaconda3/envs/build/lib/python3.8/site-packages/torchvision/io/image.py:13: UserWarning: Failed to load image Python extension: '/home/jo/anaconda3/envs/build/lib/python3.8/site-packages/torchvision/image.so: undefined symbol: _ZN5torch3jit17parseSchemaOrNameERKNSt7__cxx1112basic_stringIcSt11char_traitsIcESaIcEEE'If you don't plan on using image functionality from `torchvision.io`, you can ignore this warning. Otherwise, there might be something wrong with your environment. Did you have `libjpeg` or `libpng` installed before building `torchvision` from source?\n",
      "  warn(\n"
     ]
    }
   ],
   "source": [
    "import torch\n",
    "import torch.nn as nn\n",
    "import torchvision.models as models\n",
    "from torchsummary import summary\n",
    "from einops.layers.torch import Rearrange, Reduce\n",
    "\n",
    "from tqdm import tqdm\n",
    "import albumentations as A\n",
    "from albumentations.pytorch import ToTensorV2"
   ]
  },
  {
   "cell_type": "code",
   "execution_count": 2,
   "metadata": {
    "ExecuteTime": {
     "end_time": "2023-07-15T14:09:35.163862960Z",
     "start_time": "2023-07-15T14:09:35.163162490Z"
    },
    "collapsed": false
   },
   "outputs": [],
   "source": [
    "config = {\n",
    "    'device': torch.device('cuda' if torch.cuda.is_available() else 'cpu'),\n",
    "    'base_path': '/home/jo/Desktop/swdacon/open/', # change relative path of data\n",
    "    'train_data': 'train.csv', # change train data csv name\n",
    "    'test_data': 'test.csv', # change test data csv name\n",
    "    'seed': 42,\n",
    "    'valid_size': 0.2,\n",
    "    'early_stopping': 15,\n",
    "    'scheduler': True,\n",
    "    'train' : {\n",
    "       'batch_size' : 16,\n",
    "       'num_workers': 6,\n",
    "       'epochs': 300,\n",
    "       'lr': 1e-3,\n",
    "    },\n",
    "    'inference' : {\n",
    "       'batch_size' : 16,\n",
    "       'num_workers': 6,\n",
    "       'threshold': 0.35,\n",
    "    },\n",
    "}\n",
    "\n",
    "custom_transform = {\n",
    "    'train':A.Compose([\n",
    "        A.augmentations.crops.transforms.RandomCrop(224,224),\n",
    "        A.Normalize(),\n",
    "        ToTensorV2()\n",
    "    ]),\n",
    "    'valid':A.Compose([\n",
    "        A.augmentations.crops.transforms.CenterCrop(224,224,p=1.0),\n",
    "        A.Normalize(),\n",
    "        ToTensorV2()\n",
    "    ]),\n",
    "    'test': A.Compose([\n",
    "        A.Normalize(),\n",
    "        ToTensorV2()\n",
    "    ]),\n",
    "}"
   ]
  },
  {
   "cell_type": "code",
   "execution_count": 3,
   "metadata": {
    "ExecuteTime": {
     "end_time": "2023-07-15T14:09:35.190247313Z",
     "start_time": "2023-07-15T14:09:35.164520328Z"
    },
    "collapsed": false
   },
   "outputs": [
    {
     "data": {
      "text/plain": [
       "device(type='cuda')"
      ]
     },
     "execution_count": 3,
     "metadata": {},
     "output_type": "execute_result"
    }
   ],
   "source": [
    "config['device']"
   ]
  },
  {
   "cell_type": "markdown",
   "metadata": {
    "collapsed": false
   },
   "source": [
    "## Model"
   ]
  },
  {
   "cell_type": "code",
   "execution_count": 4,
   "metadata": {
    "ExecuteTime": {
     "end_time": "2023-07-15T14:09:35.197116127Z",
     "start_time": "2023-07-15T14:09:35.188981090Z"
    },
    "collapsed": false
   },
   "outputs": [],
   "source": [
    "from vit_pytorch import ViT"
   ]
  },
  {
   "cell_type": "code",
   "execution_count": 54,
   "metadata": {
    "ExecuteTime": {
     "end_time": "2023-07-15T17:34:28.756081767Z",
     "start_time": "2023-07-15T17:34:28.686120368Z"
    },
    "collapsed": false
   },
   "outputs": [],
   "source": [
    "vit_encoder = ViT(\n",
    "    image_size=14,\n",
    "    patch_size=1,\n",
    "    dim = 128,\n",
    "    depth=12,\n",
    "    num_classes=2,\n",
    "    heads=8,\n",
    "    mlp_dim=2048,\n",
    ")\n",
    "vit_encoder=vit_encoder.to(config['device'])\n",
    "# depth=12, head=8일때가 현재 최고설정"
   ]
  },
  {
   "cell_type": "code",
   "execution_count": 58,
   "metadata": {
    "ExecuteTime": {
     "end_time": "2023-07-15T17:35:22.721589141Z",
     "start_time": "2023-07-15T17:35:22.681408623Z"
    },
    "collapsed": false
   },
   "outputs": [],
   "source": [
    "def double_conv(in_channels, out_channels):\n",
    "    return nn.Sequential(\n",
    "        nn.Conv2d(in_channels, out_channels, 3, padding=1),\n",
    "        nn.ReLU(inplace=True),\n",
    "        nn.Conv2d(out_channels, out_channels, 3, padding=1),\n",
    "        nn.ReLU(inplace=True)\n",
    "    )\n",
    "class TransUnet_b5(nn.Module):\n",
    "    def __init__(self):\n",
    "        super(TransUnet_b5, self).__init__()\n",
    "        self.backbone = models.efficientnet_b5(weights='EfficientNet_B5_Weights.DEFAULT')\n",
    "        self.vit_flatten = nn.Sequential(\n",
    "            Rearrange('b c (h p1) (w p2) -> b (h w) (p1 p2 c)', p1=1, p2=1),\n",
    "            nn.LayerNorm(128)\n",
    "        )\n",
    "        self.conv_vit_res = nn.Sequential(\n",
    "            nn.Conv2d(128,64,3,1,1),\n",
    "            nn.ReLU(inplace=True)\n",
    "        )\n",
    "        self.res_conv = nn.Sequential(\n",
    "            nn.Conv2d(16,16,3,1,1),\n",
    "            nn.ReLU(inplace=True)\n",
    "        )\n",
    "        self.seg_conv = nn.Conv2d(16, 1, 1)\n",
    "        self.maxpool = nn.MaxPool2d(2)\n",
    "        self.upsample = nn.Upsample(scale_factor=2, mode='bilinear', align_corners=True)\n",
    "\n",
    "        self.dconv_up3 = double_conv(64 + 64, 64)\n",
    "        self.dconv_up2 = double_conv(40 + 64, 32)\n",
    "        self.dconv_up1 = double_conv(32 + 24, 16)\n",
    "\n",
    "        self.conv_last = nn.Conv2d(16, 1, 1)\n",
    "    def forward(self, x):\n",
    "        x = self.backbone.features[0](x) #48,112,112\n",
    "        out1 = self.backbone.features[1](x) #24,112,112\n",
    "        out2 = self.backbone.features[2](out1) #40,56,56\n",
    "        out3 = self.backbone.features[3](out2) #64,28,28\n",
    "        out4 = self.backbone.features[4](out3) #128,14,14\n",
    "\n",
    "        vit_out = self.vit_flatten(out4)\n",
    "        vit_out = vit_encoder.transformer(vit_out)\n",
    "        vit_out = vit_out.reshape(-1,128,14,14)\n",
    "        vit_out = self.conv_vit_res(vit_out) #64,14,14\n",
    "        up3 = self.upsample(vit_out)#64,28,28\n",
    "        up3 = torch.cat([up3, out3], dim=1) #128,28,28\n",
    "        up3 = self.dconv_up3(up3) #64,28,28\n",
    "\n",
    "        up2 = self.upsample(up3) #64,56,56\n",
    "        up2 = torch.cat([up2, out2], dim=1) #40+64,56,56\n",
    "        up2 = self.dconv_up2(up2) #32,56,56\n",
    "\n",
    "        up1 = self.upsample(up2) #32,112,112\n",
    "        up1 = torch.cat([up1,out1],dim=1) #32+24,112,112\n",
    "        up1 = self.dconv_up1(up1) #16,112,112\n",
    "\n",
    "        up0 = self.upsample(up1)#16,224,224\n",
    "        up0 = self.res_conv(up0)\n",
    "        res = self.seg_conv(up0)\n",
    "        return res"
   ]
  },
  {
   "cell_type": "code",
   "execution_count": 59,
   "metadata": {
    "ExecuteTime": {
     "end_time": "2023-07-15T17:35:25.889246774Z",
     "start_time": "2023-07-15T17:35:25.610190572Z"
    },
    "collapsed": false
   },
   "outputs": [
    {
     "name": "stdout",
     "output_type": "stream",
     "text": [
      "----------------------------------------------------------------\n",
      "        Layer (type)               Output Shape         Param #\n",
      "================================================================\n",
      "            Conv2d-1         [-1, 48, 112, 112]           1,296\n",
      "       BatchNorm2d-2         [-1, 48, 112, 112]              96\n",
      "              SiLU-3         [-1, 48, 112, 112]               0\n",
      "            Conv2d-4         [-1, 48, 112, 112]             432\n",
      "       BatchNorm2d-5         [-1, 48, 112, 112]              96\n",
      "              SiLU-6         [-1, 48, 112, 112]               0\n",
      " AdaptiveAvgPool2d-7             [-1, 48, 1, 1]               0\n",
      "            Conv2d-8             [-1, 12, 1, 1]             588\n",
      "              SiLU-9             [-1, 12, 1, 1]               0\n",
      "           Conv2d-10             [-1, 48, 1, 1]             624\n",
      "          Sigmoid-11             [-1, 48, 1, 1]               0\n",
      "SqueezeExcitation-12         [-1, 48, 112, 112]               0\n",
      "           Conv2d-13         [-1, 24, 112, 112]           1,152\n",
      "      BatchNorm2d-14         [-1, 24, 112, 112]              48\n",
      "           MBConv-15         [-1, 24, 112, 112]               0\n",
      "           Conv2d-16         [-1, 24, 112, 112]             216\n",
      "      BatchNorm2d-17         [-1, 24, 112, 112]              48\n",
      "             SiLU-18         [-1, 24, 112, 112]               0\n",
      "AdaptiveAvgPool2d-19             [-1, 24, 1, 1]               0\n",
      "           Conv2d-20              [-1, 6, 1, 1]             150\n",
      "             SiLU-21              [-1, 6, 1, 1]               0\n",
      "           Conv2d-22             [-1, 24, 1, 1]             168\n",
      "          Sigmoid-23             [-1, 24, 1, 1]               0\n",
      "SqueezeExcitation-24         [-1, 24, 112, 112]               0\n",
      "           Conv2d-25         [-1, 24, 112, 112]             576\n",
      "      BatchNorm2d-26         [-1, 24, 112, 112]              48\n",
      "  StochasticDepth-27         [-1, 24, 112, 112]               0\n",
      "           MBConv-28         [-1, 24, 112, 112]               0\n",
      "           Conv2d-29         [-1, 24, 112, 112]             216\n",
      "      BatchNorm2d-30         [-1, 24, 112, 112]              48\n",
      "             SiLU-31         [-1, 24, 112, 112]               0\n",
      "AdaptiveAvgPool2d-32             [-1, 24, 1, 1]               0\n",
      "           Conv2d-33              [-1, 6, 1, 1]             150\n",
      "             SiLU-34              [-1, 6, 1, 1]               0\n",
      "           Conv2d-35             [-1, 24, 1, 1]             168\n",
      "          Sigmoid-36             [-1, 24, 1, 1]               0\n",
      "SqueezeExcitation-37         [-1, 24, 112, 112]               0\n",
      "           Conv2d-38         [-1, 24, 112, 112]             576\n",
      "      BatchNorm2d-39         [-1, 24, 112, 112]              48\n",
      "  StochasticDepth-40         [-1, 24, 112, 112]               0\n",
      "           MBConv-41         [-1, 24, 112, 112]               0\n",
      "           Conv2d-42        [-1, 144, 112, 112]           3,456\n",
      "      BatchNorm2d-43        [-1, 144, 112, 112]             288\n",
      "             SiLU-44        [-1, 144, 112, 112]               0\n",
      "           Conv2d-45          [-1, 144, 56, 56]           1,296\n",
      "      BatchNorm2d-46          [-1, 144, 56, 56]             288\n",
      "             SiLU-47          [-1, 144, 56, 56]               0\n",
      "AdaptiveAvgPool2d-48            [-1, 144, 1, 1]               0\n",
      "           Conv2d-49              [-1, 6, 1, 1]             870\n",
      "             SiLU-50              [-1, 6, 1, 1]               0\n",
      "           Conv2d-51            [-1, 144, 1, 1]           1,008\n",
      "          Sigmoid-52            [-1, 144, 1, 1]               0\n",
      "SqueezeExcitation-53          [-1, 144, 56, 56]               0\n",
      "           Conv2d-54           [-1, 40, 56, 56]           5,760\n",
      "      BatchNorm2d-55           [-1, 40, 56, 56]              80\n",
      "           MBConv-56           [-1, 40, 56, 56]               0\n",
      "           Conv2d-57          [-1, 240, 56, 56]           9,600\n",
      "      BatchNorm2d-58          [-1, 240, 56, 56]             480\n",
      "             SiLU-59          [-1, 240, 56, 56]               0\n",
      "           Conv2d-60          [-1, 240, 56, 56]           2,160\n",
      "      BatchNorm2d-61          [-1, 240, 56, 56]             480\n",
      "             SiLU-62          [-1, 240, 56, 56]               0\n",
      "AdaptiveAvgPool2d-63            [-1, 240, 1, 1]               0\n",
      "           Conv2d-64             [-1, 10, 1, 1]           2,410\n",
      "             SiLU-65             [-1, 10, 1, 1]               0\n",
      "           Conv2d-66            [-1, 240, 1, 1]           2,640\n",
      "          Sigmoid-67            [-1, 240, 1, 1]               0\n",
      "SqueezeExcitation-68          [-1, 240, 56, 56]               0\n",
      "           Conv2d-69           [-1, 40, 56, 56]           9,600\n",
      "      BatchNorm2d-70           [-1, 40, 56, 56]              80\n",
      "  StochasticDepth-71           [-1, 40, 56, 56]               0\n",
      "           MBConv-72           [-1, 40, 56, 56]               0\n",
      "           Conv2d-73          [-1, 240, 56, 56]           9,600\n",
      "      BatchNorm2d-74          [-1, 240, 56, 56]             480\n",
      "             SiLU-75          [-1, 240, 56, 56]               0\n",
      "           Conv2d-76          [-1, 240, 56, 56]           2,160\n",
      "      BatchNorm2d-77          [-1, 240, 56, 56]             480\n",
      "             SiLU-78          [-1, 240, 56, 56]               0\n",
      "AdaptiveAvgPool2d-79            [-1, 240, 1, 1]               0\n",
      "           Conv2d-80             [-1, 10, 1, 1]           2,410\n",
      "             SiLU-81             [-1, 10, 1, 1]               0\n",
      "           Conv2d-82            [-1, 240, 1, 1]           2,640\n",
      "          Sigmoid-83            [-1, 240, 1, 1]               0\n",
      "SqueezeExcitation-84          [-1, 240, 56, 56]               0\n",
      "           Conv2d-85           [-1, 40, 56, 56]           9,600\n",
      "      BatchNorm2d-86           [-1, 40, 56, 56]              80\n",
      "  StochasticDepth-87           [-1, 40, 56, 56]               0\n",
      "           MBConv-88           [-1, 40, 56, 56]               0\n",
      "           Conv2d-89          [-1, 240, 56, 56]           9,600\n",
      "      BatchNorm2d-90          [-1, 240, 56, 56]             480\n",
      "             SiLU-91          [-1, 240, 56, 56]               0\n",
      "           Conv2d-92          [-1, 240, 56, 56]           2,160\n",
      "      BatchNorm2d-93          [-1, 240, 56, 56]             480\n",
      "             SiLU-94          [-1, 240, 56, 56]               0\n",
      "AdaptiveAvgPool2d-95            [-1, 240, 1, 1]               0\n",
      "           Conv2d-96             [-1, 10, 1, 1]           2,410\n",
      "             SiLU-97             [-1, 10, 1, 1]               0\n",
      "           Conv2d-98            [-1, 240, 1, 1]           2,640\n",
      "          Sigmoid-99            [-1, 240, 1, 1]               0\n",
      "SqueezeExcitation-100          [-1, 240, 56, 56]               0\n",
      "          Conv2d-101           [-1, 40, 56, 56]           9,600\n",
      "     BatchNorm2d-102           [-1, 40, 56, 56]              80\n",
      " StochasticDepth-103           [-1, 40, 56, 56]               0\n",
      "          MBConv-104           [-1, 40, 56, 56]               0\n",
      "          Conv2d-105          [-1, 240, 56, 56]           9,600\n",
      "     BatchNorm2d-106          [-1, 240, 56, 56]             480\n",
      "            SiLU-107          [-1, 240, 56, 56]               0\n",
      "          Conv2d-108          [-1, 240, 56, 56]           2,160\n",
      "     BatchNorm2d-109          [-1, 240, 56, 56]             480\n",
      "            SiLU-110          [-1, 240, 56, 56]               0\n",
      "AdaptiveAvgPool2d-111            [-1, 240, 1, 1]               0\n",
      "          Conv2d-112             [-1, 10, 1, 1]           2,410\n",
      "            SiLU-113             [-1, 10, 1, 1]               0\n",
      "          Conv2d-114            [-1, 240, 1, 1]           2,640\n",
      "         Sigmoid-115            [-1, 240, 1, 1]               0\n",
      "SqueezeExcitation-116          [-1, 240, 56, 56]               0\n",
      "          Conv2d-117           [-1, 40, 56, 56]           9,600\n",
      "     BatchNorm2d-118           [-1, 40, 56, 56]              80\n",
      " StochasticDepth-119           [-1, 40, 56, 56]               0\n",
      "          MBConv-120           [-1, 40, 56, 56]               0\n",
      "          Conv2d-121          [-1, 240, 56, 56]           9,600\n",
      "     BatchNorm2d-122          [-1, 240, 56, 56]             480\n",
      "            SiLU-123          [-1, 240, 56, 56]               0\n",
      "          Conv2d-124          [-1, 240, 28, 28]           6,000\n",
      "     BatchNorm2d-125          [-1, 240, 28, 28]             480\n",
      "            SiLU-126          [-1, 240, 28, 28]               0\n",
      "AdaptiveAvgPool2d-127            [-1, 240, 1, 1]               0\n",
      "          Conv2d-128             [-1, 10, 1, 1]           2,410\n",
      "            SiLU-129             [-1, 10, 1, 1]               0\n",
      "          Conv2d-130            [-1, 240, 1, 1]           2,640\n",
      "         Sigmoid-131            [-1, 240, 1, 1]               0\n",
      "SqueezeExcitation-132          [-1, 240, 28, 28]               0\n",
      "          Conv2d-133           [-1, 64, 28, 28]          15,360\n",
      "     BatchNorm2d-134           [-1, 64, 28, 28]             128\n",
      "          MBConv-135           [-1, 64, 28, 28]               0\n",
      "          Conv2d-136          [-1, 384, 28, 28]          24,576\n",
      "     BatchNorm2d-137          [-1, 384, 28, 28]             768\n",
      "            SiLU-138          [-1, 384, 28, 28]               0\n",
      "          Conv2d-139          [-1, 384, 28, 28]           9,600\n",
      "     BatchNorm2d-140          [-1, 384, 28, 28]             768\n",
      "            SiLU-141          [-1, 384, 28, 28]               0\n",
      "AdaptiveAvgPool2d-142            [-1, 384, 1, 1]               0\n",
      "          Conv2d-143             [-1, 16, 1, 1]           6,160\n",
      "            SiLU-144             [-1, 16, 1, 1]               0\n",
      "          Conv2d-145            [-1, 384, 1, 1]           6,528\n",
      "         Sigmoid-146            [-1, 384, 1, 1]               0\n",
      "SqueezeExcitation-147          [-1, 384, 28, 28]               0\n",
      "          Conv2d-148           [-1, 64, 28, 28]          24,576\n",
      "     BatchNorm2d-149           [-1, 64, 28, 28]             128\n",
      " StochasticDepth-150           [-1, 64, 28, 28]               0\n",
      "          MBConv-151           [-1, 64, 28, 28]               0\n",
      "          Conv2d-152          [-1, 384, 28, 28]          24,576\n",
      "     BatchNorm2d-153          [-1, 384, 28, 28]             768\n",
      "            SiLU-154          [-1, 384, 28, 28]               0\n",
      "          Conv2d-155          [-1, 384, 28, 28]           9,600\n",
      "     BatchNorm2d-156          [-1, 384, 28, 28]             768\n",
      "            SiLU-157          [-1, 384, 28, 28]               0\n",
      "AdaptiveAvgPool2d-158            [-1, 384, 1, 1]               0\n",
      "          Conv2d-159             [-1, 16, 1, 1]           6,160\n",
      "            SiLU-160             [-1, 16, 1, 1]               0\n",
      "          Conv2d-161            [-1, 384, 1, 1]           6,528\n",
      "         Sigmoid-162            [-1, 384, 1, 1]               0\n",
      "SqueezeExcitation-163          [-1, 384, 28, 28]               0\n",
      "          Conv2d-164           [-1, 64, 28, 28]          24,576\n",
      "     BatchNorm2d-165           [-1, 64, 28, 28]             128\n",
      " StochasticDepth-166           [-1, 64, 28, 28]               0\n",
      "          MBConv-167           [-1, 64, 28, 28]               0\n",
      "          Conv2d-168          [-1, 384, 28, 28]          24,576\n",
      "     BatchNorm2d-169          [-1, 384, 28, 28]             768\n",
      "            SiLU-170          [-1, 384, 28, 28]               0\n",
      "          Conv2d-171          [-1, 384, 28, 28]           9,600\n",
      "     BatchNorm2d-172          [-1, 384, 28, 28]             768\n",
      "            SiLU-173          [-1, 384, 28, 28]               0\n",
      "AdaptiveAvgPool2d-174            [-1, 384, 1, 1]               0\n",
      "          Conv2d-175             [-1, 16, 1, 1]           6,160\n",
      "            SiLU-176             [-1, 16, 1, 1]               0\n",
      "          Conv2d-177            [-1, 384, 1, 1]           6,528\n",
      "         Sigmoid-178            [-1, 384, 1, 1]               0\n",
      "SqueezeExcitation-179          [-1, 384, 28, 28]               0\n",
      "          Conv2d-180           [-1, 64, 28, 28]          24,576\n",
      "     BatchNorm2d-181           [-1, 64, 28, 28]             128\n",
      " StochasticDepth-182           [-1, 64, 28, 28]               0\n",
      "          MBConv-183           [-1, 64, 28, 28]               0\n",
      "          Conv2d-184          [-1, 384, 28, 28]          24,576\n",
      "     BatchNorm2d-185          [-1, 384, 28, 28]             768\n",
      "            SiLU-186          [-1, 384, 28, 28]               0\n",
      "          Conv2d-187          [-1, 384, 28, 28]           9,600\n",
      "     BatchNorm2d-188          [-1, 384, 28, 28]             768\n",
      "            SiLU-189          [-1, 384, 28, 28]               0\n",
      "AdaptiveAvgPool2d-190            [-1, 384, 1, 1]               0\n",
      "          Conv2d-191             [-1, 16, 1, 1]           6,160\n",
      "            SiLU-192             [-1, 16, 1, 1]               0\n",
      "          Conv2d-193            [-1, 384, 1, 1]           6,528\n",
      "         Sigmoid-194            [-1, 384, 1, 1]               0\n",
      "SqueezeExcitation-195          [-1, 384, 28, 28]               0\n",
      "          Conv2d-196           [-1, 64, 28, 28]          24,576\n",
      "     BatchNorm2d-197           [-1, 64, 28, 28]             128\n",
      " StochasticDepth-198           [-1, 64, 28, 28]               0\n",
      "          MBConv-199           [-1, 64, 28, 28]               0\n",
      "          Conv2d-200          [-1, 384, 28, 28]          24,576\n",
      "     BatchNorm2d-201          [-1, 384, 28, 28]             768\n",
      "            SiLU-202          [-1, 384, 28, 28]               0\n",
      "          Conv2d-203          [-1, 384, 14, 14]           3,456\n",
      "     BatchNorm2d-204          [-1, 384, 14, 14]             768\n",
      "            SiLU-205          [-1, 384, 14, 14]               0\n",
      "AdaptiveAvgPool2d-206            [-1, 384, 1, 1]               0\n",
      "          Conv2d-207             [-1, 16, 1, 1]           6,160\n",
      "            SiLU-208             [-1, 16, 1, 1]               0\n",
      "          Conv2d-209            [-1, 384, 1, 1]           6,528\n",
      "         Sigmoid-210            [-1, 384, 1, 1]               0\n",
      "SqueezeExcitation-211          [-1, 384, 14, 14]               0\n",
      "          Conv2d-212          [-1, 128, 14, 14]          49,152\n",
      "     BatchNorm2d-213          [-1, 128, 14, 14]             256\n",
      "          MBConv-214          [-1, 128, 14, 14]               0\n",
      "          Conv2d-215          [-1, 768, 14, 14]          98,304\n",
      "     BatchNorm2d-216          [-1, 768, 14, 14]           1,536\n",
      "            SiLU-217          [-1, 768, 14, 14]               0\n",
      "          Conv2d-218          [-1, 768, 14, 14]           6,912\n",
      "     BatchNorm2d-219          [-1, 768, 14, 14]           1,536\n",
      "            SiLU-220          [-1, 768, 14, 14]               0\n",
      "AdaptiveAvgPool2d-221            [-1, 768, 1, 1]               0\n",
      "          Conv2d-222             [-1, 32, 1, 1]          24,608\n",
      "            SiLU-223             [-1, 32, 1, 1]               0\n",
      "          Conv2d-224            [-1, 768, 1, 1]          25,344\n",
      "         Sigmoid-225            [-1, 768, 1, 1]               0\n",
      "SqueezeExcitation-226          [-1, 768, 14, 14]               0\n",
      "          Conv2d-227          [-1, 128, 14, 14]          98,304\n",
      "     BatchNorm2d-228          [-1, 128, 14, 14]             256\n",
      " StochasticDepth-229          [-1, 128, 14, 14]               0\n",
      "          MBConv-230          [-1, 128, 14, 14]               0\n",
      "          Conv2d-231          [-1, 768, 14, 14]          98,304\n",
      "     BatchNorm2d-232          [-1, 768, 14, 14]           1,536\n",
      "            SiLU-233          [-1, 768, 14, 14]               0\n",
      "          Conv2d-234          [-1, 768, 14, 14]           6,912\n",
      "     BatchNorm2d-235          [-1, 768, 14, 14]           1,536\n",
      "            SiLU-236          [-1, 768, 14, 14]               0\n",
      "AdaptiveAvgPool2d-237            [-1, 768, 1, 1]               0\n",
      "          Conv2d-238             [-1, 32, 1, 1]          24,608\n",
      "            SiLU-239             [-1, 32, 1, 1]               0\n",
      "          Conv2d-240            [-1, 768, 1, 1]          25,344\n",
      "         Sigmoid-241            [-1, 768, 1, 1]               0\n",
      "SqueezeExcitation-242          [-1, 768, 14, 14]               0\n",
      "          Conv2d-243          [-1, 128, 14, 14]          98,304\n",
      "     BatchNorm2d-244          [-1, 128, 14, 14]             256\n",
      " StochasticDepth-245          [-1, 128, 14, 14]               0\n",
      "          MBConv-246          [-1, 128, 14, 14]               0\n",
      "          Conv2d-247          [-1, 768, 14, 14]          98,304\n",
      "     BatchNorm2d-248          [-1, 768, 14, 14]           1,536\n",
      "            SiLU-249          [-1, 768, 14, 14]               0\n",
      "          Conv2d-250          [-1, 768, 14, 14]           6,912\n",
      "     BatchNorm2d-251          [-1, 768, 14, 14]           1,536\n",
      "            SiLU-252          [-1, 768, 14, 14]               0\n",
      "AdaptiveAvgPool2d-253            [-1, 768, 1, 1]               0\n",
      "          Conv2d-254             [-1, 32, 1, 1]          24,608\n",
      "            SiLU-255             [-1, 32, 1, 1]               0\n",
      "          Conv2d-256            [-1, 768, 1, 1]          25,344\n",
      "         Sigmoid-257            [-1, 768, 1, 1]               0\n",
      "SqueezeExcitation-258          [-1, 768, 14, 14]               0\n",
      "          Conv2d-259          [-1, 128, 14, 14]          98,304\n",
      "     BatchNorm2d-260          [-1, 128, 14, 14]             256\n",
      " StochasticDepth-261          [-1, 128, 14, 14]               0\n",
      "          MBConv-262          [-1, 128, 14, 14]               0\n",
      "          Conv2d-263          [-1, 768, 14, 14]          98,304\n",
      "     BatchNorm2d-264          [-1, 768, 14, 14]           1,536\n",
      "            SiLU-265          [-1, 768, 14, 14]               0\n",
      "          Conv2d-266          [-1, 768, 14, 14]           6,912\n",
      "     BatchNorm2d-267          [-1, 768, 14, 14]           1,536\n",
      "            SiLU-268          [-1, 768, 14, 14]               0\n",
      "AdaptiveAvgPool2d-269            [-1, 768, 1, 1]               0\n",
      "          Conv2d-270             [-1, 32, 1, 1]          24,608\n",
      "            SiLU-271             [-1, 32, 1, 1]               0\n",
      "          Conv2d-272            [-1, 768, 1, 1]          25,344\n",
      "         Sigmoid-273            [-1, 768, 1, 1]               0\n",
      "SqueezeExcitation-274          [-1, 768, 14, 14]               0\n",
      "          Conv2d-275          [-1, 128, 14, 14]          98,304\n",
      "     BatchNorm2d-276          [-1, 128, 14, 14]             256\n",
      " StochasticDepth-277          [-1, 128, 14, 14]               0\n",
      "          MBConv-278          [-1, 128, 14, 14]               0\n",
      "          Conv2d-279          [-1, 768, 14, 14]          98,304\n",
      "     BatchNorm2d-280          [-1, 768, 14, 14]           1,536\n",
      "            SiLU-281          [-1, 768, 14, 14]               0\n",
      "          Conv2d-282          [-1, 768, 14, 14]           6,912\n",
      "     BatchNorm2d-283          [-1, 768, 14, 14]           1,536\n",
      "            SiLU-284          [-1, 768, 14, 14]               0\n",
      "AdaptiveAvgPool2d-285            [-1, 768, 1, 1]               0\n",
      "          Conv2d-286             [-1, 32, 1, 1]          24,608\n",
      "            SiLU-287             [-1, 32, 1, 1]               0\n",
      "          Conv2d-288            [-1, 768, 1, 1]          25,344\n",
      "         Sigmoid-289            [-1, 768, 1, 1]               0\n",
      "SqueezeExcitation-290          [-1, 768, 14, 14]               0\n",
      "          Conv2d-291          [-1, 128, 14, 14]          98,304\n",
      "     BatchNorm2d-292          [-1, 128, 14, 14]             256\n",
      " StochasticDepth-293          [-1, 128, 14, 14]               0\n",
      "          MBConv-294          [-1, 128, 14, 14]               0\n",
      "          Conv2d-295          [-1, 768, 14, 14]          98,304\n",
      "     BatchNorm2d-296          [-1, 768, 14, 14]           1,536\n",
      "            SiLU-297          [-1, 768, 14, 14]               0\n",
      "          Conv2d-298          [-1, 768, 14, 14]           6,912\n",
      "     BatchNorm2d-299          [-1, 768, 14, 14]           1,536\n",
      "            SiLU-300          [-1, 768, 14, 14]               0\n",
      "AdaptiveAvgPool2d-301            [-1, 768, 1, 1]               0\n",
      "          Conv2d-302             [-1, 32, 1, 1]          24,608\n",
      "            SiLU-303             [-1, 32, 1, 1]               0\n",
      "          Conv2d-304            [-1, 768, 1, 1]          25,344\n",
      "         Sigmoid-305            [-1, 768, 1, 1]               0\n",
      "SqueezeExcitation-306          [-1, 768, 14, 14]               0\n",
      "          Conv2d-307          [-1, 128, 14, 14]          98,304\n",
      "     BatchNorm2d-308          [-1, 128, 14, 14]             256\n",
      " StochasticDepth-309          [-1, 128, 14, 14]               0\n",
      "          MBConv-310          [-1, 128, 14, 14]               0\n",
      "       Rearrange-311             [-1, 196, 128]               0\n",
      "       LayerNorm-312             [-1, 196, 128]             256\n",
      "          Conv2d-313           [-1, 64, 14, 14]          73,792\n",
      "            ReLU-314           [-1, 64, 14, 14]               0\n",
      "        Upsample-315           [-1, 64, 28, 28]               0\n",
      "          Conv2d-316           [-1, 64, 28, 28]          73,792\n",
      "            ReLU-317           [-1, 64, 28, 28]               0\n",
      "          Conv2d-318           [-1, 64, 28, 28]          36,928\n",
      "            ReLU-319           [-1, 64, 28, 28]               0\n",
      "        Upsample-320           [-1, 64, 56, 56]               0\n",
      "          Conv2d-321           [-1, 32, 56, 56]          29,984\n",
      "            ReLU-322           [-1, 32, 56, 56]               0\n",
      "          Conv2d-323           [-1, 32, 56, 56]           9,248\n",
      "            ReLU-324           [-1, 32, 56, 56]               0\n",
      "        Upsample-325         [-1, 32, 112, 112]               0\n",
      "          Conv2d-326         [-1, 16, 112, 112]           8,080\n",
      "            ReLU-327         [-1, 16, 112, 112]               0\n",
      "          Conv2d-328         [-1, 16, 112, 112]           2,320\n",
      "            ReLU-329         [-1, 16, 112, 112]               0\n",
      "        Upsample-330         [-1, 16, 224, 224]               0\n",
      "          Conv2d-331         [-1, 16, 224, 224]           2,320\n",
      "            ReLU-332         [-1, 16, 224, 224]               0\n",
      "          Conv2d-333          [-1, 1, 224, 224]              17\n",
      "================================================================\n",
      "Total params: 2,328,305\n",
      "Trainable params: 2,328,305\n",
      "Non-trainable params: 0\n",
      "----------------------------------------------------------------\n",
      "Input size (MB): 0.57\n",
      "Forward/backward pass size (MB): 502.25\n",
      "Params size (MB): 8.88\n",
      "Estimated Total Size (MB): 511.70\n",
      "----------------------------------------------------------------\n"
     ]
    }
   ],
   "source": [
    "model = TransUnet_b5().to(config['device'])\n",
    "summary(model,(3,224,224),device=config['device'].type)\n",
    "#모델이 잘 돌아갈 지 확인"
   ]
  },
  {
   "cell_type": "markdown",
   "metadata": {
    "collapsed": false
   },
   "source": [
    "## utils"
   ]
  },
  {
   "cell_type": "code",
   "execution_count": 49,
   "metadata": {
    "ExecuteTime": {
     "end_time": "2023-07-15T15:44:03.617240679Z",
     "start_time": "2023-07-15T15:44:03.613757156Z"
    },
    "collapsed": false
   },
   "outputs": [],
   "source": [
    "import random\n",
    "import numpy as np\n",
    "from typing import List, Union\n",
    "from joblib import Parallel, delayed\n",
    "import os\n",
    "import torch.nn.functional as F"
   ]
  },
  {
   "cell_type": "code",
   "execution_count": 16,
   "metadata": {
    "ExecuteTime": {
     "end_time": "2023-07-15T14:09:37.145760880Z",
     "start_time": "2023-07-15T14:09:37.145728134Z"
    },
    "collapsed": false
   },
   "outputs": [],
   "source": [
    "\n",
    "# 시드 고정 함수\n",
    "def fix_seed(seed):\n",
    "    random.seed(seed)\n",
    "    np.random.seed(seed)\n",
    "    os.environ[\"PYTHONHASHSEED\"] = str(seed)\n",
    "    torch.manual_seed(seed)\n",
    "    torch.cuda.manual_seed(seed)  # type: ignore\n",
    "    torch.backends.cudnn.deterministic = True  # type: ignore\n",
    "    torch.backends.cudnn.benchmark = True  # type: ignore\n",
    "\n",
    "# RLE 디코딩 함수\n",
    "def rle_decode(mask_rle: Union[str, int], shape=(224, 224)) -> np.array:\n",
    "    '''\n",
    "    mask_rle: run-length as string formatted (start length)\n",
    "    shape: (height,width) of array to return\n",
    "    Returns numpy array, 1 - mask, 0 - background\n",
    "    '''\n",
    "    if mask_rle == -1:\n",
    "        return np.zeros(shape)\n",
    "\n",
    "    s = mask_rle.split()\n",
    "    starts, lengths = [np.asarray(x, dtype=int) for x in (s[0:][::2], s[1:][::2])]\n",
    "    starts -= 1\n",
    "    ends = starts + lengths\n",
    "    img = np.zeros(shape[0]*shape[1], dtype=np.uint8)\n",
    "    for lo, hi in zip(starts, ends):\n",
    "        img[lo:hi] = 1\n",
    "    return img.reshape(shape)\n",
    "\n",
    "# RLE 인코딩 함수\n",
    "def rle_encode(mask):\n",
    "    pixels = mask.flatten()\n",
    "    pixels = np.concatenate([[0], pixels, [0]])\n",
    "    runs = np.where(pixels[1:] != pixels[:-1])[0] + 1\n",
    "    runs[1::2] -= runs[::2]\n",
    "    return ' '.join(str(x) for x in runs)\n",
    "\n",
    "# dice score 계산 함수\n",
    "def dice_score(prediction: np.array, ground_truth: np.array, smooth=1e-7) -> float:\n",
    "    '''\n",
    "    Calculate Dice Score between two binary masks.\n",
    "    '''\n",
    "    intersection = np.sum(prediction * ground_truth)\n",
    "    return (2.0 * intersection + smooth) / (np.sum(prediction) + np.sum(ground_truth) + smooth)\n",
    "\n",
    "def calculate_dice_scores(validation_df, img_shape=(224, 224)) -> List[float]:\n",
    "    '''\n",
    "    Calculate Dice scores for a dataset.\n",
    "    '''\n",
    "    # Extract the mask_rle columns\n",
    "    pred_mask_rle = validation_df.iloc[:, 3]\n",
    "    gt_mask_rle = validation_df.iloc[:, 4]\n",
    "\n",
    "    def calculate_dice(pred_rle, gt_rle):\n",
    "        pred_mask = rle_decode(pred_rle, img_shape)\n",
    "        gt_mask = rle_decode(gt_rle, img_shape)\n",
    "        if np.sum(gt_mask) > 0 or np.sum(pred_mask) > 0:\n",
    "            return dice_score(pred_mask, gt_mask)\n",
    "        else:\n",
    "            return None  # No valid masks found, return None\n",
    "    dice_scores = Parallel(n_jobs=-1)(\n",
    "        delayed(calculate_dice)(pred_rle, gt_rle) for pred_rle, gt_rle in zip(pred_mask_rle, gt_mask_rle)\n",
    "    )\n",
    "    dice_scores = [score for score in dice_scores if score is not None]  # Exclude None values\n",
    "    return np.mean(dice_scores)\n",
    "\n",
    "class DiceLoss(nn.Module):\n",
    "    def __init__(self, weight=None, size_average=True):\n",
    "        super(DiceLoss, self).__init__()\n",
    "\n",
    "    def forward(self, inputs, targets, smooth=1):\n",
    "\n",
    "        #comment out if your model contains a sigmoid or equivalent activation layer\n",
    "        inputs = F.sigmoid(inputs)\n",
    "\n",
    "        #flatten label and prediction tensors\n",
    "        inputs = inputs.view(-1)\n",
    "        targets = targets.view(-1)\n",
    "\n",
    "        intersection = (inputs * targets).sum()\n",
    "        dice = (2.*intersection + smooth)/(inputs.sum() + targets.sum() + smooth)\n",
    "\n",
    "        return 1 - dice"
   ]
  },
  {
   "cell_type": "markdown",
   "metadata": {
    "collapsed": false
   },
   "source": [
    "## Dataset"
   ]
  },
  {
   "cell_type": "code",
   "execution_count": 17,
   "metadata": {
    "ExecuteTime": {
     "end_time": "2023-07-15T14:09:37.227675612Z",
     "start_time": "2023-07-15T14:09:37.145752193Z"
    },
    "collapsed": false
   },
   "outputs": [],
   "source": [
    "from torch.utils.data import Dataset, DataLoader\n",
    "import cv2\n",
    "import pandas as pd\n",
    "from sklearn.model_selection import train_test_split"
   ]
  },
  {
   "cell_type": "code",
   "execution_count": 18,
   "metadata": {
    "ExecuteTime": {
     "end_time": "2023-07-15T14:09:37.269726707Z",
     "start_time": "2023-07-15T14:09:37.227511546Z"
    },
    "collapsed": false
   },
   "outputs": [],
   "source": [
    "class CustomDataset(Dataset):\n",
    "    def __init__(self, img_paths, mask_rles = None, transform=None, infer=False):\n",
    "        self.img_paths = img_paths\n",
    "        self.mask_rles = mask_rles\n",
    "        self.transform = transform\n",
    "        self.infer = infer\n",
    "\n",
    "    def __len__(self):\n",
    "        return len(self.img_paths)\n",
    "\n",
    "    def __getitem__(self, idx):\n",
    "        img_path = self.img_paths.iloc[idx]\n",
    "        image = cv2.imread(config['base_path']+img_path[2:])\n",
    "\n",
    "        image = cv2.cvtColor(image, cv2.COLOR_BGR2RGB)\n",
    "\n",
    "        if self.infer:\n",
    "            if self.transform:\n",
    "                image = self.transform(image=image)['image']\n",
    "            return image\n",
    "\n",
    "        mask_rle = self.mask_rles.iloc[idx]\n",
    "        mask = rle_decode(mask_rle, (image.shape[0], image.shape[1]))\n",
    "\n",
    "        if self.transform:\n",
    "            augmented = self.transform(image=image, mask=mask)\n",
    "            image = augmented['image']\n",
    "            mask = augmented['mask']\n",
    "\n",
    "        return image, mask"
   ]
  },
  {
   "cell_type": "code",
   "execution_count": 50,
   "metadata": {
    "ExecuteTime": {
     "end_time": "2023-07-15T15:44:07.487090721Z",
     "start_time": "2023-07-15T15:44:06.869298126Z"
    },
    "collapsed": false
   },
   "outputs": [
    {
     "name": "stdout",
     "output_type": "stream",
     "text": [
      "train:  5712    valid:  1428\n"
     ]
    }
   ],
   "source": [
    "# 로컬 사용시 활성화\n",
    "\n",
    "train_df = pd.read_csv(f\"{config['base_path']}/{config['train_data']}\")\n",
    "train, val = train_test_split(train_df, test_size=config['valid_size'], random_state=config['seed'])\n",
    "print(\"train: \", len(train), \"   valid: \", len(val))"
   ]
  },
  {
   "cell_type": "code",
   "execution_count": 51,
   "metadata": {
    "ExecuteTime": {
     "end_time": "2023-07-15T15:44:08.007533835Z",
     "start_time": "2023-07-15T15:44:07.994202809Z"
    },
    "collapsed": false
   },
   "outputs": [],
   "source": [
    "fix_seed(config['seed'])\n",
    "\n",
    "train_dataset = CustomDataset(img_paths=train['img_path'], mask_rles=train['mask_rle'], transform=custom_transform['train'])\n",
    "train_dataloader = DataLoader(train_dataset, batch_size=config['train']['batch_size'], shuffle=True, num_workers=config['train']['num_workers'])\n",
    "\n",
    "valid_dataset = CustomDataset(img_paths=val['img_path'], mask_rles=val['mask_rle'], transform=custom_transform['valid'])\n",
    "valid_dataloader = DataLoader(valid_dataset , batch_size=config['train']['batch_size'], shuffle=False, num_workers=config['train']['num_workers'])"
   ]
  },
  {
   "cell_type": "markdown",
   "metadata": {
    "collapsed": false
   },
   "source": [
    "## train/vali"
   ]
  },
  {
   "cell_type": "code",
   "execution_count": 21,
   "metadata": {
    "ExecuteTime": {
     "end_time": "2023-07-15T14:09:37.905657931Z",
     "start_time": "2023-07-15T14:09:37.862733587Z"
    },
    "collapsed": false
   },
   "outputs": [],
   "source": [
    "def validation(config, model, criterion, valid_loader, val):\n",
    "\n",
    "    model.eval()\n",
    "    valid_loss = 0\n",
    "    result = []\n",
    "    transformed_mask = []\n",
    "    val_df = val.copy()\n",
    "\n",
    "    with torch.no_grad():\n",
    "        for images, masks in tqdm(valid_loader):\n",
    "            if type(transformed_mask) == torch.Tensor:\n",
    "                transformed_mask = torch.cat([transformed_mask, masks])\n",
    "            else:\n",
    "                transformed_mask = masks.clone().detach()\n",
    "            images = images.float().to(config['device'])\n",
    "            masks = masks.float().to(config['device'])\n",
    "\n",
    "            outputs = model(images)\n",
    "            loss = criterion(outputs, masks.unsqueeze(1))\n",
    "            valid_loss += loss.item()\n",
    "\n",
    "            output_masks = torch.sigmoid(outputs).cpu().numpy()\n",
    "            output_masks = np.squeeze(output_masks, axis=1)\n",
    "            output_masks = (output_masks > config['inference']['threshold']).astype(np.uint8)\n",
    "\n",
    "            for i in range(len(images)):\n",
    "                mask_rle = rle_encode(output_masks[i])\n",
    "                if mask_rle == '': # 예측된 건물 픽셀이 아예 없는 경우 -1\n",
    "                    result.append(-1)\n",
    "                else:\n",
    "                    result.append(mask_rle)\n",
    "        val_df['valid_mask_rle'] = result\n",
    "        val_df['transformed_mask_rle'] = list(map(rle_encode, transformed_mask.squeeze().numpy()))\n",
    "        dice_score = calculate_dice_scores(val_df)\n",
    "\n",
    "    return valid_loss/len(valid_loader), dice_score"
   ]
  },
  {
   "cell_type": "code",
   "execution_count": 22,
   "metadata": {
    "ExecuteTime": {
     "end_time": "2023-07-15T14:09:37.905742112Z",
     "start_time": "2023-07-15T14:09:37.905555336Z"
    },
    "collapsed": false
   },
   "outputs": [],
   "source": [
    "def training(config, model, train_loader, valid_loader, val):\n",
    "    model = model.to(config['device'])\n",
    "    es_count = 0\n",
    "    min_val_loss = float('inf')\n",
    "    best_model = None\n",
    "\n",
    "    criterion = torch.nn.BCEWithLogitsLoss()\n",
    "    optimizer = torch.optim.Adam(model.parameters(), lr=config['train']['lr'])\n",
    "    scheduler = torch.optim.lr_scheduler.ReduceLROnPlateau(optimizer, mode='min', factor=0.5, patience=4, min_lr=1e-8, verbose=True)\n",
    "\n",
    "    # training loop\n",
    "    for epoch in range(config['train']['epochs']):\n",
    "        model.train()\n",
    "        epoch_loss = 0\n",
    "        for images, masks in tqdm(train_loader):\n",
    "            images = images.float().to(config['device'])\n",
    "            masks = masks.float().to(config['device'])\n",
    "\n",
    "            optimizer.zero_grad()\n",
    "            outputs = model(images)\n",
    "            loss = criterion(outputs, masks.unsqueeze(1))\n",
    "            loss.backward()\n",
    "            optimizer.step()\n",
    "\n",
    "            epoch_loss += loss.item()\n",
    "\n",
    "        val_loss, dice_score = validation(config, model, criterion, valid_loader, val)\n",
    "        es_count += 1\n",
    "        if min_val_loss > val_loss:\n",
    "            es_count = 0\n",
    "            min_val_loss = val_loss\n",
    "            best_model = model\n",
    "            best_epoch = epoch + 1\n",
    "            print(f\"Epoch [{epoch + 1}] New Minimum Valid Loss!\")\n",
    "\n",
    "        if config['scheduler']:\n",
    "            scheduler.step(val_loss)\n",
    "\n",
    "        if es_count == config['early_stopping']:\n",
    "            print(f'Epoch {epoch+1}, Train Loss: {(epoch_loss/len(train_loader)):6f}, Valid Loss: {val_loss:6f}, Dice Coefficient: {dice_score:6f}, ES Count:, {es_count}')\n",
    "            print(f\"EARLY STOPPING COUNT에 도달했습니다! \\nEARLY STOPPING COUNT: {config['early_stopping']} BEST EPOCH: {best_epoch}\")\n",
    "            print(\"***TRAINING DONE***\")\n",
    "            return best_model\n",
    "\n",
    "        print(f'Epoch {epoch+1}, Train Loss: {(epoch_loss/len(train_loader)):6f}, Valid Loss: {val_loss:6f}, Dice Coefficient: {dice_score:6f} ES Count:, {es_count}')\n",
    "        print(\"------------------------------------------------------------------------------------\")\n",
    "\n",
    "    print(f\"EARLY STOPPING COUNT에 도달하지 않았습니다! \\nEARLY STOPPING COUNT: {config['early_stopping']} BEST EPOCH: {best_epoch}\")\n",
    "    print(\"***TRAINING DONE***\")\n",
    "    return best_model"
   ]
  },
  {
   "cell_type": "code",
   "execution_count": 52,
   "metadata": {
    "ExecuteTime": {
     "end_time": "2023-07-15T15:44:12.467091388Z",
     "start_time": "2023-07-15T15:44:12.463956713Z"
    },
    "collapsed": false
   },
   "outputs": [
    {
     "data": {
      "text/plain": [
       "True"
      ]
     },
     "execution_count": 52,
     "metadata": {},
     "output_type": "execute_result"
    }
   ],
   "source": [
    "torch.cuda.is_available() # 학습 전에 GPU 쓰고 있나 확인"
   ]
  },
  {
   "cell_type": "code",
   "execution_count": null,
   "metadata": {
    "ExecuteTime": {
     "start_time": "2023-07-15T17:35:42.579446215Z"
    },
    "collapsed": false,
    "is_executing": true
   },
   "outputs": [],
   "source": [
    "best_model = training(config, model, train_dataloader, valid_dataloader, val)"
   ]
  },
  {
   "cell_type": "code",
   "execution_count": null,
   "metadata": {
    "collapsed": false,
    "is_executing": true
   },
   "outputs": [],
   "source": [
    "model_name = \"transUnet_EfficientNet_b5_Vit_randomCrop_depth12.pt\"\n",
    "\n",
    "# -----------------------------kaggle-----------------------------\n",
    "# torch.save(best_model, f'/kaggle/working/{model_name}')\n",
    "# -----------------------------로컬-----------------------------\n",
    "torch.save(best_model, f\"{config['base_path']}/{model_name}\")"
   ]
  },
  {
   "cell_type": "code",
   "execution_count": null,
   "metadata": {
    "collapsed": false,
    "is_executing": true
   },
   "outputs": [],
   "source": [
    "# 로컬 사용시 활성화\n",
    "\n",
    "test_df = pd.read_csv(f\"{config['base_path']}/{config['test_data']}\")"
   ]
  },
  {
   "cell_type": "code",
   "execution_count": null,
   "metadata": {
    "collapsed": false,
    "is_executing": true
   },
   "outputs": [],
   "source": [
    "fix_seed(config['seed'])\n",
    "\n",
    "test_dataset = CustomDataset(img_paths=test_df['img_path'], transform=custom_transform['test'], infer=True)\n",
    "test_dataloader = DataLoader(test_dataset, batch_size=config['inference']['batch_size'], shuffle=False, num_workers=config['inference']['num_workers'])"
   ]
  },
  {
   "cell_type": "code",
   "execution_count": null,
   "metadata": {
    "collapsed": false
   },
   "outputs": [],
   "source": [
    "def inference(config, model, test_loader):\n",
    "    with torch.no_grad():\n",
    "        model.eval()\n",
    "        result = []\n",
    "        for images in tqdm(test_loader):\n",
    "            images = images.float().to(config['device'])\n",
    "\n",
    "            outputs = model(images)\n",
    "            masks = torch.sigmoid(outputs).cpu().numpy()\n",
    "            masks = np.squeeze(masks, axis=1)\n",
    "            masks = (masks > config['inference']['threshold']).astype(np.uint8)\n",
    "\n",
    "            for i in range(len(images)):\n",
    "                mask_rle = rle_encode(masks[i])\n",
    "                if mask_rle == '': # 예측된 건물 픽셀이 아예 없는 경우 -1\n",
    "                    result.append(-1)\n",
    "                else:\n",
    "                    result.append(mask_rle)\n",
    "    return result"
   ]
  },
  {
   "cell_type": "code",
   "execution_count": null,
   "metadata": {
    "collapsed": false,
    "is_executing": true
   },
   "outputs": [],
   "source": [
    "inference_result = inference(config, best_model, test_dataloader)"
   ]
  },
  {
   "cell_type": "code",
   "execution_count": null,
   "metadata": {
    "collapsed": false
   },
   "outputs": [],
   "source": [
    "import datetime"
   ]
  },
  {
   "cell_type": "code",
   "execution_count": null,
   "metadata": {
    "collapsed": false,
    "is_executing": true
   },
   "outputs": [],
   "source": [
    "\n",
    "# 로컬 사용시 활성화\n",
    "\n",
    "submit = pd.read_csv(f\"{config['base_path']}/sample_submission.csv\")\n",
    "# submit = pd.read_csv(f\"{config['base_path']}/submit20.csv\")\n",
    "submit['mask_rle'] = inference_result\n",
    "\n",
    "# now = datetime.datetime.now()\n",
    "# current_time = now.strftime(\"%m%d-%H:%M:%S\")\n",
    "# file_name = \"transUnet_EfficientNet_CaiT.csv\"\n",
    "\n",
    "submit.to_csv(f\"{config['base_path']}/transUnet_EfficientNet_b5_Vit_randomCrop_depth12.csv\", index=False)"
   ]
  },
  {
   "cell_type": "markdown",
   "metadata": {
    "collapsed": false
   },
   "source": [
    "## viewer"
   ]
  },
  {
   "cell_type": "code",
   "execution_count": null,
   "metadata": {
    "collapsed": false
   },
   "outputs": [],
   "source": [
    "import matplotlib.pyplot as plt"
   ]
  },
  {
   "cell_type": "code",
   "execution_count": null,
   "metadata": {
    "collapsed": false
   },
   "outputs": [],
   "source": [
    "def submission_viewer(test_csv, submit_csv, img_num, base_path = config['base_path'], is_colab = False):\n",
    "    \"\"\"\n",
    "    white -> 건물 black -> 배경\n",
    "    1. Local에서 사용 시 test_csv, submit_csv, img_num만 입력\n",
    "    2. colab에서 사용 시 아래 사항을 입력\n",
    "    base_path = colab_base\n",
    "    is_colab = True\n",
    "    \"\"\"\n",
    "    mask_rle = submit_csv.iloc[img_num, 1]\n",
    "    image_path = test_csv.iloc[img_num, 1]\n",
    "    if is_colab:\n",
    "        image = cv2.imread(image_path)\n",
    "    else:\n",
    "        image = cv2.imread(base_path + image_path[1:])\n",
    "    mask = rle_decode(mask_rle, (image.shape[0], image.shape[1]))\n",
    "    fig = plt.figure()\n",
    "    ax1 = fig.add_subplot(1,2,1)\n",
    "    ax1.imshow(image)\n",
    "    ax1.set_title('image')\n",
    "    ax2 = fig.add_subplot(1,2,2)\n",
    "    ax2.imshow(mask,cmap='gray')\n",
    "    ax2.set_title('mask')\n",
    "    plt.show()"
   ]
  },
  {
   "cell_type": "code",
   "execution_count": null,
   "metadata": {
    "collapsed": false,
    "is_executing": true
   },
   "outputs": [],
   "source": [
    "# 로컬 사용시 활성화\n",
    "\n",
    "last_submit = pd.read_csv(f\"{config['base_path']}/transUnet_EfficientNet_b5_Vit_randomCrop_depth12.csv\")\n",
    "submission_viewer(test_df, last_submit, 0)\n",
    "submission_viewer(test_df, last_submit, 1)\n",
    "submission_viewer(test_df, last_submit, 2)"
   ]
  }
 ],
 "metadata": {
  "kernelspec": {
   "display_name": "Python 3",
   "language": "python",
   "name": "python3"
  },
  "language_info": {
   "codemirror_mode": {
    "name": "ipython",
    "version": 2
   },
   "file_extension": ".py",
   "mimetype": "text/x-python",
   "name": "python",
   "nbconvert_exporter": "python",
   "pygments_lexer": "ipython2",
   "version": "2.7.6"
  }
 },
 "nbformat": 4,
 "nbformat_minor": 0
}
