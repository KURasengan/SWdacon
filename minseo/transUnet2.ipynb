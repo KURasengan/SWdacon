{
 "cells": [
  {
   "cell_type": "code",
   "execution_count": 1,
   "outputs": [
    {
     "name": "stderr",
     "output_type": "stream",
     "text": [
      "/home/jo/anaconda3/envs/build/lib/python3.8/site-packages/torchvision/io/image.py:13: UserWarning: Failed to load image Python extension: '/home/jo/anaconda3/envs/build/lib/python3.8/site-packages/torchvision/image.so: undefined symbol: _ZN5torch3jit17parseSchemaOrNameERKNSt7__cxx1112basic_stringIcSt11char_traitsIcESaIcEEE'If you don't plan on using image functionality from `torchvision.io`, you can ignore this warning. Otherwise, there might be something wrong with your environment. Did you have `libjpeg` or `libpng` installed before building `torchvision` from source?\n",
      "  warn(\n"
     ]
    }
   ],
   "source": [
    "import torch\n",
    "# from vit_pytorch import ViT\n",
    "import torch.nn as nn\n",
    "import torchvision.models as models\n",
    "from torchsummary import summary\n",
    "from einops.layers.torch import Rearrange, Reduce\n",
    "\n",
    "from tqdm import tqdm\n",
    "import albumentations as A\n",
    "\n",
    "from albumentations.pytorch import ToTensorV2"
   ],
   "metadata": {
    "collapsed": false,
    "ExecuteTime": {
     "end_time": "2023-07-23T05:39:17.859312953Z",
     "start_time": "2023-07-23T05:39:17.069850045Z"
    }
   }
  },
  {
   "cell_type": "markdown",
   "source": [
    "## utils"
   ],
   "metadata": {
    "collapsed": false
   }
  },
  {
   "cell_type": "code",
   "execution_count": 2,
   "outputs": [],
   "source": [
    "import random\n",
    "import numpy as np\n",
    "from typing import List, Union\n",
    "from joblib import Parallel, delayed\n",
    "import os\n",
    "import torch.nn.functional as F"
   ],
   "metadata": {
    "collapsed": false,
    "ExecuteTime": {
     "end_time": "2023-07-23T05:39:17.861250464Z",
     "start_time": "2023-07-23T05:39:17.859985627Z"
    }
   }
  },
  {
   "cell_type": "code",
   "execution_count": 6,
   "outputs": [],
   "source": [
    "# 시드 고정 함수\n",
    "def fix_seed(seed):\n",
    "    random.seed(seed)\n",
    "    np.random.seed(seed)\n",
    "    os.environ[\"PYTHONHASHSEED\"] = str(seed)\n",
    "    torch.manual_seed(seed)\n",
    "    torch.cuda.manual_seed(seed)  # type: ignore\n",
    "    torch.backends.cudnn.deterministic = True  # type: ignore\n",
    "    torch.backends.cudnn.benchmark = False  # type: ignore\n",
    "\n",
    "# RLE 디코딩 함수\n",
    "def rle_decode(mask_rle: Union[str, int], shape=(224, 224)) -> np.array:\n",
    "    '''\n",
    "    mask_rle: run-length as string formatted (start length)\n",
    "    shape: (height,width) of array to return\n",
    "    Returns numpy array, 1 - mask, 0 - background\n",
    "    '''\n",
    "    if mask_rle == -1:\n",
    "        return np.zeros(shape)\n",
    "\n",
    "    s = mask_rle.split()\n",
    "    starts, lengths = [np.asarray(x, dtype=int) for x in (s[0:][::2], s[1:][::2])]\n",
    "    starts -= 1\n",
    "    ends = starts + lengths\n",
    "    img = np.zeros(shape[0]*shape[1], dtype=np.uint8)\n",
    "    for lo, hi in zip(starts, ends):\n",
    "        img[lo:hi] = 1\n",
    "    return img.reshape(shape)\n",
    "\n",
    "# RLE 인코딩 함수\n",
    "def rle_encode(mask):\n",
    "    pixels = mask.flatten()\n",
    "    pixels = np.concatenate([[0], pixels, [0]])\n",
    "    runs = np.where(pixels[1:] != pixels[:-1])[0] + 1\n",
    "    runs[1::2] -= runs[::2]\n",
    "    return ' '.join(str(x) for x in runs)\n",
    "\n",
    "# dice score 계산 함수\n",
    "def dice_score(prediction: np.array, ground_truth: np.array, smooth=1e-7) -> float:\n",
    "    '''\n",
    "    Calculate Dice Score between two binary masks.\n",
    "    '''\n",
    "    intersection = np.sum(prediction * ground_truth)\n",
    "    return (2.0 * intersection + smooth) / (np.sum(prediction) + np.sum(ground_truth) + smooth)\n",
    "\n",
    "def calculate_dice_scores(validation_df, img_shape=(224, 224)) -> List[float]:\n",
    "    '''\n",
    "    Calculate Dice scores for a dataset.\n",
    "    '''\n",
    "    # Extract the mask_rle columns\n",
    "    pred_mask_rle = validation_df.iloc[:, 3]\n",
    "    gt_mask_rle = validation_df.iloc[:, 4]\n",
    "\n",
    "    def calculate_dice(pred_rle, gt_rle):\n",
    "        pred_mask = rle_decode(pred_rle, img_shape)\n",
    "        gt_mask = rle_decode(gt_rle, img_shape)\n",
    "        if np.sum(gt_mask) > 0 or np.sum(pred_mask) > 0:\n",
    "            return dice_score(pred_mask, gt_mask)\n",
    "        else:\n",
    "            return None  # No valid masks found, return None\n",
    "    dice_scores = Parallel(n_jobs=-1)(\n",
    "        delayed(calculate_dice)(pred_rle, gt_rle) for pred_rle, gt_rle in zip(pred_mask_rle, gt_mask_rle)\n",
    "    )\n",
    "    dice_scores = [score for score in dice_scores if score is not None]  # Exclude None values\n",
    "    return np.mean(dice_scores)\n",
    "\n",
    "class DiceLoss(nn.Module):\n",
    "    def __init__(self, weight=None, size_average=True):\n",
    "        super(DiceLoss, self).__init__()\n",
    "\n",
    "    def forward(self, inputs, targets, smooth=1):\n",
    "\n",
    "        #comment out if your model contains a sigmoid or equivalent activation layer\n",
    "        inputs = F.sigmoid(inputs)\n",
    "\n",
    "        #flatten label and prediction tensors\n",
    "        inputs = inputs.view(-1)\n",
    "        targets = targets.view(-1)\n",
    "\n",
    "        intersection = (inputs * targets).sum()\n",
    "        dice = (2.*intersection + smooth)/(inputs.sum() + targets.sum() + smooth)\n",
    "\n",
    "        return 1 - dice\n",
    "# class F_BetaLoss(nn.Module):\n",
    "#     def __init__(self,  beta=1.0):\n",
    "#         self.eps = 1e-5\n",
    "#         self.beta = beta\n",
    "#         super(F_BetaLoss, self).__init__()\n",
    "#\n",
    "#     def forward(self, inputs, targets):\n",
    "#\n",
    "#         #comment out if your model contains a sigmoid or equivalent activation layer\n",
    "#         inputs = F.sigmoid(inputs)\n",
    "#         #flatten label and prediction tensor\n",
    "#         inputs = inputs.view(-1)\n",
    "#         targets = targets.view(-1)\n",
    "#         tp = torch.sum(inputs * targets)  # TP\n",
    "#         fp = torch.sum(inputs * (1 - targets))  # FP\n",
    "#         fn = torch.sum((1 - inputs) * targets)  # FN\n",
    "#         # tn = torch.sum((1 - inputs) * (1 - targets))  # TN\n",
    "#         precision = (tp + self.eps) / (tp + fp + self.eps)\n",
    "#         recall = (tp + self.eps) / (tp + fn + self.eps)\n",
    "#         f_b = (1+self.beta**2)*(precision*recall)/(self.beta**2*precision+recall)\n",
    "#         return 1 - f_b"
   ],
   "metadata": {
    "collapsed": false,
    "ExecuteTime": {
     "end_time": "2023-07-23T05:39:52.189949585Z",
     "start_time": "2023-07-23T05:39:52.148554787Z"
    }
   }
  },
  {
   "cell_type": "code",
   "execution_count": 7,
   "outputs": [],
   "source": [
    "import os\n",
    "os.environ[\"CUDA_DEVICE_ORDER\"]=\"PCI_BUS_ID\"\n",
    "os.environ[\"CUDA_VISIBLE_DEVICES\"]=\"0\""
   ],
   "metadata": {
    "collapsed": false,
    "ExecuteTime": {
     "end_time": "2023-07-23T05:39:53.573633834Z",
     "start_time": "2023-07-23T05:39:53.561500598Z"
    }
   }
  },
  {
   "cell_type": "code",
   "execution_count": 40,
   "outputs": [],
   "source": [
    "config = {\n",
    "    'device': torch.device('cuda' if torch.cuda.is_available() else 'cpu'),\n",
    "    'base_path': '/home/jo/Desktop/swdacon/open/', # change relative path of data\n",
    "    'train_data': 'train.csv', # change train data csv name\n",
    "    'test_data': 'test.csv', # change test data csv name\n",
    "    'seed': 42,\n",
    "    'valid_size': 0.1,\n",
    "    'early_stopping': 30,\n",
    "    'scheduler': True,\n",
    "    'train' : {\n",
    "       'batch_size' : 16,\n",
    "       'num_workers': 6,\n",
    "       'epochs': 1000,\n",
    "       'lr': 1e-3,\n",
    "    },\n",
    "    'inference' : {\n",
    "       'batch_size' : 16,\n",
    "       'num_workers': 6,\n",
    "       'threshold': 0.35,\n",
    "    },\n",
    "}\n",
    "fix_seed(config['seed'])\n",
    "custom_transform = {\n",
    "    'train':A.Compose([\n",
    "        A.augmentations.crops.transforms.RandomCrop(224,224,p=1.0),\n",
    "        A.RandomShadow(p=0.6),\n",
    "        A.OneOf(\n",
    "            [\n",
    "                A.RandomRotate90(p=0.5),\n",
    "                A.HorizontalFlip(p=0.5),\n",
    "                A.VerticalFlip(p=0.5),\n",
    "            ]\n",
    "        ),\n",
    "        A.Normalize(),\n",
    "        ToTensorV2(),\n",
    "    ]),\n",
    "    'valid':A.Compose([\n",
    "        A.Resize(224,224),\n",
    "        # A.augmentations.crops.transforms.CenterCrop(224,224,p=1.0),\n",
    "        A.Normalize(),\n",
    "        ToTensorV2(),\n",
    "    ]),\n",
    "    'test': A.Compose([\n",
    "        A.Normalize(),\n",
    "        ToTensorV2(),\n",
    "    ]),\n",
    "}"
   ],
   "metadata": {
    "collapsed": false,
    "ExecuteTime": {
     "end_time": "2023-07-23T05:47:03.120418272Z",
     "start_time": "2023-07-23T05:47:03.118351492Z"
    }
   }
  },
  {
   "cell_type": "code",
   "execution_count": 41,
   "outputs": [
    {
     "data": {
      "text/plain": "device(type='cuda')"
     },
     "execution_count": 41,
     "metadata": {},
     "output_type": "execute_result"
    }
   ],
   "source": [
    "config['device']"
   ],
   "metadata": {
    "collapsed": false,
    "ExecuteTime": {
     "end_time": "2023-07-23T05:47:04.410340302Z",
     "start_time": "2023-07-23T05:47:04.407030187Z"
    }
   }
  },
  {
   "cell_type": "markdown",
   "source": [
    "## Model"
   ],
   "metadata": {
    "collapsed": false
   }
  },
  {
   "cell_type": "code",
   "execution_count": 10,
   "outputs": [],
   "source": [
    "# from vit_pytorch.cait import CaiT\n",
    "from vit_pytorch import ViT"
   ],
   "metadata": {
    "collapsed": false,
    "ExecuteTime": {
     "end_time": "2023-07-23T05:40:07.355131723Z",
     "start_time": "2023-07-23T05:40:07.295128178Z"
    }
   }
  },
  {
   "cell_type": "code",
   "execution_count": 16,
   "outputs": [],
   "source": [
    "# vit_encoder = DeepViT(\n",
    "#     image_size=14,\n",
    "#     patch_size=1,\n",
    "#     dim = 128,\n",
    "#     depth=12,\n",
    "#     num_classes=2,\n",
    "#     heads=8,\n",
    "#     mlp_dim=2048,\n",
    "#     emb_dropout= 0.1,\n",
    "#     dropout=0.1\n",
    "# )\n",
    "# vit_encoder=vit_encoder.to(config['device'])"
   ],
   "metadata": {
    "collapsed": false,
    "ExecuteTime": {
     "end_time": "2023-07-22T04:20:27.316545052Z",
     "start_time": "2023-07-22T04:20:27.271460546Z"
    }
   }
  },
  {
   "cell_type": "code",
   "execution_count": 17,
   "outputs": [],
   "source": [
    "# vit_encoder = CaiT(\n",
    "#     image_size=14,\n",
    "#     patch_size=1,\n",
    "#     dim = 128,\n",
    "#     depth=12,\n",
    "#     cls_depth=2,\n",
    "#     num_classes=2,\n",
    "#     heads=8,\n",
    "#     mlp_dim=2048,\n",
    "#     emb_dropout= 0.1,\n",
    "#     dropout=0.1,\n",
    "#     layer_dropout=0.05\n",
    "# )\n",
    "# vit_encoder=vit_encoder.to(config['device'])"
   ],
   "metadata": {
    "collapsed": false,
    "ExecuteTime": {
     "end_time": "2023-07-22T04:20:27.316942452Z",
     "start_time": "2023-07-22T04:20:27.313741534Z"
    }
   }
  },
  {
   "cell_type": "code",
   "execution_count": 11,
   "outputs": [],
   "source": [
    "vit_encoder = ViT(\n",
    "    image_size=14,\n",
    "    patch_size=1,\n",
    "    dim = 128,\n",
    "    depth=12,\n",
    "    num_classes=2,\n",
    "    heads=8,\n",
    "    mlp_dim=10,\n",
    ")\n",
    "vit_encoder=vit_encoder.to(config['device'])"
   ],
   "metadata": {
    "collapsed": false,
    "ExecuteTime": {
     "end_time": "2023-07-23T05:40:10.721665744Z",
     "start_time": "2023-07-23T05:40:10.124409769Z"
    }
   }
  },
  {
   "cell_type": "code",
   "execution_count": 19,
   "outputs": [],
   "source": [
    "# print(vit_encoder)"
   ],
   "metadata": {
    "collapsed": false,
    "ExecuteTime": {
     "end_time": "2023-07-22T04:20:27.911936943Z",
     "start_time": "2023-07-22T04:20:27.910843324Z"
    }
   }
  },
  {
   "cell_type": "code",
   "execution_count": 42,
   "outputs": [],
   "source": [
    "def double_conv(in_channels, out_channels):\n",
    "    return nn.Sequential(\n",
    "        nn.Conv2d(in_channels, out_channels, 3, padding=1),\n",
    "        nn.BatchNorm2d(out_channels),\n",
    "        nn.ReLU(inplace=True),\n",
    "        nn.Conv2d(out_channels, out_channels, 3, padding=1),\n",
    "        nn.BatchNorm2d(out_channels),\n",
    "        nn.ReLU(inplace=True)\n",
    "    )\n",
    "class TransUnet_b5(nn.Module):\n",
    "    def __init__(self):\n",
    "        super(TransUnet_b5, self).__init__()\n",
    "        self.backbone = models.efficientnet_b5(weights='EfficientNet_B5_Weights.DEFAULT')\n",
    "        self.vit_flatten = nn.Sequential(\n",
    "            Rearrange('b c (h p1) (w p2) -> b (h w) (p1 p2 c)', p1=1, p2=1),\n",
    "            nn.LayerNorm(128)\n",
    "        )\n",
    "        self.conv_vit_res = nn.Sequential(\n",
    "            nn.Conv2d(128,64,3,1,1),\n",
    "            nn.BatchNorm2d(64),\n",
    "            nn.ReLU(inplace=True)\n",
    "        )\n",
    "        self.res_conv = nn.Sequential(\n",
    "            nn.Conv2d(16,16,3,1,1),\n",
    "            nn.BatchNorm2d(16),\n",
    "            nn.ReLU(inplace=True)\n",
    "        )\n",
    "        self.seg_conv = nn.Conv2d(16, 1, 1)\n",
    "        self.maxpool = nn.MaxPool2d(2)\n",
    "        self.upsample = nn.Upsample(scale_factor=2, mode='bilinear', align_corners=True)\n",
    "\n",
    "        self.dconv_up3 = double_conv(64 + 64, 64)\n",
    "        self.dconv_up2 = double_conv(40 + 64, 32)\n",
    "        self.dconv_up1 = double_conv(32 + 24, 16)\n",
    "\n",
    "        self.conv_last = nn.Conv2d(16, 1, 1)\n",
    "    def forward(self, x):\n",
    "        x = self.backbone.features[0](x) #48,112,112\n",
    "        out1 = self.backbone.features[1](x) #24,112,112\n",
    "        out2 = self.backbone.features[2](out1) #40,56,56\n",
    "        out3 = self.backbone.features[3](out2) #64,28,28\n",
    "        out4 = self.backbone.features[4](out3) #128,14,14\n",
    "\n",
    "        vit_out = self.vit_flatten(out4)\n",
    "        vit_out = vit_encoder.transformer(vit_out)\n",
    "        vit_out = vit_out.reshape(-1,128,14,14)\n",
    "        vit_out = self.conv_vit_res(vit_out) #64,14,14\n",
    "        up3 = self.upsample(vit_out)#64,28,28\n",
    "        up3 = torch.cat([up3, out3], dim=1) #128,28,28\n",
    "        up3 = self.dconv_up3(up3) #64,28,28\n",
    "\n",
    "        up2 = self.upsample(up3) #64,56,56\n",
    "        up2 = torch.cat([up2, out2], dim=1) #40+64,56,56\n",
    "        up2 = self.dconv_up2(up2) #32,56,56\n",
    "\n",
    "        up1 = self.upsample(up2) #32,112,112\n",
    "        up1 = torch.cat([up1,out1],dim=1) #32+24,112,112\n",
    "        up1 = self.dconv_up1(up1) #16,112,112\n",
    "\n",
    "        up0 = self.upsample(up1)#16,224,224\n",
    "        up0 = self.res_conv(up0)\n",
    "        res = self.seg_conv(up0)\n",
    "\n",
    "        return res"
   ],
   "metadata": {
    "collapsed": false,
    "ExecuteTime": {
     "end_time": "2023-07-23T05:47:09.578120913Z",
     "start_time": "2023-07-23T05:47:09.577362796Z"
    }
   }
  },
  {
   "cell_type": "code",
   "execution_count": 13,
   "outputs": [],
   "source": [
    "model = TransUnet_b5().to(config['device'])\n",
    "# summary(model,(3,224,224),device=config['device'].type)"
   ],
   "metadata": {
    "collapsed": false,
    "ExecuteTime": {
     "end_time": "2023-07-23T05:40:16.661012477Z",
     "start_time": "2023-07-23T05:40:16.319523321Z"
    }
   }
  },
  {
   "cell_type": "code",
   "execution_count": 22,
   "outputs": [],
   "source": [
    "# model = TransUnet().to(config['device'])\n",
    "# summary(model,(3,224,224),device=config['device'].type)"
   ],
   "metadata": {
    "collapsed": false,
    "ExecuteTime": {
     "end_time": "2023-07-22T04:20:28.235344243Z",
     "start_time": "2023-07-22T04:20:28.233302025Z"
    }
   }
  },
  {
   "cell_type": "code",
   "execution_count": 23,
   "outputs": [],
   "source": [
    "# model = TransUnet_CaiT().to(config['device'])\n",
    "# summary(model,(3,224,224),device=config['device'].type)"
   ],
   "metadata": {
    "collapsed": false,
    "ExecuteTime": {
     "end_time": "2023-07-22T04:20:28.277823057Z",
     "start_time": "2023-07-22T04:20:28.234879542Z"
    }
   }
  },
  {
   "cell_type": "markdown",
   "source": [
    "## Dataset"
   ],
   "metadata": {
    "collapsed": false
   }
  },
  {
   "cell_type": "code",
   "execution_count": 32,
   "outputs": [],
   "source": [
    "from torch.utils.data import Dataset, DataLoader\n",
    "import cv2\n",
    "import pandas as pd\n",
    "from sklearn.model_selection import train_test_split"
   ],
   "metadata": {
    "collapsed": false,
    "ExecuteTime": {
     "end_time": "2023-07-23T05:44:56.312693091Z",
     "start_time": "2023-07-23T05:44:56.304330641Z"
    }
   }
  },
  {
   "cell_type": "code",
   "execution_count": 33,
   "outputs": [],
   "source": [
    "class CustomDataset(Dataset):\n",
    "    def __init__(self, img_paths, mask_rles = None, transform=None, infer=False):\n",
    "        self.img_paths = img_paths\n",
    "        self.mask_rles = mask_rles\n",
    "        self.transform = transform\n",
    "        self.infer = infer\n",
    "\n",
    "    def __len__(self):\n",
    "        return len(self.img_paths)\n",
    "\n",
    "    def __getitem__(self, idx):\n",
    "        img_path = self.img_paths.iloc[idx]\n",
    "        image = cv2.imread(config['base_path']+img_path[2:])\n",
    "        if self.infer:\n",
    "            if self.transform:\n",
    "                image = self.transform(image=image)['image']\n",
    "            return image\n",
    "\n",
    "        mask_rle = self.mask_rles.iloc[idx]\n",
    "        mask = rle_decode(mask_rle, (image.shape[0], image.shape[1]))\n",
    "\n",
    "        if self.transform:\n",
    "            augmented = self.transform(image=image, mask=mask)\n",
    "            image = augmented['image']\n",
    "            mask = augmented['mask']\n",
    "        return image, mask"
   ],
   "metadata": {
    "collapsed": false,
    "ExecuteTime": {
     "end_time": "2023-07-23T05:44:57.128700744Z",
     "start_time": "2023-07-23T05:44:57.113603592Z"
    }
   }
  },
  {
   "cell_type": "code",
   "execution_count": 43,
   "outputs": [
    {
     "name": "stdout",
     "output_type": "stream",
     "text": [
      "train:  6426    valid:  714\n"
     ]
    }
   ],
   "source": [
    "# 로컬 사용시 활성화\n",
    "\n",
    "train_df = pd.read_csv(f\"{config['base_path']}/{config['train_data']}\")\n",
    "# train_df=train_df[:3000]\n",
    "train, val = train_test_split(train_df, test_size=config['valid_size'], random_state=config['seed'])\n",
    "print(\"train: \", len(train), \"   valid: \", len(val))"
   ],
   "metadata": {
    "collapsed": false,
    "ExecuteTime": {
     "end_time": "2023-07-23T05:47:14.756393862Z",
     "start_time": "2023-07-23T05:47:14.102786455Z"
    }
   }
  },
  {
   "cell_type": "code",
   "execution_count": 44,
   "outputs": [],
   "source": [
    "train_dataset = CustomDataset(img_paths=train['img_path'], mask_rles=train['mask_rle'], transform=custom_transform['train'])\n",
    "train_dataloader = DataLoader(train_dataset, batch_size=config['train']['batch_size'], shuffle=True, num_workers=config['train']['num_workers'])\n",
    "\n",
    "valid_dataset = CustomDataset(img_paths=val['img_path'], mask_rles=val['mask_rle'], transform=custom_transform['valid'])\n",
    "valid_dataloader = DataLoader(valid_dataset , batch_size=config['train']['batch_size'], shuffle=False, num_workers=config['train']['num_workers'])"
   ],
   "metadata": {
    "collapsed": false,
    "ExecuteTime": {
     "end_time": "2023-07-23T05:47:14.940646961Z",
     "start_time": "2023-07-23T05:47:14.935823588Z"
    }
   }
  },
  {
   "cell_type": "markdown",
   "source": [
    "## train/vali"
   ],
   "metadata": {
    "collapsed": false
   }
  },
  {
   "cell_type": "code",
   "execution_count": 28,
   "outputs": [],
   "source": [
    "# class IoULoss(nn.Module):\n",
    "#     def __init__(self, weight=None, size_average=True):\n",
    "#         super(IoULoss, self).__init__()\n",
    "#\n",
    "#     def forward(self, inputs, targets, smooth=1):\n",
    "#\n",
    "#         #comment out if your model contains a sigmoid or equivalent activation layer\n",
    "#         inputs = F.sigmoid(inputs)\n",
    "#\n",
    "#         #flatten label and prediction tensors\n",
    "#         inputs = inputs.view(-1)\n",
    "#         targets = targets.view(-1)\n",
    "#\n",
    "#         #intersection is equivalent to True Positive count\n",
    "#         #union is the mutually inclusive area of all labels & predictions\n",
    "#         intersection = (inputs * targets).sum()\n",
    "#         total = (inputs + targets).sum()\n",
    "#         union = total - intersection\n",
    "#\n",
    "#         IoU = (intersection + smooth)/(union + smooth)\n",
    "#\n",
    "#         return 1 - IoU"
   ],
   "metadata": {
    "collapsed": false,
    "ExecuteTime": {
     "end_time": "2023-07-22T04:20:28.934086543Z",
     "start_time": "2023-07-22T04:20:28.933746580Z"
    }
   }
  },
  {
   "cell_type": "code",
   "execution_count": 18,
   "outputs": [],
   "source": [
    "def validation(config, model, valid_loader, val):\n",
    "    model.eval()\n",
    "    valid_loss = 0\n",
    "    result = []\n",
    "    transformed_mask = []\n",
    "    val_df = val.copy()\n",
    "    criterion_ce = torch.nn.BCEWithLogitsLoss()\n",
    "    criterion_dice = DiceLoss()\n",
    "    # criterion_fb = F_BetaLoss(beta=2.0)\n",
    "    with torch.no_grad():\n",
    "        for images, masks in tqdm(valid_loader):\n",
    "            if type(transformed_mask) == torch.Tensor:\n",
    "                transformed_mask = torch.cat([transformed_mask, masks])\n",
    "            else:\n",
    "                transformed_mask = masks.clone().detach()\n",
    "            images = images.float().to(config['device'])\n",
    "            masks = masks.float().to(config['device'])\n",
    "\n",
    "            outputs = model(images)\n",
    "            # loss_ce = criterion_ce(outputs, masks.unsqueeze(1))\n",
    "            loss_dice = criterion_dice(outputs,masks.unsqueeze(1))\n",
    "            # loss_fb = criterion_fb(outputs,masks.unsqueeze(1))\n",
    "            loss = loss_dice\n",
    "            valid_loss += loss.item()\n",
    "\n",
    "            output_masks = torch.sigmoid(outputs).cpu().numpy()\n",
    "            output_masks = np.squeeze(output_masks, axis=1)\n",
    "            output_masks = (output_masks > config['inference']['threshold']).astype(np.uint8)\n",
    "            for i in range(len(images)):\n",
    "                mask_rle = rle_encode(output_masks[i])\n",
    "                if mask_rle == '': # 예측된 건물 픽셀이 아예 없는 경우 -1\n",
    "                    result.append(-1)\n",
    "                else:\n",
    "                    result.append(mask_rle)\n",
    "        val_df['valid_mask_rle'] = result\n",
    "        val_df['transformed_mask_rle'] = list(map(rle_encode, transformed_mask.squeeze().numpy()))\n",
    "        dice_score = calculate_dice_scores(val_df)\n",
    "\n",
    "    return valid_loss/len(valid_loader), dice_score"
   ],
   "metadata": {
    "collapsed": false,
    "ExecuteTime": {
     "end_time": "2023-07-23T05:40:27.357512614Z",
     "start_time": "2023-07-23T05:40:27.355080436Z"
    }
   }
  },
  {
   "cell_type": "code",
   "execution_count": 19,
   "outputs": [],
   "source": [
    "from cosine_annealing_warmup import CosineAnnealingWarmupRestarts"
   ],
   "metadata": {
    "collapsed": false,
    "ExecuteTime": {
     "end_time": "2023-07-23T05:40:28.224846766Z",
     "start_time": "2023-07-23T05:40:28.216116292Z"
    }
   }
  },
  {
   "cell_type": "code",
   "execution_count": 20,
   "outputs": [],
   "source": [
    "def training(config, model, train_loader, valid_loader, val):\n",
    "    model = model.to(config['device'])\n",
    "    es_count = 0\n",
    "    min_val_loss = float('inf')\n",
    "    best_model = None\n",
    "    criterion_ce = torch.nn.BCEWithLogitsLoss()\n",
    "    criterion_dice = DiceLoss()\n",
    "    # criterion_fb = F_BetaLoss(beta=2)\n",
    "    optimizer = torch.optim.Adam(model.parameters(), lr=config['train']['lr'])\n",
    "    # scheduler = torch.optim.lr_scheduler.ReduceLROnPlateau(optimizer, mode='min', factor=0.5, patience=10, min_lr=1e-8, verbose=True)\n",
    "    # scheduler = torch.optim.lr_scheduler.CosineAnnealingWarmRestarts(optimizer, T_0=20,eta_min=0, verbose=True)\n",
    "    scheduler = CosineAnnealingWarmupRestarts(optimizer,\n",
    "                                      first_cycle_steps=20,\n",
    "                                      cycle_mult=1.0,\n",
    "                                      max_lr=1e-3,\n",
    "                                      min_lr=1e-6,\n",
    "                                      warmup_steps=5,\n",
    "                                      gamma=1.0)\n",
    "\n",
    "    # training loop\n",
    "    for epoch in range(config['train']['epochs']):\n",
    "        model.train()\n",
    "        epoch_loss = 0\n",
    "        for images, masks in tqdm(train_loader):\n",
    "            images = images.float().to(config['device'])\n",
    "            masks = masks.float().to(config['device'])\n",
    "\n",
    "            optimizer.zero_grad()\n",
    "            outputs = model(images)\n",
    "            # loss_ce = criterion_ce(outputs, masks.unsqueeze(1))\n",
    "            loss_dice = criterion_dice(outputs,masks.unsqueeze(1))\n",
    "            loss = loss_dice\n",
    "            # loss_fb = criterion_fb(outputs,masks.unsqueeze(1))\n",
    "            # loss = loss_fb\n",
    "            loss.backward()\n",
    "            optimizer.step()\n",
    "\n",
    "            epoch_loss += loss.item()\n",
    "\n",
    "        val_loss, dice_score = validation(config, model, valid_loader, val)\n",
    "        es_count += 1\n",
    "        if min_val_loss > val_loss:\n",
    "            es_count = 0\n",
    "            min_val_loss = val_loss\n",
    "            best_model = model\n",
    "            best_epoch = epoch + 1\n",
    "            print(f\"Epoch [{epoch + 1}] New Minimum Valid Loss!\")\n",
    "\n",
    "        if config['scheduler']:\n",
    "            scheduler.step(val_loss)\n",
    "\n",
    "        if es_count == config['early_stopping']:\n",
    "            print(f'Epoch {epoch+1}, Train Loss(dice): {(epoch_loss/len(train_loader)):6f}, Valid Loss: {val_loss:6f}, Dice Coefficient: {dice_score:6f}, ES Count: {es_count}')\n",
    "            print(f\"EARLY STOPPING COUNT에 도달했습니다! \\nEARLY STOPPING COUNT: {config['early_stopping']} BEST EPOCH: {best_epoch}\")\n",
    "            print(\"***TRAINING DONE***\")\n",
    "            return best_model\n",
    "\n",
    "        print(f'Epoch {epoch+1}, Train Loss(dice): {(epoch_loss/len(train_loader)):6f},  Valid Loss(dice): {val_loss:6f}, Dice Coefficient: {dice_score:6f} ES Count: {es_count}')\n",
    "        print(\"------------------------------------------------------------------------------------\")\n",
    "\n",
    "    print(f\"EARLY STOPPING COUNT에 도달하지 않았습니다! \\nEARLY STOPPING COUNT: {config['early_stopping']} BEST EPOCH: {best_epoch}\")\n",
    "    print(\"***TRAINING DONE***\")\n",
    "    return best_model"
   ],
   "metadata": {
    "collapsed": false,
    "ExecuteTime": {
     "end_time": "2023-07-23T05:40:29.523278323Z",
     "start_time": "2023-07-23T05:40:29.521346761Z"
    }
   }
  },
  {
   "cell_type": "code",
   "execution_count": 21,
   "outputs": [
    {
     "data": {
      "text/plain": "True"
     },
     "execution_count": 21,
     "metadata": {},
     "output_type": "execute_result"
    }
   ],
   "source": [
    "torch.cuda.is_available() # 학습 전에 GPU 쓰고 있나 확인"
   ],
   "metadata": {
    "collapsed": false,
    "ExecuteTime": {
     "end_time": "2023-07-23T05:40:30.521337765Z",
     "start_time": "2023-07-23T05:40:30.516585958Z"
    }
   }
  },
  {
   "cell_type": "code",
   "execution_count": 45,
   "outputs": [],
   "source": [
    "model = TransUnet_b5().to(config['device'])\n",
    "model= torch.load('./open/transUnet_EfficientNet_b5_bn_all.pt')"
   ],
   "metadata": {
    "collapsed": false,
    "ExecuteTime": {
     "end_time": "2023-07-23T05:47:21.564895341Z",
     "start_time": "2023-07-23T05:47:21.248407456Z"
    }
   }
  },
  {
   "cell_type": "code",
   "execution_count": 46,
   "outputs": [
    {
     "name": "stderr",
     "output_type": "stream",
     "text": [
      "100%|██████████| 45/45 [00:03<00:00, 14.33it/s]\n"
     ]
    },
    {
     "name": "stdout",
     "output_type": "stream",
     "text": [
      "dice_loss:0.906669, dice coef:0.057381\n"
     ]
    }
   ],
   "source": [
    "a,b = validation(config,model,valid_dataloader,val)\n",
    "print(f'dice_loss:{a:6f}, dice coef:{b:6f}')"
   ],
   "metadata": {
    "collapsed": false,
    "ExecuteTime": {
     "end_time": "2023-07-23T05:47:25.941129238Z",
     "start_time": "2023-07-23T05:47:22.297605170Z"
    }
   }
  },
  {
   "cell_type": "code",
   "execution_count": 34,
   "outputs": [
    {
     "name": "stderr",
     "output_type": "stream",
     "text": [
      "100%|██████████| 402/402 [00:57<00:00,  6.97it/s]\n",
      "100%|██████████| 45/45 [00:03<00:00, 11.72it/s]\n"
     ]
    },
    {
     "name": "stdout",
     "output_type": "stream",
     "text": [
      "Epoch [1] New Minimum Valid Loss!\n",
      "Epoch 1, Train Loss(dice): 0.151744,  Valid Loss(dice): 0.157410, Dice Coefficient: 0.801674 ES Count: 0\n",
      "------------------------------------------------------------------------------------\n"
     ]
    },
    {
     "name": "stderr",
     "output_type": "stream",
     "text": [
      "100%|██████████| 402/402 [00:56<00:00,  7.11it/s]\n",
      "100%|██████████| 45/45 [00:03<00:00, 11.64it/s]\n"
     ]
    },
    {
     "name": "stdout",
     "output_type": "stream",
     "text": [
      "Epoch [2] New Minimum Valid Loss!\n",
      "Epoch 2, Train Loss(dice): 0.142876,  Valid Loss(dice): 0.143407, Dice Coefficient: 0.802522 ES Count: 0\n",
      "------------------------------------------------------------------------------------\n"
     ]
    },
    {
     "name": "stderr",
     "output_type": "stream",
     "text": [
      "100%|██████████| 402/402 [00:56<00:00,  7.12it/s]\n",
      "100%|██████████| 45/45 [00:03<00:00, 14.27it/s]\n"
     ]
    },
    {
     "name": "stdout",
     "output_type": "stream",
     "text": [
      "Epoch [3] New Minimum Valid Loss!\n",
      "Epoch 3, Train Loss(dice): 0.137555,  Valid Loss(dice): 0.140089, Dice Coefficient: 0.802755 ES Count: 0\n",
      "------------------------------------------------------------------------------------\n"
     ]
    },
    {
     "name": "stderr",
     "output_type": "stream",
     "text": [
      "100%|██████████| 402/402 [00:55<00:00,  7.18it/s]\n",
      "100%|██████████| 45/45 [00:03<00:00, 14.64it/s]\n"
     ]
    },
    {
     "name": "stdout",
     "output_type": "stream",
     "text": [
      "Epoch [4] New Minimum Valid Loss!\n",
      "Epoch 4, Train Loss(dice): 0.132265,  Valid Loss(dice): 0.138613, Dice Coefficient: 0.800675 ES Count: 0\n",
      "------------------------------------------------------------------------------------\n"
     ]
    },
    {
     "name": "stderr",
     "output_type": "stream",
     "text": [
      "100%|██████████| 402/402 [00:55<00:00,  7.19it/s]\n",
      "100%|██████████| 45/45 [00:03<00:00, 14.85it/s]\n"
     ]
    },
    {
     "name": "stdout",
     "output_type": "stream",
     "text": [
      "Epoch [5] New Minimum Valid Loss!\n",
      "Epoch 5, Train Loss(dice): 0.129323,  Valid Loss(dice): 0.138008, Dice Coefficient: 0.801697 ES Count: 0\n",
      "------------------------------------------------------------------------------------\n"
     ]
    },
    {
     "name": "stderr",
     "output_type": "stream",
     "text": [
      "100%|██████████| 402/402 [00:55<00:00,  7.19it/s]\n",
      "100%|██████████| 45/45 [00:03<00:00, 14.50it/s]\n"
     ]
    },
    {
     "name": "stdout",
     "output_type": "stream",
     "text": [
      "Epoch [6] New Minimum Valid Loss!\n",
      "Epoch 6, Train Loss(dice): 0.133421,  Valid Loss(dice): 0.137383, Dice Coefficient: 0.799719 ES Count: 0\n",
      "------------------------------------------------------------------------------------\n"
     ]
    },
    {
     "name": "stderr",
     "output_type": "stream",
     "text": [
      "100%|██████████| 402/402 [00:56<00:00,  7.18it/s]\n",
      "100%|██████████| 45/45 [00:03<00:00, 14.65it/s]\n"
     ]
    },
    {
     "name": "stdout",
     "output_type": "stream",
     "text": [
      "Epoch [7] New Minimum Valid Loss!\n",
      "Epoch 7, Train Loss(dice): 0.128047,  Valid Loss(dice): 0.136575, Dice Coefficient: 0.801904 ES Count: 0\n",
      "------------------------------------------------------------------------------------\n"
     ]
    },
    {
     "name": "stderr",
     "output_type": "stream",
     "text": [
      "100%|██████████| 402/402 [00:55<00:00,  7.21it/s]\n",
      "100%|██████████| 45/45 [00:03<00:00, 14.99it/s]\n"
     ]
    },
    {
     "name": "stdout",
     "output_type": "stream",
     "text": [
      "Epoch [8] New Minimum Valid Loss!\n",
      "Epoch 8, Train Loss(dice): 0.126143,  Valid Loss(dice): 0.136062, Dice Coefficient: 0.800123 ES Count: 0\n",
      "------------------------------------------------------------------------------------\n"
     ]
    },
    {
     "name": "stderr",
     "output_type": "stream",
     "text": [
      "100%|██████████| 402/402 [00:55<00:00,  7.20it/s]\n",
      "100%|██████████| 45/45 [00:02<00:00, 15.11it/s]\n"
     ]
    },
    {
     "name": "stdout",
     "output_type": "stream",
     "text": [
      "Epoch [9] New Minimum Valid Loss!\n",
      "Epoch 9, Train Loss(dice): 0.126889,  Valid Loss(dice): 0.136020, Dice Coefficient: 0.800463 ES Count: 0\n",
      "------------------------------------------------------------------------------------\n"
     ]
    },
    {
     "name": "stderr",
     "output_type": "stream",
     "text": [
      "100%|██████████| 402/402 [00:55<00:00,  7.23it/s]\n",
      "100%|██████████| 45/45 [00:02<00:00, 15.15it/s]\n"
     ]
    },
    {
     "name": "stdout",
     "output_type": "stream",
     "text": [
      "Epoch [10] New Minimum Valid Loss!\n",
      "Epoch 10, Train Loss(dice): 0.128904,  Valid Loss(dice): 0.135948, Dice Coefficient: 0.800725 ES Count: 0\n",
      "------------------------------------------------------------------------------------\n"
     ]
    },
    {
     "name": "stderr",
     "output_type": "stream",
     "text": [
      "100%|██████████| 402/402 [00:55<00:00,  7.22it/s]\n",
      "100%|██████████| 45/45 [00:03<00:00, 14.64it/s]\n"
     ]
    },
    {
     "name": "stdout",
     "output_type": "stream",
     "text": [
      "Epoch 11, Train Loss(dice): 0.130634,  Valid Loss(dice): 0.136110, Dice Coefficient: 0.800375 ES Count: 1\n",
      "------------------------------------------------------------------------------------\n"
     ]
    },
    {
     "name": "stderr",
     "output_type": "stream",
     "text": [
      "100%|██████████| 402/402 [00:55<00:00,  7.24it/s]\n",
      "100%|██████████| 45/45 [00:02<00:00, 15.15it/s]\n"
     ]
    },
    {
     "name": "stdout",
     "output_type": "stream",
     "text": [
      "Epoch [12] New Minimum Valid Loss!\n",
      "Epoch 12, Train Loss(dice): 0.129125,  Valid Loss(dice): 0.135741, Dice Coefficient: 0.800819 ES Count: 0\n",
      "------------------------------------------------------------------------------------\n"
     ]
    },
    {
     "name": "stderr",
     "output_type": "stream",
     "text": [
      "100%|██████████| 402/402 [00:55<00:00,  7.20it/s]\n",
      "100%|██████████| 45/45 [00:03<00:00, 14.99it/s]\n"
     ]
    },
    {
     "name": "stdout",
     "output_type": "stream",
     "text": [
      "Epoch [13] New Minimum Valid Loss!\n",
      "Epoch 13, Train Loss(dice): 0.124073,  Valid Loss(dice): 0.134897, Dice Coefficient: 0.800958 ES Count: 0\n",
      "------------------------------------------------------------------------------------\n"
     ]
    },
    {
     "name": "stderr",
     "output_type": "stream",
     "text": [
      "100%|██████████| 402/402 [00:55<00:00,  7.22it/s]\n",
      "100%|██████████| 45/45 [00:02<00:00, 15.14it/s]\n"
     ]
    },
    {
     "name": "stdout",
     "output_type": "stream",
     "text": [
      "Epoch [14] New Minimum Valid Loss!\n",
      "Epoch 14, Train Loss(dice): 0.124461,  Valid Loss(dice): 0.134883, Dice Coefficient: 0.800751 ES Count: 0\n",
      "------------------------------------------------------------------------------------\n"
     ]
    },
    {
     "name": "stderr",
     "output_type": "stream",
     "text": [
      "100%|██████████| 402/402 [00:55<00:00,  7.23it/s]\n",
      "100%|██████████| 45/45 [00:02<00:00, 15.25it/s]\n"
     ]
    },
    {
     "name": "stdout",
     "output_type": "stream",
     "text": [
      "Epoch [15] New Minimum Valid Loss!\n",
      "Epoch 15, Train Loss(dice): 0.126099,  Valid Loss(dice): 0.134348, Dice Coefficient: 0.801131 ES Count: 0\n",
      "------------------------------------------------------------------------------------\n"
     ]
    },
    {
     "name": "stderr",
     "output_type": "stream",
     "text": [
      "100%|██████████| 402/402 [00:55<00:00,  7.21it/s]\n",
      "100%|██████████| 45/45 [00:02<00:00, 15.08it/s]\n"
     ]
    },
    {
     "name": "stdout",
     "output_type": "stream",
     "text": [
      "Epoch [16] New Minimum Valid Loss!\n",
      "Epoch 16, Train Loss(dice): 0.123171,  Valid Loss(dice): 0.134194, Dice Coefficient: 0.801758 ES Count: 0\n",
      "------------------------------------------------------------------------------------\n"
     ]
    },
    {
     "name": "stderr",
     "output_type": "stream",
     "text": [
      "100%|██████████| 402/402 [00:55<00:00,  7.22it/s]\n",
      "100%|██████████| 45/45 [00:02<00:00, 15.31it/s]\n"
     ]
    },
    {
     "name": "stdout",
     "output_type": "stream",
     "text": [
      "Epoch [17] New Minimum Valid Loss!\n",
      "Epoch 17, Train Loss(dice): 0.128187,  Valid Loss(dice): 0.133725, Dice Coefficient: 0.801074 ES Count: 0\n",
      "------------------------------------------------------------------------------------\n"
     ]
    },
    {
     "name": "stderr",
     "output_type": "stream",
     "text": [
      "100%|██████████| 402/402 [00:55<00:00,  7.19it/s]\n",
      "100%|██████████| 45/45 [00:03<00:00, 14.92it/s]\n"
     ]
    },
    {
     "name": "stdout",
     "output_type": "stream",
     "text": [
      "Epoch 18, Train Loss(dice): 0.127552,  Valid Loss(dice): 0.133950, Dice Coefficient: 0.799109 ES Count: 1\n",
      "------------------------------------------------------------------------------------\n"
     ]
    },
    {
     "name": "stderr",
     "output_type": "stream",
     "text": [
      "100%|██████████| 402/402 [00:55<00:00,  7.24it/s]\n",
      "100%|██████████| 45/45 [00:02<00:00, 15.10it/s]\n"
     ]
    },
    {
     "name": "stdout",
     "output_type": "stream",
     "text": [
      "Epoch 19, Train Loss(dice): 0.131679,  Valid Loss(dice): 0.133892, Dice Coefficient: 0.798102 ES Count: 2\n",
      "------------------------------------------------------------------------------------\n"
     ]
    },
    {
     "name": "stderr",
     "output_type": "stream",
     "text": [
      "100%|██████████| 402/402 [00:55<00:00,  7.19it/s]\n",
      "100%|██████████| 45/45 [00:02<00:00, 15.08it/s]\n"
     ]
    },
    {
     "name": "stdout",
     "output_type": "stream",
     "text": [
      "Epoch 20, Train Loss(dice): 0.128390,  Valid Loss(dice): 0.133901, Dice Coefficient: 0.798950 ES Count: 3\n",
      "------------------------------------------------------------------------------------\n"
     ]
    },
    {
     "name": "stderr",
     "output_type": "stream",
     "text": [
      "100%|██████████| 402/402 [00:55<00:00,  7.19it/s]\n",
      "100%|██████████| 45/45 [00:02<00:00, 15.50it/s]\n"
     ]
    },
    {
     "name": "stdout",
     "output_type": "stream",
     "text": [
      "Epoch 21, Train Loss(dice): 0.123231,  Valid Loss(dice): 0.133870, Dice Coefficient: 0.799198 ES Count: 4\n",
      "------------------------------------------------------------------------------------\n"
     ]
    },
    {
     "name": "stderr",
     "output_type": "stream",
     "text": [
      "100%|██████████| 402/402 [00:55<00:00,  7.20it/s]\n",
      "100%|██████████| 45/45 [00:03<00:00, 14.70it/s]\n"
     ]
    },
    {
     "name": "stdout",
     "output_type": "stream",
     "text": [
      "Epoch 22, Train Loss(dice): 0.126982,  Valid Loss(dice): 0.133837, Dice Coefficient: 0.798144 ES Count: 5\n",
      "------------------------------------------------------------------------------------\n"
     ]
    },
    {
     "name": "stderr",
     "output_type": "stream",
     "text": [
      "100%|██████████| 402/402 [00:55<00:00,  7.19it/s]\n",
      "100%|██████████| 45/45 [00:03<00:00, 14.99it/s]\n"
     ]
    },
    {
     "name": "stdout",
     "output_type": "stream",
     "text": [
      "Epoch 23, Train Loss(dice): 0.125241,  Valid Loss(dice): 0.133743, Dice Coefficient: 0.800276 ES Count: 6\n",
      "------------------------------------------------------------------------------------\n"
     ]
    },
    {
     "name": "stderr",
     "output_type": "stream",
     "text": [
      "100%|██████████| 402/402 [00:55<00:00,  7.22it/s]\n",
      "100%|██████████| 45/45 [00:02<00:00, 15.14it/s]\n"
     ]
    },
    {
     "name": "stdout",
     "output_type": "stream",
     "text": [
      "Epoch [24] New Minimum Valid Loss!\n",
      "Epoch 24, Train Loss(dice): 0.125296,  Valid Loss(dice): 0.133436, Dice Coefficient: 0.800418 ES Count: 0\n",
      "------------------------------------------------------------------------------------\n"
     ]
    },
    {
     "name": "stderr",
     "output_type": "stream",
     "text": [
      "100%|██████████| 402/402 [00:55<00:00,  7.22it/s]\n",
      "100%|██████████| 45/45 [00:02<00:00, 15.04it/s]\n"
     ]
    },
    {
     "name": "stdout",
     "output_type": "stream",
     "text": [
      "Epoch 25, Train Loss(dice): 0.124074,  Valid Loss(dice): 0.133488, Dice Coefficient: 0.798899 ES Count: 1\n",
      "------------------------------------------------------------------------------------\n"
     ]
    },
    {
     "name": "stderr",
     "output_type": "stream",
     "text": [
      "100%|██████████| 402/402 [00:55<00:00,  7.24it/s]\n",
      "100%|██████████| 45/45 [00:03<00:00, 14.68it/s]\n"
     ]
    },
    {
     "name": "stdout",
     "output_type": "stream",
     "text": [
      "Epoch [26] New Minimum Valid Loss!\n",
      "Epoch 26, Train Loss(dice): 0.127573,  Valid Loss(dice): 0.133114, Dice Coefficient: 0.800614 ES Count: 0\n",
      "------------------------------------------------------------------------------------\n"
     ]
    },
    {
     "name": "stderr",
     "output_type": "stream",
     "text": [
      "100%|██████████| 402/402 [00:55<00:00,  7.23it/s]\n",
      "100%|██████████| 45/45 [00:02<00:00, 15.09it/s]\n"
     ]
    },
    {
     "name": "stdout",
     "output_type": "stream",
     "text": [
      "Epoch 27, Train Loss(dice): 0.126074,  Valid Loss(dice): 0.133567, Dice Coefficient: 0.802675 ES Count: 1\n",
      "------------------------------------------------------------------------------------\n"
     ]
    },
    {
     "name": "stderr",
     "output_type": "stream",
     "text": [
      "100%|██████████| 402/402 [00:55<00:00,  7.20it/s]\n",
      "100%|██████████| 45/45 [00:02<00:00, 15.01it/s]\n"
     ]
    },
    {
     "name": "stdout",
     "output_type": "stream",
     "text": [
      "Epoch 28, Train Loss(dice): 0.124112,  Valid Loss(dice): 0.133310, Dice Coefficient: 0.801221 ES Count: 2\n",
      "------------------------------------------------------------------------------------\n"
     ]
    },
    {
     "name": "stderr",
     "output_type": "stream",
     "text": [
      "100%|██████████| 402/402 [00:55<00:00,  7.18it/s]\n",
      "100%|██████████| 45/45 [00:03<00:00, 14.96it/s]\n"
     ]
    },
    {
     "name": "stdout",
     "output_type": "stream",
     "text": [
      "Epoch 29, Train Loss(dice): 0.126930,  Valid Loss(dice): 0.133298, Dice Coefficient: 0.801511 ES Count: 3\n",
      "------------------------------------------------------------------------------------\n"
     ]
    },
    {
     "name": "stderr",
     "output_type": "stream",
     "text": [
      "100%|██████████| 402/402 [00:56<00:00,  7.17it/s]\n",
      "100%|██████████| 45/45 [00:02<00:00, 15.07it/s]\n"
     ]
    },
    {
     "name": "stdout",
     "output_type": "stream",
     "text": [
      "Epoch [30] New Minimum Valid Loss!\n",
      "Epoch 30, Train Loss(dice): 0.124288,  Valid Loss(dice): 0.132848, Dice Coefficient: 0.802181 ES Count: 0\n",
      "------------------------------------------------------------------------------------\n"
     ]
    },
    {
     "name": "stderr",
     "output_type": "stream",
     "text": [
      "100%|██████████| 402/402 [00:55<00:00,  7.20it/s]\n",
      "100%|██████████| 45/45 [00:02<00:00, 15.06it/s]\n"
     ]
    },
    {
     "name": "stdout",
     "output_type": "stream",
     "text": [
      "Epoch [31] New Minimum Valid Loss!\n",
      "Epoch 31, Train Loss(dice): 0.123847,  Valid Loss(dice): 0.132795, Dice Coefficient: 0.801236 ES Count: 0\n",
      "------------------------------------------------------------------------------------\n"
     ]
    },
    {
     "name": "stderr",
     "output_type": "stream",
     "text": [
      "100%|██████████| 402/402 [00:55<00:00,  7.20it/s]\n",
      "100%|██████████| 45/45 [00:03<00:00, 14.62it/s]\n"
     ]
    },
    {
     "name": "stdout",
     "output_type": "stream",
     "text": [
      "Epoch 32, Train Loss(dice): 0.125309,  Valid Loss(dice): 0.133603, Dice Coefficient: 0.799695 ES Count: 1\n",
      "------------------------------------------------------------------------------------\n"
     ]
    },
    {
     "name": "stderr",
     "output_type": "stream",
     "text": [
      "100%|██████████| 402/402 [00:55<00:00,  7.21it/s]\n",
      "100%|██████████| 45/45 [00:02<00:00, 15.24it/s]\n"
     ]
    },
    {
     "name": "stdout",
     "output_type": "stream",
     "text": [
      "Epoch 33, Train Loss(dice): 0.126565,  Valid Loss(dice): 0.133319, Dice Coefficient: 0.799861 ES Count: 2\n",
      "------------------------------------------------------------------------------------\n"
     ]
    },
    {
     "name": "stderr",
     "output_type": "stream",
     "text": [
      "100%|██████████| 402/402 [00:55<00:00,  7.22it/s]\n",
      "100%|██████████| 45/45 [00:02<00:00, 15.15it/s]\n"
     ]
    },
    {
     "name": "stdout",
     "output_type": "stream",
     "text": [
      "Epoch 34, Train Loss(dice): 0.124035,  Valid Loss(dice): 0.133039, Dice Coefficient: 0.800312 ES Count: 3\n",
      "------------------------------------------------------------------------------------\n"
     ]
    },
    {
     "name": "stderr",
     "output_type": "stream",
     "text": [
      "100%|██████████| 402/402 [00:55<00:00,  7.19it/s]\n",
      "100%|██████████| 45/45 [00:02<00:00, 15.23it/s]\n"
     ]
    },
    {
     "name": "stdout",
     "output_type": "stream",
     "text": [
      "Epoch [35] New Minimum Valid Loss!\n",
      "Epoch 35, Train Loss(dice): 0.124620,  Valid Loss(dice): 0.132721, Dice Coefficient: 0.799573 ES Count: 0\n",
      "------------------------------------------------------------------------------------\n"
     ]
    },
    {
     "name": "stderr",
     "output_type": "stream",
     "text": [
      "100%|██████████| 402/402 [00:55<00:00,  7.19it/s]\n",
      "100%|██████████| 45/45 [00:03<00:00, 14.90it/s]\n"
     ]
    },
    {
     "name": "stdout",
     "output_type": "stream",
     "text": [
      "Epoch 36, Train Loss(dice): 0.122597,  Valid Loss(dice): 0.132797, Dice Coefficient: 0.800496 ES Count: 1\n",
      "------------------------------------------------------------------------------------\n"
     ]
    },
    {
     "name": "stderr",
     "output_type": "stream",
     "text": [
      "100%|██████████| 402/402 [00:55<00:00,  7.20it/s]\n",
      "100%|██████████| 45/45 [00:02<00:00, 15.29it/s]\n"
     ]
    },
    {
     "name": "stdout",
     "output_type": "stream",
     "text": [
      "Epoch 37, Train Loss(dice): 0.124406,  Valid Loss(dice): 0.132751, Dice Coefficient: 0.801233 ES Count: 2\n",
      "------------------------------------------------------------------------------------\n"
     ]
    },
    {
     "name": "stderr",
     "output_type": "stream",
     "text": [
      "100%|██████████| 402/402 [00:55<00:00,  7.19it/s]\n",
      "100%|██████████| 45/45 [00:02<00:00, 15.19it/s]\n"
     ]
    },
    {
     "name": "stdout",
     "output_type": "stream",
     "text": [
      "Epoch [38] New Minimum Valid Loss!\n",
      "Epoch 38, Train Loss(dice): 0.124287,  Valid Loss(dice): 0.132623, Dice Coefficient: 0.799908 ES Count: 0\n",
      "------------------------------------------------------------------------------------\n"
     ]
    },
    {
     "name": "stderr",
     "output_type": "stream",
     "text": [
      "100%|██████████| 402/402 [00:55<00:00,  7.21it/s]\n",
      "100%|██████████| 45/45 [00:02<00:00, 15.15it/s]\n"
     ]
    },
    {
     "name": "stdout",
     "output_type": "stream",
     "text": [
      "Epoch [39] New Minimum Valid Loss!\n",
      "Epoch 39, Train Loss(dice): 0.123952,  Valid Loss(dice): 0.132476, Dice Coefficient: 0.800059 ES Count: 0\n",
      "------------------------------------------------------------------------------------\n"
     ]
    },
    {
     "name": "stderr",
     "output_type": "stream",
     "text": [
      "100%|██████████| 402/402 [00:55<00:00,  7.22it/s]\n",
      "100%|██████████| 45/45 [00:02<00:00, 15.07it/s]\n"
     ]
    },
    {
     "name": "stdout",
     "output_type": "stream",
     "text": [
      "Epoch 40, Train Loss(dice): 0.122917,  Valid Loss(dice): 0.132504, Dice Coefficient: 0.800040 ES Count: 1\n",
      "------------------------------------------------------------------------------------\n"
     ]
    },
    {
     "name": "stderr",
     "output_type": "stream",
     "text": [
      "100%|██████████| 402/402 [00:55<00:00,  7.20it/s]\n",
      "100%|██████████| 45/45 [00:02<00:00, 15.03it/s]\n"
     ]
    },
    {
     "name": "stdout",
     "output_type": "stream",
     "text": [
      "Epoch 41, Train Loss(dice): 0.126622,  Valid Loss(dice): 0.132834, Dice Coefficient: 0.801359 ES Count: 2\n",
      "------------------------------------------------------------------------------------\n"
     ]
    },
    {
     "name": "stderr",
     "output_type": "stream",
     "text": [
      "100%|██████████| 402/402 [00:55<00:00,  7.20it/s]\n",
      "100%|██████████| 45/45 [00:02<00:00, 15.07it/s]\n"
     ]
    },
    {
     "name": "stdout",
     "output_type": "stream",
     "text": [
      "Epoch 42, Train Loss(dice): 0.127250,  Valid Loss(dice): 0.132714, Dice Coefficient: 0.801401 ES Count: 3\n",
      "------------------------------------------------------------------------------------\n"
     ]
    },
    {
     "name": "stderr",
     "output_type": "stream",
     "text": [
      "100%|██████████| 402/402 [00:55<00:00,  7.18it/s]\n",
      "100%|██████████| 45/45 [00:02<00:00, 15.30it/s]\n"
     ]
    },
    {
     "name": "stdout",
     "output_type": "stream",
     "text": [
      "Epoch 43, Train Loss(dice): 0.126287,  Valid Loss(dice): 0.132948, Dice Coefficient: 0.799930 ES Count: 4\n",
      "------------------------------------------------------------------------------------\n"
     ]
    },
    {
     "name": "stderr",
     "output_type": "stream",
     "text": [
      "100%|██████████| 402/402 [00:55<00:00,  7.19it/s]\n",
      "100%|██████████| 45/45 [00:02<00:00, 15.35it/s]\n"
     ]
    },
    {
     "name": "stdout",
     "output_type": "stream",
     "text": [
      "Epoch 44, Train Loss(dice): 0.127771,  Valid Loss(dice): 0.132849, Dice Coefficient: 0.799882 ES Count: 5\n",
      "------------------------------------------------------------------------------------\n"
     ]
    },
    {
     "name": "stderr",
     "output_type": "stream",
     "text": [
      "100%|██████████| 402/402 [00:55<00:00,  7.23it/s]\n",
      "100%|██████████| 45/45 [00:02<00:00, 15.08it/s]\n"
     ]
    },
    {
     "name": "stdout",
     "output_type": "stream",
     "text": [
      "Epoch 45, Train Loss(dice): 0.126646,  Valid Loss(dice): 0.132804, Dice Coefficient: 0.798451 ES Count: 6\n",
      "------------------------------------------------------------------------------------\n"
     ]
    },
    {
     "name": "stderr",
     "output_type": "stream",
     "text": [
      "100%|██████████| 402/402 [00:55<00:00,  7.20it/s]\n",
      "100%|██████████| 45/45 [00:02<00:00, 15.54it/s]\n"
     ]
    },
    {
     "name": "stdout",
     "output_type": "stream",
     "text": [
      "Epoch 46, Train Loss(dice): 0.125027,  Valid Loss(dice): 0.132656, Dice Coefficient: 0.800974 ES Count: 7\n",
      "------------------------------------------------------------------------------------\n"
     ]
    },
    {
     "name": "stderr",
     "output_type": "stream",
     "text": [
      "100%|██████████| 402/402 [00:55<00:00,  7.22it/s]\n",
      "100%|██████████| 45/45 [00:02<00:00, 15.06it/s]\n"
     ]
    },
    {
     "name": "stdout",
     "output_type": "stream",
     "text": [
      "Epoch 47, Train Loss(dice): 0.125211,  Valid Loss(dice): 0.132661, Dice Coefficient: 0.800557 ES Count: 8\n",
      "------------------------------------------------------------------------------------\n"
     ]
    },
    {
     "name": "stderr",
     "output_type": "stream",
     "text": [
      "100%|██████████| 402/402 [00:55<00:00,  7.22it/s]\n",
      "100%|██████████| 45/45 [00:02<00:00, 15.15it/s]\n"
     ]
    },
    {
     "name": "stdout",
     "output_type": "stream",
     "text": [
      "Epoch 48, Train Loss(dice): 0.122982,  Valid Loss(dice): 0.132560, Dice Coefficient: 0.800517 ES Count: 9\n",
      "------------------------------------------------------------------------------------\n"
     ]
    },
    {
     "name": "stderr",
     "output_type": "stream",
     "text": [
      "100%|██████████| 402/402 [00:55<00:00,  7.21it/s]\n",
      "100%|██████████| 45/45 [00:02<00:00, 15.01it/s]\n"
     ]
    },
    {
     "name": "stdout",
     "output_type": "stream",
     "text": [
      "Epoch 49, Train Loss(dice): 0.122602,  Valid Loss(dice): 0.132585, Dice Coefficient: 0.800426 ES Count: 10\n",
      "------------------------------------------------------------------------------------\n"
     ]
    },
    {
     "name": "stderr",
     "output_type": "stream",
     "text": [
      "100%|██████████| 402/402 [00:55<00:00,  7.20it/s]\n",
      "100%|██████████| 45/45 [00:03<00:00, 14.78it/s]\n"
     ]
    },
    {
     "name": "stdout",
     "output_type": "stream",
     "text": [
      "Epoch 50, Train Loss(dice): 0.125238,  Valid Loss(dice): 0.132497, Dice Coefficient: 0.801028 ES Count: 11\n",
      "------------------------------------------------------------------------------------\n"
     ]
    },
    {
     "name": "stderr",
     "output_type": "stream",
     "text": [
      "100%|██████████| 402/402 [00:55<00:00,  7.21it/s]\n",
      "100%|██████████| 45/45 [00:03<00:00, 14.44it/s]\n"
     ]
    },
    {
     "name": "stdout",
     "output_type": "stream",
     "text": [
      "Epoch 51, Train Loss(dice): 0.122590,  Valid Loss(dice): 0.132721, Dice Coefficient: 0.801028 ES Count: 12\n",
      "------------------------------------------------------------------------------------\n"
     ]
    },
    {
     "name": "stderr",
     "output_type": "stream",
     "text": [
      "100%|██████████| 402/402 [00:55<00:00,  7.24it/s]\n",
      "100%|██████████| 45/45 [00:03<00:00, 13.82it/s]\n"
     ]
    },
    {
     "name": "stdout",
     "output_type": "stream",
     "text": [
      "Epoch 52, Train Loss(dice): 0.125185,  Valid Loss(dice): 0.132668, Dice Coefficient: 0.800748 ES Count: 13\n",
      "------------------------------------------------------------------------------------\n"
     ]
    },
    {
     "name": "stderr",
     "output_type": "stream",
     "text": [
      "100%|██████████| 402/402 [00:55<00:00,  7.20it/s]\n",
      "100%|██████████| 45/45 [00:03<00:00, 14.44it/s]\n"
     ]
    },
    {
     "name": "stdout",
     "output_type": "stream",
     "text": [
      "Epoch 53, Train Loss(dice): 0.125000,  Valid Loss(dice): 0.132518, Dice Coefficient: 0.800413 ES Count: 14\n",
      "------------------------------------------------------------------------------------\n"
     ]
    },
    {
     "name": "stderr",
     "output_type": "stream",
     "text": [
      "100%|██████████| 402/402 [00:55<00:00,  7.23it/s]\n",
      "100%|██████████| 45/45 [00:03<00:00, 13.92it/s]\n"
     ]
    },
    {
     "name": "stdout",
     "output_type": "stream",
     "text": [
      "Epoch [54] New Minimum Valid Loss!\n",
      "Epoch 54, Train Loss(dice): 0.127472,  Valid Loss(dice): 0.132463, Dice Coefficient: 0.800658 ES Count: 0\n",
      "------------------------------------------------------------------------------------\n"
     ]
    },
    {
     "name": "stderr",
     "output_type": "stream",
     "text": [
      "100%|██████████| 402/402 [00:55<00:00,  7.24it/s]\n",
      "100%|██████████| 45/45 [00:04<00:00, 11.08it/s]\n"
     ]
    },
    {
     "name": "stdout",
     "output_type": "stream",
     "text": [
      "Epoch [55] New Minimum Valid Loss!\n",
      "Epoch 55, Train Loss(dice): 0.126193,  Valid Loss(dice): 0.131985, Dice Coefficient: 0.801288 ES Count: 0\n",
      "------------------------------------------------------------------------------------\n"
     ]
    },
    {
     "name": "stderr",
     "output_type": "stream",
     "text": [
      "100%|██████████| 402/402 [00:55<00:00,  7.22it/s]\n",
      "100%|██████████| 45/45 [00:03<00:00, 11.68it/s]\n"
     ]
    },
    {
     "name": "stdout",
     "output_type": "stream",
     "text": [
      "Epoch 56, Train Loss(dice): 0.123723,  Valid Loss(dice): 0.132162, Dice Coefficient: 0.799782 ES Count: 1\n",
      "------------------------------------------------------------------------------------\n"
     ]
    },
    {
     "name": "stderr",
     "output_type": "stream",
     "text": [
      "100%|██████████| 402/402 [00:55<00:00,  7.26it/s]\n",
      "100%|██████████| 45/45 [00:02<00:00, 15.57it/s]\n"
     ]
    },
    {
     "name": "stdout",
     "output_type": "stream",
     "text": [
      "Epoch 57, Train Loss(dice): 0.120776,  Valid Loss(dice): 0.132190, Dice Coefficient: 0.799848 ES Count: 2\n",
      "------------------------------------------------------------------------------------\n"
     ]
    },
    {
     "name": "stderr",
     "output_type": "stream",
     "text": [
      "100%|██████████| 402/402 [00:55<00:00,  7.20it/s]\n",
      "100%|██████████| 45/45 [00:02<00:00, 16.74it/s]\n"
     ]
    },
    {
     "name": "stdout",
     "output_type": "stream",
     "text": [
      "Epoch 58, Train Loss(dice): 0.120877,  Valid Loss(dice): 0.132425, Dice Coefficient: 0.800741 ES Count: 3\n",
      "------------------------------------------------------------------------------------\n"
     ]
    },
    {
     "name": "stderr",
     "output_type": "stream",
     "text": [
      "100%|██████████| 402/402 [00:55<00:00,  7.19it/s]\n",
      "100%|██████████| 45/45 [00:02<00:00, 15.51it/s]\n"
     ]
    },
    {
     "name": "stdout",
     "output_type": "stream",
     "text": [
      "Epoch 59, Train Loss(dice): 0.126385,  Valid Loss(dice): 0.132191, Dice Coefficient: 0.800227 ES Count: 4\n",
      "------------------------------------------------------------------------------------\n"
     ]
    },
    {
     "name": "stderr",
     "output_type": "stream",
     "text": [
      "100%|██████████| 402/402 [00:55<00:00,  7.23it/s]\n",
      "100%|██████████| 45/45 [00:02<00:00, 15.02it/s]\n"
     ]
    },
    {
     "name": "stdout",
     "output_type": "stream",
     "text": [
      "Epoch 60, Train Loss(dice): 0.123894,  Valid Loss(dice): 0.132185, Dice Coefficient: 0.798298 ES Count: 5\n",
      "------------------------------------------------------------------------------------\n"
     ]
    },
    {
     "name": "stderr",
     "output_type": "stream",
     "text": [
      "100%|██████████| 402/402 [00:55<00:00,  7.22it/s]\n",
      "100%|██████████| 45/45 [00:02<00:00, 15.27it/s]\n"
     ]
    },
    {
     "name": "stdout",
     "output_type": "stream",
     "text": [
      "Epoch 61, Train Loss(dice): 0.127060,  Valid Loss(dice): 0.132182, Dice Coefficient: 0.801431 ES Count: 6\n",
      "------------------------------------------------------------------------------------\n"
     ]
    },
    {
     "name": "stderr",
     "output_type": "stream",
     "text": [
      "100%|██████████| 402/402 [00:55<00:00,  7.23it/s]\n",
      "100%|██████████| 45/45 [00:03<00:00, 14.79it/s]\n"
     ]
    },
    {
     "name": "stdout",
     "output_type": "stream",
     "text": [
      "Epoch 62, Train Loss(dice): 0.124549,  Valid Loss(dice): 0.132228, Dice Coefficient: 0.801330 ES Count: 7\n",
      "------------------------------------------------------------------------------------\n"
     ]
    },
    {
     "name": "stderr",
     "output_type": "stream",
     "text": [
      "100%|██████████| 402/402 [00:55<00:00,  7.24it/s]\n",
      "100%|██████████| 45/45 [00:02<00:00, 15.25it/s]\n"
     ]
    },
    {
     "name": "stdout",
     "output_type": "stream",
     "text": [
      "Epoch 63, Train Loss(dice): 0.123677,  Valid Loss(dice): 0.132336, Dice Coefficient: 0.800289 ES Count: 8\n",
      "------------------------------------------------------------------------------------\n"
     ]
    },
    {
     "name": "stderr",
     "output_type": "stream",
     "text": [
      "100%|██████████| 402/402 [00:55<00:00,  7.18it/s]\n",
      "100%|██████████| 45/45 [00:02<00:00, 15.08it/s]\n"
     ]
    },
    {
     "name": "stdout",
     "output_type": "stream",
     "text": [
      "Epoch 64, Train Loss(dice): 0.124497,  Valid Loss(dice): 0.132584, Dice Coefficient: 0.799360 ES Count: 9\n",
      "------------------------------------------------------------------------------------\n"
     ]
    },
    {
     "name": "stderr",
     "output_type": "stream",
     "text": [
      "100%|██████████| 402/402 [00:55<00:00,  7.20it/s]\n",
      "100%|██████████| 45/45 [00:02<00:00, 15.14it/s]\n"
     ]
    },
    {
     "name": "stdout",
     "output_type": "stream",
     "text": [
      "Epoch 65, Train Loss(dice): 0.122381,  Valid Loss(dice): 0.132516, Dice Coefficient: 0.799462 ES Count: 10\n",
      "------------------------------------------------------------------------------------\n"
     ]
    },
    {
     "name": "stderr",
     "output_type": "stream",
     "text": [
      "100%|██████████| 402/402 [00:55<00:00,  7.22it/s]\n",
      "100%|██████████| 45/45 [00:02<00:00, 15.13it/s]\n"
     ]
    },
    {
     "name": "stdout",
     "output_type": "stream",
     "text": [
      "Epoch 66, Train Loss(dice): 0.125002,  Valid Loss(dice): 0.132071, Dice Coefficient: 0.800523 ES Count: 11\n",
      "------------------------------------------------------------------------------------\n"
     ]
    },
    {
     "name": "stderr",
     "output_type": "stream",
     "text": [
      "100%|██████████| 402/402 [00:55<00:00,  7.20it/s]\n",
      "100%|██████████| 45/45 [00:02<00:00, 15.27it/s]\n"
     ]
    },
    {
     "name": "stdout",
     "output_type": "stream",
     "text": [
      "Epoch 67, Train Loss(dice): 0.127536,  Valid Loss(dice): 0.132045, Dice Coefficient: 0.799346 ES Count: 12\n",
      "------------------------------------------------------------------------------------\n"
     ]
    },
    {
     "name": "stderr",
     "output_type": "stream",
     "text": [
      "100%|██████████| 402/402 [00:55<00:00,  7.19it/s]\n",
      "100%|██████████| 45/45 [00:02<00:00, 15.16it/s]\n"
     ]
    },
    {
     "name": "stdout",
     "output_type": "stream",
     "text": [
      "Epoch [68] New Minimum Valid Loss!\n",
      "Epoch 68, Train Loss(dice): 0.126906,  Valid Loss(dice): 0.131939, Dice Coefficient: 0.800502 ES Count: 0\n",
      "------------------------------------------------------------------------------------\n"
     ]
    },
    {
     "name": "stderr",
     "output_type": "stream",
     "text": [
      "100%|██████████| 402/402 [00:55<00:00,  7.25it/s]\n",
      "100%|██████████| 45/45 [00:02<00:00, 15.32it/s]\n"
     ]
    },
    {
     "name": "stdout",
     "output_type": "stream",
     "text": [
      "Epoch [69] New Minimum Valid Loss!\n",
      "Epoch 69, Train Loss(dice): 0.127517,  Valid Loss(dice): 0.131922, Dice Coefficient: 0.800471 ES Count: 0\n",
      "------------------------------------------------------------------------------------\n"
     ]
    },
    {
     "name": "stderr",
     "output_type": "stream",
     "text": [
      "100%|██████████| 402/402 [00:56<00:00,  7.18it/s]\n",
      "100%|██████████| 45/45 [00:03<00:00, 14.91it/s]\n"
     ]
    },
    {
     "name": "stdout",
     "output_type": "stream",
     "text": [
      "Epoch 70, Train Loss(dice): 0.127766,  Valid Loss(dice): 0.132906, Dice Coefficient: 0.799554 ES Count: 1\n",
      "------------------------------------------------------------------------------------\n"
     ]
    },
    {
     "name": "stderr",
     "output_type": "stream",
     "text": [
      "100%|██████████| 402/402 [00:55<00:00,  7.23it/s]\n",
      "100%|██████████| 45/45 [00:02<00:00, 15.35it/s]\n"
     ]
    },
    {
     "name": "stdout",
     "output_type": "stream",
     "text": [
      "Epoch 71, Train Loss(dice): 0.123371,  Valid Loss(dice): 0.132696, Dice Coefficient: 0.800299 ES Count: 2\n",
      "------------------------------------------------------------------------------------\n"
     ]
    },
    {
     "name": "stderr",
     "output_type": "stream",
     "text": [
      "100%|██████████| 402/402 [00:55<00:00,  7.19it/s]\n",
      "100%|██████████| 45/45 [00:03<00:00, 14.77it/s]\n"
     ]
    },
    {
     "name": "stdout",
     "output_type": "stream",
     "text": [
      "Epoch 72, Train Loss(dice): 0.123568,  Valid Loss(dice): 0.132634, Dice Coefficient: 0.799753 ES Count: 3\n",
      "------------------------------------------------------------------------------------\n"
     ]
    },
    {
     "name": "stderr",
     "output_type": "stream",
     "text": [
      "100%|██████████| 402/402 [00:55<00:00,  7.23it/s]\n",
      "100%|██████████| 45/45 [00:02<00:00, 15.35it/s]\n"
     ]
    },
    {
     "name": "stdout",
     "output_type": "stream",
     "text": [
      "Epoch 73, Train Loss(dice): 0.124948,  Valid Loss(dice): 0.132481, Dice Coefficient: 0.801260 ES Count: 4\n",
      "------------------------------------------------------------------------------------\n"
     ]
    },
    {
     "name": "stderr",
     "output_type": "stream",
     "text": [
      "100%|██████████| 402/402 [00:55<00:00,  7.21it/s]\n",
      "100%|██████████| 45/45 [00:02<00:00, 15.39it/s]\n"
     ]
    },
    {
     "name": "stdout",
     "output_type": "stream",
     "text": [
      "Epoch 74, Train Loss(dice): 0.125193,  Valid Loss(dice): 0.132530, Dice Coefficient: 0.801317 ES Count: 5\n",
      "------------------------------------------------------------------------------------\n"
     ]
    },
    {
     "name": "stderr",
     "output_type": "stream",
     "text": [
      "100%|██████████| 402/402 [00:55<00:00,  7.22it/s]\n",
      "100%|██████████| 45/45 [00:02<00:00, 15.06it/s]\n"
     ]
    },
    {
     "name": "stdout",
     "output_type": "stream",
     "text": [
      "Epoch 75, Train Loss(dice): 0.126364,  Valid Loss(dice): 0.132033, Dice Coefficient: 0.800496 ES Count: 6\n",
      "------------------------------------------------------------------------------------\n"
     ]
    },
    {
     "name": "stderr",
     "output_type": "stream",
     "text": [
      "100%|██████████| 402/402 [00:55<00:00,  7.21it/s]\n",
      "100%|██████████| 45/45 [00:03<00:00, 14.92it/s]\n"
     ]
    },
    {
     "name": "stdout",
     "output_type": "stream",
     "text": [
      "Epoch 76, Train Loss(dice): 0.125514,  Valid Loss(dice): 0.132405, Dice Coefficient: 0.800054 ES Count: 7\n",
      "------------------------------------------------------------------------------------\n"
     ]
    },
    {
     "name": "stderr",
     "output_type": "stream",
     "text": [
      "100%|██████████| 402/402 [00:55<00:00,  7.21it/s]\n",
      "100%|██████████| 45/45 [00:02<00:00, 15.33it/s]\n"
     ]
    },
    {
     "name": "stdout",
     "output_type": "stream",
     "text": [
      "Epoch 77, Train Loss(dice): 0.124068,  Valid Loss(dice): 0.132179, Dice Coefficient: 0.801019 ES Count: 8\n",
      "------------------------------------------------------------------------------------\n"
     ]
    },
    {
     "name": "stderr",
     "output_type": "stream",
     "text": [
      "100%|██████████| 402/402 [00:55<00:00,  7.21it/s]\n",
      "100%|██████████| 45/45 [00:02<00:00, 15.03it/s]\n"
     ]
    },
    {
     "name": "stdout",
     "output_type": "stream",
     "text": [
      "Epoch 78, Train Loss(dice): 0.124193,  Valid Loss(dice): 0.132481, Dice Coefficient: 0.801244 ES Count: 9\n",
      "------------------------------------------------------------------------------------\n"
     ]
    },
    {
     "name": "stderr",
     "output_type": "stream",
     "text": [
      "100%|██████████| 402/402 [00:55<00:00,  7.22it/s]\n",
      "100%|██████████| 45/45 [00:03<00:00, 14.79it/s]\n"
     ]
    },
    {
     "name": "stdout",
     "output_type": "stream",
     "text": [
      "Epoch 79, Train Loss(dice): 0.124771,  Valid Loss(dice): 0.132349, Dice Coefficient: 0.800199 ES Count: 10\n",
      "------------------------------------------------------------------------------------\n"
     ]
    },
    {
     "name": "stderr",
     "output_type": "stream",
     "text": [
      "100%|██████████| 402/402 [00:55<00:00,  7.19it/s]\n",
      "100%|██████████| 45/45 [00:02<00:00, 15.15it/s]\n"
     ]
    },
    {
     "name": "stdout",
     "output_type": "stream",
     "text": [
      "Epoch 80, Train Loss(dice): 0.122985,  Valid Loss(dice): 0.132320, Dice Coefficient: 0.801898 ES Count: 11\n",
      "------------------------------------------------------------------------------------\n"
     ]
    },
    {
     "name": "stderr",
     "output_type": "stream",
     "text": [
      "100%|██████████| 402/402 [00:56<00:00,  7.14it/s]\n",
      "100%|██████████| 45/45 [00:03<00:00, 12.19it/s]\n"
     ]
    },
    {
     "name": "stdout",
     "output_type": "stream",
     "text": [
      "Epoch 81, Train Loss(dice): 0.124013,  Valid Loss(dice): 0.132770, Dice Coefficient: 0.800388 ES Count: 12\n",
      "------------------------------------------------------------------------------------\n"
     ]
    },
    {
     "name": "stderr",
     "output_type": "stream",
     "text": [
      "100%|██████████| 402/402 [00:56<00:00,  7.06it/s]\n",
      "100%|██████████| 45/45 [00:03<00:00, 14.25it/s]\n"
     ]
    },
    {
     "name": "stdout",
     "output_type": "stream",
     "text": [
      "Epoch 82, Train Loss(dice): 0.122786,  Valid Loss(dice): 0.132543, Dice Coefficient: 0.801347 ES Count: 13\n",
      "------------------------------------------------------------------------------------\n"
     ]
    },
    {
     "name": "stderr",
     "output_type": "stream",
     "text": [
      "100%|██████████| 402/402 [00:56<00:00,  7.17it/s]\n",
      "100%|██████████| 45/45 [00:03<00:00, 14.10it/s]\n"
     ]
    },
    {
     "name": "stdout",
     "output_type": "stream",
     "text": [
      "Epoch 83, Train Loss(dice): 0.123547,  Valid Loss(dice): 0.131937, Dice Coefficient: 0.799158 ES Count: 14\n",
      "------------------------------------------------------------------------------------\n"
     ]
    },
    {
     "name": "stderr",
     "output_type": "stream",
     "text": [
      "100%|██████████| 402/402 [00:56<00:00,  7.16it/s]\n",
      "100%|██████████| 45/45 [00:03<00:00, 13.63it/s]\n"
     ]
    },
    {
     "name": "stdout",
     "output_type": "stream",
     "text": [
      "Epoch 84, Train Loss(dice): 0.125707,  Valid Loss(dice): 0.132114, Dice Coefficient: 0.798793 ES Count: 15\n",
      "------------------------------------------------------------------------------------\n"
     ]
    },
    {
     "name": "stderr",
     "output_type": "stream",
     "text": [
      "100%|██████████| 402/402 [00:56<00:00,  7.12it/s]\n",
      "100%|██████████| 45/45 [00:03<00:00, 13.88it/s]\n"
     ]
    },
    {
     "name": "stdout",
     "output_type": "stream",
     "text": [
      "Epoch 85, Train Loss(dice): 0.122110,  Valid Loss(dice): 0.131994, Dice Coefficient: 0.798672 ES Count: 16\n",
      "------------------------------------------------------------------------------------\n"
     ]
    },
    {
     "name": "stderr",
     "output_type": "stream",
     "text": [
      "100%|██████████| 402/402 [00:56<00:00,  7.11it/s]\n",
      "100%|██████████| 45/45 [00:03<00:00, 14.11it/s]\n"
     ]
    },
    {
     "name": "stdout",
     "output_type": "stream",
     "text": [
      "Epoch 86, Train Loss(dice): 0.124990,  Valid Loss(dice): 0.132010, Dice Coefficient: 0.798449 ES Count: 17\n",
      "------------------------------------------------------------------------------------\n"
     ]
    },
    {
     "name": "stderr",
     "output_type": "stream",
     "text": [
      "100%|██████████| 402/402 [00:56<00:00,  7.10it/s]\n",
      "100%|██████████| 45/45 [00:03<00:00, 14.32it/s]\n"
     ]
    },
    {
     "name": "stdout",
     "output_type": "stream",
     "text": [
      "Epoch [87] New Minimum Valid Loss!\n",
      "Epoch 87, Train Loss(dice): 0.123479,  Valid Loss(dice): 0.131669, Dice Coefficient: 0.799961 ES Count: 0\n",
      "------------------------------------------------------------------------------------\n"
     ]
    },
    {
     "name": "stderr",
     "output_type": "stream",
     "text": [
      "100%|██████████| 402/402 [00:56<00:00,  7.11it/s]\n",
      "100%|██████████| 45/45 [00:03<00:00, 13.97it/s]\n"
     ]
    },
    {
     "name": "stdout",
     "output_type": "stream",
     "text": [
      "Epoch 88, Train Loss(dice): 0.127574,  Valid Loss(dice): 0.132074, Dice Coefficient: 0.799267 ES Count: 1\n",
      "------------------------------------------------------------------------------------\n"
     ]
    },
    {
     "name": "stderr",
     "output_type": "stream",
     "text": [
      "100%|██████████| 402/402 [00:56<00:00,  7.08it/s]\n",
      "100%|██████████| 45/45 [00:03<00:00, 13.93it/s]\n"
     ]
    },
    {
     "name": "stdout",
     "output_type": "stream",
     "text": [
      "Epoch 89, Train Loss(dice): 0.122903,  Valid Loss(dice): 0.131721, Dice Coefficient: 0.801673 ES Count: 2\n",
      "------------------------------------------------------------------------------------\n"
     ]
    },
    {
     "name": "stderr",
     "output_type": "stream",
     "text": [
      "100%|██████████| 402/402 [00:56<00:00,  7.11it/s]\n",
      "100%|██████████| 45/45 [00:03<00:00, 14.02it/s]\n"
     ]
    },
    {
     "name": "stdout",
     "output_type": "stream",
     "text": [
      "Epoch 90, Train Loss(dice): 0.124333,  Valid Loss(dice): 0.131942, Dice Coefficient: 0.800496 ES Count: 3\n",
      "------------------------------------------------------------------------------------\n"
     ]
    },
    {
     "name": "stderr",
     "output_type": "stream",
     "text": [
      "100%|██████████| 402/402 [00:56<00:00,  7.13it/s]\n",
      "100%|██████████| 45/45 [00:03<00:00, 14.11it/s]\n"
     ]
    },
    {
     "name": "stdout",
     "output_type": "stream",
     "text": [
      "Epoch 91, Train Loss(dice): 0.126284,  Valid Loss(dice): 0.132033, Dice Coefficient: 0.800812 ES Count: 4\n",
      "------------------------------------------------------------------------------------\n"
     ]
    },
    {
     "name": "stderr",
     "output_type": "stream",
     "text": [
      "100%|██████████| 402/402 [00:56<00:00,  7.10it/s]\n",
      "100%|██████████| 45/45 [00:03<00:00, 13.91it/s]\n"
     ]
    },
    {
     "name": "stdout",
     "output_type": "stream",
     "text": [
      "Epoch 92, Train Loss(dice): 0.125213,  Valid Loss(dice): 0.132006, Dice Coefficient: 0.803015 ES Count: 5\n",
      "------------------------------------------------------------------------------------\n"
     ]
    },
    {
     "name": "stderr",
     "output_type": "stream",
     "text": [
      "100%|██████████| 402/402 [00:56<00:00,  7.13it/s]\n",
      "100%|██████████| 45/45 [00:03<00:00, 13.99it/s]\n"
     ]
    },
    {
     "name": "stdout",
     "output_type": "stream",
     "text": [
      "Epoch 93, Train Loss(dice): 0.124463,  Valid Loss(dice): 0.132444, Dice Coefficient: 0.802891 ES Count: 6\n",
      "------------------------------------------------------------------------------------\n"
     ]
    },
    {
     "name": "stderr",
     "output_type": "stream",
     "text": [
      "100%|██████████| 402/402 [00:56<00:00,  7.06it/s]\n",
      "100%|██████████| 45/45 [00:03<00:00, 12.27it/s]\n"
     ]
    },
    {
     "name": "stdout",
     "output_type": "stream",
     "text": [
      "Epoch 94, Train Loss(dice): 0.120729,  Valid Loss(dice): 0.132299, Dice Coefficient: 0.801730 ES Count: 7\n",
      "------------------------------------------------------------------------------------\n"
     ]
    },
    {
     "name": "stderr",
     "output_type": "stream",
     "text": [
      "100%|██████████| 402/402 [00:57<00:00,  7.05it/s]\n",
      "100%|██████████| 45/45 [00:03<00:00, 12.10it/s]\n"
     ]
    },
    {
     "name": "stdout",
     "output_type": "stream",
     "text": [
      "Epoch 95, Train Loss(dice): 0.123529,  Valid Loss(dice): 0.132382, Dice Coefficient: 0.798586 ES Count: 8\n",
      "------------------------------------------------------------------------------------\n"
     ]
    },
    {
     "name": "stderr",
     "output_type": "stream",
     "text": [
      "100%|██████████| 402/402 [00:57<00:00,  7.00it/s]\n",
      "100%|██████████| 45/45 [00:03<00:00, 12.29it/s]\n"
     ]
    },
    {
     "name": "stdout",
     "output_type": "stream",
     "text": [
      "Epoch 96, Train Loss(dice): 0.124196,  Valid Loss(dice): 0.132271, Dice Coefficient: 0.799908 ES Count: 9\n",
      "------------------------------------------------------------------------------------\n"
     ]
    },
    {
     "name": "stderr",
     "output_type": "stream",
     "text": [
      "100%|██████████| 402/402 [00:57<00:00,  6.99it/s]\n",
      "100%|██████████| 45/45 [00:03<00:00, 12.29it/s]\n"
     ]
    },
    {
     "name": "stdout",
     "output_type": "stream",
     "text": [
      "Epoch 97, Train Loss(dice): 0.125854,  Valid Loss(dice): 0.131970, Dice Coefficient: 0.800022 ES Count: 10\n",
      "------------------------------------------------------------------------------------\n"
     ]
    },
    {
     "name": "stderr",
     "output_type": "stream",
     "text": [
      "100%|██████████| 402/402 [00:57<00:00,  6.98it/s]\n",
      "100%|██████████| 45/45 [00:03<00:00, 12.61it/s]\n"
     ]
    },
    {
     "name": "stdout",
     "output_type": "stream",
     "text": [
      "Epoch 98, Train Loss(dice): 0.123344,  Valid Loss(dice): 0.132031, Dice Coefficient: 0.801178 ES Count: 11\n",
      "------------------------------------------------------------------------------------\n"
     ]
    },
    {
     "name": "stderr",
     "output_type": "stream",
     "text": [
      "100%|██████████| 402/402 [00:57<00:00,  7.03it/s]\n",
      "100%|██████████| 45/45 [00:03<00:00, 12.20it/s]\n"
     ]
    },
    {
     "name": "stdout",
     "output_type": "stream",
     "text": [
      "Epoch 99, Train Loss(dice): 0.122358,  Valid Loss(dice): 0.132094, Dice Coefficient: 0.800811 ES Count: 12\n",
      "------------------------------------------------------------------------------------\n"
     ]
    },
    {
     "name": "stderr",
     "output_type": "stream",
     "text": [
      "100%|██████████| 402/402 [00:57<00:00,  7.02it/s]\n",
      "100%|██████████| 45/45 [00:03<00:00, 11.85it/s]\n"
     ]
    },
    {
     "name": "stdout",
     "output_type": "stream",
     "text": [
      "Epoch 100, Train Loss(dice): 0.124138,  Valid Loss(dice): 0.132002, Dice Coefficient: 0.800636 ES Count: 13\n",
      "------------------------------------------------------------------------------------\n"
     ]
    },
    {
     "name": "stderr",
     "output_type": "stream",
     "text": [
      "100%|██████████| 402/402 [00:56<00:00,  7.06it/s]\n",
      "100%|██████████| 45/45 [00:03<00:00, 11.81it/s]\n"
     ]
    },
    {
     "name": "stdout",
     "output_type": "stream",
     "text": [
      "Epoch [101] New Minimum Valid Loss!\n",
      "Epoch 101, Train Loss(dice): 0.124309,  Valid Loss(dice): 0.131567, Dice Coefficient: 0.800021 ES Count: 0\n",
      "------------------------------------------------------------------------------------\n"
     ]
    },
    {
     "name": "stderr",
     "output_type": "stream",
     "text": [
      "100%|██████████| 402/402 [00:57<00:00,  7.03it/s]\n",
      "100%|██████████| 45/45 [00:03<00:00, 11.80it/s]\n"
     ]
    },
    {
     "name": "stdout",
     "output_type": "stream",
     "text": [
      "Epoch 102, Train Loss(dice): 0.123360,  Valid Loss(dice): 0.131708, Dice Coefficient: 0.801534 ES Count: 1\n",
      "------------------------------------------------------------------------------------\n"
     ]
    },
    {
     "name": "stderr",
     "output_type": "stream",
     "text": [
      "100%|██████████| 402/402 [00:57<00:00,  7.00it/s]\n",
      "100%|██████████| 45/45 [00:03<00:00, 12.58it/s]\n"
     ]
    },
    {
     "name": "stdout",
     "output_type": "stream",
     "text": [
      "Epoch 103, Train Loss(dice): 0.121556,  Valid Loss(dice): 0.131883, Dice Coefficient: 0.800552 ES Count: 2\n",
      "------------------------------------------------------------------------------------\n"
     ]
    },
    {
     "name": "stderr",
     "output_type": "stream",
     "text": [
      "100%|██████████| 402/402 [00:57<00:00,  7.03it/s]\n",
      "100%|██████████| 45/45 [00:03<00:00, 12.04it/s]\n"
     ]
    },
    {
     "name": "stdout",
     "output_type": "stream",
     "text": [
      "Epoch 104, Train Loss(dice): 0.124268,  Valid Loss(dice): 0.132045, Dice Coefficient: 0.801323 ES Count: 3\n",
      "------------------------------------------------------------------------------------\n"
     ]
    },
    {
     "name": "stderr",
     "output_type": "stream",
     "text": [
      "100%|██████████| 402/402 [00:57<00:00,  7.03it/s]\n",
      "100%|██████████| 45/45 [00:03<00:00, 12.00it/s]\n"
     ]
    },
    {
     "name": "stdout",
     "output_type": "stream",
     "text": [
      "Epoch 105, Train Loss(dice): 0.125223,  Valid Loss(dice): 0.131850, Dice Coefficient: 0.800626 ES Count: 4\n",
      "------------------------------------------------------------------------------------\n"
     ]
    },
    {
     "name": "stderr",
     "output_type": "stream",
     "text": [
      "100%|██████████| 402/402 [00:57<00:00,  7.03it/s]\n",
      "100%|██████████| 45/45 [00:04<00:00, 10.98it/s]\n"
     ]
    },
    {
     "name": "stdout",
     "output_type": "stream",
     "text": [
      "Epoch 106, Train Loss(dice): 0.123430,  Valid Loss(dice): 0.131740, Dice Coefficient: 0.802165 ES Count: 5\n",
      "------------------------------------------------------------------------------------\n"
     ]
    },
    {
     "name": "stderr",
     "output_type": "stream",
     "text": [
      "100%|██████████| 402/402 [00:55<00:00,  7.20it/s]\n",
      "100%|██████████| 45/45 [00:02<00:00, 15.35it/s]\n"
     ]
    },
    {
     "name": "stdout",
     "output_type": "stream",
     "text": [
      "Epoch 107, Train Loss(dice): 0.126290,  Valid Loss(dice): 0.131721, Dice Coefficient: 0.803284 ES Count: 6\n",
      "------------------------------------------------------------------------------------\n"
     ]
    },
    {
     "name": "stderr",
     "output_type": "stream",
     "text": [
      "100%|██████████| 402/402 [00:55<00:00,  7.19it/s]\n",
      "100%|██████████| 45/45 [00:02<00:00, 15.30it/s]\n"
     ]
    },
    {
     "name": "stdout",
     "output_type": "stream",
     "text": [
      "Epoch 108, Train Loss(dice): 0.124734,  Valid Loss(dice): 0.131725, Dice Coefficient: 0.801664 ES Count: 7\n",
      "------------------------------------------------------------------------------------\n"
     ]
    },
    {
     "name": "stderr",
     "output_type": "stream",
     "text": [
      "100%|██████████| 402/402 [00:55<00:00,  7.19it/s]\n",
      "100%|██████████| 45/45 [00:03<00:00, 14.94it/s]\n"
     ]
    },
    {
     "name": "stdout",
     "output_type": "stream",
     "text": [
      "Epoch 109, Train Loss(dice): 0.121291,  Valid Loss(dice): 0.132198, Dice Coefficient: 0.801252 ES Count: 8\n",
      "------------------------------------------------------------------------------------\n"
     ]
    },
    {
     "name": "stderr",
     "output_type": "stream",
     "text": [
      "100%|██████████| 402/402 [00:55<00:00,  7.18it/s]\n",
      "100%|██████████| 45/45 [00:02<00:00, 15.17it/s]\n"
     ]
    },
    {
     "name": "stdout",
     "output_type": "stream",
     "text": [
      "Epoch 110, Train Loss(dice): 0.123974,  Valid Loss(dice): 0.132584, Dice Coefficient: 0.801609 ES Count: 9\n",
      "------------------------------------------------------------------------------------\n"
     ]
    },
    {
     "name": "stderr",
     "output_type": "stream",
     "text": [
      "100%|██████████| 402/402 [00:55<00:00,  7.22it/s]\n",
      "100%|██████████| 45/45 [00:03<00:00, 14.44it/s]\n"
     ]
    },
    {
     "name": "stdout",
     "output_type": "stream",
     "text": [
      "Epoch 111, Train Loss(dice): 0.120445,  Valid Loss(dice): 0.132647, Dice Coefficient: 0.803401 ES Count: 10\n",
      "------------------------------------------------------------------------------------\n"
     ]
    },
    {
     "name": "stderr",
     "output_type": "stream",
     "text": [
      "100%|██████████| 402/402 [00:55<00:00,  7.24it/s]\n",
      "100%|██████████| 45/45 [00:03<00:00, 14.19it/s]\n"
     ]
    },
    {
     "name": "stdout",
     "output_type": "stream",
     "text": [
      "Epoch 112, Train Loss(dice): 0.124428,  Valid Loss(dice): 0.132315, Dice Coefficient: 0.801562 ES Count: 11\n",
      "------------------------------------------------------------------------------------\n"
     ]
    },
    {
     "name": "stderr",
     "output_type": "stream",
     "text": [
      "100%|██████████| 402/402 [00:55<00:00,  7.25it/s]\n",
      "100%|██████████| 45/45 [00:03<00:00, 12.67it/s]\n"
     ]
    },
    {
     "name": "stdout",
     "output_type": "stream",
     "text": [
      "Epoch 113, Train Loss(dice): 0.126709,  Valid Loss(dice): 0.132899, Dice Coefficient: 0.801229 ES Count: 12\n",
      "------------------------------------------------------------------------------------\n"
     ]
    },
    {
     "name": "stderr",
     "output_type": "stream",
     "text": [
      "100%|██████████| 402/402 [00:55<00:00,  7.22it/s]\n",
      "100%|██████████| 45/45 [00:04<00:00, 10.91it/s]\n"
     ]
    },
    {
     "name": "stdout",
     "output_type": "stream",
     "text": [
      "Epoch 114, Train Loss(dice): 0.124192,  Valid Loss(dice): 0.133018, Dice Coefficient: 0.800471 ES Count: 13\n",
      "------------------------------------------------------------------------------------\n"
     ]
    },
    {
     "name": "stderr",
     "output_type": "stream",
     "text": [
      "100%|██████████| 402/402 [00:55<00:00,  7.22it/s]\n",
      "100%|██████████| 45/45 [00:03<00:00, 12.46it/s]\n"
     ]
    },
    {
     "name": "stdout",
     "output_type": "stream",
     "text": [
      "Epoch 115, Train Loss(dice): 0.123422,  Valid Loss(dice): 0.132694, Dice Coefficient: 0.803229 ES Count: 14\n",
      "------------------------------------------------------------------------------------\n"
     ]
    },
    {
     "name": "stderr",
     "output_type": "stream",
     "text": [
      "100%|██████████| 402/402 [00:55<00:00,  7.23it/s]\n",
      "100%|██████████| 45/45 [00:02<00:00, 16.61it/s]\n"
     ]
    },
    {
     "name": "stdout",
     "output_type": "stream",
     "text": [
      "Epoch 116, Train Loss(dice): 0.125569,  Valid Loss(dice): 0.132803, Dice Coefficient: 0.801710 ES Count: 15\n",
      "------------------------------------------------------------------------------------\n"
     ]
    },
    {
     "name": "stderr",
     "output_type": "stream",
     "text": [
      "100%|██████████| 402/402 [00:55<00:00,  7.21it/s]\n",
      "100%|██████████| 45/45 [00:02<00:00, 16.27it/s]\n"
     ]
    },
    {
     "name": "stdout",
     "output_type": "stream",
     "text": [
      "Epoch 117, Train Loss(dice): 0.127852,  Valid Loss(dice): 0.132540, Dice Coefficient: 0.803045 ES Count: 16\n",
      "------------------------------------------------------------------------------------\n"
     ]
    },
    {
     "name": "stderr",
     "output_type": "stream",
     "text": [
      "100%|██████████| 402/402 [00:55<00:00,  7.22it/s]\n",
      "100%|██████████| 45/45 [00:02<00:00, 15.02it/s]\n"
     ]
    },
    {
     "name": "stdout",
     "output_type": "stream",
     "text": [
      "Epoch 118, Train Loss(dice): 0.122137,  Valid Loss(dice): 0.132282, Dice Coefficient: 0.804442 ES Count: 17\n",
      "------------------------------------------------------------------------------------\n"
     ]
    },
    {
     "name": "stderr",
     "output_type": "stream",
     "text": [
      "100%|██████████| 402/402 [00:56<00:00,  7.17it/s]\n",
      "100%|██████████| 45/45 [00:03<00:00, 12.01it/s]\n"
     ]
    },
    {
     "name": "stdout",
     "output_type": "stream",
     "text": [
      "Epoch 119, Train Loss(dice): 0.125804,  Valid Loss(dice): 0.132396, Dice Coefficient: 0.803179 ES Count: 18\n",
      "------------------------------------------------------------------------------------\n"
     ]
    },
    {
     "name": "stderr",
     "output_type": "stream",
     "text": [
      "100%|██████████| 402/402 [00:56<00:00,  7.18it/s]\n",
      "100%|██████████| 45/45 [00:03<00:00, 14.45it/s]\n"
     ]
    },
    {
     "name": "stdout",
     "output_type": "stream",
     "text": [
      "Epoch 120, Train Loss(dice): 0.126010,  Valid Loss(dice): 0.132699, Dice Coefficient: 0.803982 ES Count: 19\n",
      "------------------------------------------------------------------------------------\n"
     ]
    },
    {
     "name": "stderr",
     "output_type": "stream",
     "text": [
      "100%|██████████| 402/402 [00:56<00:00,  7.17it/s]\n",
      "100%|██████████| 45/45 [00:03<00:00, 14.31it/s]\n"
     ]
    },
    {
     "name": "stdout",
     "output_type": "stream",
     "text": [
      "Epoch 121, Train Loss(dice): 0.125405,  Valid Loss(dice): 0.132300, Dice Coefficient: 0.802157 ES Count: 20\n",
      "------------------------------------------------------------------------------------\n"
     ]
    },
    {
     "name": "stderr",
     "output_type": "stream",
     "text": [
      "100%|██████████| 402/402 [00:56<00:00,  7.17it/s]\n",
      "100%|██████████| 45/45 [00:03<00:00, 14.43it/s]\n"
     ]
    },
    {
     "name": "stdout",
     "output_type": "stream",
     "text": [
      "Epoch 122, Train Loss(dice): 0.123287,  Valid Loss(dice): 0.133211, Dice Coefficient: 0.802016 ES Count: 21\n",
      "------------------------------------------------------------------------------------\n"
     ]
    },
    {
     "name": "stderr",
     "output_type": "stream",
     "text": [
      "100%|██████████| 402/402 [00:55<00:00,  7.18it/s]\n",
      "100%|██████████| 45/45 [00:03<00:00, 14.34it/s]\n"
     ]
    },
    {
     "name": "stdout",
     "output_type": "stream",
     "text": [
      "Epoch 123, Train Loss(dice): 0.125233,  Valid Loss(dice): 0.132947, Dice Coefficient: 0.803500 ES Count: 22\n",
      "------------------------------------------------------------------------------------\n"
     ]
    },
    {
     "name": "stderr",
     "output_type": "stream",
     "text": [
      "100%|██████████| 402/402 [00:55<00:00,  7.18it/s]\n",
      "100%|██████████| 45/45 [00:03<00:00, 14.76it/s]\n"
     ]
    },
    {
     "name": "stdout",
     "output_type": "stream",
     "text": [
      "Epoch 124, Train Loss(dice): 0.123392,  Valid Loss(dice): 0.132550, Dice Coefficient: 0.803945 ES Count: 23\n",
      "------------------------------------------------------------------------------------\n"
     ]
    },
    {
     "name": "stderr",
     "output_type": "stream",
     "text": [
      "100%|██████████| 402/402 [00:55<00:00,  7.21it/s]\n",
      "100%|██████████| 45/45 [00:02<00:00, 15.17it/s]\n"
     ]
    },
    {
     "name": "stdout",
     "output_type": "stream",
     "text": [
      "Epoch [125] New Minimum Valid Loss!\n",
      "Epoch 125, Train Loss(dice): 0.125281,  Valid Loss(dice): 0.131526, Dice Coefficient: 0.804402 ES Count: 0\n",
      "------------------------------------------------------------------------------------\n"
     ]
    },
    {
     "name": "stderr",
     "output_type": "stream",
     "text": [
      "100%|██████████| 402/402 [00:55<00:00,  7.21it/s]\n",
      "100%|██████████| 45/45 [00:02<00:00, 15.13it/s]\n"
     ]
    },
    {
     "name": "stdout",
     "output_type": "stream",
     "text": [
      "Epoch 126, Train Loss(dice): 0.127607,  Valid Loss(dice): 0.131755, Dice Coefficient: 0.804197 ES Count: 1\n",
      "------------------------------------------------------------------------------------\n"
     ]
    },
    {
     "name": "stderr",
     "output_type": "stream",
     "text": [
      "100%|██████████| 402/402 [00:55<00:00,  7.19it/s]\n",
      "100%|██████████| 45/45 [00:03<00:00, 14.97it/s]\n"
     ]
    },
    {
     "name": "stdout",
     "output_type": "stream",
     "text": [
      "Epoch 127, Train Loss(dice): 0.125667,  Valid Loss(dice): 0.131589, Dice Coefficient: 0.802903 ES Count: 2\n",
      "------------------------------------------------------------------------------------\n"
     ]
    },
    {
     "name": "stderr",
     "output_type": "stream",
     "text": [
      "100%|██████████| 402/402 [00:55<00:00,  7.20it/s]\n",
      "100%|██████████| 45/45 [00:02<00:00, 15.13it/s]\n"
     ]
    },
    {
     "name": "stdout",
     "output_type": "stream",
     "text": [
      "Epoch 128, Train Loss(dice): 0.121282,  Valid Loss(dice): 0.131544, Dice Coefficient: 0.801649 ES Count: 3\n",
      "------------------------------------------------------------------------------------\n"
     ]
    },
    {
     "name": "stderr",
     "output_type": "stream",
     "text": [
      "100%|██████████| 402/402 [00:55<00:00,  7.20it/s]\n",
      "100%|██████████| 45/45 [00:03<00:00, 15.00it/s]\n"
     ]
    },
    {
     "name": "stdout",
     "output_type": "stream",
     "text": [
      "Epoch [129] New Minimum Valid Loss!\n",
      "Epoch 129, Train Loss(dice): 0.121376,  Valid Loss(dice): 0.131349, Dice Coefficient: 0.801546 ES Count: 0\n",
      "------------------------------------------------------------------------------------\n"
     ]
    },
    {
     "name": "stderr",
     "output_type": "stream",
     "text": [
      "100%|██████████| 402/402 [00:55<00:00,  7.21it/s]\n",
      "100%|██████████| 45/45 [00:02<00:00, 15.20it/s]\n"
     ]
    },
    {
     "name": "stdout",
     "output_type": "stream",
     "text": [
      "Epoch 130, Train Loss(dice): 0.122802,  Valid Loss(dice): 0.131811, Dice Coefficient: 0.799871 ES Count: 1\n",
      "------------------------------------------------------------------------------------\n"
     ]
    },
    {
     "name": "stderr",
     "output_type": "stream",
     "text": [
      "100%|██████████| 402/402 [00:56<00:00,  7.16it/s]\n",
      "100%|██████████| 45/45 [00:03<00:00, 14.87it/s]\n"
     ]
    },
    {
     "name": "stdout",
     "output_type": "stream",
     "text": [
      "Epoch 131, Train Loss(dice): 0.122293,  Valid Loss(dice): 0.131529, Dice Coefficient: 0.802404 ES Count: 2\n",
      "------------------------------------------------------------------------------------\n"
     ]
    },
    {
     "name": "stderr",
     "output_type": "stream",
     "text": [
      "100%|██████████| 402/402 [00:56<00:00,  7.17it/s]\n",
      "100%|██████████| 45/45 [00:02<00:00, 15.42it/s]\n"
     ]
    },
    {
     "name": "stdout",
     "output_type": "stream",
     "text": [
      "Epoch 132, Train Loss(dice): 0.122271,  Valid Loss(dice): 0.131547, Dice Coefficient: 0.801047 ES Count: 3\n",
      "------------------------------------------------------------------------------------\n"
     ]
    },
    {
     "name": "stderr",
     "output_type": "stream",
     "text": [
      "100%|██████████| 402/402 [00:55<00:00,  7.23it/s]\n",
      "100%|██████████| 45/45 [00:03<00:00, 14.70it/s]\n"
     ]
    },
    {
     "name": "stdout",
     "output_type": "stream",
     "text": [
      "Epoch 133, Train Loss(dice): 0.120683,  Valid Loss(dice): 0.131475, Dice Coefficient: 0.802727 ES Count: 4\n",
      "------------------------------------------------------------------------------------\n"
     ]
    },
    {
     "name": "stderr",
     "output_type": "stream",
     "text": [
      "100%|██████████| 402/402 [00:56<00:00,  7.17it/s]\n",
      "100%|██████████| 45/45 [00:03<00:00, 14.82it/s]\n"
     ]
    },
    {
     "name": "stdout",
     "output_type": "stream",
     "text": [
      "Epoch 134, Train Loss(dice): 0.123906,  Valid Loss(dice): 0.131392, Dice Coefficient: 0.802756 ES Count: 5\n",
      "------------------------------------------------------------------------------------\n"
     ]
    },
    {
     "name": "stderr",
     "output_type": "stream",
     "text": [
      "100%|██████████| 402/402 [00:55<00:00,  7.23it/s]\n",
      "100%|██████████| 45/45 [00:03<00:00, 14.79it/s]\n"
     ]
    },
    {
     "name": "stdout",
     "output_type": "stream",
     "text": [
      "Epoch 135, Train Loss(dice): 0.125046,  Valid Loss(dice): 0.131570, Dice Coefficient: 0.800204 ES Count: 6\n",
      "------------------------------------------------------------------------------------\n"
     ]
    },
    {
     "name": "stderr",
     "output_type": "stream",
     "text": [
      "100%|██████████| 402/402 [00:55<00:00,  7.20it/s]\n",
      "100%|██████████| 45/45 [00:03<00:00, 14.99it/s]\n"
     ]
    },
    {
     "name": "stdout",
     "output_type": "stream",
     "text": [
      "Epoch 136, Train Loss(dice): 0.121108,  Valid Loss(dice): 0.131393, Dice Coefficient: 0.801418 ES Count: 7\n",
      "------------------------------------------------------------------------------------\n"
     ]
    },
    {
     "name": "stderr",
     "output_type": "stream",
     "text": [
      "100%|██████████| 402/402 [00:55<00:00,  7.23it/s]\n",
      "100%|██████████| 45/45 [00:03<00:00, 14.88it/s]\n"
     ]
    },
    {
     "name": "stdout",
     "output_type": "stream",
     "text": [
      "Epoch 137, Train Loss(dice): 0.122395,  Valid Loss(dice): 0.131752, Dice Coefficient: 0.801973 ES Count: 8\n",
      "------------------------------------------------------------------------------------\n"
     ]
    },
    {
     "name": "stderr",
     "output_type": "stream",
     "text": [
      "100%|██████████| 402/402 [00:55<00:00,  7.21it/s]\n",
      "100%|██████████| 45/45 [00:02<00:00, 15.38it/s]\n"
     ]
    },
    {
     "name": "stdout",
     "output_type": "stream",
     "text": [
      "Epoch 138, Train Loss(dice): 0.124766,  Valid Loss(dice): 0.131869, Dice Coefficient: 0.801617 ES Count: 9\n",
      "------------------------------------------------------------------------------------\n"
     ]
    },
    {
     "name": "stderr",
     "output_type": "stream",
     "text": [
      "100%|██████████| 402/402 [00:55<00:00,  7.19it/s]\n",
      "100%|██████████| 45/45 [00:03<00:00, 14.70it/s]\n"
     ]
    },
    {
     "name": "stdout",
     "output_type": "stream",
     "text": [
      "Epoch 139, Train Loss(dice): 0.122520,  Valid Loss(dice): 0.132287, Dice Coefficient: 0.800186 ES Count: 10\n",
      "------------------------------------------------------------------------------------\n"
     ]
    },
    {
     "name": "stderr",
     "output_type": "stream",
     "text": [
      "100%|██████████| 402/402 [00:55<00:00,  7.20it/s]\n",
      "100%|██████████| 45/45 [00:03<00:00, 14.65it/s]\n"
     ]
    },
    {
     "name": "stdout",
     "output_type": "stream",
     "text": [
      "Epoch 140, Train Loss(dice): 0.124211,  Valid Loss(dice): 0.131807, Dice Coefficient: 0.801578 ES Count: 11\n",
      "------------------------------------------------------------------------------------\n"
     ]
    },
    {
     "name": "stderr",
     "output_type": "stream",
     "text": [
      "100%|██████████| 402/402 [00:55<00:00,  7.19it/s]\n",
      "100%|██████████| 45/45 [00:03<00:00, 14.93it/s]\n"
     ]
    },
    {
     "name": "stdout",
     "output_type": "stream",
     "text": [
      "Epoch 141, Train Loss(dice): 0.122282,  Valid Loss(dice): 0.131831, Dice Coefficient: 0.801526 ES Count: 12\n",
      "------------------------------------------------------------------------------------\n"
     ]
    },
    {
     "name": "stderr",
     "output_type": "stream",
     "text": [
      "100%|██████████| 402/402 [00:55<00:00,  7.23it/s]\n",
      "100%|██████████| 45/45 [00:03<00:00, 14.95it/s]\n"
     ]
    },
    {
     "name": "stdout",
     "output_type": "stream",
     "text": [
      "Epoch 142, Train Loss(dice): 0.121952,  Valid Loss(dice): 0.131758, Dice Coefficient: 0.801020 ES Count: 13\n",
      "------------------------------------------------------------------------------------\n"
     ]
    },
    {
     "name": "stderr",
     "output_type": "stream",
     "text": [
      "100%|██████████| 402/402 [00:55<00:00,  7.18it/s]\n",
      "100%|██████████| 45/45 [00:03<00:00, 14.83it/s]\n"
     ]
    },
    {
     "name": "stdout",
     "output_type": "stream",
     "text": [
      "Epoch 143, Train Loss(dice): 0.126182,  Valid Loss(dice): 0.132173, Dice Coefficient: 0.801215 ES Count: 14\n",
      "------------------------------------------------------------------------------------\n"
     ]
    },
    {
     "name": "stderr",
     "output_type": "stream",
     "text": [
      "100%|██████████| 402/402 [00:55<00:00,  7.20it/s]\n",
      "100%|██████████| 45/45 [00:03<00:00, 14.98it/s]\n"
     ]
    },
    {
     "name": "stdout",
     "output_type": "stream",
     "text": [
      "Epoch 144, Train Loss(dice): 0.123150,  Valid Loss(dice): 0.131630, Dice Coefficient: 0.801099 ES Count: 15\n",
      "------------------------------------------------------------------------------------\n"
     ]
    },
    {
     "name": "stderr",
     "output_type": "stream",
     "text": [
      "100%|██████████| 402/402 [00:55<00:00,  7.23it/s]\n",
      "100%|██████████| 45/45 [00:03<00:00, 14.74it/s]\n"
     ]
    },
    {
     "name": "stdout",
     "output_type": "stream",
     "text": [
      "Epoch 145, Train Loss(dice): 0.123947,  Valid Loss(dice): 0.131691, Dice Coefficient: 0.799780 ES Count: 16\n",
      "------------------------------------------------------------------------------------\n"
     ]
    },
    {
     "name": "stderr",
     "output_type": "stream",
     "text": [
      "100%|██████████| 402/402 [00:55<00:00,  7.24it/s]\n",
      "100%|██████████| 45/45 [00:03<00:00, 14.91it/s]\n"
     ]
    },
    {
     "name": "stdout",
     "output_type": "stream",
     "text": [
      "Epoch 146, Train Loss(dice): 0.121081,  Valid Loss(dice): 0.131589, Dice Coefficient: 0.800308 ES Count: 17\n",
      "------------------------------------------------------------------------------------\n"
     ]
    },
    {
     "name": "stderr",
     "output_type": "stream",
     "text": [
      "100%|██████████| 402/402 [00:55<00:00,  7.22it/s]\n",
      "100%|██████████| 45/45 [00:03<00:00, 14.96it/s]\n"
     ]
    },
    {
     "name": "stdout",
     "output_type": "stream",
     "text": [
      "Epoch 147, Train Loss(dice): 0.125855,  Valid Loss(dice): 0.131397, Dice Coefficient: 0.800411 ES Count: 18\n",
      "------------------------------------------------------------------------------------\n"
     ]
    },
    {
     "name": "stderr",
     "output_type": "stream",
     "text": [
      "100%|██████████| 402/402 [00:55<00:00,  7.21it/s]\n",
      "100%|██████████| 45/45 [00:02<00:00, 15.11it/s]\n"
     ]
    },
    {
     "name": "stdout",
     "output_type": "stream",
     "text": [
      "Epoch [148] New Minimum Valid Loss!\n",
      "Epoch 148, Train Loss(dice): 0.125761,  Valid Loss(dice): 0.131234, Dice Coefficient: 0.799828 ES Count: 0\n",
      "------------------------------------------------------------------------------------\n"
     ]
    },
    {
     "name": "stderr",
     "output_type": "stream",
     "text": [
      "100%|██████████| 402/402 [00:55<00:00,  7.18it/s]\n",
      "100%|██████████| 45/45 [00:02<00:00, 15.19it/s]\n"
     ]
    },
    {
     "name": "stdout",
     "output_type": "stream",
     "text": [
      "Epoch 149, Train Loss(dice): 0.122534,  Valid Loss(dice): 0.131452, Dice Coefficient: 0.802701 ES Count: 1\n",
      "------------------------------------------------------------------------------------\n"
     ]
    },
    {
     "name": "stderr",
     "output_type": "stream",
     "text": [
      "100%|██████████| 402/402 [00:55<00:00,  7.22it/s]\n",
      "100%|██████████| 45/45 [00:02<00:00, 15.10it/s]\n"
     ]
    },
    {
     "name": "stdout",
     "output_type": "stream",
     "text": [
      "Epoch 150, Train Loss(dice): 0.122361,  Valid Loss(dice): 0.131377, Dice Coefficient: 0.800414 ES Count: 2\n",
      "------------------------------------------------------------------------------------\n"
     ]
    },
    {
     "name": "stderr",
     "output_type": "stream",
     "text": [
      "100%|██████████| 402/402 [00:55<00:00,  7.21it/s]\n",
      "100%|██████████| 45/45 [00:02<00:00, 15.36it/s]\n"
     ]
    },
    {
     "name": "stdout",
     "output_type": "stream",
     "text": [
      "Epoch [151] New Minimum Valid Loss!\n",
      "Epoch 151, Train Loss(dice): 0.126402,  Valid Loss(dice): 0.131189, Dice Coefficient: 0.801761 ES Count: 0\n",
      "------------------------------------------------------------------------------------\n"
     ]
    },
    {
     "name": "stderr",
     "output_type": "stream",
     "text": [
      "100%|██████████| 402/402 [00:55<00:00,  7.24it/s]\n",
      "100%|██████████| 45/45 [00:02<00:00, 15.08it/s]\n"
     ]
    },
    {
     "name": "stdout",
     "output_type": "stream",
     "text": [
      "Epoch 152, Train Loss(dice): 0.123469,  Valid Loss(dice): 0.131308, Dice Coefficient: 0.802459 ES Count: 1\n",
      "------------------------------------------------------------------------------------\n"
     ]
    },
    {
     "name": "stderr",
     "output_type": "stream",
     "text": [
      "100%|██████████| 402/402 [00:55<00:00,  7.30it/s]\n",
      "100%|██████████| 45/45 [00:02<00:00, 18.20it/s]\n"
     ]
    },
    {
     "name": "stdout",
     "output_type": "stream",
     "text": [
      "Epoch 153, Train Loss(dice): 0.124875,  Valid Loss(dice): 0.131933, Dice Coefficient: 0.800450 ES Count: 2\n",
      "------------------------------------------------------------------------------------\n"
     ]
    },
    {
     "name": "stderr",
     "output_type": "stream",
     "text": [
      "100%|██████████| 402/402 [00:54<00:00,  7.41it/s]\n",
      "100%|██████████| 45/45 [00:02<00:00, 18.48it/s]\n"
     ]
    },
    {
     "name": "stdout",
     "output_type": "stream",
     "text": [
      "Epoch 154, Train Loss(dice): 0.121416,  Valid Loss(dice): 0.131198, Dice Coefficient: 0.800588 ES Count: 3\n",
      "------------------------------------------------------------------------------------\n"
     ]
    },
    {
     "name": "stderr",
     "output_type": "stream",
     "text": [
      "100%|██████████| 402/402 [00:54<00:00,  7.41it/s]\n",
      "100%|██████████| 45/45 [00:02<00:00, 18.36it/s]\n"
     ]
    },
    {
     "name": "stdout",
     "output_type": "stream",
     "text": [
      "Epoch 155, Train Loss(dice): 0.125192,  Valid Loss(dice): 0.131285, Dice Coefficient: 0.801946 ES Count: 4\n",
      "------------------------------------------------------------------------------------\n"
     ]
    },
    {
     "name": "stderr",
     "output_type": "stream",
     "text": [
      "100%|██████████| 402/402 [00:53<00:00,  7.45it/s]\n",
      "100%|██████████| 45/45 [00:02<00:00, 18.32it/s]\n"
     ]
    },
    {
     "name": "stdout",
     "output_type": "stream",
     "text": [
      "Epoch 156, Train Loss(dice): 0.127466,  Valid Loss(dice): 0.131250, Dice Coefficient: 0.803831 ES Count: 5\n",
      "------------------------------------------------------------------------------------\n"
     ]
    },
    {
     "name": "stderr",
     "output_type": "stream",
     "text": [
      "100%|██████████| 402/402 [00:53<00:00,  7.45it/s]\n",
      "100%|██████████| 45/45 [00:02<00:00, 18.56it/s]\n"
     ]
    },
    {
     "name": "stdout",
     "output_type": "stream",
     "text": [
      "Epoch 157, Train Loss(dice): 0.122966,  Valid Loss(dice): 0.131220, Dice Coefficient: 0.802660 ES Count: 6\n",
      "------------------------------------------------------------------------------------\n"
     ]
    },
    {
     "name": "stderr",
     "output_type": "stream",
     "text": [
      "100%|██████████| 402/402 [00:53<00:00,  7.49it/s]\n",
      "100%|██████████| 45/45 [00:02<00:00, 18.62it/s]\n"
     ]
    },
    {
     "name": "stdout",
     "output_type": "stream",
     "text": [
      "Epoch [158] New Minimum Valid Loss!\n",
      "Epoch 158, Train Loss(dice): 0.123246,  Valid Loss(dice): 0.131016, Dice Coefficient: 0.803020 ES Count: 0\n",
      "------------------------------------------------------------------------------------\n"
     ]
    },
    {
     "name": "stderr",
     "output_type": "stream",
     "text": [
      "100%|██████████| 402/402 [00:53<00:00,  7.50it/s]\n",
      "100%|██████████| 45/45 [00:02<00:00, 18.55it/s]\n"
     ]
    },
    {
     "name": "stdout",
     "output_type": "stream",
     "text": [
      "Epoch 159, Train Loss(dice): 0.125356,  Valid Loss(dice): 0.131214, Dice Coefficient: 0.802634 ES Count: 1\n",
      "------------------------------------------------------------------------------------\n"
     ]
    },
    {
     "name": "stderr",
     "output_type": "stream",
     "text": [
      "100%|██████████| 402/402 [00:53<00:00,  7.48it/s]\n",
      "100%|██████████| 45/45 [00:02<00:00, 18.57it/s]\n"
     ]
    },
    {
     "name": "stdout",
     "output_type": "stream",
     "text": [
      "Epoch 160, Train Loss(dice): 0.124185,  Valid Loss(dice): 0.131219, Dice Coefficient: 0.801885 ES Count: 2\n",
      "------------------------------------------------------------------------------------\n"
     ]
    },
    {
     "name": "stderr",
     "output_type": "stream",
     "text": [
      "100%|██████████| 402/402 [00:53<00:00,  7.48it/s]\n",
      "100%|██████████| 45/45 [00:02<00:00, 18.60it/s]\n"
     ]
    },
    {
     "name": "stdout",
     "output_type": "stream",
     "text": [
      "Epoch 161, Train Loss(dice): 0.124681,  Valid Loss(dice): 0.131363, Dice Coefficient: 0.801331 ES Count: 3\n",
      "------------------------------------------------------------------------------------\n"
     ]
    },
    {
     "name": "stderr",
     "output_type": "stream",
     "text": [
      "100%|██████████| 402/402 [00:53<00:00,  7.49it/s]\n",
      "100%|██████████| 45/45 [00:02<00:00, 18.41it/s]\n"
     ]
    },
    {
     "name": "stdout",
     "output_type": "stream",
     "text": [
      "Epoch 162, Train Loss(dice): 0.122075,  Valid Loss(dice): 0.131217, Dice Coefficient: 0.800841 ES Count: 4\n",
      "------------------------------------------------------------------------------------\n"
     ]
    },
    {
     "name": "stderr",
     "output_type": "stream",
     "text": [
      "100%|██████████| 402/402 [00:53<00:00,  7.48it/s]\n",
      "100%|██████████| 45/45 [00:02<00:00, 18.28it/s]\n"
     ]
    },
    {
     "name": "stdout",
     "output_type": "stream",
     "text": [
      "Epoch 163, Train Loss(dice): 0.123156,  Valid Loss(dice): 0.131756, Dice Coefficient: 0.801849 ES Count: 5\n",
      "------------------------------------------------------------------------------------\n"
     ]
    },
    {
     "name": "stderr",
     "output_type": "stream",
     "text": [
      "100%|██████████| 402/402 [00:53<00:00,  7.47it/s]\n",
      "100%|██████████| 45/45 [00:02<00:00, 18.66it/s]\n"
     ]
    },
    {
     "name": "stdout",
     "output_type": "stream",
     "text": [
      "Epoch 164, Train Loss(dice): 0.127188,  Valid Loss(dice): 0.132055, Dice Coefficient: 0.800174 ES Count: 6\n",
      "------------------------------------------------------------------------------------\n"
     ]
    },
    {
     "name": "stderr",
     "output_type": "stream",
     "text": [
      "100%|██████████| 402/402 [00:53<00:00,  7.48it/s]\n",
      "100%|██████████| 45/45 [00:02<00:00, 18.57it/s]\n"
     ]
    },
    {
     "name": "stdout",
     "output_type": "stream",
     "text": [
      "Epoch 165, Train Loss(dice): 0.124091,  Valid Loss(dice): 0.131558, Dice Coefficient: 0.800619 ES Count: 7\n",
      "------------------------------------------------------------------------------------\n"
     ]
    },
    {
     "name": "stderr",
     "output_type": "stream",
     "text": [
      "100%|██████████| 402/402 [00:53<00:00,  7.49it/s]\n",
      "100%|██████████| 45/45 [00:02<00:00, 18.60it/s]\n"
     ]
    },
    {
     "name": "stdout",
     "output_type": "stream",
     "text": [
      "Epoch 166, Train Loss(dice): 0.123630,  Valid Loss(dice): 0.131891, Dice Coefficient: 0.801562 ES Count: 8\n",
      "------------------------------------------------------------------------------------\n"
     ]
    },
    {
     "name": "stderr",
     "output_type": "stream",
     "text": [
      "100%|██████████| 402/402 [00:53<00:00,  7.49it/s]\n",
      "100%|██████████| 45/45 [00:02<00:00, 18.71it/s]\n"
     ]
    },
    {
     "name": "stdout",
     "output_type": "stream",
     "text": [
      "Epoch 167, Train Loss(dice): 0.123409,  Valid Loss(dice): 0.131344, Dice Coefficient: 0.802905 ES Count: 9\n",
      "------------------------------------------------------------------------------------\n"
     ]
    },
    {
     "name": "stderr",
     "output_type": "stream",
     "text": [
      "100%|██████████| 402/402 [00:53<00:00,  7.47it/s]\n",
      "100%|██████████| 45/45 [00:02<00:00, 18.50it/s]\n"
     ]
    },
    {
     "name": "stdout",
     "output_type": "stream",
     "text": [
      "Epoch [168] New Minimum Valid Loss!\n",
      "Epoch 168, Train Loss(dice): 0.121128,  Valid Loss(dice): 0.130870, Dice Coefficient: 0.802713 ES Count: 0\n",
      "------------------------------------------------------------------------------------\n"
     ]
    },
    {
     "name": "stderr",
     "output_type": "stream",
     "text": [
      "100%|██████████| 402/402 [00:53<00:00,  7.48it/s]\n",
      "100%|██████████| 45/45 [00:02<00:00, 18.56it/s]\n"
     ]
    },
    {
     "name": "stdout",
     "output_type": "stream",
     "text": [
      "Epoch 169, Train Loss(dice): 0.123956,  Valid Loss(dice): 0.131607, Dice Coefficient: 0.800975 ES Count: 1\n",
      "------------------------------------------------------------------------------------\n"
     ]
    },
    {
     "name": "stderr",
     "output_type": "stream",
     "text": [
      "100%|██████████| 402/402 [00:53<00:00,  7.50it/s]\n",
      "100%|██████████| 45/45 [00:02<00:00, 18.53it/s]\n"
     ]
    },
    {
     "name": "stdout",
     "output_type": "stream",
     "text": [
      "Epoch 170, Train Loss(dice): 0.123847,  Valid Loss(dice): 0.131862, Dice Coefficient: 0.801487 ES Count: 2\n",
      "------------------------------------------------------------------------------------\n"
     ]
    },
    {
     "name": "stderr",
     "output_type": "stream",
     "text": [
      "100%|██████████| 402/402 [00:53<00:00,  7.49it/s]\n",
      "100%|██████████| 45/45 [00:02<00:00, 18.86it/s]\n"
     ]
    },
    {
     "name": "stdout",
     "output_type": "stream",
     "text": [
      "Epoch 171, Train Loss(dice): 0.123442,  Valid Loss(dice): 0.131321, Dice Coefficient: 0.803516 ES Count: 3\n",
      "------------------------------------------------------------------------------------\n"
     ]
    },
    {
     "name": "stderr",
     "output_type": "stream",
     "text": [
      "100%|██████████| 402/402 [00:53<00:00,  7.48it/s]\n",
      "100%|██████████| 45/45 [00:02<00:00, 18.77it/s]\n"
     ]
    },
    {
     "name": "stdout",
     "output_type": "stream",
     "text": [
      "Epoch 172, Train Loss(dice): 0.125202,  Valid Loss(dice): 0.131842, Dice Coefficient: 0.802103 ES Count: 4\n",
      "------------------------------------------------------------------------------------\n"
     ]
    },
    {
     "name": "stderr",
     "output_type": "stream",
     "text": [
      "100%|██████████| 402/402 [00:53<00:00,  7.49it/s]\n",
      "100%|██████████| 45/45 [00:02<00:00, 18.66it/s]\n"
     ]
    },
    {
     "name": "stdout",
     "output_type": "stream",
     "text": [
      "Epoch 173, Train Loss(dice): 0.120986,  Valid Loss(dice): 0.131898, Dice Coefficient: 0.801939 ES Count: 5\n",
      "------------------------------------------------------------------------------------\n"
     ]
    },
    {
     "name": "stderr",
     "output_type": "stream",
     "text": [
      "100%|██████████| 402/402 [00:53<00:00,  7.47it/s]\n",
      "100%|██████████| 45/45 [00:02<00:00, 18.78it/s]\n"
     ]
    },
    {
     "name": "stdout",
     "output_type": "stream",
     "text": [
      "Epoch 174, Train Loss(dice): 0.119581,  Valid Loss(dice): 0.131137, Dice Coefficient: 0.805134 ES Count: 6\n",
      "------------------------------------------------------------------------------------\n"
     ]
    },
    {
     "name": "stderr",
     "output_type": "stream",
     "text": [
      "100%|██████████| 402/402 [00:53<00:00,  7.48it/s]\n",
      "100%|██████████| 45/45 [00:02<00:00, 18.66it/s]\n"
     ]
    },
    {
     "name": "stdout",
     "output_type": "stream",
     "text": [
      "Epoch 175, Train Loss(dice): 0.124560,  Valid Loss(dice): 0.131321, Dice Coefficient: 0.804452 ES Count: 7\n",
      "------------------------------------------------------------------------------------\n"
     ]
    },
    {
     "name": "stderr",
     "output_type": "stream",
     "text": [
      "100%|██████████| 402/402 [00:53<00:00,  7.48it/s]\n",
      "100%|██████████| 45/45 [00:02<00:00, 18.61it/s]\n"
     ]
    },
    {
     "name": "stdout",
     "output_type": "stream",
     "text": [
      "Epoch 176, Train Loss(dice): 0.121844,  Valid Loss(dice): 0.131583, Dice Coefficient: 0.802676 ES Count: 8\n",
      "------------------------------------------------------------------------------------\n"
     ]
    },
    {
     "name": "stderr",
     "output_type": "stream",
     "text": [
      "100%|██████████| 402/402 [00:53<00:00,  7.50it/s]\n",
      "100%|██████████| 45/45 [00:02<00:00, 18.77it/s]\n"
     ]
    },
    {
     "name": "stdout",
     "output_type": "stream",
     "text": [
      "Epoch 177, Train Loss(dice): 0.123758,  Valid Loss(dice): 0.131163, Dice Coefficient: 0.804840 ES Count: 9\n",
      "------------------------------------------------------------------------------------\n"
     ]
    },
    {
     "name": "stderr",
     "output_type": "stream",
     "text": [
      "100%|██████████| 402/402 [00:53<00:00,  7.50it/s]\n",
      "100%|██████████| 45/45 [00:02<00:00, 18.59it/s]\n"
     ]
    },
    {
     "name": "stdout",
     "output_type": "stream",
     "text": [
      "Epoch 178, Train Loss(dice): 0.123492,  Valid Loss(dice): 0.131416, Dice Coefficient: 0.803693 ES Count: 10\n",
      "------------------------------------------------------------------------------------\n"
     ]
    },
    {
     "name": "stderr",
     "output_type": "stream",
     "text": [
      "100%|██████████| 402/402 [00:54<00:00,  7.41it/s]\n",
      "100%|██████████| 45/45 [00:02<00:00, 18.20it/s]\n"
     ]
    },
    {
     "name": "stdout",
     "output_type": "stream",
     "text": [
      "Epoch 179, Train Loss(dice): 0.124731,  Valid Loss(dice): 0.131676, Dice Coefficient: 0.801393 ES Count: 11\n",
      "------------------------------------------------------------------------------------\n"
     ]
    },
    {
     "name": "stderr",
     "output_type": "stream",
     "text": [
      "100%|██████████| 402/402 [00:54<00:00,  7.41it/s]\n",
      "100%|██████████| 45/45 [00:02<00:00, 18.14it/s]\n"
     ]
    },
    {
     "name": "stdout",
     "output_type": "stream",
     "text": [
      "Epoch 180, Train Loss(dice): 0.125589,  Valid Loss(dice): 0.131498, Dice Coefficient: 0.801357 ES Count: 12\n",
      "------------------------------------------------------------------------------------\n"
     ]
    },
    {
     "name": "stderr",
     "output_type": "stream",
     "text": [
      "100%|██████████| 402/402 [00:54<00:00,  7.33it/s]\n",
      "100%|██████████| 45/45 [00:03<00:00, 12.02it/s]\n"
     ]
    },
    {
     "name": "stdout",
     "output_type": "stream",
     "text": [
      "Epoch 181, Train Loss(dice): 0.122492,  Valid Loss(dice): 0.131642, Dice Coefficient: 0.802609 ES Count: 13\n",
      "------------------------------------------------------------------------------------\n"
     ]
    },
    {
     "name": "stderr",
     "output_type": "stream",
     "text": [
      "100%|██████████| 402/402 [00:56<00:00,  7.13it/s]\n",
      "100%|██████████| 45/45 [00:03<00:00, 13.99it/s]\n"
     ]
    },
    {
     "name": "stdout",
     "output_type": "stream",
     "text": [
      "Epoch 182, Train Loss(dice): 0.122692,  Valid Loss(dice): 0.131737, Dice Coefficient: 0.802031 ES Count: 14\n",
      "------------------------------------------------------------------------------------\n"
     ]
    },
    {
     "name": "stderr",
     "output_type": "stream",
     "text": [
      "100%|██████████| 402/402 [00:56<00:00,  7.15it/s]\n",
      "100%|██████████| 45/45 [00:03<00:00, 14.49it/s]\n"
     ]
    },
    {
     "name": "stdout",
     "output_type": "stream",
     "text": [
      "Epoch 183, Train Loss(dice): 0.122050,  Valid Loss(dice): 0.131388, Dice Coefficient: 0.801623 ES Count: 15\n",
      "------------------------------------------------------------------------------------\n"
     ]
    },
    {
     "name": "stderr",
     "output_type": "stream",
     "text": [
      "100%|██████████| 402/402 [00:56<00:00,  7.17it/s]\n",
      "100%|██████████| 45/45 [00:03<00:00, 14.83it/s]\n"
     ]
    },
    {
     "name": "stdout",
     "output_type": "stream",
     "text": [
      "Epoch 184, Train Loss(dice): 0.125092,  Valid Loss(dice): 0.131930, Dice Coefficient: 0.800593 ES Count: 16\n",
      "------------------------------------------------------------------------------------\n"
     ]
    },
    {
     "name": "stderr",
     "output_type": "stream",
     "text": [
      "100%|██████████| 402/402 [00:55<00:00,  7.19it/s]\n",
      "100%|██████████| 45/45 [00:03<00:00, 13.96it/s]\n"
     ]
    },
    {
     "name": "stdout",
     "output_type": "stream",
     "text": [
      "Epoch 185, Train Loss(dice): 0.122881,  Valid Loss(dice): 0.131095, Dice Coefficient: 0.799806 ES Count: 17\n",
      "------------------------------------------------------------------------------------\n"
     ]
    },
    {
     "name": "stderr",
     "output_type": "stream",
     "text": [
      "100%|██████████| 402/402 [00:56<00:00,  7.18it/s]\n",
      "100%|██████████| 45/45 [00:03<00:00, 14.15it/s]\n"
     ]
    },
    {
     "name": "stdout",
     "output_type": "stream",
     "text": [
      "Epoch 186, Train Loss(dice): 0.122631,  Valid Loss(dice): 0.131227, Dice Coefficient: 0.802750 ES Count: 18\n",
      "------------------------------------------------------------------------------------\n"
     ]
    },
    {
     "name": "stderr",
     "output_type": "stream",
     "text": [
      "100%|██████████| 402/402 [00:56<00:00,  7.15it/s]\n",
      "100%|██████████| 45/45 [00:03<00:00, 13.25it/s]\n"
     ]
    },
    {
     "name": "stdout",
     "output_type": "stream",
     "text": [
      "Epoch 187, Train Loss(dice): 0.124445,  Valid Loss(dice): 0.131028, Dice Coefficient: 0.803705 ES Count: 19\n",
      "------------------------------------------------------------------------------------\n"
     ]
    },
    {
     "name": "stderr",
     "output_type": "stream",
     "text": [
      "100%|██████████| 402/402 [00:55<00:00,  7.21it/s]\n",
      "100%|██████████| 45/45 [00:03<00:00, 14.32it/s]\n"
     ]
    },
    {
     "name": "stdout",
     "output_type": "stream",
     "text": [
      "Epoch 188, Train Loss(dice): 0.127164,  Valid Loss(dice): 0.131735, Dice Coefficient: 0.804428 ES Count: 20\n",
      "------------------------------------------------------------------------------------\n"
     ]
    },
    {
     "name": "stderr",
     "output_type": "stream",
     "text": [
      "100%|██████████| 402/402 [00:55<00:00,  7.22it/s]\n",
      "100%|██████████| 45/45 [00:03<00:00, 13.84it/s]\n"
     ]
    },
    {
     "name": "stdout",
     "output_type": "stream",
     "text": [
      "Epoch 189, Train Loss(dice): 0.124677,  Valid Loss(dice): 0.131139, Dice Coefficient: 0.803306 ES Count: 21\n",
      "------------------------------------------------------------------------------------\n"
     ]
    },
    {
     "name": "stderr",
     "output_type": "stream",
     "text": [
      "100%|██████████| 402/402 [00:55<00:00,  7.22it/s]\n",
      "100%|██████████| 45/45 [00:03<00:00, 12.05it/s]\n"
     ]
    },
    {
     "name": "stdout",
     "output_type": "stream",
     "text": [
      "Epoch 190, Train Loss(dice): 0.125524,  Valid Loss(dice): 0.131710, Dice Coefficient: 0.802761 ES Count: 22\n",
      "------------------------------------------------------------------------------------\n"
     ]
    },
    {
     "name": "stderr",
     "output_type": "stream",
     "text": [
      "100%|██████████| 402/402 [00:55<00:00,  7.22it/s]\n",
      "100%|██████████| 45/45 [00:03<00:00, 11.68it/s]\n"
     ]
    },
    {
     "name": "stdout",
     "output_type": "stream",
     "text": [
      "Epoch 191, Train Loss(dice): 0.123009,  Valid Loss(dice): 0.131983, Dice Coefficient: 0.802581 ES Count: 23\n",
      "------------------------------------------------------------------------------------\n"
     ]
    },
    {
     "name": "stderr",
     "output_type": "stream",
     "text": [
      "100%|██████████| 402/402 [00:55<00:00,  7.23it/s]\n",
      "100%|██████████| 45/45 [00:03<00:00, 14.52it/s]\n"
     ]
    },
    {
     "name": "stdout",
     "output_type": "stream",
     "text": [
      "Epoch 192, Train Loss(dice): 0.121691,  Valid Loss(dice): 0.131473, Dice Coefficient: 0.804175 ES Count: 24\n",
      "------------------------------------------------------------------------------------\n"
     ]
    },
    {
     "name": "stderr",
     "output_type": "stream",
     "text": [
      "100%|██████████| 402/402 [00:55<00:00,  7.21it/s]\n",
      "100%|██████████| 45/45 [00:02<00:00, 16.83it/s]\n"
     ]
    },
    {
     "name": "stdout",
     "output_type": "stream",
     "text": [
      "Epoch 193, Train Loss(dice): 0.126270,  Valid Loss(dice): 0.132059, Dice Coefficient: 0.801654 ES Count: 25\n",
      "------------------------------------------------------------------------------------\n"
     ]
    },
    {
     "name": "stderr",
     "output_type": "stream",
     "text": [
      "100%|██████████| 402/402 [00:55<00:00,  7.22it/s]\n",
      "100%|██████████| 45/45 [00:02<00:00, 15.47it/s]\n"
     ]
    },
    {
     "name": "stdout",
     "output_type": "stream",
     "text": [
      "Epoch 194, Train Loss(dice): 0.124633,  Valid Loss(dice): 0.132584, Dice Coefficient: 0.801955 ES Count: 26\n",
      "------------------------------------------------------------------------------------\n"
     ]
    },
    {
     "name": "stderr",
     "output_type": "stream",
     "text": [
      "100%|██████████| 402/402 [00:55<00:00,  7.24it/s]\n",
      "100%|██████████| 45/45 [00:02<00:00, 15.12it/s]\n"
     ]
    },
    {
     "name": "stdout",
     "output_type": "stream",
     "text": [
      "Epoch 195, Train Loss(dice): 0.124595,  Valid Loss(dice): 0.133187, Dice Coefficient: 0.800577 ES Count: 27\n",
      "------------------------------------------------------------------------------------\n"
     ]
    },
    {
     "name": "stderr",
     "output_type": "stream",
     "text": [
      "100%|██████████| 402/402 [00:55<00:00,  7.21it/s]\n",
      "100%|██████████| 45/45 [00:02<00:00, 15.07it/s]\n"
     ]
    },
    {
     "name": "stdout",
     "output_type": "stream",
     "text": [
      "Epoch 196, Train Loss(dice): 0.124872,  Valid Loss(dice): 0.132633, Dice Coefficient: 0.801606 ES Count: 28\n",
      "------------------------------------------------------------------------------------\n"
     ]
    },
    {
     "name": "stderr",
     "output_type": "stream",
     "text": [
      "100%|██████████| 402/402 [00:55<00:00,  7.20it/s]\n",
      "100%|██████████| 45/45 [00:03<00:00, 14.80it/s]\n"
     ]
    },
    {
     "name": "stdout",
     "output_type": "stream",
     "text": [
      "Epoch 197, Train Loss(dice): 0.119378,  Valid Loss(dice): 0.131785, Dice Coefficient: 0.802173 ES Count: 29\n",
      "------------------------------------------------------------------------------------\n"
     ]
    },
    {
     "name": "stderr",
     "output_type": "stream",
     "text": [
      "100%|██████████| 402/402 [00:55<00:00,  7.20it/s]\n",
      "100%|██████████| 45/45 [00:02<00:00, 15.10it/s]\n"
     ]
    },
    {
     "name": "stdout",
     "output_type": "stream",
     "text": [
      "Epoch 198, Train Loss(dice): 0.122130, Valid Loss: 0.131826, Dice Coefficient: 0.801425, ES Count: 30\n",
      "EARLY STOPPING COUNT에 도달했습니다! \n",
      "EARLY STOPPING COUNT: 30 BEST EPOCH: 168\n",
      "***TRAINING DONE***\n"
     ]
    }
   ],
   "source": [
    "best_model = training(config, model, train_dataloader, valid_dataloader, val)"
   ],
   "metadata": {
    "collapsed": false,
    "ExecuteTime": {
     "end_time": "2023-07-22T07:35:23.928323374Z",
     "start_time": "2023-07-22T04:20:29.375843410Z"
    }
   }
  },
  {
   "cell_type": "code",
   "execution_count": 45,
   "outputs": [],
   "source": [
    "model_name = \"transUnet_EfficientNet_b5_bn_all_dice.pt\"\n",
    "\n",
    "# -----------------------------kaggle-----------------------------\n",
    "# torch.save(best_model, f'/kaggle/working/{model_name}')\n",
    "# -----------------------------로컬-----------------------------\n",
    "torch.save(best_model, f\"{config['base_path']}/{model_name}\")"
   ],
   "metadata": {
    "collapsed": false,
    "ExecuteTime": {
     "end_time": "2023-07-22T08:40:53.933006548Z",
     "start_time": "2023-07-22T08:40:53.773672267Z"
    }
   }
  },
  {
   "cell_type": "code",
   "execution_count": 46,
   "outputs": [],
   "source": [
    "# 로컬 사용시 활성화\n",
    "\n",
    "test_df = pd.read_csv(f\"{config['base_path']}/{config['test_data']}\")"
   ],
   "metadata": {
    "collapsed": false,
    "ExecuteTime": {
     "end_time": "2023-07-22T08:40:54.922411787Z",
     "start_time": "2023-07-22T08:40:54.896602730Z"
    }
   }
  },
  {
   "cell_type": "code",
   "execution_count": 47,
   "outputs": [],
   "source": [
    "fix_seed(config['seed'])\n",
    "\n",
    "test_dataset = CustomDataset(img_paths=test_df['img_path'], transform=custom_transform['test'], infer=True)\n",
    "test_dataloader = DataLoader(test_dataset, batch_size=config['inference']['batch_size'], shuffle=False, num_workers=config['inference']['num_workers'])"
   ],
   "metadata": {
    "collapsed": false,
    "ExecuteTime": {
     "end_time": "2023-07-22T08:40:55.647276641Z",
     "start_time": "2023-07-22T08:40:55.644926381Z"
    }
   }
  },
  {
   "cell_type": "code",
   "execution_count": 48,
   "outputs": [],
   "source": [
    "def inference(config, model, test_loader):\n",
    "    with torch.no_grad():\n",
    "        model.eval()\n",
    "        result = []\n",
    "        for images in tqdm(test_loader):\n",
    "            images = images.float().to(config['device'])\n",
    "\n",
    "            outputs = model(images)\n",
    "            masks = torch.sigmoid(outputs).cpu().numpy()\n",
    "            masks = np.squeeze(masks, axis=1)\n",
    "            masks = (masks > config['inference']['threshold']).astype(np.uint8)\n",
    "\n",
    "            for i in range(len(images)):\n",
    "                mask_rle = rle_encode(masks[i])\n",
    "                if mask_rle == '': # 예측된 건물 픽셀이 아예 없는 경우 -1\n",
    "                    result.append(-1)\n",
    "                else:\n",
    "                    result.append(mask_rle)\n",
    "    return result"
   ],
   "metadata": {
    "collapsed": false,
    "ExecuteTime": {
     "end_time": "2023-07-22T08:40:56.712938708Z",
     "start_time": "2023-07-22T08:40:56.707211034Z"
    }
   }
  },
  {
   "cell_type": "code",
   "execution_count": 49,
   "outputs": [
    {
     "name": "stderr",
     "output_type": "stream",
     "text": [
      "100%|██████████| 3790/3790 [02:19<00:00, 27.07it/s]\n"
     ]
    }
   ],
   "source": [
    "inference_result = inference(config, best_model, test_dataloader)"
   ],
   "metadata": {
    "collapsed": false,
    "ExecuteTime": {
     "end_time": "2023-07-22T08:43:17.493844499Z",
     "start_time": "2023-07-22T08:40:57.464649251Z"
    }
   }
  },
  {
   "cell_type": "code",
   "execution_count": 40,
   "outputs": [],
   "source": [
    "# import datetime"
   ],
   "metadata": {
    "collapsed": false,
    "ExecuteTime": {
     "end_time": "2023-07-22T07:37:44.699471262Z",
     "start_time": "2023-07-22T07:37:44.697951358Z"
    }
   }
  },
  {
   "cell_type": "code",
   "execution_count": 50,
   "outputs": [],
   "source": [
    "# 로컬 사용시 활성화\n",
    "\n",
    "submit = pd.read_csv(f\"{config['base_path']}/sample_submission.csv\")\n",
    "# submit = pd.read_csv(f\"{config['base_path']}/submit20.csv\")\n",
    "submit['mask_rle'] = inference_result\n",
    "\n",
    "# now = datetime.datetime.now()\n",
    "# current_time = now.strftime(\"%m%d-%H:%M:%S\")\n",
    "# file_name = \"transUnet_EfficientNet_CaiT.csv\"\n",
    "\n",
    "submit.to_csv(f\"{config['base_path']}/transUnet_EfficientNet_b5_bn_all_dice.csv\", index=False)"
   ],
   "metadata": {
    "collapsed": false,
    "ExecuteTime": {
     "end_time": "2023-07-22T08:43:17.965834670Z",
     "start_time": "2023-07-22T08:43:17.493964982Z"
    }
   }
  },
  {
   "cell_type": "markdown",
   "source": [
    "## viewer"
   ],
   "metadata": {
    "collapsed": false
   }
  },
  {
   "cell_type": "code",
   "execution_count": 42,
   "outputs": [],
   "source": [
    "# import matplotlib.pyplot as plt"
   ],
   "metadata": {
    "collapsed": false,
    "ExecuteTime": {
     "end_time": "2023-07-22T07:37:45.124647659Z",
     "start_time": "2023-07-22T07:37:45.123153185Z"
    }
   }
  },
  {
   "cell_type": "code",
   "execution_count": 43,
   "outputs": [],
   "source": [
    "# def submission_viewer(test_csv, submit_csv, img_num, base_path = config['base_path'], is_colab = False):\n",
    "#     \"\"\"\n",
    "#     white -> 건물 black -> 배경\n",
    "#     1. Local에서 사용 시 test_csv, submit_csv, img_num만 입력\n",
    "#     2. colab에서 사용 시 아래 사항을 입력\n",
    "#     base_path = colab_base\n",
    "#     is_colab = True\n",
    "#     \"\"\"\n",
    "#     mask_rle = submit_csv.iloc[img_num, 1]\n",
    "#     image_path = test_csv.iloc[img_num, 1]\n",
    "#     if is_colab:\n",
    "#         image = cv2.imread(image_path)\n",
    "#     else:\n",
    "#         image = cv2.imread(base_path + image_path[1:])\n",
    "#     mask = rle_decode(mask_rle, (image.shape[0], image.shape[1]))\n",
    "#     fig = plt.figure()\n",
    "#     ax1 = fig.add_subplot(1,2,1)\n",
    "#     ax1.imshow(image)\n",
    "#     ax1.set_title('image')\n",
    "#     ax2 = fig.add_subplot(1,2,2)\n",
    "#     ax2.imshow(mask,cmap='gray')\n",
    "#     ax2.set_title('mask')\n",
    "#     plt.show()"
   ],
   "metadata": {
    "collapsed": false,
    "ExecuteTime": {
     "end_time": "2023-07-22T07:37:45.140252398Z",
     "start_time": "2023-07-22T07:37:45.124752240Z"
    }
   }
  },
  {
   "cell_type": "code",
   "execution_count": 44,
   "outputs": [],
   "source": [
    "# # 로컬 사용시 활성화\n",
    "#\n",
    "# last_submit = pd.read_csv(f\"{config['base_path']}/transUnet_EfficientNet_b5_ce25iou25dice.csv\")\n",
    "# submission_viewer(test_df, last_submit, 0)\n",
    "# submission_viewer(test_df, last_submit, 1)\n",
    "# submission_viewer(test_df, last_submit, 2)"
   ],
   "metadata": {
    "collapsed": false,
    "ExecuteTime": {
     "end_time": "2023-07-22T07:37:45.184554987Z",
     "start_time": "2023-07-22T07:37:45.140668233Z"
    }
   }
  },
  {
   "cell_type": "code",
   "execution_count": 44,
   "outputs": [],
   "source": [],
   "metadata": {
    "collapsed": false,
    "ExecuteTime": {
     "end_time": "2023-07-22T07:37:45.184670289Z",
     "start_time": "2023-07-22T07:37:45.181827127Z"
    }
   }
  }
 ],
 "metadata": {
  "kernelspec": {
   "display_name": "Python 3",
   "language": "python",
   "name": "python3"
  },
  "language_info": {
   "codemirror_mode": {
    "name": "ipython",
    "version": 2
   },
   "file_extension": ".py",
   "mimetype": "text/x-python",
   "name": "python",
   "nbconvert_exporter": "python",
   "pygments_lexer": "ipython2",
   "version": "2.7.6"
  }
 },
 "nbformat": 4,
 "nbformat_minor": 0
}
