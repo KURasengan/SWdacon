{
 "cells": [
  {
   "cell_type": "code",
   "execution_count": 1,
   "metadata": {},
   "outputs": [],
   "source": [
    "import numpy as np\n",
    "import cv2\n",
    "import pandas as pd\n",
    "import matplotlib.pyplot as plt"
   ]
  },
  {
   "cell_type": "code",
   "execution_count": 2,
   "metadata": {},
   "outputs": [],
   "source": [
    "path = \"C:/SWdacon/minseo/data/\"\n",
    "csv_file = path+'train.csv'\n",
    "train_img_path = path+'train_img/'"
   ]
  },
  {
   "cell_type": "code",
   "execution_count": 3,
   "metadata": {},
   "outputs": [],
   "source": [
    "# RLE 디코딩 함수\n",
    "def rle_decode(mask_rle, shape):\n",
    "    s = mask_rle.split()\n",
    "    starts, lengths = [np.asarray(x, dtype=int) for x in (s[0:][::2], s[1:][::2])]\n",
    "    starts -= 1\n",
    "    ends = starts + lengths\n",
    "    img = np.zeros(shape[0]*shape[1], dtype=np.uint8)\n",
    "    for lo, hi in zip(starts, ends):\n",
    "        img[lo:hi] = 1\n",
    "    return img.reshape(shape)"
   ]
  },
  {
   "cell_type": "code",
   "execution_count": 4,
   "metadata": {},
   "outputs": [],
   "source": [
    "csv = pd.read_csv(csv_file)"
   ]
  },
  {
   "cell_type": "code",
   "execution_count": 5,
   "metadata": {},
   "outputs": [],
   "source": [
    "img_num = 3"
   ]
  },
  {
   "cell_type": "markdown",
   "metadata": {},
   "source": [
    "## 이미지 통째로"
   ]
  },
  {
   "cell_type": "code",
   "execution_count": null,
   "metadata": {},
   "outputs": [],
   "source": [
    "mask_rle = csv.iloc[img_num, 2]\n",
    "image_path = csv.iloc[img_num, 1]\n",
    "image = cv2.imread(path+ image_path[2:])\n",
    "mask = rle_decode(mask_rle, (image.shape[0], image.shape[1]))\n",
    "fig = plt.figure()\n",
    "ax1 = fig.add_subplot(1,2,1)\n",
    "ax1.imshow(image)\n",
    "ax1.set_title('image')\n",
    "ax2 = fig.add_subplot(1,2,2)\n",
    "ax2.imshow(mask,cmap='gray')\n",
    "ax2.set_title('mask')\n",
    "plt.show()"
   ]
  },
  {
   "cell_type": "markdown",
   "metadata": {},
   "source": [
    "## 이미지 4분할"
   ]
  },
  {
   "cell_type": "code",
   "execution_count": null,
   "metadata": {},
   "outputs": [],
   "source": [
    "mask_rle = csv.iloc[img_num, 2]\n",
    "image_path = csv.iloc[img_num, 1]\n",
    "image = cv2.imread(path+ image_path[2:])\n",
    "x,y,_ = image.shape\n",
    "mask = rle_decode(mask_rle, (image.shape[0], image.shape[1]))\n",
    "img_div = [image[:x//2,:y//2],image[:x//2,y//2:],image[x//2:,:y//2],image[x//2:,y//2:]]\n",
    "mask_div = [mask[:x//2,:y//2],mask[:x//2,y//2:],mask[x//2:,:y//2],mask[x//2:,y//2:]]\n",
    "fig = plt.figure(figsize=(40,20))\n",
    "img_plot = [0,1,4,5]\n",
    "mask_plot = [2,3,6,7]\n",
    "for i in range(4):\n",
    "    ax = fig.add_subplot(2,4,img_plot[i]+1)\n",
    "    ax.imshow(img_div[i])\n",
    "    ax = fig.add_subplot(2,4,mask_plot[i]+1)\n",
    "    ax.imshow(mask_div[i],cmap='gray')\n",
    "plt.tight_layout()\n",
    "plt.show()"
   ]
  },
  {
   "cell_type": "markdown",
   "metadata": {},
   "source": [
    "## 이미지 9분할"
   ]
  },
  {
   "cell_type": "code",
   "execution_count": null,
   "metadata": {},
   "outputs": [],
   "source": [
    "mask_rle = csv.iloc[img_num, 2]\n",
    "image_path = csv.iloc[img_num, 1]\n",
    "image = cv2.imread(path+ image_path[2:])\n",
    "x,y,_ = image.shape\n",
    "mask = rle_decode(mask_rle, (image.shape[0], image.shape[1]))\n",
    "img_div = [image[:x//3,:y//3],image[:x//3,y//3:y//3*2],image[:x//3,y//3*2:],image[x//3:x//3*2,:y//3],image[x//3:x//3*2,y//3:y//3*2],image[x//3:x//3*2,y//3*2:],image[x//3*2:,:y//3],image[x//3*2:,y//3:y//3*2],image[x//3*2:,y//3*2:]]\n",
    "mask_div = [mask[:x//3,:y//3],mask[:x//3,y//3:y//3*2],mask[:x//3,y//3*2:],mask[x//3:x//3*2,:y//3],mask[x//3:x//3*2,y//3:y//3*2],mask[x//3:x//3*2,y//3*2:],mask[x//3*2:,:y//3],mask[x//3*2:,y//3:y//3*2],mask[x//3*2:,y//3*2:]]\n",
    "fig = plt.figure(figsize=(120,60))\n",
    "img_plot = [0,1,2,6,7,8,12,13,14]\n",
    "mask_plot = [3,4,5,9,10,11,15,16,17]\n",
    "for i in range(9):\n",
    "    ax = fig.add_subplot(3,6,img_plot[i]+1)\n",
    "    ax.imshow(img_div[i])\n",
    "    ax = fig.add_subplot(3,6,mask_plot[i]+1)\n",
    "    ax.imshow(mask_div[i],cmap='gray')\n",
    "plt.tight_layout()\n",
    "plt.show()"
   ]
  }
 ],
 "metadata": {
  "kernelspec": {
   "display_name": "Python 3",
   "language": "python",
   "name": "python3"
  },
  "language_info": {
   "codemirror_mode": {
    "name": "ipython",
    "version": 3
   },
   "file_extension": ".py",
   "mimetype": "text/x-python",
   "name": "python",
   "nbconvert_exporter": "python",
   "pygments_lexer": "ipython3",
   "version": "3.11.3"
  },
  "orig_nbformat": 4
 },
 "nbformat": 4,
 "nbformat_minor": 2
}
