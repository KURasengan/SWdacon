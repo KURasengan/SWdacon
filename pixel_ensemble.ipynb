{
 "cells": [
  {
   "cell_type": "code",
   "execution_count": null,
   "metadata": {},
   "outputs": [],
   "source": [
    "import os\n",
    "from natsort import natsorted\n",
    "import pandas as pd\n",
    "from tqdm import tqdm\n",
    "import numpy as np\n",
    "import warnings"
   ]
  },
  {
   "cell_type": "code",
   "execution_count": null,
   "metadata": {},
   "outputs": [],
   "source": [
    "# RLE 디코딩 함수\n",
    "def rle_decode(mask_rle, shape):\n",
    "    s = mask_rle.split()\n",
    "    starts, lengths = [np.asarray(x, dtype=int) for x in (s[0:][::2], s[1:][::2])]\n",
    "    starts -= 1\n",
    "    ends = starts + lengths\n",
    "    img = np.zeros(shape[0]*shape[1], dtype=np.uint8)\n",
    "    for lo, hi in zip(starts, ends):\n",
    "        img[lo:hi] = 1\n",
    "    return img.reshape(shape)\n",
    "\n",
    "# RLE 인코딩 함수(-1 예측 포함)\n",
    "def rle_encode(mask):\n",
    "    pixels = mask.flatten()\n",
    "    pixels = np.concatenate([[0], pixels, [0]])\n",
    "    runs = np.where(pixels[1:] != pixels[:-1])[0] + 1\n",
    "    runs[1::2] -= runs[::2]\n",
    "    rle = ' '.join(str(x) for x in runs)\n",
    "    return rle if rle != '' else -1"
   ]
  },
  {
   "cell_type": "code",
   "execution_count": null,
   "metadata": {},
   "outputs": [],
   "source": [
    "class Ensemble:\n",
    "    \"\"\"\n",
    "    folder_path: csv 파일이 있는 폴더의 경로 입력. csv 파일만 선택하므로 다른 파일이 포함되어 있어도 상관 없음.\n",
    "    block_size: 60000개의 row를 한 번에 처리할 수 없어 작은 size로 분해해 처리, 단 저장 공간 10G 이상 필요.\n",
    "    img_shape: encoding할 image shape (224, 224)\n",
    "    temp_folder: 작게 쪼갠 파일을 임시로 저장할 폴더 경로 입력. 없는 경로라면 자동 생성하여 저장.\n",
    "    \"\"\"\n",
    "    def __init__(self, folder_path, block_size, img_shape = (224, 224), temp_folder=\"../temp/\"):\n",
    "        self.folder_path = folder_path\n",
    "        self.df_list = [pd.read_csv(folder_path + \"/\" + csv_file) for csv_file in natsorted(os.listdir(folder_path)) if 'csv' in csv_file]\n",
    "        self.img_shape = img_shape\n",
    "        self.block_size = block_size\n",
    "        self.row_len = len(self.df_list[0])\n",
    "        self.temp_folder = temp_folder\n",
    "        self.num_blocks = self.row_len // self.block_size + 1\n",
    "        os.makedirs(self.temp_folder, exist_ok=True)\n",
    "\n",
    "    def process_df(self, df):\n",
    "        return np.stack(df['mask_rle'].apply(lambda x: rle_decode(x, self.img_shape)))\n",
    "    \n",
    "    def save_temp_data(self, data, index):\n",
    "        if not os.path.exists(self.temp_folder):\n",
    "            os.makedirs(self.temp_folder)\n",
    "        file_path = os.path.join(self.temp_folder, f\"temp_data_{index}.npy\")\n",
    "        np.save(file_path, data)\n",
    "\n",
    "    def load_temp_data(self, index):\n",
    "        file_path = os.path.join(self.temp_folder, f\"temp_data_{index}.npy\")\n",
    "        return np.load(file_path)\n",
    "\n",
    "    def hard_voting(self):\n",
    "        total_list = []\n",
    "        print(\"Voting 및 csv 분할하는 중..\")\n",
    "        for i in tqdm(range(self.num_blocks)):\n",
    "            temp_list = []\n",
    "            start_idx = i * self.block_size\n",
    "            end_idx = start_idx + self.block_size if start_idx + self.block_size < self.row_len else self.row_len\n",
    "            for df in self.df_list:\n",
    "                temp_list.append(self.process_df(df[start_idx:end_idx]))\n",
    "            self.save_temp_data(np.where(np.mean(temp_list, axis = 0) >= 0.5, 1, 0), i)\n",
    "            total_list.append(i)\n",
    "        result_list = []\n",
    "        print(\"**메모리 사용량 주의**\")\n",
    "        print(\"csv를 합치는 중..\")\n",
    "        for i in tqdm(total_list):\n",
    "            temp_data = self.load_temp_data(i)\n",
    "            result_list.extend(temp_data)\n",
    "        print(\"rle_encode 중..\")\n",
    "        result_list = list(map(rle_encode, result_list))\n",
    "        print(\"완료!\")\n",
    "        return result_list"
   ]
  },
  {
   "cell_type": "markdown",
   "metadata": {},
   "source": [
    "# 개별 설정"
   ]
  },
  {
   "cell_type": "code",
   "execution_count": null,
   "metadata": {},
   "outputs": [],
   "source": [
    "folder_path = '../ensemble' # csv 파일이 있는 폴더의 경로 입력. csv 파일만 선택하므로 다른 파일이 포함되어 있어도 상관 없음.\n",
    "temp_folder = \"../temp\" # 계산하여 분할 저장할 파일의 경로\n",
    "submit_path = \"../ensemble_result\" # 저장할 경로 지정. 없어도 만들어주니까 괜찮음.\n",
    "img_shape = (224, 224) # encoding할 image shape\n",
    "block_size = 10000 # 60000개의 row를 한 번에 처리할 수 없어 작은 size로 분해해 처리. 이게 클수록 메모리 소모 큼. 저장 공간 10G 이상 필요.\n",
    "ens = Ensemble(folder_path=folder_path, img_shape=(224, 224), block_size=block_size, temp_folder=temp_folder)"
   ]
  },
  {
   "cell_type": "markdown",
   "metadata": {},
   "source": [
    "# 작동"
   ]
  },
  {
   "cell_type": "code",
   "execution_count": null,
   "metadata": {},
   "outputs": [],
   "source": [
    "ens_result = ens.hard_voting()"
   ]
  },
  {
   "cell_type": "code",
   "execution_count": null,
   "metadata": {},
   "outputs": [],
   "source": [
    "import datetime\n",
    "import matplotlib.pyplot as plt\n",
    "submit = pd.read_csv(f\"../open (1)/sample_submission.csv\") # sample_submission.csv 경로 지정\n",
    "submit['mask_rle'] = ens_result\n",
    "\n",
    "now = datetime.datetime.now()\n",
    "current_time = now.strftime(\"ens_%m%d-%H_%M_%S\")\n",
    "file_name = f\"{current_time}.csv\"\n",
    "if not os.path.exists(submit_path):\n",
    "    os.makedirs(submit_path)\n",
    "submit_path = f\"{submit_path}/{file_name}\"\n",
    "submit.to_csv(submit_path, index=False)"
   ]
  },
  {
   "cell_type": "markdown",
   "metadata": {},
   "source": [
    "# 앙상블 결과 확인"
   ]
  },
  {
   "cell_type": "code",
   "execution_count": null,
   "metadata": {},
   "outputs": [],
   "source": [
    "def plot_res(df_list, result, idx):\n",
    "    warnings.filterwarnings(\"ignore\", category=UserWarning)\n",
    "    df_file_list = [row1[0] for row1 in df_list]\n",
    "    df_name_list = [row2[1] for row2 in df_list]\n",
    "    temp_list = []\n",
    "    fig = plt.figure(figsize=[20 * (int(len(df_file_list) / 4) + 1),20])\n",
    "    for df in df_file_list:\n",
    "        temp_list.append(rle_decode(df.iloc[idx,1], (224,224)))\n",
    "    temp_list.append(rle_decode(result.iloc[idx,1], (224,224)))\n",
    "\n",
    "    for i in range(len(temp_list)):\n",
    "        ax1 = fig.add_subplot(int(len(df_file_list) / 4) + 1,4,i+1)\n",
    "        ax1.imshow(temp_list[i],cmap='gray')\n",
    "        ax1.tick_params(axis='both', labelsize=16)\n",
    "        if i == len(temp_list) - 1:\n",
    "            ax1.set_title(f'Ensemble Result', fontsize=20)\n",
    "        else:\n",
    "            ax1.set_title(f'{df_name_list[i]}', fontsize=20)"
   ]
  },
  {
   "cell_type": "code",
   "execution_count": null,
   "metadata": {},
   "outputs": [],
   "source": [
    "df_list = [[pd.read_csv(folder_path + \"/\" + csv_file), csv_file] for csv_file in natsorted(os.listdir(folder_path)) if 'csv' in csv_file]\n",
    "result = pd.read_csv(submit_path)"
   ]
  },
  {
   "cell_type": "code",
   "execution_count": null,
   "metadata": {},
   "outputs": [],
   "source": [
    "plot_res(df_list, result, 10) # 몇 번 테스트 파일을 볼 것인지"
   ]
  }
 ],
 "metadata": {
  "kernelspec": {
   "display_name": "base",
   "language": "python",
   "name": "python3"
  },
  "language_info": {
   "codemirror_mode": {
    "name": "ipython",
    "version": 3
   },
   "file_extension": ".py",
   "mimetype": "text/x-python",
   "name": "python",
   "nbconvert_exporter": "python",
   "pygments_lexer": "ipython3",
   "version": "3.8.13"
  },
  "orig_nbformat": 4
 },
 "nbformat": 4,
 "nbformat_minor": 2
}
