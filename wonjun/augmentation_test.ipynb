{
 "cells": [
  {
   "cell_type": "code",
   "execution_count": null,
   "metadata": {},
   "outputs": [],
   "source": [
    "import os\n",
    "import cv2\n",
    "import pandas as pd\n",
    "import numpy as np\n",
    "import random\n",
    "from typing import List, Union\n",
    "from joblib import Parallel, delayed\n",
    "\n",
    "import torch\n",
    "import torch.nn as nn\n",
    "from torch.utils.data import Dataset, DataLoader\n",
    "from sklearn.model_selection import train_test_split\n",
    "\n",
    "from tqdm import tqdm\n",
    "import albumentations as A\n",
    "from albumentations.pytorch import ToTensorV2\n",
    "\n",
    "import datetime\n",
    "import matplotlib.pyplot as plt"
   ]
  },
  {
   "cell_type": "code",
   "execution_count": null,
   "metadata": {},
   "outputs": [],
   "source": [
    "# RLE 디코딩 함수\n",
    "def rle_decode(mask_rle, shape):\n",
    "    s = mask_rle.split()\n",
    "    starts, lengths = [np.asarray(x, dtype=int) for x in (s[0:][::2], s[1:][::2])]\n",
    "    starts -= 1\n",
    "    ends = starts + lengths\n",
    "    img = np.zeros(shape[0]*shape[1], dtype=np.uint8)\n",
    "    for lo, hi in zip(starts, ends):\n",
    "        img[lo:hi] = 1\n",
    "    return img.reshape(shape)\n",
    "\n",
    "# RLE 인코딩 함수(-1 예측 포함)\n",
    "def rle_encode(mask):\n",
    "    pixels = mask.flatten()\n",
    "    pixels = np.concatenate([[0], pixels, [0]])\n",
    "    runs = np.where(pixels[1:] != pixels[:-1])[0] + 1\n",
    "    runs[1::2] -= runs[::2]\n",
    "    rle = ' '.join(str(x) for x in runs)\n",
    "    return rle if rle != '' else -1"
   ]
  },
  {
   "cell_type": "code",
   "execution_count": null,
   "metadata": {},
   "outputs": [],
   "source": [
    "custom_transform = {\n",
    "    'train':A.Compose([\n",
    "        # A.augmentations.crops.transforms.RandomCrop(224,224,p=1.0),\n",
    "        # A.Normalize(),\n",
    "        # A.OneOf([\n",
    "        #     A.augmentations.crops.transforms.RandomCrop(224,224,p=0.3),\n",
    "        #     A.Resize(224, 224, p = 0.7),\n",
    "        # ], p=1.0),\n",
    "        A.augmentations.crops.transforms.CropNonEmptyMaskIfExists(224,224,[0]),\n",
    "        ToTensorV2()\n",
    "    ]),\n",
    "    'valid':A.Compose([\n",
    "        A.augmentations.crops.transforms.CenterCrop(224,224,p=1.0),\n",
    "        A.Normalize(),\n",
    "        ToTensorV2()\n",
    "    ]),\n",
    "    'test': A.Compose([\n",
    "        A.Normalize(),\n",
    "        ToTensorV2()\n",
    "    ]),\n",
    "}"
   ]
  },
  {
   "cell_type": "code",
   "execution_count": null,
   "metadata": {},
   "outputs": [],
   "source": [
    "idx = 0 # train에서 보고 싶은 index\n",
    "\n",
    "train = pd.read_csv('../open (1)/train.csv') # 경로 주의\n",
    "image = cv2.imread(f'../open (1)/{train.iloc[idx,1]}') # 경로 주의\n",
    "image = cv2.cvtColor(image, cv2.COLOR_BGR2RGB)\n",
    "mask_rle = train.iloc[idx,2]\n",
    "mask = rle_decode(mask_rle, (image.shape[0], image.shape[1]))"
   ]
  },
  {
   "cell_type": "code",
   "execution_count": null,
   "metadata": {},
   "outputs": [],
   "source": [
    "augmented = custom_transform['train'](image=image, mask=mask)\n",
    "new_image = augmented['image']\n",
    "new_mask = augmented['mask']\n",
    "new_image = np.transpose(new_image, (1, 2, 0))\n",
    "\n",
    "fig = plt.figure(figsize = [15,10])\n",
    "ax1 = fig.add_subplot(1,4,1)\n",
    "ax1.imshow(image)\n",
    "ax1.set_title(f'{image.shape}')\n",
    "ax2 = fig.add_subplot(1,4,2)\n",
    "ax2.imshow(mask)\n",
    "ax2.set_title(f'{mask.shape}')\n",
    "ax3 = fig.add_subplot(1,4,3)\n",
    "ax3.imshow(new_image)\n",
    "ax3.set_title(f'{new_image.shape}')\n",
    "ax4 = fig.add_subplot(1,4,4)\n",
    "ax4.imshow(new_mask)\n",
    "ax4.set_title(f'{new_mask.shape}')"
   ]
  }
 ],
 "metadata": {
  "kernelspec": {
   "display_name": "base",
   "language": "python",
   "name": "python3"
  },
  "language_info": {
   "codemirror_mode": {
    "name": "ipython",
    "version": 3
   },
   "file_extension": ".py",
   "mimetype": "text/x-python",
   "name": "python",
   "nbconvert_exporter": "python",
   "pygments_lexer": "ipython3",
   "version": "3.8.13"
  },
  "orig_nbformat": 4
 },
 "nbformat": 4,
 "nbformat_minor": 2
}
