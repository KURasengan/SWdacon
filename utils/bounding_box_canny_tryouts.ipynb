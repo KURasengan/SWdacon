{
 "cells": [
  {
   "cell_type": "code",
   "execution_count": 41,
   "metadata": {},
   "outputs": [],
   "source": [
    "import numpy as np\n",
    "import cv2\n",
    "import pandas as pd\n",
    "import matplotlib.pyplot as plt"
   ]
  },
  {
   "cell_type": "code",
   "execution_count": 42,
   "metadata": {},
   "outputs": [],
   "source": [
    "path = \"C:/SWdacon/minseo/data/\"\n",
    "csv_file = path+'train.csv'\n",
    "train_img_path = path+'train_img/'\n",
    "csv = pd.read_csv(csv_file)"
   ]
  },
  {
   "cell_type": "code",
   "execution_count": 43,
   "metadata": {},
   "outputs": [],
   "source": [
    "# RLE 디코딩 함수\n",
    "def rle_decode(mask_rle, shape):\n",
    "    s = mask_rle.split()\n",
    "    starts, lengths = [np.asarray(x, dtype=int) for x in (s[0:][::2], s[1:][::2])]\n",
    "    starts -= 1\n",
    "    ends = starts + lengths\n",
    "    img = np.zeros(shape[0]*shape[1], dtype=np.uint8)\n",
    "    for lo, hi in zip(starts, ends):\n",
    "        img[lo:hi] = 1\n",
    "    return img.reshape(shape)"
   ]
  },
  {
   "cell_type": "code",
   "execution_count": 73,
   "metadata": {},
   "outputs": [],
   "source": [
    "img_num = 12"
   ]
  },
  {
   "cell_type": "markdown",
   "metadata": {},
   "source": [
    "### generate mask image"
   ]
  },
  {
   "cell_type": "code",
   "execution_count": 74,
   "metadata": {},
   "outputs": [],
   "source": [
    "mask_rle = csv.iloc[img_num, 2]\n",
    "image_path = csv.iloc[img_num, 1]\n",
    "image = cv2.imread(path+ image_path[2:])\n",
    "mask = rle_decode(mask_rle, (image.shape[0], image.shape[1]))\n",
    "x,y,_ = image.shape\n",
    "image = image[:y//3,:x//3]\n",
    "mask = mask[:y//3,:x//3]"
   ]
  },
  {
   "cell_type": "code",
   "execution_count": 75,
   "metadata": {},
   "outputs": [],
   "source": [
    "contours = cv2.findContours(mask, cv2.RETR_EXTERNAL, cv2.CHAIN_APPROX_SIMPLE)\n",
    "contours = contours[0] if len(contours) == 2 else contours[1]\n",
    "result = image.copy()\n",
    "for cntr in contours:\n",
    "    x,y,w,h = cv2.boundingRect(cntr)\n",
    "    cv2.rectangle(result, (x, y), (x+w, y+h), (0, 0, 255), 2)"
   ]
  },
  {
   "cell_type": "code",
   "execution_count": 79,
   "metadata": {},
   "outputs": [],
   "source": [
    "def auto_canny(image, sigma=0.33):\n",
    "    # image = cv2.GaussianBlur(image, (3, 3), 0)\n",
    "\t# compute the median of the single channel pixel intensities\n",
    "    v = np.median(image)\n",
    "\t# apply automatic Canny edge detection using the computed median\n",
    "    lower = int(max(0, (1.0 - sigma) * v))\n",
    "    upper = int(min(255, (1.0 + sigma) * v))\n",
    "    edged = cv2.Canny(image, lower, upper)\n",
    "\t# return the edged image\n",
    "    return edged"
   ]
  },
  {
   "cell_type": "code",
   "execution_count": 80,
   "metadata": {},
   "outputs": [],
   "source": [
    "contours = cv2.findContours(mask, cv2.RETR_EXTERNAL, cv2.CHAIN_APPROX_SIMPLE)\n",
    "contours = contours[0] if len(contours) == 2 else contours[1]\n",
    "res = image.copy()\n",
    "\n",
    "# for cntr in contours:\n",
    "cntr = contours[3]\n",
    "x,y,w,h = cv2.boundingRect(cntr)\n",
    "\n",
    "cropped = res[y-10:y+h+10,x-10:x+w+10]\n",
    "mask_cropped = mask[y-10:y+h+10,x-10:x+w+10]\n",
    "cropped_gray = cv2.cvtColor(cropped,cv2.COLOR_BGR2GRAY)\n",
    "edge = auto_canny(cropped_gray)\n",
    "\n",
    "    # cv2.rectangle(res, (x, y), (x+w, y+h), (0, 0, 255), 2)"
   ]
  },
  {
   "cell_type": "markdown",
   "metadata": {},
   "source": [
    "### Canny image"
   ]
  },
  {
   "cell_type": "code",
   "execution_count": null,
   "metadata": {},
   "outputs": [],
   "source": [
    "fig = plt.figure()\n",
    "ax1 = fig.add_subplot(1,3,1)\n",
    "ax1.imshow(cropped)\n",
    "ax1.set_title('image')\n",
    "ax2 = fig.add_subplot(1,3,2)\n",
    "ax2.imshow(mask_cropped,cmap='gray')\n",
    "ax2.set_title('mask')\n",
    "ax2 = fig.add_subplot(1,3,3)\n",
    "ax2.imshow(edge,cmap='gray')\n",
    "ax2.set_title('mask')\n",
    "plt.show()"
   ]
  },
  {
   "cell_type": "markdown",
   "metadata": {},
   "source": [
    "### Bounding box"
   ]
  },
  {
   "cell_type": "code",
   "execution_count": null,
   "metadata": {},
   "outputs": [],
   "source": [
    "fig = plt.figure()\n",
    "ax1 = fig.add_subplot(1,3,1)\n",
    "ax1.imshow(image)\n",
    "ax1.set_title('image')\n",
    "ax2 = fig.add_subplot(1,3,2)\n",
    "ax2.imshow(mask,cmap='gray')\n",
    "ax2.set_title('mask')\n",
    "ax2 = fig.add_subplot(1,3,3)\n",
    "ax2.imshow(result,cmap='gray')\n",
    "ax2.set_title('mask')\n",
    "plt.show()"
   ]
  }
 ],
 "metadata": {
  "kernelspec": {
   "display_name": "Python 3",
   "language": "python",
   "name": "python3"
  },
  "language_info": {
   "codemirror_mode": {
    "name": "ipython",
    "version": 3
   },
   "file_extension": ".py",
   "mimetype": "text/x-python",
   "name": "python",
   "nbconvert_exporter": "python",
   "pygments_lexer": "ipython3",
   "version": "3.11.3"
  },
  "orig_nbformat": 4
 },
 "nbformat": 4,
 "nbformat_minor": 2
}
