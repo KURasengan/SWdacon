{
 "cells": [
  {
   "cell_type": "code",
   "execution_count": 1,
   "metadata": {
    "collapsed": true,
    "ExecuteTime": {
     "end_time": "2023-07-14T10:59:30.498319042Z",
     "start_time": "2023-07-14T10:59:29.271796301Z"
    }
   },
   "outputs": [
    {
     "name": "stderr",
     "output_type": "stream",
     "text": [
      "/home/jo/anaconda3/envs/build/lib/python3.8/site-packages/torchvision/io/image.py:13: UserWarning: Failed to load image Python extension: '/home/jo/anaconda3/envs/build/lib/python3.8/site-packages/torchvision/image.so: undefined symbol: _ZN5torch3jit17parseSchemaOrNameERKNSt7__cxx1112basic_stringIcSt11char_traitsIcESaIcEEE'If you don't plan on using image functionality from `torchvision.io`, you can ignore this warning. Otherwise, there might be something wrong with your environment. Did you have `libjpeg` or `libpng` installed before building `torchvision` from source?\n",
      "  warn(\n"
     ]
    }
   ],
   "source": [
    "import torch\n",
    "from vit_pytorch import ViT\n",
    "import torch.nn as nn\n",
    "import torchvision.models as models\n",
    "from torchsummary import summary\n",
    "from einops.layers.torch import Rearrange, Reduce\n",
    "\n",
    "from tqdm import tqdm\n",
    "import albumentations as A\n",
    "from albumentations.pytorch import ToTensorV2"
   ]
  },
  {
   "cell_type": "code",
   "execution_count": 2,
   "outputs": [],
   "source": [
    "config = {\n",
    "    'device': torch.device('cuda' if torch.cuda.is_available() else 'cpu'),\n",
    "    'base_path': '/home/jo/Desktop/swdacon/open/', # change relative path of data\n",
    "    'train_data': 'train.csv', # change train data csv name\n",
    "    'test_data': 'test.csv', # change test data csv name\n",
    "    'seed': 42,\n",
    "    'valid_size': 0.2,\n",
    "    'early_stopping': 15,\n",
    "    'scheduler': True,\n",
    "    'train' : {\n",
    "       'batch_size' : 16,\n",
    "       'num_workers': 6,\n",
    "       'epochs': 300,\n",
    "       'lr': 1e-3,\n",
    "    },\n",
    "    'inference' : {\n",
    "       'batch_size' : 16,\n",
    "       'num_workers': 6,\n",
    "       'threshold': 0.35,\n",
    "    },\n",
    "}\n",
    "\n",
    "custom_transform = {\n",
    "    'train':A.Compose([\n",
    "        A.augmentations.crops.transforms.RandomCrop(224,224,p=1.0),\n",
    "        A.Normalize(),\n",
    "        ToTensorV2()\n",
    "    ]),\n",
    "    'valid':A.Compose([\n",
    "        A.augmentations.crops.transforms.CenterCrop(224,224,p=1.0),\n",
    "        A.Normalize(),\n",
    "        ToTensorV2()\n",
    "    ]),\n",
    "    'test': A.Compose([\n",
    "        A.Normalize(),\n",
    "        ToTensorV2()\n",
    "    ]),\n",
    "}"
   ],
   "metadata": {
    "collapsed": false,
    "ExecuteTime": {
     "end_time": "2023-07-14T10:59:30.558242174Z",
     "start_time": "2023-07-14T10:59:30.557223729Z"
    }
   }
  },
  {
   "cell_type": "code",
   "execution_count": 3,
   "outputs": [
    {
     "data": {
      "text/plain": "device(type='cuda')"
     },
     "execution_count": 3,
     "metadata": {},
     "output_type": "execute_result"
    }
   ],
   "source": [
    "config['device']"
   ],
   "metadata": {
    "collapsed": false,
    "ExecuteTime": {
     "end_time": "2023-07-14T10:59:30.572836554Z",
     "start_time": "2023-07-14T10:59:30.558842415Z"
    }
   }
  },
  {
   "cell_type": "markdown",
   "source": [
    "## Model"
   ],
   "metadata": {
    "collapsed": false
   }
  },
  {
   "cell_type": "code",
   "execution_count": 4,
   "outputs": [],
   "source": [
    "vit_encoder = ViT(\n",
    "    image_size=14,\n",
    "    patch_size=1,\n",
    "    dim = 1024,\n",
    "    depth=12,\n",
    "    num_classes=2,\n",
    "    heads=8,\n",
    "    mlp_dim=2048,\n",
    ")\n",
    "vit_encoder=vit_encoder.to(config['device'])\n",
    "# vit_encoder = nn.DataParallel(vit_encoder)"
   ],
   "metadata": {
    "collapsed": false,
    "ExecuteTime": {
     "end_time": "2023-07-14T10:59:31.431550239Z",
     "start_time": "2023-07-14T10:59:30.572687181Z"
    }
   }
  },
  {
   "cell_type": "code",
   "execution_count": 5,
   "outputs": [],
   "source": [
    "def double_conv(in_channels, out_channels):\n",
    "    return nn.Sequential(\n",
    "        nn.Conv2d(in_channels, out_channels, 3, padding=1),\n",
    "        nn.ReLU(inplace=True),\n",
    "        nn.Conv2d(out_channels, out_channels, 3, padding=1),\n",
    "        nn.ReLU(inplace=True)\n",
    "    )\n",
    "class TransUnet(nn.Module):\n",
    "    def __init__(self):\n",
    "        super(TransUnet, self).__init__()\n",
    "        self.backbone = models.resnet50(weights='ResNet50_Weights.DEFAULT')\n",
    "        self.vit_flatten = nn.Sequential(\n",
    "            Rearrange('b c (h p1) (w p2) -> b (h w) (p1 p2 c)', p1=1, p2=1),\n",
    "            nn.LayerNorm(1024)\n",
    "        )\n",
    "        self.conv_vit_res = nn.Sequential(\n",
    "            nn.Conv2d(1024,512,3,1,1),\n",
    "            nn.ReLU(inplace=True)\n",
    "        )\n",
    "        self.res_conv = nn.Sequential(\n",
    "            nn.Conv2d(64,16,3,1,1),\n",
    "            nn.ReLU(inplace=True)\n",
    "        )\n",
    "        self.seg_conv = nn.Conv2d(16, 1, 1)\n",
    "        self.maxpool = nn.MaxPool2d(2)\n",
    "        self.upsample = nn.Upsample(scale_factor=2, mode='bilinear', align_corners=True)\n",
    "\n",
    "        self.dconv_up3 = double_conv(512 + 512, 256)\n",
    "        self.dconv_up2 = double_conv(256 + 256, 128)\n",
    "        self.dconv_up1 = double_conv(64 + 128, 64)\n",
    "\n",
    "        self.conv_last = nn.Conv2d(16, 1, 1)\n",
    "    def forward(self, x):\n",
    "        x = self.backbone.conv1(x)\n",
    "        x = self.backbone.bn1(x)\n",
    "        x = self.backbone.relu(x)\n",
    "        out1 = self.backbone.maxpool(x)\n",
    "        out2 = self.backbone.layer1(out1)\n",
    "        out3 = self.backbone.layer2(out2)\n",
    "        out4 = self.backbone.layer3(out3)\n",
    "\n",
    "        vit_out = self.vit_flatten(out4)\n",
    "        vit_out = vit_encoder.transformer(vit_out)\n",
    "        vit_out = vit_out.reshape(-1,1024,14,14)\n",
    "        vit_out = self.conv_vit_res(vit_out)\n",
    "        up3 = self.upsample(vit_out)\n",
    "        up3 = up3.to(out3.device)\n",
    "        up3 = torch.cat([up3, out3], dim=1)\n",
    "        up3 = self.dconv_up3(up3)\n",
    "        up2 = self.upsample(up3)\n",
    "        up2 = up2.to(out2.device)\n",
    "\n",
    "        up2 = torch.cat([up2, out2], dim=1)\n",
    "        up2 = self.dconv_up2(up2)\n",
    "\n",
    "        up1 = self.upsample(up2)\n",
    "        up1 = up1.to(x.device)\n",
    "        up1 = torch.cat([up1,x],dim=1)\n",
    "        up1 = self.dconv_up1(up1)\n",
    "\n",
    "        up0 = self.upsample(up1)\n",
    "        up0 = self.res_conv(up0)\n",
    "        res = self.seg_conv(up0)\n",
    "        return res"
   ],
   "metadata": {
    "collapsed": false,
    "ExecuteTime": {
     "end_time": "2023-07-14T10:59:31.436507182Z",
     "start_time": "2023-07-14T10:59:31.435218173Z"
    }
   }
  },
  {
   "cell_type": "code",
   "execution_count": 6,
   "outputs": [
    {
     "name": "stdout",
     "output_type": "stream",
     "text": [
      "----------------------------------------------------------------\n",
      "        Layer (type)               Output Shape         Param #\n",
      "================================================================\n",
      "            Conv2d-1         [-1, 64, 112, 112]           9,408\n",
      "       BatchNorm2d-2         [-1, 64, 112, 112]             128\n",
      "              ReLU-3         [-1, 64, 112, 112]               0\n",
      "         MaxPool2d-4           [-1, 64, 56, 56]               0\n",
      "            Conv2d-5           [-1, 64, 56, 56]           4,096\n",
      "       BatchNorm2d-6           [-1, 64, 56, 56]             128\n",
      "              ReLU-7           [-1, 64, 56, 56]               0\n",
      "            Conv2d-8           [-1, 64, 56, 56]          36,864\n",
      "       BatchNorm2d-9           [-1, 64, 56, 56]             128\n",
      "             ReLU-10           [-1, 64, 56, 56]               0\n",
      "           Conv2d-11          [-1, 256, 56, 56]          16,384\n",
      "      BatchNorm2d-12          [-1, 256, 56, 56]             512\n",
      "           Conv2d-13          [-1, 256, 56, 56]          16,384\n",
      "      BatchNorm2d-14          [-1, 256, 56, 56]             512\n",
      "             ReLU-15          [-1, 256, 56, 56]               0\n",
      "       Bottleneck-16          [-1, 256, 56, 56]               0\n",
      "           Conv2d-17           [-1, 64, 56, 56]          16,384\n",
      "      BatchNorm2d-18           [-1, 64, 56, 56]             128\n",
      "             ReLU-19           [-1, 64, 56, 56]               0\n",
      "           Conv2d-20           [-1, 64, 56, 56]          36,864\n",
      "      BatchNorm2d-21           [-1, 64, 56, 56]             128\n",
      "             ReLU-22           [-1, 64, 56, 56]               0\n",
      "           Conv2d-23          [-1, 256, 56, 56]          16,384\n",
      "      BatchNorm2d-24          [-1, 256, 56, 56]             512\n",
      "             ReLU-25          [-1, 256, 56, 56]               0\n",
      "       Bottleneck-26          [-1, 256, 56, 56]               0\n",
      "           Conv2d-27           [-1, 64, 56, 56]          16,384\n",
      "      BatchNorm2d-28           [-1, 64, 56, 56]             128\n",
      "             ReLU-29           [-1, 64, 56, 56]               0\n",
      "           Conv2d-30           [-1, 64, 56, 56]          36,864\n",
      "      BatchNorm2d-31           [-1, 64, 56, 56]             128\n",
      "             ReLU-32           [-1, 64, 56, 56]               0\n",
      "           Conv2d-33          [-1, 256, 56, 56]          16,384\n",
      "      BatchNorm2d-34          [-1, 256, 56, 56]             512\n",
      "             ReLU-35          [-1, 256, 56, 56]               0\n",
      "       Bottleneck-36          [-1, 256, 56, 56]               0\n",
      "           Conv2d-37          [-1, 128, 56, 56]          32,768\n",
      "      BatchNorm2d-38          [-1, 128, 56, 56]             256\n",
      "             ReLU-39          [-1, 128, 56, 56]               0\n",
      "           Conv2d-40          [-1, 128, 28, 28]         147,456\n",
      "      BatchNorm2d-41          [-1, 128, 28, 28]             256\n",
      "             ReLU-42          [-1, 128, 28, 28]               0\n",
      "           Conv2d-43          [-1, 512, 28, 28]          65,536\n",
      "      BatchNorm2d-44          [-1, 512, 28, 28]           1,024\n",
      "           Conv2d-45          [-1, 512, 28, 28]         131,072\n",
      "      BatchNorm2d-46          [-1, 512, 28, 28]           1,024\n",
      "             ReLU-47          [-1, 512, 28, 28]               0\n",
      "       Bottleneck-48          [-1, 512, 28, 28]               0\n",
      "           Conv2d-49          [-1, 128, 28, 28]          65,536\n",
      "      BatchNorm2d-50          [-1, 128, 28, 28]             256\n",
      "             ReLU-51          [-1, 128, 28, 28]               0\n",
      "           Conv2d-52          [-1, 128, 28, 28]         147,456\n",
      "      BatchNorm2d-53          [-1, 128, 28, 28]             256\n",
      "             ReLU-54          [-1, 128, 28, 28]               0\n",
      "           Conv2d-55          [-1, 512, 28, 28]          65,536\n",
      "      BatchNorm2d-56          [-1, 512, 28, 28]           1,024\n",
      "             ReLU-57          [-1, 512, 28, 28]               0\n",
      "       Bottleneck-58          [-1, 512, 28, 28]               0\n",
      "           Conv2d-59          [-1, 128, 28, 28]          65,536\n",
      "      BatchNorm2d-60          [-1, 128, 28, 28]             256\n",
      "             ReLU-61          [-1, 128, 28, 28]               0\n",
      "           Conv2d-62          [-1, 128, 28, 28]         147,456\n",
      "      BatchNorm2d-63          [-1, 128, 28, 28]             256\n",
      "             ReLU-64          [-1, 128, 28, 28]               0\n",
      "           Conv2d-65          [-1, 512, 28, 28]          65,536\n",
      "      BatchNorm2d-66          [-1, 512, 28, 28]           1,024\n",
      "             ReLU-67          [-1, 512, 28, 28]               0\n",
      "       Bottleneck-68          [-1, 512, 28, 28]               0\n",
      "           Conv2d-69          [-1, 128, 28, 28]          65,536\n",
      "      BatchNorm2d-70          [-1, 128, 28, 28]             256\n",
      "             ReLU-71          [-1, 128, 28, 28]               0\n",
      "           Conv2d-72          [-1, 128, 28, 28]         147,456\n",
      "      BatchNorm2d-73          [-1, 128, 28, 28]             256\n",
      "             ReLU-74          [-1, 128, 28, 28]               0\n",
      "           Conv2d-75          [-1, 512, 28, 28]          65,536\n",
      "      BatchNorm2d-76          [-1, 512, 28, 28]           1,024\n",
      "             ReLU-77          [-1, 512, 28, 28]               0\n",
      "       Bottleneck-78          [-1, 512, 28, 28]               0\n",
      "           Conv2d-79          [-1, 256, 28, 28]         131,072\n",
      "      BatchNorm2d-80          [-1, 256, 28, 28]             512\n",
      "             ReLU-81          [-1, 256, 28, 28]               0\n",
      "           Conv2d-82          [-1, 256, 14, 14]         589,824\n",
      "      BatchNorm2d-83          [-1, 256, 14, 14]             512\n",
      "             ReLU-84          [-1, 256, 14, 14]               0\n",
      "           Conv2d-85         [-1, 1024, 14, 14]         262,144\n",
      "      BatchNorm2d-86         [-1, 1024, 14, 14]           2,048\n",
      "           Conv2d-87         [-1, 1024, 14, 14]         524,288\n",
      "      BatchNorm2d-88         [-1, 1024, 14, 14]           2,048\n",
      "             ReLU-89         [-1, 1024, 14, 14]               0\n",
      "       Bottleneck-90         [-1, 1024, 14, 14]               0\n",
      "           Conv2d-91          [-1, 256, 14, 14]         262,144\n",
      "      BatchNorm2d-92          [-1, 256, 14, 14]             512\n",
      "             ReLU-93          [-1, 256, 14, 14]               0\n",
      "           Conv2d-94          [-1, 256, 14, 14]         589,824\n",
      "      BatchNorm2d-95          [-1, 256, 14, 14]             512\n",
      "             ReLU-96          [-1, 256, 14, 14]               0\n",
      "           Conv2d-97         [-1, 1024, 14, 14]         262,144\n",
      "      BatchNorm2d-98         [-1, 1024, 14, 14]           2,048\n",
      "             ReLU-99         [-1, 1024, 14, 14]               0\n",
      "      Bottleneck-100         [-1, 1024, 14, 14]               0\n",
      "          Conv2d-101          [-1, 256, 14, 14]         262,144\n",
      "     BatchNorm2d-102          [-1, 256, 14, 14]             512\n",
      "            ReLU-103          [-1, 256, 14, 14]               0\n",
      "          Conv2d-104          [-1, 256, 14, 14]         589,824\n",
      "     BatchNorm2d-105          [-1, 256, 14, 14]             512\n",
      "            ReLU-106          [-1, 256, 14, 14]               0\n",
      "          Conv2d-107         [-1, 1024, 14, 14]         262,144\n",
      "     BatchNorm2d-108         [-1, 1024, 14, 14]           2,048\n",
      "            ReLU-109         [-1, 1024, 14, 14]               0\n",
      "      Bottleneck-110         [-1, 1024, 14, 14]               0\n",
      "          Conv2d-111          [-1, 256, 14, 14]         262,144\n",
      "     BatchNorm2d-112          [-1, 256, 14, 14]             512\n",
      "            ReLU-113          [-1, 256, 14, 14]               0\n",
      "          Conv2d-114          [-1, 256, 14, 14]         589,824\n",
      "     BatchNorm2d-115          [-1, 256, 14, 14]             512\n",
      "            ReLU-116          [-1, 256, 14, 14]               0\n",
      "          Conv2d-117         [-1, 1024, 14, 14]         262,144\n",
      "     BatchNorm2d-118         [-1, 1024, 14, 14]           2,048\n",
      "            ReLU-119         [-1, 1024, 14, 14]               0\n",
      "      Bottleneck-120         [-1, 1024, 14, 14]               0\n",
      "          Conv2d-121          [-1, 256, 14, 14]         262,144\n",
      "     BatchNorm2d-122          [-1, 256, 14, 14]             512\n",
      "            ReLU-123          [-1, 256, 14, 14]               0\n",
      "          Conv2d-124          [-1, 256, 14, 14]         589,824\n",
      "     BatchNorm2d-125          [-1, 256, 14, 14]             512\n",
      "            ReLU-126          [-1, 256, 14, 14]               0\n",
      "          Conv2d-127         [-1, 1024, 14, 14]         262,144\n",
      "     BatchNorm2d-128         [-1, 1024, 14, 14]           2,048\n",
      "            ReLU-129         [-1, 1024, 14, 14]               0\n",
      "      Bottleneck-130         [-1, 1024, 14, 14]               0\n",
      "          Conv2d-131          [-1, 256, 14, 14]         262,144\n",
      "     BatchNorm2d-132          [-1, 256, 14, 14]             512\n",
      "            ReLU-133          [-1, 256, 14, 14]               0\n",
      "          Conv2d-134          [-1, 256, 14, 14]         589,824\n",
      "     BatchNorm2d-135          [-1, 256, 14, 14]             512\n",
      "            ReLU-136          [-1, 256, 14, 14]               0\n",
      "          Conv2d-137         [-1, 1024, 14, 14]         262,144\n",
      "     BatchNorm2d-138         [-1, 1024, 14, 14]           2,048\n",
      "            ReLU-139         [-1, 1024, 14, 14]               0\n",
      "      Bottleneck-140         [-1, 1024, 14, 14]               0\n",
      "       Rearrange-141            [-1, 196, 1024]               0\n",
      "       LayerNorm-142            [-1, 196, 1024]           2,048\n",
      "          Conv2d-143          [-1, 512, 14, 14]       4,719,104\n",
      "            ReLU-144          [-1, 512, 14, 14]               0\n",
      "        Upsample-145          [-1, 512, 28, 28]               0\n",
      "          Conv2d-146          [-1, 256, 28, 28]       2,359,552\n",
      "            ReLU-147          [-1, 256, 28, 28]               0\n",
      "          Conv2d-148          [-1, 256, 28, 28]         590,080\n",
      "            ReLU-149          [-1, 256, 28, 28]               0\n",
      "        Upsample-150          [-1, 256, 56, 56]               0\n",
      "          Conv2d-151          [-1, 128, 56, 56]         589,952\n",
      "            ReLU-152          [-1, 128, 56, 56]               0\n",
      "          Conv2d-153          [-1, 128, 56, 56]         147,584\n",
      "            ReLU-154          [-1, 128, 56, 56]               0\n",
      "        Upsample-155        [-1, 128, 112, 112]               0\n",
      "          Conv2d-156         [-1, 64, 112, 112]         110,656\n",
      "            ReLU-157         [-1, 64, 112, 112]               0\n",
      "          Conv2d-158         [-1, 64, 112, 112]          36,928\n",
      "            ReLU-159         [-1, 64, 112, 112]               0\n",
      "        Upsample-160         [-1, 64, 224, 224]               0\n",
      "          Conv2d-161         [-1, 16, 224, 224]           9,232\n",
      "            ReLU-162         [-1, 16, 224, 224]               0\n",
      "          Conv2d-163          [-1, 1, 224, 224]              17\n",
      "================================================================\n",
      "Total params: 17,108,449\n",
      "Trainable params: 17,108,449\n",
      "Non-trainable params: 0\n",
      "----------------------------------------------------------------\n",
      "Input size (MB): 0.57\n",
      "Forward/backward pass size (MB): 376.69\n",
      "Params size (MB): 65.26\n",
      "Estimated Total Size (MB): 442.53\n",
      "----------------------------------------------------------------\n"
     ]
    }
   ],
   "source": [
    "model = TransUnet().to(config['device'])\n",
    "summary(model,(3,224,224),device=config['device'].type)"
   ],
   "metadata": {
    "collapsed": false,
    "ExecuteTime": {
     "end_time": "2023-07-14T10:59:32.702819754Z",
     "start_time": "2023-07-14T10:59:31.437087390Z"
    }
   }
  },
  {
   "cell_type": "markdown",
   "source": [
    "## utils"
   ],
   "metadata": {
    "collapsed": false
   }
  },
  {
   "cell_type": "code",
   "execution_count": 7,
   "outputs": [],
   "source": [
    "import random\n",
    "import numpy as np\n",
    "from typing import List, Union\n",
    "from joblib import Parallel, delayed\n",
    "import os\n",
    "import torch.nn.functional as F"
   ],
   "metadata": {
    "collapsed": false,
    "ExecuteTime": {
     "end_time": "2023-07-14T10:59:32.704962213Z",
     "start_time": "2023-07-14T10:59:32.703249756Z"
    }
   }
  },
  {
   "cell_type": "code",
   "execution_count": 8,
   "outputs": [],
   "source": [
    "\n",
    "# 시드 고정 함수\n",
    "def fix_seed(seed):\n",
    "    random.seed(seed)\n",
    "    np.random.seed(seed)\n",
    "    os.environ[\"PYTHONHASHSEED\"] = str(seed)\n",
    "    torch.manual_seed(seed)\n",
    "    torch.cuda.manual_seed(seed)  # type: ignore\n",
    "    torch.backends.cudnn.deterministic = True  # type: ignore\n",
    "    torch.backends.cudnn.benchmark = True  # type: ignore\n",
    "\n",
    "# RLE 디코딩 함수\n",
    "def rle_decode(mask_rle: Union[str, int], shape=(224, 224)) -> np.array:\n",
    "    '''\n",
    "    mask_rle: run-length as string formatted (start length)\n",
    "    shape: (height,width) of array to return\n",
    "    Returns numpy array, 1 - mask, 0 - background\n",
    "    '''\n",
    "    if mask_rle == -1:\n",
    "        return np.zeros(shape)\n",
    "\n",
    "    s = mask_rle.split()\n",
    "    starts, lengths = [np.asarray(x, dtype=int) for x in (s[0:][::2], s[1:][::2])]\n",
    "    starts -= 1\n",
    "    ends = starts + lengths\n",
    "    img = np.zeros(shape[0]*shape[1], dtype=np.uint8)\n",
    "    for lo, hi in zip(starts, ends):\n",
    "        img[lo:hi] = 1\n",
    "    return img.reshape(shape)\n",
    "\n",
    "# RLE 인코딩 함수\n",
    "def rle_encode(mask):\n",
    "    pixels = mask.flatten()\n",
    "    pixels = np.concatenate([[0], pixels, [0]])\n",
    "    runs = np.where(pixels[1:] != pixels[:-1])[0] + 1\n",
    "    runs[1::2] -= runs[::2]\n",
    "    return ' '.join(str(x) for x in runs)\n",
    "\n",
    "# dice score 계산 함수\n",
    "def dice_score(prediction: np.array, ground_truth: np.array, smooth=1e-7) -> float:\n",
    "    '''\n",
    "    Calculate Dice Score between two binary masks.\n",
    "    '''\n",
    "    intersection = np.sum(prediction * ground_truth)\n",
    "    return (2.0 * intersection + smooth) / (np.sum(prediction) + np.sum(ground_truth) + smooth)\n",
    "\n",
    "def calculate_dice_scores(validation_df, img_shape=(224, 224)) -> List[float]:\n",
    "    '''\n",
    "    Calculate Dice scores for a dataset.\n",
    "    '''\n",
    "    # Extract the mask_rle columns\n",
    "    pred_mask_rle = validation_df.iloc[:, 3]\n",
    "    gt_mask_rle = validation_df.iloc[:, 4]\n",
    "\n",
    "    def calculate_dice(pred_rle, gt_rle):\n",
    "        pred_mask = rle_decode(pred_rle, img_shape)\n",
    "        gt_mask = rle_decode(gt_rle, img_shape)\n",
    "        if np.sum(gt_mask) > 0 or np.sum(pred_mask) > 0:\n",
    "            return dice_score(pred_mask, gt_mask)\n",
    "        else:\n",
    "            return None  # No valid masks found, return None\n",
    "    dice_scores = Parallel(n_jobs=-1)(\n",
    "        delayed(calculate_dice)(pred_rle, gt_rle) for pred_rle, gt_rle in zip(pred_mask_rle, gt_mask_rle)\n",
    "    )\n",
    "    dice_scores = [score for score in dice_scores if score is not None]  # Exclude None values\n",
    "    return np.mean(dice_scores)\n",
    "\n",
    "class DiceLoss(nn.Module):\n",
    "    def __init__(self, weight=None, size_average=True):\n",
    "        super(DiceLoss, self).__init__()\n",
    "\n",
    "    def forward(self, inputs, targets, smooth=1):\n",
    "\n",
    "        #comment out if your model contains a sigmoid or equivalent activation layer\n",
    "        inputs = F.sigmoid(inputs)\n",
    "\n",
    "        #flatten label and prediction tensors\n",
    "        inputs = inputs.view(-1)\n",
    "        targets = targets.view(-1)\n",
    "\n",
    "        intersection = (inputs * targets).sum()\n",
    "        dice = (2.*intersection + smooth)/(inputs.sum() + targets.sum() + smooth)\n",
    "\n",
    "        return 1 - dice"
   ],
   "metadata": {
    "collapsed": false,
    "ExecuteTime": {
     "end_time": "2023-07-14T10:59:32.754106199Z",
     "start_time": "2023-07-14T10:59:32.708055077Z"
    }
   }
  },
  {
   "cell_type": "markdown",
   "source": [
    "## Dataset"
   ],
   "metadata": {
    "collapsed": false
   }
  },
  {
   "cell_type": "code",
   "execution_count": 9,
   "outputs": [],
   "source": [
    "from torch.utils.data import Dataset, DataLoader\n",
    "import cv2\n",
    "import pandas as pd\n",
    "from sklearn.model_selection import train_test_split"
   ],
   "metadata": {
    "collapsed": false,
    "ExecuteTime": {
     "end_time": "2023-07-14T10:59:32.898186659Z",
     "start_time": "2023-07-14T10:59:32.753660718Z"
    }
   }
  },
  {
   "cell_type": "code",
   "execution_count": 10,
   "outputs": [],
   "source": [
    "class CustomDataset(Dataset):\n",
    "    def __init__(self, img_paths, mask_rles = None, transform=None, infer=False):\n",
    "        self.img_paths = img_paths\n",
    "        self.mask_rles = mask_rles\n",
    "        self.transform = transform\n",
    "        self.infer = infer\n",
    "\n",
    "    def __len__(self):\n",
    "        return len(self.img_paths)\n",
    "\n",
    "    def __getitem__(self, idx):\n",
    "        img_path = self.img_paths.iloc[idx]\n",
    "        image = cv2.imread(config['base_path']+img_path[2:])\n",
    "\n",
    "        image = cv2.cvtColor(image, cv2.COLOR_BGR2RGB)\n",
    "\n",
    "        if self.infer:\n",
    "            if self.transform:\n",
    "                image = self.transform(image=image)['image']\n",
    "            return image\n",
    "\n",
    "        mask_rle = self.mask_rles.iloc[idx]\n",
    "        mask = rle_decode(mask_rle, (image.shape[0], image.shape[1]))\n",
    "\n",
    "        if self.transform:\n",
    "            augmented = self.transform(image=image, mask=mask)\n",
    "            image = augmented['image']\n",
    "            mask = augmented['mask']\n",
    "\n",
    "        return image, mask"
   ],
   "metadata": {
    "collapsed": false,
    "ExecuteTime": {
     "end_time": "2023-07-14T10:59:32.901908027Z",
     "start_time": "2023-07-14T10:59:32.901015611Z"
    }
   }
  },
  {
   "cell_type": "code",
   "execution_count": 11,
   "outputs": [
    {
     "name": "stdout",
     "output_type": "stream",
     "text": [
      "train:  5712    valid:  1428\n"
     ]
    }
   ],
   "source": [
    "# 로컬 사용시 활성화\n",
    "\n",
    "train_df = pd.read_csv(f\"{config['base_path']}/{config['train_data']}\")\n",
    "train, val = train_test_split(train_df, test_size=config['valid_size'], random_state=config['seed'])\n",
    "print(\"train: \", len(train), \"   valid: \", len(val))"
   ],
   "metadata": {
    "collapsed": false,
    "ExecuteTime": {
     "end_time": "2023-07-14T10:59:33.596762440Z",
     "start_time": "2023-07-14T10:59:32.902871156Z"
    }
   }
  },
  {
   "cell_type": "code",
   "execution_count": 12,
   "outputs": [],
   "source": [
    "fix_seed(config['seed'])\n",
    "\n",
    "train_dataset = CustomDataset(img_paths=train['img_path'], mask_rles=train['mask_rle'], transform=custom_transform['train'])\n",
    "train_dataloader = DataLoader(train_dataset, batch_size=config['train']['batch_size'], shuffle=True, num_workers=config['train']['num_workers'])\n",
    "\n",
    "valid_dataset = CustomDataset(img_paths=val['img_path'], mask_rles=val['mask_rle'], transform=custom_transform['valid'])\n",
    "valid_dataloader = DataLoader(valid_dataset , batch_size=config['train']['batch_size'], shuffle=False, num_workers=config['train']['num_workers'])"
   ],
   "metadata": {
    "collapsed": false,
    "ExecuteTime": {
     "end_time": "2023-07-14T10:59:33.599717535Z",
     "start_time": "2023-07-14T10:59:33.598059998Z"
    }
   }
  },
  {
   "cell_type": "markdown",
   "source": [
    "## train/vali"
   ],
   "metadata": {
    "collapsed": false
   }
  },
  {
   "cell_type": "code",
   "execution_count": 13,
   "outputs": [],
   "source": [
    "def validation(config, model, criterion, valid_loader, val):\n",
    "    model.eval()\n",
    "    valid_loss = 0\n",
    "    result = []\n",
    "    transformed_mask = []\n",
    "    val_df = val.copy()\n",
    "\n",
    "    with torch.no_grad():\n",
    "        for images, masks in tqdm(valid_loader):\n",
    "            if type(transformed_mask) == torch.Tensor:\n",
    "                transformed_mask = torch.cat([transformed_mask, masks])\n",
    "            else:\n",
    "                transformed_mask = masks.clone().detach()\n",
    "            images = images.float().to(config['device'])\n",
    "            masks = masks.float().to(config['device'])\n",
    "\n",
    "            outputs = model(images)\n",
    "            loss = criterion(outputs, masks.unsqueeze(1))\n",
    "            valid_loss += loss.item()\n",
    "\n",
    "            output_masks = torch.sigmoid(outputs).cpu().numpy()\n",
    "            output_masks = np.squeeze(output_masks, axis=1)\n",
    "            output_masks = (output_masks > config['inference']['threshold']).astype(np.uint8)\n",
    "\n",
    "            for i in range(len(images)):\n",
    "                mask_rle = rle_encode(output_masks[i])\n",
    "                if mask_rle == '': # 예측된 건물 픽셀이 아예 없는 경우 -1\n",
    "                    result.append(-1)\n",
    "                else:\n",
    "                    result.append(mask_rle)\n",
    "        val_df['valid_mask_rle'] = result\n",
    "        val_df['transformed_mask_rle'] = list(map(rle_encode, transformed_mask.squeeze().numpy()))\n",
    "        dice_score = calculate_dice_scores(val_df)\n",
    "\n",
    "    return valid_loss/len(valid_loader), dice_score"
   ],
   "metadata": {
    "collapsed": false,
    "ExecuteTime": {
     "end_time": "2023-07-14T10:59:33.610860165Z",
     "start_time": "2023-07-14T10:59:33.601606174Z"
    }
   }
  },
  {
   "cell_type": "code",
   "execution_count": 14,
   "outputs": [],
   "source": [
    "def training(config, model, train_loader, valid_loader, val):\n",
    "    model = model.to(config['device'])\n",
    "    es_count = 0\n",
    "    min_val_loss = float('inf')\n",
    "    best_model = None\n",
    "\n",
    "    criterion = torch.nn.BCEWithLogitsLoss()\n",
    "    optimizer = torch.optim.Adam(model.parameters(), lr=config['train']['lr'])\n",
    "    scheduler = torch.optim.lr_scheduler.ReduceLROnPlateau(optimizer, mode='min', factor=0.5, patience=4, min_lr=1e-8, verbose=True)\n",
    "\n",
    "    # training loop\n",
    "    for epoch in range(config['train']['epochs']):\n",
    "        model.train()\n",
    "        epoch_loss = 0\n",
    "        for images, masks in tqdm(train_loader):\n",
    "            images = images.float().to(config['device'])\n",
    "            masks = masks.float().to(config['device'])\n",
    "\n",
    "            optimizer.zero_grad()\n",
    "            outputs = model(images)\n",
    "            loss = criterion(outputs, masks.unsqueeze(1))\n",
    "            loss.backward()\n",
    "            optimizer.step()\n",
    "\n",
    "            epoch_loss += loss.item()\n",
    "\n",
    "        val_loss, dice_score = validation(config, model, criterion, valid_loader, val)\n",
    "        es_count += 1\n",
    "        if min_val_loss > val_loss:\n",
    "            es_count = 0\n",
    "            min_val_loss = val_loss\n",
    "            best_model = model\n",
    "            best_epoch = epoch + 1\n",
    "            print(f\"Epoch [{epoch + 1}] New Minimum Valid Loss!\")\n",
    "\n",
    "        if config['scheduler']:\n",
    "            scheduler.step(val_loss)\n",
    "\n",
    "        if es_count == config['early_stopping']:\n",
    "            print(f'Epoch {epoch+1}, Train Loss: {(epoch_loss/len(train_loader)):6f}, Valid Loss: {val_loss:6f}, Dice Coefficient: {dice_score:6f}, ES Count:, {es_count}')\n",
    "            print(f\"EARLY STOPPING COUNT에 도달했습니다! \\nEARLY STOPPING COUNT: {config['early_stopping']} BEST EPOCH: {best_epoch}\")\n",
    "            print(\"***TRAINING DONE***\")\n",
    "            return best_model\n",
    "\n",
    "        print(f'Epoch {epoch+1}, Train Loss: {(epoch_loss/len(train_loader)):6f}, Valid Loss: {val_loss:6f}, Dice Coefficient: {dice_score:6f} ES Count:, {es_count}')\n",
    "        print(\"------------------------------------------------------------------------------------\")\n",
    "\n",
    "    print(f\"EARLY STOPPING COUNT에 도달하지 않았습니다! \\nEARLY STOPPING COUNT: {config['early_stopping']} BEST EPOCH: {best_epoch}\")\n",
    "    print(\"***TRAINING DONE***\")\n",
    "    return best_model"
   ],
   "metadata": {
    "collapsed": false,
    "ExecuteTime": {
     "end_time": "2023-07-14T10:59:33.642778584Z",
     "start_time": "2023-07-14T10:59:33.612830512Z"
    }
   }
  },
  {
   "cell_type": "code",
   "execution_count": 15,
   "outputs": [
    {
     "data": {
      "text/plain": "True"
     },
     "execution_count": 15,
     "metadata": {},
     "output_type": "execute_result"
    }
   ],
   "source": [
    "torch.cuda.is_available() # 학습 전에 GPU 쓰고 있나 확인"
   ],
   "metadata": {
    "collapsed": false,
    "ExecuteTime": {
     "end_time": "2023-07-14T10:59:33.680752396Z",
     "start_time": "2023-07-14T10:59:33.625962741Z"
    }
   }
  },
  {
   "cell_type": "code",
   "execution_count": 16,
   "outputs": [
    {
     "name": "stderr",
     "output_type": "stream",
     "text": [
      "100%|██████████| 357/357 [01:43<00:00,  3.46it/s]\n",
      "100%|██████████| 90/90 [00:09<00:00,  9.21it/s]\n"
     ]
    },
    {
     "name": "stdout",
     "output_type": "stream",
     "text": [
      "Epoch [1] New Minimum Valid Loss!\n",
      "Epoch 1, Train Loss: 0.152824, Valid Loss: 0.107637, Dice Coefficient: 0.501177 ES Count:, 0\n",
      "------------------------------------------------------------------------------------\n"
     ]
    },
    {
     "name": "stderr",
     "output_type": "stream",
     "text": [
      "100%|██████████| 357/357 [01:40<00:00,  3.57it/s]\n",
      "100%|██████████| 90/90 [00:09<00:00,  9.56it/s]\n"
     ]
    },
    {
     "name": "stdout",
     "output_type": "stream",
     "text": [
      "Epoch [2] New Minimum Valid Loss!\n",
      "Epoch 2, Train Loss: 0.098064, Valid Loss: 0.087344, Dice Coefficient: 0.585850 ES Count:, 0\n",
      "------------------------------------------------------------------------------------\n"
     ]
    },
    {
     "name": "stderr",
     "output_type": "stream",
     "text": [
      "100%|██████████| 357/357 [01:40<00:00,  3.57it/s]\n",
      "100%|██████████| 90/90 [00:09<00:00,  9.65it/s]\n"
     ]
    },
    {
     "name": "stdout",
     "output_type": "stream",
     "text": [
      "Epoch [3] New Minimum Valid Loss!\n",
      "Epoch 3, Train Loss: 0.086790, Valid Loss: 0.081224, Dice Coefficient: 0.627097 ES Count:, 0\n",
      "------------------------------------------------------------------------------------\n"
     ]
    },
    {
     "name": "stderr",
     "output_type": "stream",
     "text": [
      "100%|██████████| 357/357 [01:40<00:00,  3.57it/s]\n",
      "100%|██████████| 90/90 [00:09<00:00,  9.69it/s]\n"
     ]
    },
    {
     "name": "stdout",
     "output_type": "stream",
     "text": [
      "Epoch 4, Train Loss: 0.084772, Valid Loss: 0.084780, Dice Coefficient: 0.621699 ES Count:, 1\n",
      "------------------------------------------------------------------------------------\n"
     ]
    },
    {
     "name": "stderr",
     "output_type": "stream",
     "text": [
      "100%|██████████| 357/357 [01:39<00:00,  3.57it/s]\n",
      "100%|██████████| 90/90 [00:09<00:00,  9.71it/s]\n"
     ]
    },
    {
     "name": "stdout",
     "output_type": "stream",
     "text": [
      "Epoch [5] New Minimum Valid Loss!\n",
      "Epoch 5, Train Loss: 0.081848, Valid Loss: 0.075633, Dice Coefficient: 0.634970 ES Count:, 0\n",
      "------------------------------------------------------------------------------------\n"
     ]
    },
    {
     "name": "stderr",
     "output_type": "stream",
     "text": [
      "100%|██████████| 357/357 [01:39<00:00,  3.57it/s]\n",
      "100%|██████████| 90/90 [00:09<00:00,  9.73it/s]\n"
     ]
    },
    {
     "name": "stdout",
     "output_type": "stream",
     "text": [
      "Epoch [6] New Minimum Valid Loss!\n",
      "Epoch 6, Train Loss: 0.078843, Valid Loss: 0.070807, Dice Coefficient: 0.650077 ES Count:, 0\n",
      "------------------------------------------------------------------------------------\n"
     ]
    },
    {
     "name": "stderr",
     "output_type": "stream",
     "text": [
      "100%|██████████| 357/357 [01:39<00:00,  3.57it/s]\n",
      "100%|██████████| 90/90 [00:09<00:00,  9.77it/s]\n"
     ]
    },
    {
     "name": "stdout",
     "output_type": "stream",
     "text": [
      "Epoch [7] New Minimum Valid Loss!\n",
      "Epoch 7, Train Loss: 0.080196, Valid Loss: 0.069317, Dice Coefficient: 0.668091 ES Count:, 0\n",
      "------------------------------------------------------------------------------------\n"
     ]
    },
    {
     "name": "stderr",
     "output_type": "stream",
     "text": [
      "100%|██████████| 357/357 [01:39<00:00,  3.57it/s]\n",
      "100%|██████████| 90/90 [00:09<00:00,  9.74it/s]\n"
     ]
    },
    {
     "name": "stdout",
     "output_type": "stream",
     "text": [
      "Epoch [8] New Minimum Valid Loss!\n",
      "Epoch 8, Train Loss: 0.074314, Valid Loss: 0.067506, Dice Coefficient: 0.681427 ES Count:, 0\n",
      "------------------------------------------------------------------------------------\n"
     ]
    },
    {
     "name": "stderr",
     "output_type": "stream",
     "text": [
      "100%|██████████| 357/357 [01:39<00:00,  3.57it/s]\n",
      "100%|██████████| 90/90 [00:09<00:00,  9.74it/s]\n"
     ]
    },
    {
     "name": "stdout",
     "output_type": "stream",
     "text": [
      "Epoch 9, Train Loss: 0.070944, Valid Loss: 0.074843, Dice Coefficient: 0.645838 ES Count:, 1\n",
      "------------------------------------------------------------------------------------\n"
     ]
    },
    {
     "name": "stderr",
     "output_type": "stream",
     "text": [
      "100%|██████████| 357/357 [01:39<00:00,  3.58it/s]\n",
      "100%|██████████| 90/90 [00:09<00:00,  9.70it/s]\n"
     ]
    },
    {
     "name": "stdout",
     "output_type": "stream",
     "text": [
      "Epoch [10] New Minimum Valid Loss!\n",
      "Epoch 10, Train Loss: 0.072346, Valid Loss: 0.066095, Dice Coefficient: 0.674268 ES Count:, 0\n",
      "------------------------------------------------------------------------------------\n"
     ]
    },
    {
     "name": "stderr",
     "output_type": "stream",
     "text": [
      "100%|██████████| 357/357 [01:39<00:00,  3.57it/s]\n",
      "100%|██████████| 90/90 [00:09<00:00,  9.69it/s]\n"
     ]
    },
    {
     "name": "stdout",
     "output_type": "stream",
     "text": [
      "Epoch [11] New Minimum Valid Loss!\n",
      "Epoch 11, Train Loss: 0.070456, Valid Loss: 0.064788, Dice Coefficient: 0.684726 ES Count:, 0\n",
      "------------------------------------------------------------------------------------\n"
     ]
    },
    {
     "name": "stderr",
     "output_type": "stream",
     "text": [
      "100%|██████████| 357/357 [01:40<00:00,  3.57it/s]\n",
      "100%|██████████| 90/90 [00:09<00:00,  9.74it/s]\n"
     ]
    },
    {
     "name": "stdout",
     "output_type": "stream",
     "text": [
      "Epoch 12, Train Loss: 0.073654, Valid Loss: 0.066351, Dice Coefficient: 0.683610 ES Count:, 1\n",
      "------------------------------------------------------------------------------------\n"
     ]
    },
    {
     "name": "stderr",
     "output_type": "stream",
     "text": [
      "100%|██████████| 357/357 [01:39<00:00,  3.57it/s]\n",
      "100%|██████████| 90/90 [00:09<00:00,  9.72it/s]\n"
     ]
    },
    {
     "name": "stdout",
     "output_type": "stream",
     "text": [
      "Epoch 13, Train Loss: 0.068144, Valid Loss: 0.065849, Dice Coefficient: 0.679196 ES Count:, 2\n",
      "------------------------------------------------------------------------------------\n"
     ]
    },
    {
     "name": "stderr",
     "output_type": "stream",
     "text": [
      "100%|██████████| 357/357 [01:39<00:00,  3.57it/s]\n",
      "100%|██████████| 90/90 [00:09<00:00,  9.71it/s]\n"
     ]
    },
    {
     "name": "stdout",
     "output_type": "stream",
     "text": [
      "Epoch 14, Train Loss: 0.066453, Valid Loss: 0.065936, Dice Coefficient: 0.678139 ES Count:, 3\n",
      "------------------------------------------------------------------------------------\n"
     ]
    },
    {
     "name": "stderr",
     "output_type": "stream",
     "text": [
      "100%|██████████| 357/357 [01:39<00:00,  3.57it/s]\n",
      "100%|██████████| 90/90 [00:09<00:00,  9.67it/s]\n"
     ]
    },
    {
     "name": "stdout",
     "output_type": "stream",
     "text": [
      "Epoch 15, Train Loss: 0.067402, Valid Loss: 0.078741, Dice Coefficient: 0.652273 ES Count:, 4\n",
      "------------------------------------------------------------------------------------\n"
     ]
    },
    {
     "name": "stderr",
     "output_type": "stream",
     "text": [
      "100%|██████████| 357/357 [01:39<00:00,  3.57it/s]\n",
      "100%|██████████| 90/90 [00:09<00:00,  9.74it/s]\n"
     ]
    },
    {
     "name": "stdout",
     "output_type": "stream",
     "text": [
      "Epoch 00016: reducing learning rate of group 0 to 5.0000e-04.\n",
      "Epoch 16, Train Loss: 0.066886, Valid Loss: 0.083965, Dice Coefficient: 0.635007 ES Count:, 5\n",
      "------------------------------------------------------------------------------------\n"
     ]
    },
    {
     "name": "stderr",
     "output_type": "stream",
     "text": [
      "100%|██████████| 357/357 [01:39<00:00,  3.57it/s]\n",
      "100%|██████████| 90/90 [00:09<00:00,  9.74it/s]\n"
     ]
    },
    {
     "name": "stdout",
     "output_type": "stream",
     "text": [
      "Epoch [17] New Minimum Valid Loss!\n",
      "Epoch 17, Train Loss: 0.060580, Valid Loss: 0.060086, Dice Coefficient: 0.702999 ES Count:, 0\n",
      "------------------------------------------------------------------------------------\n"
     ]
    },
    {
     "name": "stderr",
     "output_type": "stream",
     "text": [
      "100%|██████████| 357/357 [01:40<00:00,  3.57it/s]\n",
      "100%|██████████| 90/90 [00:09<00:00,  9.76it/s]\n"
     ]
    },
    {
     "name": "stdout",
     "output_type": "stream",
     "text": [
      "Epoch 18, Train Loss: 0.061659, Valid Loss: 0.061229, Dice Coefficient: 0.689330 ES Count:, 1\n",
      "------------------------------------------------------------------------------------\n"
     ]
    },
    {
     "name": "stderr",
     "output_type": "stream",
     "text": [
      "100%|██████████| 357/357 [01:40<00:00,  3.57it/s]\n",
      "100%|██████████| 90/90 [00:09<00:00,  9.71it/s]\n"
     ]
    },
    {
     "name": "stdout",
     "output_type": "stream",
     "text": [
      "Epoch 19, Train Loss: 0.061923, Valid Loss: 0.069951, Dice Coefficient: 0.651871 ES Count:, 2\n",
      "------------------------------------------------------------------------------------\n"
     ]
    },
    {
     "name": "stderr",
     "output_type": "stream",
     "text": [
      "100%|██████████| 357/357 [01:39<00:00,  3.57it/s]\n",
      "100%|██████████| 90/90 [00:09<00:00,  9.74it/s]\n"
     ]
    },
    {
     "name": "stdout",
     "output_type": "stream",
     "text": [
      "Epoch [20] New Minimum Valid Loss!\n",
      "Epoch 20, Train Loss: 0.060622, Valid Loss: 0.057605, Dice Coefficient: 0.717771 ES Count:, 0\n",
      "------------------------------------------------------------------------------------\n"
     ]
    },
    {
     "name": "stderr",
     "output_type": "stream",
     "text": [
      "100%|██████████| 357/357 [01:40<00:00,  3.57it/s]\n",
      "100%|██████████| 90/90 [00:09<00:00,  9.74it/s]\n"
     ]
    },
    {
     "name": "stdout",
     "output_type": "stream",
     "text": [
      "Epoch 21, Train Loss: 0.061594, Valid Loss: 0.061059, Dice Coefficient: 0.687824 ES Count:, 1\n",
      "------------------------------------------------------------------------------------\n"
     ]
    },
    {
     "name": "stderr",
     "output_type": "stream",
     "text": [
      "100%|██████████| 357/357 [01:39<00:00,  3.57it/s]\n",
      "100%|██████████| 90/90 [00:09<00:00,  9.76it/s]\n"
     ]
    },
    {
     "name": "stdout",
     "output_type": "stream",
     "text": [
      "Epoch [22] New Minimum Valid Loss!\n",
      "Epoch 22, Train Loss: 0.056645, Valid Loss: 0.056486, Dice Coefficient: 0.721473 ES Count:, 0\n",
      "------------------------------------------------------------------------------------\n"
     ]
    },
    {
     "name": "stderr",
     "output_type": "stream",
     "text": [
      "100%|██████████| 357/357 [01:40<00:00,  3.57it/s]\n",
      "100%|██████████| 90/90 [00:09<00:00,  9.73it/s]\n"
     ]
    },
    {
     "name": "stdout",
     "output_type": "stream",
     "text": [
      "Epoch 23, Train Loss: 0.058337, Valid Loss: 0.057955, Dice Coefficient: 0.708610 ES Count:, 1\n",
      "------------------------------------------------------------------------------------\n"
     ]
    },
    {
     "name": "stderr",
     "output_type": "stream",
     "text": [
      "100%|██████████| 357/357 [01:39<00:00,  3.57it/s]\n",
      "100%|██████████| 90/90 [00:09<00:00,  9.67it/s]\n"
     ]
    },
    {
     "name": "stdout",
     "output_type": "stream",
     "text": [
      "Epoch 24, Train Loss: 0.056816, Valid Loss: 0.059215, Dice Coefficient: 0.679298 ES Count:, 2\n",
      "------------------------------------------------------------------------------------\n"
     ]
    },
    {
     "name": "stderr",
     "output_type": "stream",
     "text": [
      "100%|██████████| 357/357 [01:39<00:00,  3.57it/s]\n",
      "100%|██████████| 90/90 [00:09<00:00,  9.76it/s]\n"
     ]
    },
    {
     "name": "stdout",
     "output_type": "stream",
     "text": [
      "Epoch 25, Train Loss: 0.057376, Valid Loss: 0.057178, Dice Coefficient: 0.722240 ES Count:, 3\n",
      "------------------------------------------------------------------------------------\n"
     ]
    },
    {
     "name": "stderr",
     "output_type": "stream",
     "text": [
      "100%|██████████| 357/357 [01:39<00:00,  3.57it/s]\n",
      "100%|██████████| 90/90 [00:09<00:00,  9.78it/s]\n"
     ]
    },
    {
     "name": "stdout",
     "output_type": "stream",
     "text": [
      "Epoch [26] New Minimum Valid Loss!\n",
      "Epoch 26, Train Loss: 0.058705, Valid Loss: 0.054346, Dice Coefficient: 0.721683 ES Count:, 0\n",
      "------------------------------------------------------------------------------------\n"
     ]
    },
    {
     "name": "stderr",
     "output_type": "stream",
     "text": [
      "100%|██████████| 357/357 [01:40<00:00,  3.57it/s]\n",
      "100%|██████████| 90/90 [00:09<00:00,  9.70it/s]\n"
     ]
    },
    {
     "name": "stdout",
     "output_type": "stream",
     "text": [
      "Epoch 27, Train Loss: 0.056636, Valid Loss: 0.058174, Dice Coefficient: 0.708487 ES Count:, 1\n",
      "------------------------------------------------------------------------------------\n"
     ]
    },
    {
     "name": "stderr",
     "output_type": "stream",
     "text": [
      "100%|██████████| 357/357 [01:39<00:00,  3.57it/s]\n",
      "100%|██████████| 90/90 [00:09<00:00,  9.75it/s]\n"
     ]
    },
    {
     "name": "stdout",
     "output_type": "stream",
     "text": [
      "Epoch 28, Train Loss: 0.057177, Valid Loss: 0.055861, Dice Coefficient: 0.721703 ES Count:, 2\n",
      "------------------------------------------------------------------------------------\n"
     ]
    },
    {
     "name": "stderr",
     "output_type": "stream",
     "text": [
      "100%|██████████| 357/357 [01:39<00:00,  3.57it/s]\n",
      "100%|██████████| 90/90 [00:09<00:00,  9.70it/s]\n"
     ]
    },
    {
     "name": "stdout",
     "output_type": "stream",
     "text": [
      "Epoch 29, Train Loss: 0.056379, Valid Loss: 0.055073, Dice Coefficient: 0.724126 ES Count:, 3\n",
      "------------------------------------------------------------------------------------\n"
     ]
    },
    {
     "name": "stderr",
     "output_type": "stream",
     "text": [
      "100%|██████████| 357/357 [01:39<00:00,  3.58it/s]\n",
      "100%|██████████| 90/90 [00:09<00:00,  9.72it/s]\n"
     ]
    },
    {
     "name": "stdout",
     "output_type": "stream",
     "text": [
      "Epoch 30, Train Loss: 0.060123, Valid Loss: 0.068000, Dice Coefficient: 0.674525 ES Count:, 4\n",
      "------------------------------------------------------------------------------------\n"
     ]
    },
    {
     "name": "stderr",
     "output_type": "stream",
     "text": [
      "100%|██████████| 357/357 [01:39<00:00,  3.57it/s]\n",
      "100%|██████████| 90/90 [00:09<00:00,  9.72it/s]\n"
     ]
    },
    {
     "name": "stdout",
     "output_type": "stream",
     "text": [
      "Epoch 00031: reducing learning rate of group 0 to 2.5000e-04.\n",
      "Epoch 31, Train Loss: 0.058091, Valid Loss: 0.057747, Dice Coefficient: 0.705548 ES Count:, 5\n",
      "------------------------------------------------------------------------------------\n"
     ]
    },
    {
     "name": "stderr",
     "output_type": "stream",
     "text": [
      "100%|██████████| 357/357 [01:40<00:00,  3.56it/s]\n",
      "100%|██████████| 90/90 [00:09<00:00,  9.70it/s]\n"
     ]
    },
    {
     "name": "stdout",
     "output_type": "stream",
     "text": [
      "Epoch [32] New Minimum Valid Loss!\n",
      "Epoch 32, Train Loss: 0.056331, Valid Loss: 0.053775, Dice Coefficient: 0.724915 ES Count:, 0\n",
      "------------------------------------------------------------------------------------\n"
     ]
    },
    {
     "name": "stderr",
     "output_type": "stream",
     "text": [
      "100%|██████████| 357/357 [01:40<00:00,  3.57it/s]\n",
      "100%|██████████| 90/90 [00:09<00:00,  9.73it/s]\n"
     ]
    },
    {
     "name": "stdout",
     "output_type": "stream",
     "text": [
      "Epoch 33, Train Loss: 0.053783, Valid Loss: 0.055841, Dice Coefficient: 0.720837 ES Count:, 1\n",
      "------------------------------------------------------------------------------------\n"
     ]
    },
    {
     "name": "stderr",
     "output_type": "stream",
     "text": [
      "100%|██████████| 357/357 [01:40<00:00,  3.57it/s]\n",
      "100%|██████████| 90/90 [00:09<00:00,  9.77it/s]\n"
     ]
    },
    {
     "name": "stdout",
     "output_type": "stream",
     "text": [
      "Epoch [34] New Minimum Valid Loss!\n",
      "Epoch 34, Train Loss: 0.054897, Valid Loss: 0.053418, Dice Coefficient: 0.734228 ES Count:, 0\n",
      "------------------------------------------------------------------------------------\n"
     ]
    },
    {
     "name": "stderr",
     "output_type": "stream",
     "text": [
      "100%|██████████| 357/357 [01:39<00:00,  3.57it/s]\n",
      "100%|██████████| 90/90 [00:09<00:00,  9.77it/s]\n"
     ]
    },
    {
     "name": "stdout",
     "output_type": "stream",
     "text": [
      "Epoch [35] New Minimum Valid Loss!\n",
      "Epoch 35, Train Loss: 0.055069, Valid Loss: 0.053405, Dice Coefficient: 0.727206 ES Count:, 0\n",
      "------------------------------------------------------------------------------------\n"
     ]
    },
    {
     "name": "stderr",
     "output_type": "stream",
     "text": [
      "100%|██████████| 357/357 [01:39<00:00,  3.57it/s]\n",
      "100%|██████████| 90/90 [00:09<00:00,  9.67it/s]\n"
     ]
    },
    {
     "name": "stdout",
     "output_type": "stream",
     "text": [
      "Epoch [36] New Minimum Valid Loss!\n",
      "Epoch 36, Train Loss: 0.052576, Valid Loss: 0.053356, Dice Coefficient: 0.723533 ES Count:, 0\n",
      "------------------------------------------------------------------------------------\n"
     ]
    },
    {
     "name": "stderr",
     "output_type": "stream",
     "text": [
      "100%|██████████| 357/357 [01:40<00:00,  3.57it/s]\n",
      "100%|██████████| 90/90 [00:09<00:00,  9.72it/s]\n"
     ]
    },
    {
     "name": "stdout",
     "output_type": "stream",
     "text": [
      "Epoch [37] New Minimum Valid Loss!\n",
      "Epoch 37, Train Loss: 0.053078, Valid Loss: 0.052932, Dice Coefficient: 0.736922 ES Count:, 0\n",
      "------------------------------------------------------------------------------------\n"
     ]
    },
    {
     "name": "stderr",
     "output_type": "stream",
     "text": [
      "100%|██████████| 357/357 [01:40<00:00,  3.57it/s]\n",
      "100%|██████████| 90/90 [00:09<00:00,  9.72it/s]\n"
     ]
    },
    {
     "name": "stdout",
     "output_type": "stream",
     "text": [
      "Epoch 38, Train Loss: 0.052966, Valid Loss: 0.053054, Dice Coefficient: 0.730744 ES Count:, 1\n",
      "------------------------------------------------------------------------------------\n"
     ]
    },
    {
     "name": "stderr",
     "output_type": "stream",
     "text": [
      "100%|██████████| 357/357 [01:40<00:00,  3.57it/s]\n",
      "100%|██████████| 90/90 [00:09<00:00,  9.69it/s]\n"
     ]
    },
    {
     "name": "stdout",
     "output_type": "stream",
     "text": [
      "Epoch [39] New Minimum Valid Loss!\n",
      "Epoch 39, Train Loss: 0.053839, Valid Loss: 0.052731, Dice Coefficient: 0.734284 ES Count:, 0\n",
      "------------------------------------------------------------------------------------\n"
     ]
    },
    {
     "name": "stderr",
     "output_type": "stream",
     "text": [
      "100%|██████████| 357/357 [01:40<00:00,  3.57it/s]\n",
      "100%|██████████| 90/90 [00:09<00:00,  9.76it/s]\n"
     ]
    },
    {
     "name": "stdout",
     "output_type": "stream",
     "text": [
      "Epoch [40] New Minimum Valid Loss!\n",
      "Epoch 40, Train Loss: 0.050460, Valid Loss: 0.051600, Dice Coefficient: 0.731642 ES Count:, 0\n",
      "------------------------------------------------------------------------------------\n"
     ]
    },
    {
     "name": "stderr",
     "output_type": "stream",
     "text": [
      "100%|██████████| 357/357 [01:40<00:00,  3.56it/s]\n",
      "100%|██████████| 90/90 [00:09<00:00,  9.68it/s]\n"
     ]
    },
    {
     "name": "stdout",
     "output_type": "stream",
     "text": [
      "Epoch 41, Train Loss: 0.053420, Valid Loss: 0.052548, Dice Coefficient: 0.733133 ES Count:, 1\n",
      "------------------------------------------------------------------------------------\n"
     ]
    },
    {
     "name": "stderr",
     "output_type": "stream",
     "text": [
      "100%|██████████| 357/357 [01:39<00:00,  3.57it/s]\n",
      "100%|██████████| 90/90 [00:09<00:00,  9.61it/s]\n"
     ]
    },
    {
     "name": "stdout",
     "output_type": "stream",
     "text": [
      "Epoch 42, Train Loss: 0.053788, Valid Loss: 0.053123, Dice Coefficient: 0.736061 ES Count:, 2\n",
      "------------------------------------------------------------------------------------\n"
     ]
    },
    {
     "name": "stderr",
     "output_type": "stream",
     "text": [
      "100%|██████████| 357/357 [01:40<00:00,  3.57it/s]\n",
      "100%|██████████| 90/90 [00:09<00:00,  9.75it/s]\n"
     ]
    },
    {
     "name": "stdout",
     "output_type": "stream",
     "text": [
      "Epoch 43, Train Loss: 0.052572, Valid Loss: 0.052634, Dice Coefficient: 0.733077 ES Count:, 3\n",
      "------------------------------------------------------------------------------------\n"
     ]
    },
    {
     "name": "stderr",
     "output_type": "stream",
     "text": [
      "100%|██████████| 357/357 [01:39<00:00,  3.57it/s]\n",
      "100%|██████████| 90/90 [00:09<00:00,  9.74it/s]\n"
     ]
    },
    {
     "name": "stdout",
     "output_type": "stream",
     "text": [
      "Epoch 44, Train Loss: 0.051409, Valid Loss: 0.053232, Dice Coefficient: 0.731296 ES Count:, 4\n",
      "------------------------------------------------------------------------------------\n"
     ]
    },
    {
     "name": "stderr",
     "output_type": "stream",
     "text": [
      "100%|██████████| 357/357 [01:40<00:00,  3.57it/s]\n",
      "100%|██████████| 90/90 [00:09<00:00,  9.74it/s]\n"
     ]
    },
    {
     "name": "stdout",
     "output_type": "stream",
     "text": [
      "Epoch 00045: reducing learning rate of group 0 to 1.2500e-04.\n",
      "Epoch 45, Train Loss: 0.052252, Valid Loss: 0.051711, Dice Coefficient: 0.735377 ES Count:, 5\n",
      "------------------------------------------------------------------------------------\n"
     ]
    },
    {
     "name": "stderr",
     "output_type": "stream",
     "text": [
      "100%|██████████| 357/357 [01:39<00:00,  3.57it/s]\n",
      "100%|██████████| 90/90 [00:09<00:00,  9.63it/s]\n"
     ]
    },
    {
     "name": "stdout",
     "output_type": "stream",
     "text": [
      "Epoch [46] New Minimum Valid Loss!\n",
      "Epoch 46, Train Loss: 0.052100, Valid Loss: 0.050924, Dice Coefficient: 0.740716 ES Count:, 0\n",
      "------------------------------------------------------------------------------------\n"
     ]
    },
    {
     "name": "stderr",
     "output_type": "stream",
     "text": [
      "100%|██████████| 357/357 [01:39<00:00,  3.57it/s]\n",
      "100%|██████████| 90/90 [00:09<00:00,  9.76it/s]\n"
     ]
    },
    {
     "name": "stdout",
     "output_type": "stream",
     "text": [
      "Epoch [47] New Minimum Valid Loss!\n",
      "Epoch 47, Train Loss: 0.049336, Valid Loss: 0.050187, Dice Coefficient: 0.742571 ES Count:, 0\n",
      "------------------------------------------------------------------------------------\n"
     ]
    },
    {
     "name": "stderr",
     "output_type": "stream",
     "text": [
      "100%|██████████| 357/357 [01:39<00:00,  3.57it/s]\n",
      "100%|██████████| 90/90 [00:09<00:00,  9.66it/s]\n"
     ]
    },
    {
     "name": "stdout",
     "output_type": "stream",
     "text": [
      "Epoch 48, Train Loss: 0.049516, Valid Loss: 0.051165, Dice Coefficient: 0.736353 ES Count:, 1\n",
      "------------------------------------------------------------------------------------\n"
     ]
    },
    {
     "name": "stderr",
     "output_type": "stream",
     "text": [
      "100%|██████████| 357/357 [01:39<00:00,  3.57it/s]\n",
      "100%|██████████| 90/90 [00:09<00:00,  9.69it/s]\n"
     ]
    },
    {
     "name": "stdout",
     "output_type": "stream",
     "text": [
      "Epoch 49, Train Loss: 0.049861, Valid Loss: 0.050819, Dice Coefficient: 0.741665 ES Count:, 2\n",
      "------------------------------------------------------------------------------------\n"
     ]
    },
    {
     "name": "stderr",
     "output_type": "stream",
     "text": [
      "100%|██████████| 357/357 [01:40<00:00,  3.56it/s]\n",
      "100%|██████████| 90/90 [00:09<00:00,  9.71it/s]\n"
     ]
    },
    {
     "name": "stdout",
     "output_type": "stream",
     "text": [
      "Epoch 50, Train Loss: 0.048703, Valid Loss: 0.051133, Dice Coefficient: 0.742199 ES Count:, 3\n",
      "------------------------------------------------------------------------------------\n"
     ]
    },
    {
     "name": "stderr",
     "output_type": "stream",
     "text": [
      "100%|██████████| 357/357 [01:40<00:00,  3.57it/s]\n",
      "100%|██████████| 90/90 [00:09<00:00,  9.75it/s]\n"
     ]
    },
    {
     "name": "stdout",
     "output_type": "stream",
     "text": [
      "Epoch 51, Train Loss: 0.051261, Valid Loss: 0.051011, Dice Coefficient: 0.737676 ES Count:, 4\n",
      "------------------------------------------------------------------------------------\n"
     ]
    },
    {
     "name": "stderr",
     "output_type": "stream",
     "text": [
      "100%|██████████| 357/357 [01:40<00:00,  3.57it/s]\n",
      "100%|██████████| 90/90 [00:09<00:00,  9.68it/s]\n"
     ]
    },
    {
     "name": "stdout",
     "output_type": "stream",
     "text": [
      "Epoch [52] New Minimum Valid Loss!\n",
      "Epoch 52, Train Loss: 0.049485, Valid Loss: 0.049691, Dice Coefficient: 0.744273 ES Count:, 0\n",
      "------------------------------------------------------------------------------------\n"
     ]
    },
    {
     "name": "stderr",
     "output_type": "stream",
     "text": [
      "100%|██████████| 357/357 [01:40<00:00,  3.57it/s]\n",
      "100%|██████████| 90/90 [00:09<00:00,  9.78it/s]\n"
     ]
    },
    {
     "name": "stdout",
     "output_type": "stream",
     "text": [
      "Epoch 53, Train Loss: 0.050098, Valid Loss: 0.050412, Dice Coefficient: 0.748483 ES Count:, 1\n",
      "------------------------------------------------------------------------------------\n"
     ]
    },
    {
     "name": "stderr",
     "output_type": "stream",
     "text": [
      "100%|██████████| 357/357 [01:39<00:00,  3.57it/s]\n",
      "100%|██████████| 90/90 [00:09<00:00,  9.68it/s]\n"
     ]
    },
    {
     "name": "stdout",
     "output_type": "stream",
     "text": [
      "Epoch 54, Train Loss: 0.049048, Valid Loss: 0.049711, Dice Coefficient: 0.743692 ES Count:, 2\n",
      "------------------------------------------------------------------------------------\n"
     ]
    },
    {
     "name": "stderr",
     "output_type": "stream",
     "text": [
      "100%|██████████| 357/357 [01:40<00:00,  3.57it/s]\n",
      "100%|██████████| 90/90 [00:09<00:00,  9.66it/s]\n"
     ]
    },
    {
     "name": "stdout",
     "output_type": "stream",
     "text": [
      "Epoch 55, Train Loss: 0.048920, Valid Loss: 0.049707, Dice Coefficient: 0.747562 ES Count:, 3\n",
      "------------------------------------------------------------------------------------\n"
     ]
    },
    {
     "name": "stderr",
     "output_type": "stream",
     "text": [
      "100%|██████████| 357/357 [01:40<00:00,  3.56it/s]\n",
      "100%|██████████| 90/90 [00:09<00:00,  9.69it/s]\n"
     ]
    },
    {
     "name": "stdout",
     "output_type": "stream",
     "text": [
      "Epoch 56, Train Loss: 0.049490, Valid Loss: 0.050020, Dice Coefficient: 0.743282 ES Count:, 4\n",
      "------------------------------------------------------------------------------------\n"
     ]
    },
    {
     "name": "stderr",
     "output_type": "stream",
     "text": [
      "100%|██████████| 357/357 [01:39<00:00,  3.57it/s]\n",
      "100%|██████████| 90/90 [00:09<00:00,  9.78it/s]\n"
     ]
    },
    {
     "name": "stdout",
     "output_type": "stream",
     "text": [
      "Epoch 00057: reducing learning rate of group 0 to 6.2500e-05.\n",
      "Epoch 57, Train Loss: 0.049350, Valid Loss: 0.050081, Dice Coefficient: 0.744426 ES Count:, 5\n",
      "------------------------------------------------------------------------------------\n"
     ]
    },
    {
     "name": "stderr",
     "output_type": "stream",
     "text": [
      "100%|██████████| 357/357 [01:40<00:00,  3.57it/s]\n",
      "100%|██████████| 90/90 [00:09<00:00,  9.71it/s]\n"
     ]
    },
    {
     "name": "stdout",
     "output_type": "stream",
     "text": [
      "Epoch [58] New Minimum Valid Loss!\n",
      "Epoch 58, Train Loss: 0.047642, Valid Loss: 0.049474, Dice Coefficient: 0.747667 ES Count:, 0\n",
      "------------------------------------------------------------------------------------\n"
     ]
    },
    {
     "name": "stderr",
     "output_type": "stream",
     "text": [
      "100%|██████████| 357/357 [01:40<00:00,  3.57it/s]\n",
      "100%|██████████| 90/90 [00:09<00:00,  9.74it/s]\n"
     ]
    },
    {
     "name": "stdout",
     "output_type": "stream",
     "text": [
      "Epoch [59] New Minimum Valid Loss!\n",
      "Epoch 59, Train Loss: 0.047459, Valid Loss: 0.048930, Dice Coefficient: 0.751713 ES Count:, 0\n",
      "------------------------------------------------------------------------------------\n"
     ]
    },
    {
     "name": "stderr",
     "output_type": "stream",
     "text": [
      "100%|██████████| 357/357 [01:40<00:00,  3.57it/s]\n",
      "100%|██████████| 90/90 [00:09<00:00,  9.66it/s]\n"
     ]
    },
    {
     "name": "stdout",
     "output_type": "stream",
     "text": [
      "Epoch 60, Train Loss: 0.048211, Valid Loss: 0.049118, Dice Coefficient: 0.749277 ES Count:, 1\n",
      "------------------------------------------------------------------------------------\n"
     ]
    },
    {
     "name": "stderr",
     "output_type": "stream",
     "text": [
      "100%|██████████| 357/357 [01:40<00:00,  3.57it/s]\n",
      "100%|██████████| 90/90 [00:09<00:00,  9.71it/s]\n"
     ]
    },
    {
     "name": "stdout",
     "output_type": "stream",
     "text": [
      "Epoch 61, Train Loss: 0.048275, Valid Loss: 0.049369, Dice Coefficient: 0.749294 ES Count:, 2\n",
      "------------------------------------------------------------------------------------\n"
     ]
    },
    {
     "name": "stderr",
     "output_type": "stream",
     "text": [
      "100%|██████████| 357/357 [01:40<00:00,  3.57it/s]\n",
      "100%|██████████| 90/90 [00:09<00:00,  9.74it/s]\n"
     ]
    },
    {
     "name": "stdout",
     "output_type": "stream",
     "text": [
      "Epoch 62, Train Loss: 0.047390, Valid Loss: 0.049216, Dice Coefficient: 0.749614 ES Count:, 3\n",
      "------------------------------------------------------------------------------------\n"
     ]
    },
    {
     "name": "stderr",
     "output_type": "stream",
     "text": [
      "100%|██████████| 357/357 [01:40<00:00,  3.56it/s]\n",
      "100%|██████████| 90/90 [00:09<00:00,  9.76it/s]\n"
     ]
    },
    {
     "name": "stdout",
     "output_type": "stream",
     "text": [
      "Epoch [63] New Minimum Valid Loss!\n",
      "Epoch 63, Train Loss: 0.047998, Valid Loss: 0.048832, Dice Coefficient: 0.747369 ES Count:, 0\n",
      "------------------------------------------------------------------------------------\n"
     ]
    },
    {
     "name": "stderr",
     "output_type": "stream",
     "text": [
      "100%|██████████| 357/357 [01:40<00:00,  3.57it/s]\n",
      "100%|██████████| 90/90 [00:09<00:00,  9.74it/s]\n"
     ]
    },
    {
     "name": "stdout",
     "output_type": "stream",
     "text": [
      "Epoch [64] New Minimum Valid Loss!\n",
      "Epoch 64, Train Loss: 0.048505, Valid Loss: 0.048803, Dice Coefficient: 0.750090 ES Count:, 0\n",
      "------------------------------------------------------------------------------------\n"
     ]
    },
    {
     "name": "stderr",
     "output_type": "stream",
     "text": [
      "100%|██████████| 357/357 [01:39<00:00,  3.57it/s]\n",
      "100%|██████████| 90/90 [00:09<00:00,  9.72it/s]\n"
     ]
    },
    {
     "name": "stdout",
     "output_type": "stream",
     "text": [
      "Epoch [65] New Minimum Valid Loss!\n",
      "Epoch 65, Train Loss: 0.048364, Valid Loss: 0.048631, Dice Coefficient: 0.748495 ES Count:, 0\n",
      "------------------------------------------------------------------------------------\n"
     ]
    },
    {
     "name": "stderr",
     "output_type": "stream",
     "text": [
      "100%|██████████| 357/357 [01:40<00:00,  3.57it/s]\n",
      "100%|██████████| 90/90 [00:09<00:00,  9.72it/s]\n"
     ]
    },
    {
     "name": "stdout",
     "output_type": "stream",
     "text": [
      "Epoch 66, Train Loss: 0.048046, Valid Loss: 0.048948, Dice Coefficient: 0.747960 ES Count:, 1\n",
      "------------------------------------------------------------------------------------\n"
     ]
    },
    {
     "name": "stderr",
     "output_type": "stream",
     "text": [
      "100%|██████████| 357/357 [01:40<00:00,  3.57it/s]\n",
      "100%|██████████| 90/90 [00:09<00:00,  9.77it/s]\n"
     ]
    },
    {
     "name": "stdout",
     "output_type": "stream",
     "text": [
      "Epoch 67, Train Loss: 0.047636, Valid Loss: 0.048991, Dice Coefficient: 0.750065 ES Count:, 2\n",
      "------------------------------------------------------------------------------------\n"
     ]
    },
    {
     "name": "stderr",
     "output_type": "stream",
     "text": [
      "100%|██████████| 357/357 [01:40<00:00,  3.56it/s]\n",
      "100%|██████████| 90/90 [00:09<00:00,  9.67it/s]\n"
     ]
    },
    {
     "name": "stdout",
     "output_type": "stream",
     "text": [
      "Epoch 68, Train Loss: 0.047072, Valid Loss: 0.049069, Dice Coefficient: 0.750724 ES Count:, 3\n",
      "------------------------------------------------------------------------------------\n"
     ]
    },
    {
     "name": "stderr",
     "output_type": "stream",
     "text": [
      "100%|██████████| 357/357 [01:40<00:00,  3.56it/s]\n",
      "100%|██████████| 90/90 [00:09<00:00,  9.67it/s]\n"
     ]
    },
    {
     "name": "stdout",
     "output_type": "stream",
     "text": [
      "Epoch 69, Train Loss: 0.048402, Valid Loss: 0.048869, Dice Coefficient: 0.751318 ES Count:, 4\n",
      "------------------------------------------------------------------------------------\n"
     ]
    },
    {
     "name": "stderr",
     "output_type": "stream",
     "text": [
      "100%|██████████| 357/357 [01:40<00:00,  3.56it/s]\n",
      "100%|██████████| 90/90 [00:09<00:00,  9.77it/s]\n"
     ]
    },
    {
     "name": "stdout",
     "output_type": "stream",
     "text": [
      "Epoch 00070: reducing learning rate of group 0 to 3.1250e-05.\n",
      "Epoch 70, Train Loss: 0.048224, Valid Loss: 0.048968, Dice Coefficient: 0.752180 ES Count:, 5\n",
      "------------------------------------------------------------------------------------\n"
     ]
    },
    {
     "name": "stderr",
     "output_type": "stream",
     "text": [
      "100%|██████████| 357/357 [01:40<00:00,  3.57it/s]\n",
      "100%|██████████| 90/90 [00:09<00:00,  9.76it/s]\n"
     ]
    },
    {
     "name": "stdout",
     "output_type": "stream",
     "text": [
      "Epoch 71, Train Loss: 0.047558, Valid Loss: 0.048734, Dice Coefficient: 0.751502 ES Count:, 6\n",
      "------------------------------------------------------------------------------------\n"
     ]
    },
    {
     "name": "stderr",
     "output_type": "stream",
     "text": [
      "100%|██████████| 357/357 [01:40<00:00,  3.57it/s]\n",
      "100%|██████████| 90/90 [00:09<00:00,  9.76it/s]\n"
     ]
    },
    {
     "name": "stdout",
     "output_type": "stream",
     "text": [
      "Epoch [72] New Minimum Valid Loss!\n",
      "Epoch 72, Train Loss: 0.048189, Valid Loss: 0.048565, Dice Coefficient: 0.751381 ES Count:, 0\n",
      "------------------------------------------------------------------------------------\n"
     ]
    },
    {
     "name": "stderr",
     "output_type": "stream",
     "text": [
      "100%|██████████| 357/357 [01:40<00:00,  3.57it/s]\n",
      "100%|██████████| 90/90 [00:09<00:00,  9.72it/s]\n"
     ]
    },
    {
     "name": "stdout",
     "output_type": "stream",
     "text": [
      "Epoch [73] New Minimum Valid Loss!\n",
      "Epoch 73, Train Loss: 0.047665, Valid Loss: 0.048507, Dice Coefficient: 0.751721 ES Count:, 0\n",
      "------------------------------------------------------------------------------------\n"
     ]
    },
    {
     "name": "stderr",
     "output_type": "stream",
     "text": [
      "100%|██████████| 357/357 [01:40<00:00,  3.57it/s]\n",
      "100%|██████████| 90/90 [00:09<00:00,  9.79it/s]\n"
     ]
    },
    {
     "name": "stdout",
     "output_type": "stream",
     "text": [
      "Epoch 74, Train Loss: 0.047703, Valid Loss: 0.048744, Dice Coefficient: 0.748605 ES Count:, 1\n",
      "------------------------------------------------------------------------------------\n"
     ]
    },
    {
     "name": "stderr",
     "output_type": "stream",
     "text": [
      "100%|██████████| 357/357 [01:40<00:00,  3.57it/s]\n",
      "100%|██████████| 90/90 [00:09<00:00,  9.74it/s]\n"
     ]
    },
    {
     "name": "stdout",
     "output_type": "stream",
     "text": [
      "Epoch 75, Train Loss: 0.047279, Valid Loss: 0.048740, Dice Coefficient: 0.750434 ES Count:, 2\n",
      "------------------------------------------------------------------------------------\n"
     ]
    },
    {
     "name": "stderr",
     "output_type": "stream",
     "text": [
      "100%|██████████| 357/357 [01:40<00:00,  3.57it/s]\n",
      "100%|██████████| 90/90 [00:09<00:00,  9.72it/s]\n"
     ]
    },
    {
     "name": "stdout",
     "output_type": "stream",
     "text": [
      "Epoch 76, Train Loss: 0.048179, Valid Loss: 0.048756, Dice Coefficient: 0.750219 ES Count:, 3\n",
      "------------------------------------------------------------------------------------\n"
     ]
    },
    {
     "name": "stderr",
     "output_type": "stream",
     "text": [
      "100%|██████████| 357/357 [01:40<00:00,  3.56it/s]\n",
      "100%|██████████| 90/90 [00:09<00:00,  9.72it/s]\n"
     ]
    },
    {
     "name": "stdout",
     "output_type": "stream",
     "text": [
      "Epoch 77, Train Loss: 0.047841, Valid Loss: 0.048816, Dice Coefficient: 0.750259 ES Count:, 4\n",
      "------------------------------------------------------------------------------------\n"
     ]
    },
    {
     "name": "stderr",
     "output_type": "stream",
     "text": [
      "100%|██████████| 357/357 [01:40<00:00,  3.57it/s]\n",
      "100%|██████████| 90/90 [00:09<00:00,  9.79it/s]\n"
     ]
    },
    {
     "name": "stdout",
     "output_type": "stream",
     "text": [
      "Epoch [78] New Minimum Valid Loss!\n",
      "Epoch 78, Train Loss: 0.047617, Valid Loss: 0.048494, Dice Coefficient: 0.751301 ES Count:, 0\n",
      "------------------------------------------------------------------------------------\n"
     ]
    },
    {
     "name": "stderr",
     "output_type": "stream",
     "text": [
      "100%|██████████| 357/357 [01:40<00:00,  3.57it/s]\n",
      "100%|██████████| 90/90 [00:09<00:00,  9.72it/s]\n"
     ]
    },
    {
     "name": "stdout",
     "output_type": "stream",
     "text": [
      "Epoch [79] New Minimum Valid Loss!\n",
      "Epoch 79, Train Loss: 0.047282, Valid Loss: 0.048293, Dice Coefficient: 0.753380 ES Count:, 0\n",
      "------------------------------------------------------------------------------------\n"
     ]
    },
    {
     "name": "stderr",
     "output_type": "stream",
     "text": [
      "100%|██████████| 357/357 [01:40<00:00,  3.57it/s]\n",
      "100%|██████████| 90/90 [00:09<00:00,  9.74it/s]\n"
     ]
    },
    {
     "name": "stdout",
     "output_type": "stream",
     "text": [
      "Epoch 80, Train Loss: 0.049163, Valid Loss: 0.048730, Dice Coefficient: 0.751032 ES Count:, 1\n",
      "------------------------------------------------------------------------------------\n"
     ]
    },
    {
     "name": "stderr",
     "output_type": "stream",
     "text": [
      "100%|██████████| 357/357 [01:40<00:00,  3.56it/s]\n",
      "100%|██████████| 90/90 [00:09<00:00,  9.78it/s]\n"
     ]
    },
    {
     "name": "stdout",
     "output_type": "stream",
     "text": [
      "Epoch 81, Train Loss: 0.047125, Valid Loss: 0.048518, Dice Coefficient: 0.750426 ES Count:, 2\n",
      "------------------------------------------------------------------------------------\n"
     ]
    },
    {
     "name": "stderr",
     "output_type": "stream",
     "text": [
      "100%|██████████| 357/357 [01:39<00:00,  3.57it/s]\n",
      "100%|██████████| 90/90 [00:09<00:00,  9.73it/s]\n"
     ]
    },
    {
     "name": "stdout",
     "output_type": "stream",
     "text": [
      "Epoch 82, Train Loss: 0.048854, Valid Loss: 0.048750, Dice Coefficient: 0.750024 ES Count:, 3\n",
      "------------------------------------------------------------------------------------\n"
     ]
    },
    {
     "name": "stderr",
     "output_type": "stream",
     "text": [
      "100%|██████████| 357/357 [01:40<00:00,  3.56it/s]\n",
      "100%|██████████| 90/90 [00:09<00:00,  9.75it/s]\n"
     ]
    },
    {
     "name": "stdout",
     "output_type": "stream",
     "text": [
      "Epoch 83, Train Loss: 0.047311, Valid Loss: 0.048520, Dice Coefficient: 0.748685 ES Count:, 4\n",
      "------------------------------------------------------------------------------------\n"
     ]
    },
    {
     "name": "stderr",
     "output_type": "stream",
     "text": [
      "100%|██████████| 357/357 [01:40<00:00,  3.56it/s]\n",
      "100%|██████████| 90/90 [00:09<00:00,  9.80it/s]\n"
     ]
    },
    {
     "name": "stdout",
     "output_type": "stream",
     "text": [
      "Epoch 00084: reducing learning rate of group 0 to 1.5625e-05.\n",
      "Epoch 84, Train Loss: 0.047891, Valid Loss: 0.048435, Dice Coefficient: 0.750440 ES Count:, 5\n",
      "------------------------------------------------------------------------------------\n"
     ]
    },
    {
     "name": "stderr",
     "output_type": "stream",
     "text": [
      "100%|██████████| 357/357 [01:40<00:00,  3.56it/s]\n",
      "100%|██████████| 90/90 [00:09<00:00,  9.71it/s]\n"
     ]
    },
    {
     "name": "stdout",
     "output_type": "stream",
     "text": [
      "Epoch [85] New Minimum Valid Loss!\n",
      "Epoch 85, Train Loss: 0.047654, Valid Loss: 0.048168, Dice Coefficient: 0.751503 ES Count:, 0\n",
      "------------------------------------------------------------------------------------\n"
     ]
    },
    {
     "name": "stderr",
     "output_type": "stream",
     "text": [
      "100%|██████████| 357/357 [01:40<00:00,  3.56it/s]\n",
      "100%|██████████| 90/90 [00:09<00:00,  9.81it/s]\n"
     ]
    },
    {
     "name": "stdout",
     "output_type": "stream",
     "text": [
      "Epoch 86, Train Loss: 0.045434, Valid Loss: 0.048356, Dice Coefficient: 0.752897 ES Count:, 1\n",
      "------------------------------------------------------------------------------------\n"
     ]
    },
    {
     "name": "stderr",
     "output_type": "stream",
     "text": [
      "100%|██████████| 357/357 [01:40<00:00,  3.57it/s]\n",
      "100%|██████████| 90/90 [00:09<00:00,  9.74it/s]\n"
     ]
    },
    {
     "name": "stdout",
     "output_type": "stream",
     "text": [
      "Epoch [87] New Minimum Valid Loss!\n",
      "Epoch 87, Train Loss: 0.047464, Valid Loss: 0.048061, Dice Coefficient: 0.751115 ES Count:, 0\n",
      "------------------------------------------------------------------------------------\n"
     ]
    },
    {
     "name": "stderr",
     "output_type": "stream",
     "text": [
      "100%|██████████| 357/357 [01:40<00:00,  3.57it/s]\n",
      "100%|██████████| 90/90 [00:09<00:00,  9.71it/s]\n"
     ]
    },
    {
     "name": "stdout",
     "output_type": "stream",
     "text": [
      "Epoch 88, Train Loss: 0.047759, Valid Loss: 0.048197, Dice Coefficient: 0.752657 ES Count:, 1\n",
      "------------------------------------------------------------------------------------\n"
     ]
    },
    {
     "name": "stderr",
     "output_type": "stream",
     "text": [
      "100%|██████████| 357/357 [01:40<00:00,  3.57it/s]\n",
      "100%|██████████| 90/90 [00:09<00:00,  9.72it/s]\n"
     ]
    },
    {
     "name": "stdout",
     "output_type": "stream",
     "text": [
      "Epoch 89, Train Loss: 0.047104, Valid Loss: 0.048397, Dice Coefficient: 0.752608 ES Count:, 2\n",
      "------------------------------------------------------------------------------------\n"
     ]
    },
    {
     "name": "stderr",
     "output_type": "stream",
     "text": [
      "100%|██████████| 357/357 [01:40<00:00,  3.57it/s]\n",
      "100%|██████████| 90/90 [00:09<00:00,  9.74it/s]\n"
     ]
    },
    {
     "name": "stdout",
     "output_type": "stream",
     "text": [
      "Epoch 90, Train Loss: 0.047185, Valid Loss: 0.048222, Dice Coefficient: 0.753359 ES Count:, 3\n",
      "------------------------------------------------------------------------------------\n"
     ]
    },
    {
     "name": "stderr",
     "output_type": "stream",
     "text": [
      "100%|██████████| 357/357 [01:40<00:00,  3.57it/s]\n",
      "100%|██████████| 90/90 [00:09<00:00,  9.73it/s]\n"
     ]
    },
    {
     "name": "stdout",
     "output_type": "stream",
     "text": [
      "Epoch 91, Train Loss: 0.045920, Valid Loss: 0.048292, Dice Coefficient: 0.751825 ES Count:, 4\n",
      "------------------------------------------------------------------------------------\n"
     ]
    },
    {
     "name": "stderr",
     "output_type": "stream",
     "text": [
      "100%|██████████| 357/357 [01:40<00:00,  3.57it/s]\n",
      "100%|██████████| 90/90 [00:09<00:00,  9.66it/s]\n"
     ]
    },
    {
     "name": "stdout",
     "output_type": "stream",
     "text": [
      "Epoch 00092: reducing learning rate of group 0 to 7.8125e-06.\n",
      "Epoch 92, Train Loss: 0.046920, Valid Loss: 0.048429, Dice Coefficient: 0.753650 ES Count:, 5\n",
      "------------------------------------------------------------------------------------\n"
     ]
    },
    {
     "name": "stderr",
     "output_type": "stream",
     "text": [
      "100%|██████████| 357/357 [01:40<00:00,  3.56it/s]\n",
      "100%|██████████| 90/90 [00:09<00:00,  9.74it/s]\n"
     ]
    },
    {
     "name": "stdout",
     "output_type": "stream",
     "text": [
      "Epoch 93, Train Loss: 0.046675, Valid Loss: 0.048289, Dice Coefficient: 0.752876 ES Count:, 6\n",
      "------------------------------------------------------------------------------------\n"
     ]
    },
    {
     "name": "stderr",
     "output_type": "stream",
     "text": [
      "100%|██████████| 357/357 [01:40<00:00,  3.57it/s]\n",
      "100%|██████████| 90/90 [00:09<00:00,  9.72it/s]\n"
     ]
    },
    {
     "name": "stdout",
     "output_type": "stream",
     "text": [
      "Epoch [94] New Minimum Valid Loss!\n",
      "Epoch 94, Train Loss: 0.046721, Valid Loss: 0.048055, Dice Coefficient: 0.753462 ES Count:, 0\n",
      "------------------------------------------------------------------------------------\n"
     ]
    },
    {
     "name": "stderr",
     "output_type": "stream",
     "text": [
      "100%|██████████| 357/357 [01:40<00:00,  3.56it/s]\n",
      "100%|██████████| 90/90 [00:09<00:00,  9.68it/s]\n"
     ]
    },
    {
     "name": "stdout",
     "output_type": "stream",
     "text": [
      "Epoch 95, Train Loss: 0.046567, Valid Loss: 0.048216, Dice Coefficient: 0.752957 ES Count:, 1\n",
      "------------------------------------------------------------------------------------\n"
     ]
    },
    {
     "name": "stderr",
     "output_type": "stream",
     "text": [
      "100%|██████████| 357/357 [01:39<00:00,  3.57it/s]\n",
      "100%|██████████| 90/90 [00:09<00:00,  9.77it/s]\n"
     ]
    },
    {
     "name": "stdout",
     "output_type": "stream",
     "text": [
      "Epoch 96, Train Loss: 0.046621, Valid Loss: 0.048420, Dice Coefficient: 0.752949 ES Count:, 2\n",
      "------------------------------------------------------------------------------------\n"
     ]
    },
    {
     "name": "stderr",
     "output_type": "stream",
     "text": [
      "100%|██████████| 357/357 [01:40<00:00,  3.57it/s]\n",
      "100%|██████████| 90/90 [00:09<00:00,  9.02it/s]\n"
     ]
    },
    {
     "name": "stdout",
     "output_type": "stream",
     "text": [
      "Epoch 97, Train Loss: 0.046298, Valid Loss: 0.048061, Dice Coefficient: 0.753331 ES Count:, 3\n",
      "------------------------------------------------------------------------------------\n"
     ]
    },
    {
     "name": "stderr",
     "output_type": "stream",
     "text": [
      "100%|██████████| 357/357 [01:40<00:00,  3.56it/s]\n",
      "100%|██████████| 90/90 [00:09<00:00,  9.46it/s]\n"
     ]
    },
    {
     "name": "stdout",
     "output_type": "stream",
     "text": [
      "Epoch 98, Train Loss: 0.046861, Valid Loss: 0.048312, Dice Coefficient: 0.753054 ES Count:, 4\n",
      "------------------------------------------------------------------------------------\n"
     ]
    },
    {
     "name": "stderr",
     "output_type": "stream",
     "text": [
      "100%|██████████| 357/357 [01:40<00:00,  3.56it/s]\n",
      "100%|██████████| 90/90 [00:09<00:00,  9.65it/s]\n"
     ]
    },
    {
     "name": "stdout",
     "output_type": "stream",
     "text": [
      "Epoch 00099: reducing learning rate of group 0 to 3.9063e-06.\n",
      "Epoch 99, Train Loss: 0.046918, Valid Loss: 0.048113, Dice Coefficient: 0.753092 ES Count:, 5\n",
      "------------------------------------------------------------------------------------\n"
     ]
    },
    {
     "name": "stderr",
     "output_type": "stream",
     "text": [
      "100%|██████████| 357/357 [01:40<00:00,  3.56it/s]\n",
      "100%|██████████| 90/90 [00:09<00:00,  9.64it/s]\n"
     ]
    },
    {
     "name": "stdout",
     "output_type": "stream",
     "text": [
      "Epoch 100, Train Loss: 0.048370, Valid Loss: 0.048059, Dice Coefficient: 0.750889 ES Count:, 6\n",
      "------------------------------------------------------------------------------------\n"
     ]
    },
    {
     "name": "stderr",
     "output_type": "stream",
     "text": [
      "100%|██████████| 357/357 [01:40<00:00,  3.56it/s]\n",
      "100%|██████████| 90/90 [00:09<00:00,  9.66it/s]\n"
     ]
    },
    {
     "name": "stdout",
     "output_type": "stream",
     "text": [
      "Epoch [101] New Minimum Valid Loss!\n",
      "Epoch 101, Train Loss: 0.046284, Valid Loss: 0.047970, Dice Coefficient: 0.753151 ES Count:, 0\n",
      "------------------------------------------------------------------------------------\n"
     ]
    },
    {
     "name": "stderr",
     "output_type": "stream",
     "text": [
      "100%|██████████| 357/357 [01:40<00:00,  3.56it/s]\n",
      "100%|██████████| 90/90 [00:09<00:00,  9.76it/s]\n"
     ]
    },
    {
     "name": "stdout",
     "output_type": "stream",
     "text": [
      "Epoch 102, Train Loss: 0.046293, Valid Loss: 0.048160, Dice Coefficient: 0.753446 ES Count:, 1\n",
      "------------------------------------------------------------------------------------\n"
     ]
    },
    {
     "name": "stderr",
     "output_type": "stream",
     "text": [
      "100%|██████████| 357/357 [01:40<00:00,  3.56it/s]\n",
      "100%|██████████| 90/90 [00:09<00:00,  9.63it/s]\n"
     ]
    },
    {
     "name": "stdout",
     "output_type": "stream",
     "text": [
      "Epoch 103, Train Loss: 0.046493, Valid Loss: 0.048131, Dice Coefficient: 0.753097 ES Count:, 2\n",
      "------------------------------------------------------------------------------------\n"
     ]
    },
    {
     "name": "stderr",
     "output_type": "stream",
     "text": [
      "100%|██████████| 357/357 [01:40<00:00,  3.56it/s]\n",
      "100%|██████████| 90/90 [00:09<00:00,  9.64it/s]\n"
     ]
    },
    {
     "name": "stdout",
     "output_type": "stream",
     "text": [
      "Epoch 104, Train Loss: 0.047262, Valid Loss: 0.048023, Dice Coefficient: 0.754284 ES Count:, 3\n",
      "------------------------------------------------------------------------------------\n"
     ]
    },
    {
     "name": "stderr",
     "output_type": "stream",
     "text": [
      "100%|██████████| 357/357 [01:40<00:00,  3.56it/s]\n",
      "100%|██████████| 90/90 [00:09<00:00,  9.63it/s]\n"
     ]
    },
    {
     "name": "stdout",
     "output_type": "stream",
     "text": [
      "Epoch 105, Train Loss: 0.047098, Valid Loss: 0.048105, Dice Coefficient: 0.754011 ES Count:, 4\n",
      "------------------------------------------------------------------------------------\n"
     ]
    },
    {
     "name": "stderr",
     "output_type": "stream",
     "text": [
      "100%|██████████| 357/357 [01:40<00:00,  3.56it/s]\n",
      "100%|██████████| 90/90 [00:09<00:00,  9.72it/s]\n"
     ]
    },
    {
     "name": "stdout",
     "output_type": "stream",
     "text": [
      "Epoch [106] New Minimum Valid Loss!\n",
      "Epoch 106, Train Loss: 0.048148, Valid Loss: 0.047936, Dice Coefficient: 0.753333 ES Count:, 0\n",
      "------------------------------------------------------------------------------------\n"
     ]
    },
    {
     "name": "stderr",
     "output_type": "stream",
     "text": [
      "100%|██████████| 357/357 [01:40<00:00,  3.56it/s]\n",
      "100%|██████████| 90/90 [00:09<00:00,  9.58it/s]\n"
     ]
    },
    {
     "name": "stdout",
     "output_type": "stream",
     "text": [
      "Epoch 107, Train Loss: 0.046824, Valid Loss: 0.048199, Dice Coefficient: 0.753113 ES Count:, 1\n",
      "------------------------------------------------------------------------------------\n"
     ]
    },
    {
     "name": "stderr",
     "output_type": "stream",
     "text": [
      "100%|██████████| 357/357 [01:40<00:00,  3.56it/s]\n",
      "100%|██████████| 90/90 [00:09<00:00,  9.70it/s]\n"
     ]
    },
    {
     "name": "stdout",
     "output_type": "stream",
     "text": [
      "Epoch 108, Train Loss: 0.046331, Valid Loss: 0.048028, Dice Coefficient: 0.752311 ES Count:, 2\n",
      "------------------------------------------------------------------------------------\n"
     ]
    },
    {
     "name": "stderr",
     "output_type": "stream",
     "text": [
      "100%|██████████| 357/357 [01:40<00:00,  3.56it/s]\n",
      "100%|██████████| 90/90 [00:09<00:00,  9.59it/s]\n"
     ]
    },
    {
     "name": "stdout",
     "output_type": "stream",
     "text": [
      "Epoch 109, Train Loss: 0.047387, Valid Loss: 0.048165, Dice Coefficient: 0.751773 ES Count:, 3\n",
      "------------------------------------------------------------------------------------\n"
     ]
    },
    {
     "name": "stderr",
     "output_type": "stream",
     "text": [
      "100%|██████████| 357/357 [01:40<00:00,  3.56it/s]\n",
      "100%|██████████| 90/90 [00:09<00:00,  9.63it/s]\n"
     ]
    },
    {
     "name": "stdout",
     "output_type": "stream",
     "text": [
      "Epoch [110] New Minimum Valid Loss!\n",
      "Epoch 110, Train Loss: 0.047403, Valid Loss: 0.047749, Dice Coefficient: 0.753469 ES Count:, 0\n",
      "------------------------------------------------------------------------------------\n"
     ]
    },
    {
     "name": "stderr",
     "output_type": "stream",
     "text": [
      "100%|██████████| 357/357 [01:40<00:00,  3.56it/s]\n",
      "100%|██████████| 90/90 [00:09<00:00,  9.56it/s]\n"
     ]
    },
    {
     "name": "stdout",
     "output_type": "stream",
     "text": [
      "Epoch 111, Train Loss: 0.047296, Valid Loss: 0.048046, Dice Coefficient: 0.751703 ES Count:, 1\n",
      "------------------------------------------------------------------------------------\n"
     ]
    },
    {
     "name": "stderr",
     "output_type": "stream",
     "text": [
      "100%|██████████| 357/357 [01:40<00:00,  3.56it/s]\n",
      "100%|██████████| 90/90 [00:09<00:00,  9.63it/s]\n"
     ]
    },
    {
     "name": "stdout",
     "output_type": "stream",
     "text": [
      "Epoch 112, Train Loss: 0.046392, Valid Loss: 0.048050, Dice Coefficient: 0.754367 ES Count:, 2\n",
      "------------------------------------------------------------------------------------\n"
     ]
    },
    {
     "name": "stderr",
     "output_type": "stream",
     "text": [
      "100%|██████████| 357/357 [01:40<00:00,  3.56it/s]\n",
      "100%|██████████| 90/90 [00:09<00:00,  9.71it/s]\n"
     ]
    },
    {
     "name": "stdout",
     "output_type": "stream",
     "text": [
      "Epoch 113, Train Loss: 0.047524, Valid Loss: 0.048050, Dice Coefficient: 0.753995 ES Count:, 3\n",
      "------------------------------------------------------------------------------------\n"
     ]
    },
    {
     "name": "stderr",
     "output_type": "stream",
     "text": [
      "100%|██████████| 357/357 [01:40<00:00,  3.56it/s]\n",
      "100%|██████████| 90/90 [00:09<00:00,  9.62it/s]\n"
     ]
    },
    {
     "name": "stdout",
     "output_type": "stream",
     "text": [
      "Epoch 114, Train Loss: 0.047368, Valid Loss: 0.048112, Dice Coefficient: 0.752553 ES Count:, 4\n",
      "------------------------------------------------------------------------------------\n"
     ]
    },
    {
     "name": "stderr",
     "output_type": "stream",
     "text": [
      "100%|██████████| 357/357 [01:40<00:00,  3.56it/s]\n",
      "100%|██████████| 90/90 [00:09<00:00,  9.62it/s]\n"
     ]
    },
    {
     "name": "stdout",
     "output_type": "stream",
     "text": [
      "Epoch 00115: reducing learning rate of group 0 to 1.9531e-06.\n",
      "Epoch 115, Train Loss: 0.048279, Valid Loss: 0.048141, Dice Coefficient: 0.753393 ES Count:, 5\n",
      "------------------------------------------------------------------------------------\n"
     ]
    },
    {
     "name": "stderr",
     "output_type": "stream",
     "text": [
      "100%|██████████| 357/357 [01:40<00:00,  3.56it/s]\n",
      "100%|██████████| 90/90 [00:09<00:00,  9.64it/s]\n"
     ]
    },
    {
     "name": "stdout",
     "output_type": "stream",
     "text": [
      "Epoch 116, Train Loss: 0.048496, Valid Loss: 0.048097, Dice Coefficient: 0.754830 ES Count:, 6\n",
      "------------------------------------------------------------------------------------\n"
     ]
    },
    {
     "name": "stderr",
     "output_type": "stream",
     "text": [
      "100%|██████████| 357/357 [01:40<00:00,  3.56it/s]\n",
      "100%|██████████| 90/90 [00:09<00:00,  9.67it/s]\n"
     ]
    },
    {
     "name": "stdout",
     "output_type": "stream",
     "text": [
      "Epoch 117, Train Loss: 0.047686, Valid Loss: 0.048020, Dice Coefficient: 0.753714 ES Count:, 7\n",
      "------------------------------------------------------------------------------------\n"
     ]
    },
    {
     "name": "stderr",
     "output_type": "stream",
     "text": [
      "100%|██████████| 357/357 [01:40<00:00,  3.56it/s]\n",
      "100%|██████████| 90/90 [00:09<00:00,  9.71it/s]\n"
     ]
    },
    {
     "name": "stdout",
     "output_type": "stream",
     "text": [
      "Epoch 118, Train Loss: 0.045964, Valid Loss: 0.047843, Dice Coefficient: 0.752207 ES Count:, 8\n",
      "------------------------------------------------------------------------------------\n"
     ]
    },
    {
     "name": "stderr",
     "output_type": "stream",
     "text": [
      "100%|██████████| 357/357 [01:40<00:00,  3.57it/s]\n",
      "100%|██████████| 90/90 [00:09<00:00,  9.64it/s]\n"
     ]
    },
    {
     "name": "stdout",
     "output_type": "stream",
     "text": [
      "Epoch 119, Train Loss: 0.047547, Valid Loss: 0.047905, Dice Coefficient: 0.753377 ES Count:, 9\n",
      "------------------------------------------------------------------------------------\n"
     ]
    },
    {
     "name": "stderr",
     "output_type": "stream",
     "text": [
      "100%|██████████| 357/357 [01:40<00:00,  3.56it/s]\n",
      "100%|██████████| 90/90 [00:09<00:00,  9.60it/s]\n"
     ]
    },
    {
     "name": "stdout",
     "output_type": "stream",
     "text": [
      "Epoch 00120: reducing learning rate of group 0 to 9.7656e-07.\n",
      "Epoch 120, Train Loss: 0.048187, Valid Loss: 0.047955, Dice Coefficient: 0.754349 ES Count:, 10\n",
      "------------------------------------------------------------------------------------\n"
     ]
    },
    {
     "name": "stderr",
     "output_type": "stream",
     "text": [
      "100%|██████████| 357/357 [01:40<00:00,  3.56it/s]\n",
      "100%|██████████| 90/90 [00:09<00:00,  9.69it/s]\n"
     ]
    },
    {
     "name": "stdout",
     "output_type": "stream",
     "text": [
      "Epoch 121, Train Loss: 0.047250, Valid Loss: 0.048029, Dice Coefficient: 0.751867 ES Count:, 11\n",
      "------------------------------------------------------------------------------------\n"
     ]
    },
    {
     "name": "stderr",
     "output_type": "stream",
     "text": [
      "100%|██████████| 357/357 [01:40<00:00,  3.56it/s]\n",
      "100%|██████████| 90/90 [00:09<00:00,  9.59it/s]\n"
     ]
    },
    {
     "name": "stdout",
     "output_type": "stream",
     "text": [
      "Epoch 122, Train Loss: 0.046211, Valid Loss: 0.048009, Dice Coefficient: 0.752342 ES Count:, 12\n",
      "------------------------------------------------------------------------------------\n"
     ]
    },
    {
     "name": "stderr",
     "output_type": "stream",
     "text": [
      "100%|██████████| 357/357 [01:40<00:00,  3.56it/s]\n",
      "100%|██████████| 90/90 [00:09<00:00,  9.61it/s]\n"
     ]
    },
    {
     "name": "stdout",
     "output_type": "stream",
     "text": [
      "Epoch 123, Train Loss: 0.046854, Valid Loss: 0.047868, Dice Coefficient: 0.752806 ES Count:, 13\n",
      "------------------------------------------------------------------------------------\n"
     ]
    },
    {
     "name": "stderr",
     "output_type": "stream",
     "text": [
      "100%|██████████| 357/357 [01:40<00:00,  3.57it/s]\n",
      "100%|██████████| 90/90 [00:09<00:00,  9.70it/s]\n"
     ]
    },
    {
     "name": "stdout",
     "output_type": "stream",
     "text": [
      "Epoch 124, Train Loss: 0.047753, Valid Loss: 0.047984, Dice Coefficient: 0.753702 ES Count:, 14\n",
      "------------------------------------------------------------------------------------\n"
     ]
    },
    {
     "name": "stderr",
     "output_type": "stream",
     "text": [
      "100%|██████████| 357/357 [01:40<00:00,  3.56it/s]\n",
      "100%|██████████| 90/90 [00:09<00:00,  9.70it/s]\n"
     ]
    },
    {
     "name": "stdout",
     "output_type": "stream",
     "text": [
      "Epoch 00125: reducing learning rate of group 0 to 4.8828e-07.\n",
      "Epoch 125, Train Loss: 0.046545, Valid Loss: 0.048089, Dice Coefficient: 0.753496, ES Count:, 15\n",
      "EARLY STOPPING COUNT에 도달했습니다! \n",
      "EARLY STOPPING COUNT: 15 BEST EPOCH: 110\n",
      "***TRAINING DONE***\n"
     ]
    }
   ],
   "source": [
    "best_model = training(config, model, train_dataloader, valid_dataloader, val)"
   ],
   "metadata": {
    "collapsed": false,
    "ExecuteTime": {
     "end_time": "2023-07-14T14:48:34.661294269Z",
     "start_time": "2023-07-14T10:59:33.669844706Z"
    }
   }
  },
  {
   "cell_type": "code",
   "execution_count": 17,
   "outputs": [],
   "source": [
    "# 로컬 사용시 활성화\n",
    "\n",
    "test_df = pd.read_csv(f\"{config['base_path']}/{config['test_data']}\")"
   ],
   "metadata": {
    "collapsed": false,
    "ExecuteTime": {
     "end_time": "2023-07-14T14:48:34.699768191Z",
     "start_time": "2023-07-14T14:48:34.662282272Z"
    }
   }
  },
  {
   "cell_type": "code",
   "execution_count": 18,
   "outputs": [],
   "source": [
    "fix_seed(config['seed'])\n",
    "\n",
    "test_dataset = CustomDataset(img_paths=test_df['img_path'], transform=custom_transform['test'], infer=True)\n",
    "test_dataloader = DataLoader(test_dataset, batch_size=config['inference']['batch_size'], shuffle=False, num_workers=config['inference']['num_workers'])"
   ],
   "metadata": {
    "collapsed": false,
    "ExecuteTime": {
     "end_time": "2023-07-14T14:48:34.701810099Z",
     "start_time": "2023-07-14T14:48:34.700657385Z"
    }
   }
  },
  {
   "cell_type": "code",
   "execution_count": 19,
   "outputs": [],
   "source": [
    "def inference(config, model, test_loader):\n",
    "    with torch.no_grad():\n",
    "        model.eval()\n",
    "        result = []\n",
    "        for images in tqdm(test_loader):\n",
    "            images = images.float().to(config['device'])\n",
    "\n",
    "            outputs = model(images)\n",
    "            masks = torch.sigmoid(outputs).cpu().numpy()\n",
    "            masks = np.squeeze(masks, axis=1)\n",
    "            masks = (masks > config['inference']['threshold']).astype(np.uint8)\n",
    "\n",
    "            for i in range(len(images)):\n",
    "                mask_rle = rle_encode(masks[i])\n",
    "                if mask_rle == '': # 예측된 건물 픽셀이 아예 없는 경우 -1\n",
    "                    result.append(-1)\n",
    "                else:\n",
    "                    result.append(mask_rle)\n",
    "    return result"
   ],
   "metadata": {
    "collapsed": false,
    "ExecuteTime": {
     "end_time": "2023-07-14T14:48:34.716528529Z",
     "start_time": "2023-07-14T14:48:34.703100006Z"
    }
   }
  },
  {
   "cell_type": "code",
   "execution_count": 20,
   "outputs": [
    {
     "name": "stderr",
     "output_type": "stream",
     "text": [
      "100%|██████████| 3790/3790 [05:55<00:00, 10.66it/s]\n"
     ]
    }
   ],
   "source": [
    "inference_result = inference(config, best_model, test_dataloader)"
   ],
   "metadata": {
    "collapsed": false,
    "ExecuteTime": {
     "end_time": "2023-07-14T14:54:30.301805005Z",
     "start_time": "2023-07-14T14:48:34.717213641Z"
    }
   }
  },
  {
   "cell_type": "code",
   "execution_count": 21,
   "outputs": [],
   "source": [
    "import datetime"
   ],
   "metadata": {
    "collapsed": false,
    "ExecuteTime": {
     "end_time": "2023-07-14T14:54:30.301947387Z",
     "start_time": "2023-07-14T14:54:30.301659554Z"
    }
   }
  },
  {
   "cell_type": "code",
   "execution_count": 23,
   "outputs": [],
   "source": [
    "\n",
    "# 로컬 사용시 활성화\n",
    "\n",
    "submit = pd.read_csv(f\"{config['base_path']}/sample_submission.csv\")\n",
    "# submit = pd.read_csv(f\"{config['base_path']}/submit20.csv\")\n",
    "submit['mask_rle'] = inference_result\n",
    "\n",
    "now = datetime.datetime.now()\n",
    "current_time = now.strftime(\"%m%d-%H:%M:%S\")\n",
    "file_name = f\"{current_time}.csv\"\n",
    "\n",
    "submit.to_csv(f\"{config['base_path']}/{file_name}\", index=False)"
   ],
   "metadata": {
    "collapsed": false,
    "ExecuteTime": {
     "end_time": "2023-07-14T15:13:39.132446090Z",
     "start_time": "2023-07-14T15:13:38.648446215Z"
    }
   }
  },
  {
   "cell_type": "markdown",
   "source": [
    "## viewer"
   ],
   "metadata": {
    "collapsed": false
   }
  },
  {
   "cell_type": "code",
   "execution_count": 24,
   "outputs": [],
   "source": [
    "import matplotlib.pyplot as plt"
   ],
   "metadata": {
    "collapsed": false,
    "ExecuteTime": {
     "end_time": "2023-07-14T15:13:40.946641762Z",
     "start_time": "2023-07-14T15:13:40.803223970Z"
    }
   }
  },
  {
   "cell_type": "code",
   "execution_count": 25,
   "outputs": [],
   "source": [
    "def submission_viewer(test_csv, submit_csv, img_num, base_path = config['base_path'], is_colab = False):\n",
    "    \"\"\"\n",
    "    white -> 건물 black -> 배경\n",
    "    1. Local에서 사용 시 test_csv, submit_csv, img_num만 입력\n",
    "    2. colab에서 사용 시 아래 사항을 입력\n",
    "    base_path = colab_base\n",
    "    is_colab = True\n",
    "    \"\"\"\n",
    "    mask_rle = submit_csv.iloc[img_num, 1]\n",
    "    image_path = test_csv.iloc[img_num, 1]\n",
    "    if is_colab:\n",
    "        image = cv2.imread(image_path)\n",
    "    else:\n",
    "        image = cv2.imread(base_path + image_path[1:])\n",
    "    mask = rle_decode(mask_rle, (image.shape[0], image.shape[1]))\n",
    "    fig = plt.figure()\n",
    "    ax1 = fig.add_subplot(1,2,1)\n",
    "    ax1.imshow(image)\n",
    "    ax1.set_title('image')\n",
    "    ax2 = fig.add_subplot(1,2,2)\n",
    "    ax2.imshow(mask,cmap='gray')\n",
    "    ax2.set_title('mask')\n",
    "    plt.show()"
   ],
   "metadata": {
    "collapsed": false,
    "ExecuteTime": {
     "end_time": "2023-07-14T15:13:41.652297578Z",
     "start_time": "2023-07-14T15:13:41.648721895Z"
    }
   }
  },
  {
   "cell_type": "code",
   "execution_count": 27,
   "outputs": [
    {
     "data": {
      "text/plain": "<Figure size 640x480 with 2 Axes>",
      "image/png": "[encoded data removed]"
     },
     "metadata": {},
     "output_type": "display_data"
    },
    {
     "data": {
      "text/plain": "<Figure size 640x480 with 2 Axes>",
      "image/png": "[encoded data removed]"
     },
     "metadata": {},
     "output_type": "display_data"
    },
    {
     "data": {
      "text/plain": "<Figure size 640x480 with 2 Axes>",
      "image/png": "[encoded data removed]"
     },
     "metadata": {},
     "output_type": "display_data"
    }
   ],
   "source": [
    "# 로컬 사용시 활성화\n",
    "\n",
    "last_submit = pd.read_csv(f\"{config['base_path']}/0715-00:13:38.csv\")\n",
    "submission_viewer(test_df, last_submit, 10)\n",
    "submission_viewer(test_df, last_submit, 11)\n",
    "submission_viewer(test_df, last_submit, 5)"
   ],
   "metadata": {
    "collapsed": false,
    "ExecuteTime": {
     "end_time": "2023-07-14T15:14:18.881071334Z",
     "start_time": "2023-07-14T15:14:18.248494547Z"
    }
   }
  }
 ],
 "metadata": {
  "kernelspec": {
   "display_name": "Python 3",
   "language": "python",
   "name": "python3"
  },
  "language_info": {
   "codemirror_mode": {
    "name": "ipython",
    "version": 2
   },
   "file_extension": ".py",
   "mimetype": "text/x-python",
   "name": "python",
   "nbconvert_exporter": "python",
   "pygments_lexer": "ipython2",
   "version": "2.7.6"
  }
 },
 "nbformat": 4,
 "nbformat_minor": 0
}
